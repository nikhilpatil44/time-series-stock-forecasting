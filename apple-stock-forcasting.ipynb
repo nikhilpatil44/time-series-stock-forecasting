{
 "cells": [
  {
   "cell_type": "markdown",
   "metadata": {
    "id": "vb6K7WRKGyD4"
   },
   "source": [
    "# **Apple Stock Forcasting**\n"
   ]
  },
  {
   "cell_type": "code",
   "execution_count": 3,
   "metadata": {
    "executionInfo": {
     "elapsed": 4600,
     "status": "ok",
     "timestamp": 1630776279180,
     "user": {
      "displayName": "Nikhil Patil",
      "photoUrl": "https://lh3.googleusercontent.com/a-/AOh14GjOCeCbFSM6nJVluIeDKtA75xEInZVBcTFRNG4n=s64",
      "userId": "16764176433869186065"
     },
     "user_tz": -330
    },
    "id": "nVgBW29NGyD5"
   },
   "outputs": [],
   "source": [
    "!pip install jovian --upgrade --quiet"
   ]
  },
  {
   "cell_type": "code",
   "execution_count": 4,
   "metadata": {
    "executionInfo": {
     "elapsed": 22,
     "status": "ok",
     "timestamp": 1630776279181,
     "user": {
      "displayName": "Nikhil Patil",
      "photoUrl": "https://lh3.googleusercontent.com/a-/AOh14GjOCeCbFSM6nJVluIeDKtA75xEInZVBcTFRNG4n=s64",
      "userId": "16764176433869186065"
     },
     "user_tz": -330
    },
    "id": "93aEKIyWGyD6"
   },
   "outputs": [],
   "source": [
    "import jovian"
   ]
  },
  {
   "cell_type": "code",
   "execution_count": 5,
   "metadata": {
    "colab": {
     "base_uri": "https://localhost:8080/",
     "height": 119
    },
    "executionInfo": {
     "elapsed": 12820,
     "status": "ok",
     "timestamp": 1630776291981,
     "user": {
      "displayName": "Nikhil Patil",
      "photoUrl": "https://lh3.googleusercontent.com/a-/AOh14GjOCeCbFSM6nJVluIeDKtA75xEInZVBcTFRNG4n=s64",
      "userId": "16764176433869186065"
     },
     "user_tz": -330
    },
    "id": "GKDW3owiGyD6",
    "outputId": "b1dfd3ad-382c-4265-8b8e-d8d2fd9dbfbb"
   },
   "outputs": [
    {
     "name": "stdout",
     "output_type": "stream",
     "text": [
      "[jovian] Detected Colab notebook...\u001b[0m\n",
      "[jovian] Please enter your API key ( from https://jovian.ai/ ):\u001b[0m\n",
      "API KEY: ··········\n",
      "[jovian] Uploading colab notebook to Jovian...\u001b[0m\n",
      "Committed successfully! https://jovian.ai/nikhilpatil3586/apple-stock-forcasting\n"
     ]
    },
    {
     "data": {
      "application/vnd.google.colaboratory.intrinsic+json": {
       "type": "string"
      },
      "text/plain": [
       "'https://jovian.ai/nikhilpatil3586/apple-stock-forcasting'"
      ]
     },
     "execution_count": 5,
     "metadata": {},
     "output_type": "execute_result"
    }
   ],
   "source": [
    "# Execute this to save new versions of the notebook\n",
    "jovian.commit(project=\"apple-stock-forcasting\")"
   ]
  },
  {
   "cell_type": "code",
   "execution_count": 6,
   "metadata": {
    "colab": {
     "base_uri": "https://localhost:8080/"
    },
    "executionInfo": {
     "elapsed": 5906,
     "status": "ok",
     "timestamp": 1630776297867,
     "user": {
      "displayName": "Nikhil Patil",
      "photoUrl": "https://lh3.googleusercontent.com/a-/AOh14GjOCeCbFSM6nJVluIeDKtA75xEInZVBcTFRNG4n=s64",
      "userId": "16764176433869186065"
     },
     "user_tz": -330
    },
    "id": "nIh1TnYxHqnl",
    "outputId": "55283dae-8273-40be-e588-9ea3f7d307f2"
   },
   "outputs": [
    {
     "name": "stdout",
     "output_type": "stream",
     "text": [
      "\u001b[K     |████████████████████████████████| 6.3 MB 6.0 MB/s \n",
      "\u001b[?25h  Building wheel for yfinance (setup.py) ... \u001b[?25l\u001b[?25hdone\n"
     ]
    }
   ],
   "source": [
    "!pip install yfinance --quiet"
   ]
  },
  {
   "cell_type": "code",
   "execution_count": 7,
   "metadata": {
    "executionInfo": {
     "elapsed": 1740,
     "status": "ok",
     "timestamp": 1630776299591,
     "user": {
      "displayName": "Nikhil Patil",
      "photoUrl": "https://lh3.googleusercontent.com/a-/AOh14GjOCeCbFSM6nJVluIeDKtA75xEInZVBcTFRNG4n=s64",
      "userId": "16764176433869186065"
     },
     "user_tz": -330
    },
    "id": "E5i_U3Gsh57s"
   },
   "outputs": [],
   "source": [
    "import numpy as np\n",
    "import matplotlib.pyplot as plt\n",
    "import plotly.express as px\n",
    "import pandas as pd\n",
    "import fix_yahoo_finance as yf\n",
    "import warnings\n",
    "from tensorflow.keras.models import Sequential\n",
    "from tensorflow.keras.layers import Dense\n",
    "from tensorflow.keras.layers import LSTM\n",
    "from tensorflow.keras.layers import Dropout\n",
    "warnings.filterwarnings('ignore')"
   ]
  },
  {
   "cell_type": "markdown",
   "metadata": {
    "id": "sMaZUVNQivKZ"
   },
   "source": [
    "### APPLE Stock Price Forecasting\n",
    " For this dataset, we are using the LSTM Recurrent Neural Network for predicting the future stock prices of APPLE. Our aim is to predict stock prices for a few days, which is a time series problem. The LSTM model is very popular in time-series forecasting, and this is the reason why this model is chosen in this task. The historical prices of APPLE are collected automatically using the yfinance library of python. We have used 21 years of historical price data, from 01.01.2001 to 26.07.2021.\n",
    "\n",
    "This data set contains 5172 observations with OHLC (Open, High, Low, Close) columns, a total of 7 columns. The LSTM model is trained on 'Close' column. We will split data for the testing purpose. The stock prices for this testing data will be predicted by the already trained LSTM model, and the predicted prices will be plotted against the original prices to visualise the model’s accuracy."
   ]
  },
  {
   "cell_type": "markdown",
   "metadata": {
    "id": "gv94QEjZJbHh"
   },
   "source": [
    "We will fetch 21 years of historical prices of APPLE from 01.01.2001 to 26.07.2021. So we need to set the start and end dates and pass these parameters to the function for fetching the data.\n"
   ]
  },
  {
   "cell_type": "code",
   "execution_count": 8,
   "metadata": {
    "colab": {
     "base_uri": "https://localhost:8080/",
     "height": 250
    },
    "executionInfo": {
     "elapsed": 2201,
     "status": "ok",
     "timestamp": 1630776301789,
     "user": {
      "displayName": "Nikhil Patil",
      "photoUrl": "https://lh3.googleusercontent.com/a-/AOh14GjOCeCbFSM6nJVluIeDKtA75xEInZVBcTFRNG4n=s64",
      "userId": "16764176433869186065"
     },
     "user_tz": -330
    },
    "id": "n9-ulVWdipxh",
    "outputId": "33cd5939-f647-4594-fa98-42adce27ef09"
   },
   "outputs": [
    {
     "name": "stdout",
     "output_type": "stream",
     "text": [
      "\r",
      "[*********************100%***********************]  1 of 1 completed\n"
     ]
    },
    {
     "data": {
      "text/html": [
       "<div>\n",
       "<style scoped>\n",
       "    .dataframe tbody tr th:only-of-type {\n",
       "        vertical-align: middle;\n",
       "    }\n",
       "\n",
       "    .dataframe tbody tr th {\n",
       "        vertical-align: top;\n",
       "    }\n",
       "\n",
       "    .dataframe thead th {\n",
       "        text-align: right;\n",
       "    }\n",
       "</style>\n",
       "<table border=\"1\" class=\"dataframe\">\n",
       "  <thead>\n",
       "    <tr style=\"text-align: right;\">\n",
       "      <th></th>\n",
       "      <th>Open</th>\n",
       "      <th>High</th>\n",
       "      <th>Low</th>\n",
       "      <th>Close</th>\n",
       "      <th>Adj Close</th>\n",
       "      <th>Volume</th>\n",
       "    </tr>\n",
       "    <tr>\n",
       "      <th>Date</th>\n",
       "      <th></th>\n",
       "      <th></th>\n",
       "      <th></th>\n",
       "      <th></th>\n",
       "      <th></th>\n",
       "      <th></th>\n",
       "    </tr>\n",
       "  </thead>\n",
       "  <tbody>\n",
       "    <tr>\n",
       "      <th>2021-07-19</th>\n",
       "      <td>143.750000</td>\n",
       "      <td>144.070007</td>\n",
       "      <td>141.669998</td>\n",
       "      <td>142.449997</td>\n",
       "      <td>142.236893</td>\n",
       "      <td>121434600</td>\n",
       "    </tr>\n",
       "    <tr>\n",
       "      <th>2021-07-20</th>\n",
       "      <td>143.460007</td>\n",
       "      <td>147.100006</td>\n",
       "      <td>142.960007</td>\n",
       "      <td>146.149994</td>\n",
       "      <td>145.931351</td>\n",
       "      <td>96350000</td>\n",
       "    </tr>\n",
       "    <tr>\n",
       "      <th>2021-07-21</th>\n",
       "      <td>145.529999</td>\n",
       "      <td>146.130005</td>\n",
       "      <td>144.630005</td>\n",
       "      <td>145.399994</td>\n",
       "      <td>145.182480</td>\n",
       "      <td>74993500</td>\n",
       "    </tr>\n",
       "    <tr>\n",
       "      <th>2021-07-22</th>\n",
       "      <td>145.940002</td>\n",
       "      <td>148.199997</td>\n",
       "      <td>145.809998</td>\n",
       "      <td>146.800003</td>\n",
       "      <td>146.580383</td>\n",
       "      <td>77338200</td>\n",
       "    </tr>\n",
       "    <tr>\n",
       "      <th>2021-07-23</th>\n",
       "      <td>147.550003</td>\n",
       "      <td>148.720001</td>\n",
       "      <td>146.919998</td>\n",
       "      <td>148.559998</td>\n",
       "      <td>148.337753</td>\n",
       "      <td>71447400</td>\n",
       "    </tr>\n",
       "  </tbody>\n",
       "</table>\n",
       "</div>"
      ],
      "text/plain": [
       "                  Open        High  ...   Adj Close     Volume\n",
       "Date                                ...                       \n",
       "2021-07-19  143.750000  144.070007  ...  142.236893  121434600\n",
       "2021-07-20  143.460007  147.100006  ...  145.931351   96350000\n",
       "2021-07-21  145.529999  146.130005  ...  145.182480   74993500\n",
       "2021-07-22  145.940002  148.199997  ...  146.580383   77338200\n",
       "2021-07-23  147.550003  148.720001  ...  148.337753   71447400\n",
       "\n",
       "[5 rows x 6 columns]"
      ]
     },
     "execution_count": 8,
     "metadata": {},
     "output_type": "execute_result"
    }
   ],
   "source": [
    "# Import yfinance package\n",
    "import yfinance as yf\n",
    "\n",
    "# Step-1 We will set the start_date & end_date of stock\n",
    "start_date = '2001-01-01'\n",
    "end_date = '2021-07-26'\n",
    "\n",
    "# Step-2 Now we will set ticker name(Stock name) as 'AAPL'\n",
    "ticker = 'AAPL'\n",
    "\n",
    "# Step-3 We will download/fetch the 'APPLE' stock data \n",
    "data = yf.download(ticker, start_date, end_date)\n",
    "\n",
    "#Step 4- Look at the last 5 rows of the stock\n",
    "data.tail()"
   ]
  },
  {
   "cell_type": "code",
   "execution_count": 9,
   "metadata": {
    "colab": {
     "base_uri": "https://localhost:8080/",
     "height": 234
    },
    "executionInfo": {
     "elapsed": 73,
     "status": "ok",
     "timestamp": 1630776301793,
     "user": {
      "displayName": "Nikhil Patil",
      "photoUrl": "https://lh3.googleusercontent.com/a-/AOh14GjOCeCbFSM6nJVluIeDKtA75xEInZVBcTFRNG4n=s64",
      "userId": "16764176433869186065"
     },
     "user_tz": -330
    },
    "id": "10W0WdCEzcAN",
    "outputId": "a0802a52-9d3c-4ee3-f82e-e8f229e61b15"
   },
   "outputs": [
    {
     "data": {
      "text/html": [
       "<div>\n",
       "<style scoped>\n",
       "    .dataframe tbody tr th:only-of-type {\n",
       "        vertical-align: middle;\n",
       "    }\n",
       "\n",
       "    .dataframe tbody tr th {\n",
       "        vertical-align: top;\n",
       "    }\n",
       "\n",
       "    .dataframe thead th {\n",
       "        text-align: right;\n",
       "    }\n",
       "</style>\n",
       "<table border=\"1\" class=\"dataframe\">\n",
       "  <thead>\n",
       "    <tr style=\"text-align: right;\">\n",
       "      <th></th>\n",
       "      <th>Open</th>\n",
       "      <th>High</th>\n",
       "      <th>Low</th>\n",
       "      <th>Close</th>\n",
       "      <th>Adj Close</th>\n",
       "      <th>Volume</th>\n",
       "    </tr>\n",
       "    <tr>\n",
       "      <th>Date</th>\n",
       "      <th></th>\n",
       "      <th></th>\n",
       "      <th></th>\n",
       "      <th></th>\n",
       "      <th></th>\n",
       "      <th></th>\n",
       "    </tr>\n",
       "  </thead>\n",
       "  <tbody>\n",
       "    <tr>\n",
       "      <th>2001-01-02</th>\n",
       "      <td>0.265625</td>\n",
       "      <td>0.272321</td>\n",
       "      <td>0.260045</td>\n",
       "      <td>0.265625</td>\n",
       "      <td>0.228070</td>\n",
       "      <td>452312000</td>\n",
       "    </tr>\n",
       "    <tr>\n",
       "      <th>2001-01-03</th>\n",
       "      <td>0.258929</td>\n",
       "      <td>0.297991</td>\n",
       "      <td>0.257813</td>\n",
       "      <td>0.292411</td>\n",
       "      <td>0.251069</td>\n",
       "      <td>817073600</td>\n",
       "    </tr>\n",
       "    <tr>\n",
       "      <th>2001-01-04</th>\n",
       "      <td>0.323940</td>\n",
       "      <td>0.330357</td>\n",
       "      <td>0.300223</td>\n",
       "      <td>0.304688</td>\n",
       "      <td>0.261610</td>\n",
       "      <td>739396000</td>\n",
       "    </tr>\n",
       "    <tr>\n",
       "      <th>2001-01-05</th>\n",
       "      <td>0.302455</td>\n",
       "      <td>0.310268</td>\n",
       "      <td>0.286830</td>\n",
       "      <td>0.292411</td>\n",
       "      <td>0.251069</td>\n",
       "      <td>412356000</td>\n",
       "    </tr>\n",
       "    <tr>\n",
       "      <th>2001-01-08</th>\n",
       "      <td>0.302455</td>\n",
       "      <td>0.303292</td>\n",
       "      <td>0.284598</td>\n",
       "      <td>0.295759</td>\n",
       "      <td>0.253944</td>\n",
       "      <td>373699200</td>\n",
       "    </tr>\n",
       "  </tbody>\n",
       "</table>\n",
       "</div>"
      ],
      "text/plain": [
       "                Open      High       Low     Close  Adj Close     Volume\n",
       "Date                                                                    \n",
       "2001-01-02  0.265625  0.272321  0.260045  0.265625   0.228070  452312000\n",
       "2001-01-03  0.258929  0.297991  0.257813  0.292411   0.251069  817073600\n",
       "2001-01-04  0.323940  0.330357  0.300223  0.304688   0.261610  739396000\n",
       "2001-01-05  0.302455  0.310268  0.286830  0.292411   0.251069  412356000\n",
       "2001-01-08  0.302455  0.303292  0.284598  0.295759   0.253944  373699200"
      ]
     },
     "execution_count": 9,
     "metadata": {},
     "output_type": "execute_result"
    }
   ],
   "source": [
    "# Print the first five rows of the \"APPLE\" stock\n",
    "data.head()"
   ]
  },
  {
   "cell_type": "code",
   "execution_count": 10,
   "metadata": {
    "colab": {
     "base_uri": "https://localhost:8080/"
    },
    "executionInfo": {
     "elapsed": 74,
     "status": "ok",
     "timestamp": 1630776301796,
     "user": {
      "displayName": "Nikhil Patil",
      "photoUrl": "https://lh3.googleusercontent.com/a-/AOh14GjOCeCbFSM6nJVluIeDKtA75xEInZVBcTFRNG4n=s64",
      "userId": "16764176433869186065"
     },
     "user_tz": -330
    },
    "id": "8edKFLW7zpAI",
    "outputId": "f4c1caf1-2423-42a9-91bc-cfeeafa5e1a6"
   },
   "outputs": [
    {
     "name": "stdout",
     "output_type": "stream",
     "text": [
      "Number of rows:  5172\n",
      "Number of columns:  6\n"
     ]
    }
   ],
   "source": [
    "# Let us print the shape of the data(number of rows & columns)\n",
    "print(\"Number of rows: \", data.shape[0])\n",
    "print(\"Number of columns: \", data.shape[1])"
   ]
  },
  {
   "cell_type": "code",
   "execution_count": 11,
   "metadata": {
    "colab": {
     "base_uri": "https://localhost:8080/",
     "height": 417
    },
    "executionInfo": {
     "elapsed": 72,
     "status": "ok",
     "timestamp": 1630776301797,
     "user": {
      "displayName": "Nikhil Patil",
      "photoUrl": "https://lh3.googleusercontent.com/a-/AOh14GjOCeCbFSM6nJVluIeDKtA75xEInZVBcTFRNG4n=s64",
      "userId": "16764176433869186065"
     },
     "user_tz": -330
    },
    "id": "7ssC61rKBmBt",
    "outputId": "b37020cf-de80-45ac-d976-b438b299c6d8"
   },
   "outputs": [
    {
     "data": {
      "text/html": [
       "<div>\n",
       "<style scoped>\n",
       "    .dataframe tbody tr th:only-of-type {\n",
       "        vertical-align: middle;\n",
       "    }\n",
       "\n",
       "    .dataframe tbody tr th {\n",
       "        vertical-align: top;\n",
       "    }\n",
       "\n",
       "    .dataframe thead th {\n",
       "        text-align: right;\n",
       "    }\n",
       "</style>\n",
       "<table border=\"1\" class=\"dataframe\">\n",
       "  <thead>\n",
       "    <tr style=\"text-align: right;\">\n",
       "      <th></th>\n",
       "      <th>Date</th>\n",
       "      <th>Open</th>\n",
       "      <th>High</th>\n",
       "      <th>Low</th>\n",
       "      <th>Close</th>\n",
       "      <th>Adj Close</th>\n",
       "      <th>Volume</th>\n",
       "    </tr>\n",
       "  </thead>\n",
       "  <tbody>\n",
       "    <tr>\n",
       "      <th>0</th>\n",
       "      <td>2001-01-02</td>\n",
       "      <td>0.265625</td>\n",
       "      <td>0.272321</td>\n",
       "      <td>0.260045</td>\n",
       "      <td>0.265625</td>\n",
       "      <td>0.228070</td>\n",
       "      <td>452312000</td>\n",
       "    </tr>\n",
       "    <tr>\n",
       "      <th>1</th>\n",
       "      <td>2001-01-03</td>\n",
       "      <td>0.258929</td>\n",
       "      <td>0.297991</td>\n",
       "      <td>0.257813</td>\n",
       "      <td>0.292411</td>\n",
       "      <td>0.251069</td>\n",
       "      <td>817073600</td>\n",
       "    </tr>\n",
       "    <tr>\n",
       "      <th>2</th>\n",
       "      <td>2001-01-04</td>\n",
       "      <td>0.323940</td>\n",
       "      <td>0.330357</td>\n",
       "      <td>0.300223</td>\n",
       "      <td>0.304688</td>\n",
       "      <td>0.261610</td>\n",
       "      <td>739396000</td>\n",
       "    </tr>\n",
       "    <tr>\n",
       "      <th>3</th>\n",
       "      <td>2001-01-05</td>\n",
       "      <td>0.302455</td>\n",
       "      <td>0.310268</td>\n",
       "      <td>0.286830</td>\n",
       "      <td>0.292411</td>\n",
       "      <td>0.251069</td>\n",
       "      <td>412356000</td>\n",
       "    </tr>\n",
       "    <tr>\n",
       "      <th>4</th>\n",
       "      <td>2001-01-08</td>\n",
       "      <td>0.302455</td>\n",
       "      <td>0.303292</td>\n",
       "      <td>0.284598</td>\n",
       "      <td>0.295759</td>\n",
       "      <td>0.253944</td>\n",
       "      <td>373699200</td>\n",
       "    </tr>\n",
       "    <tr>\n",
       "      <th>...</th>\n",
       "      <td>...</td>\n",
       "      <td>...</td>\n",
       "      <td>...</td>\n",
       "      <td>...</td>\n",
       "      <td>...</td>\n",
       "      <td>...</td>\n",
       "      <td>...</td>\n",
       "    </tr>\n",
       "    <tr>\n",
       "      <th>5167</th>\n",
       "      <td>2021-07-19</td>\n",
       "      <td>143.750000</td>\n",
       "      <td>144.070007</td>\n",
       "      <td>141.669998</td>\n",
       "      <td>142.449997</td>\n",
       "      <td>142.236893</td>\n",
       "      <td>121434600</td>\n",
       "    </tr>\n",
       "    <tr>\n",
       "      <th>5168</th>\n",
       "      <td>2021-07-20</td>\n",
       "      <td>143.460007</td>\n",
       "      <td>147.100006</td>\n",
       "      <td>142.960007</td>\n",
       "      <td>146.149994</td>\n",
       "      <td>145.931351</td>\n",
       "      <td>96350000</td>\n",
       "    </tr>\n",
       "    <tr>\n",
       "      <th>5169</th>\n",
       "      <td>2021-07-21</td>\n",
       "      <td>145.529999</td>\n",
       "      <td>146.130005</td>\n",
       "      <td>144.630005</td>\n",
       "      <td>145.399994</td>\n",
       "      <td>145.182480</td>\n",
       "      <td>74993500</td>\n",
       "    </tr>\n",
       "    <tr>\n",
       "      <th>5170</th>\n",
       "      <td>2021-07-22</td>\n",
       "      <td>145.940002</td>\n",
       "      <td>148.199997</td>\n",
       "      <td>145.809998</td>\n",
       "      <td>146.800003</td>\n",
       "      <td>146.580383</td>\n",
       "      <td>77338200</td>\n",
       "    </tr>\n",
       "    <tr>\n",
       "      <th>5171</th>\n",
       "      <td>2021-07-23</td>\n",
       "      <td>147.550003</td>\n",
       "      <td>148.720001</td>\n",
       "      <td>146.919998</td>\n",
       "      <td>148.559998</td>\n",
       "      <td>148.337753</td>\n",
       "      <td>71447400</td>\n",
       "    </tr>\n",
       "  </tbody>\n",
       "</table>\n",
       "<p>5172 rows × 7 columns</p>\n",
       "</div>"
      ],
      "text/plain": [
       "           Date        Open        High  ...       Close   Adj Close     Volume\n",
       "0    2001-01-02    0.265625    0.272321  ...    0.265625    0.228070  452312000\n",
       "1    2001-01-03    0.258929    0.297991  ...    0.292411    0.251069  817073600\n",
       "2    2001-01-04    0.323940    0.330357  ...    0.304688    0.261610  739396000\n",
       "3    2001-01-05    0.302455    0.310268  ...    0.292411    0.251069  412356000\n",
       "4    2001-01-08    0.302455    0.303292  ...    0.295759    0.253944  373699200\n",
       "...         ...         ...         ...  ...         ...         ...        ...\n",
       "5167 2021-07-19  143.750000  144.070007  ...  142.449997  142.236893  121434600\n",
       "5168 2021-07-20  143.460007  147.100006  ...  146.149994  145.931351   96350000\n",
       "5169 2021-07-21  145.529999  146.130005  ...  145.399994  145.182480   74993500\n",
       "5170 2021-07-22  145.940002  148.199997  ...  146.800003  146.580383   77338200\n",
       "5171 2021-07-23  147.550003  148.720001  ...  148.559998  148.337753   71447400\n",
       "\n",
       "[5172 rows x 7 columns]"
      ]
     },
     "execution_count": 11,
     "metadata": {},
     "output_type": "execute_result"
    }
   ],
   "source": [
    "data.reset_index()"
   ]
  },
  {
   "cell_type": "code",
   "execution_count": 12,
   "metadata": {
    "executionInfo": {
     "elapsed": 74,
     "status": "ok",
     "timestamp": 1630776301800,
     "user": {
      "displayName": "Nikhil Patil",
      "photoUrl": "https://lh3.googleusercontent.com/a-/AOh14GjOCeCbFSM6nJVluIeDKtA75xEInZVBcTFRNG4n=s64",
      "userId": "16764176433869186065"
     },
     "user_tz": -330
    },
    "id": "p2Y2HAVAkjiH"
   },
   "outputs": [],
   "source": [
    "# Now we are forcasting the price on 'Close' column. SO we will select Date & that column only.\n",
    "data1 = data.reset_index()[['Date', 'Close']]"
   ]
  },
  {
   "cell_type": "code",
   "execution_count": 13,
   "metadata": {
    "colab": {
     "base_uri": "https://localhost:8080/",
     "height": 417
    },
    "executionInfo": {
     "elapsed": 75,
     "status": "ok",
     "timestamp": 1630776301801,
     "user": {
      "displayName": "Nikhil Patil",
      "photoUrl": "https://lh3.googleusercontent.com/a-/AOh14GjOCeCbFSM6nJVluIeDKtA75xEInZVBcTFRNG4n=s64",
      "userId": "16764176433869186065"
     },
     "user_tz": -330
    },
    "id": "85f6mIzYzT0B",
    "outputId": "3ebe7487-bc03-40c6-f67b-cf4733cb26b8"
   },
   "outputs": [
    {
     "data": {
      "text/html": [
       "<div>\n",
       "<style scoped>\n",
       "    .dataframe tbody tr th:only-of-type {\n",
       "        vertical-align: middle;\n",
       "    }\n",
       "\n",
       "    .dataframe tbody tr th {\n",
       "        vertical-align: top;\n",
       "    }\n",
       "\n",
       "    .dataframe thead th {\n",
       "        text-align: right;\n",
       "    }\n",
       "</style>\n",
       "<table border=\"1\" class=\"dataframe\">\n",
       "  <thead>\n",
       "    <tr style=\"text-align: right;\">\n",
       "      <th></th>\n",
       "      <th>Date</th>\n",
       "      <th>Close</th>\n",
       "    </tr>\n",
       "  </thead>\n",
       "  <tbody>\n",
       "    <tr>\n",
       "      <th>0</th>\n",
       "      <td>2001-01-02</td>\n",
       "      <td>0.265625</td>\n",
       "    </tr>\n",
       "    <tr>\n",
       "      <th>1</th>\n",
       "      <td>2001-01-03</td>\n",
       "      <td>0.292411</td>\n",
       "    </tr>\n",
       "    <tr>\n",
       "      <th>2</th>\n",
       "      <td>2001-01-04</td>\n",
       "      <td>0.304688</td>\n",
       "    </tr>\n",
       "    <tr>\n",
       "      <th>3</th>\n",
       "      <td>2001-01-05</td>\n",
       "      <td>0.292411</td>\n",
       "    </tr>\n",
       "    <tr>\n",
       "      <th>4</th>\n",
       "      <td>2001-01-08</td>\n",
       "      <td>0.295759</td>\n",
       "    </tr>\n",
       "    <tr>\n",
       "      <th>...</th>\n",
       "      <td>...</td>\n",
       "      <td>...</td>\n",
       "    </tr>\n",
       "    <tr>\n",
       "      <th>5167</th>\n",
       "      <td>2021-07-19</td>\n",
       "      <td>142.449997</td>\n",
       "    </tr>\n",
       "    <tr>\n",
       "      <th>5168</th>\n",
       "      <td>2021-07-20</td>\n",
       "      <td>146.149994</td>\n",
       "    </tr>\n",
       "    <tr>\n",
       "      <th>5169</th>\n",
       "      <td>2021-07-21</td>\n",
       "      <td>145.399994</td>\n",
       "    </tr>\n",
       "    <tr>\n",
       "      <th>5170</th>\n",
       "      <td>2021-07-22</td>\n",
       "      <td>146.800003</td>\n",
       "    </tr>\n",
       "    <tr>\n",
       "      <th>5171</th>\n",
       "      <td>2021-07-23</td>\n",
       "      <td>148.559998</td>\n",
       "    </tr>\n",
       "  </tbody>\n",
       "</table>\n",
       "<p>5172 rows × 2 columns</p>\n",
       "</div>"
      ],
      "text/plain": [
       "           Date       Close\n",
       "0    2001-01-02    0.265625\n",
       "1    2001-01-03    0.292411\n",
       "2    2001-01-04    0.304688\n",
       "3    2001-01-05    0.292411\n",
       "4    2001-01-08    0.295759\n",
       "...         ...         ...\n",
       "5167 2021-07-19  142.449997\n",
       "5168 2021-07-20  146.149994\n",
       "5169 2021-07-21  145.399994\n",
       "5170 2021-07-22  146.800003\n",
       "5171 2021-07-23  148.559998\n",
       "\n",
       "[5172 rows x 2 columns]"
      ]
     },
     "execution_count": 13,
     "metadata": {},
     "output_type": "execute_result"
    }
   ],
   "source": [
    "data1"
   ]
  },
  {
   "cell_type": "code",
   "execution_count": 14,
   "metadata": {
    "colab": {
     "base_uri": "https://localhost:8080/",
     "height": 542
    },
    "executionInfo": {
     "elapsed": 2301,
     "status": "ok",
     "timestamp": 1630776304029,
     "user": {
      "displayName": "Nikhil Patil",
      "photoUrl": "https://lh3.googleusercontent.com/a-/AOh14GjOCeCbFSM6nJVluIeDKtA75xEInZVBcTFRNG4n=s64",
      "userId": "16764176433869186065"
     },
     "user_tz": -330
    },
    "id": "Rr9EKDNE-O2m",
    "outputId": "ae9adf8e-63db-4d8c-ab44-5c96abbe653e"
   },
   "outputs": [
    {
     "data": {
      "text/html": [
       "<html>\n",
       "<head><meta charset=\"utf-8\" /></head>\n",
       "<body>\n",
       "    <div>\n",
       "            <script src=\"https://cdnjs.cloudflare.com/ajax/libs/mathjax/2.7.5/MathJax.js?config=TeX-AMS-MML_SVG\"></script><script type=\"text/javascript\">if (window.MathJax) {MathJax.Hub.Config({SVG: {font: \"STIX-Web\"}});}</script>\n",
       "                <script type=\"text/javascript\">window.PlotlyConfig = {MathJaxConfig: 'local'};</script>\n",
       "        <script src=\"https://cdn.plot.ly/plotly-latest.min.js\"></script>    \n",
       "            <div id=\"6558a93b-a25f-4f69-9dc8-0147e5cb54ba\" class=\"plotly-graph-div\" style=\"height:525px; width:100%;\"></div>\n",
       "            <script type=\"text/javascript\">\n",
       "                \n",
       "                    window.PLOTLYENV=window.PLOTLYENV || {};\n",
       "                    \n",
       "                if (document.getElementById(\"6558a93b-a25f-4f69-9dc8-0147e5cb54ba\")) {\n",
       "                    Plotly.newPlot(\n",
       "                        '6558a93b-a25f-4f69-9dc8-0147e5cb54ba',\n",
       "                        [{\"hoverlabel\": {\"namelength\": 0}, \"hovertemplate\": \"Date=%{x}<br>Close=%{y}\", \"legendgroup\": \"\", \"line\": {\"color\": \"#636efa\", \"dash\": \"solid\"}, \"mode\": \"lines\", \"name\": \"\", \"showlegend\": false, \"type\": \"scattergl\", \"x\": [\"2001-01-02T00:00:00\", \"2001-01-03T00:00:00\", \"2001-01-04T00:00:00\", \"2001-01-05T00:00:00\", \"2001-01-08T00:00:00\", \"2001-01-09T00:00:00\", \"2001-01-10T00:00:00\", \"2001-01-11T00:00:00\", \"2001-01-12T00:00:00\", \"2001-01-16T00:00:00\", \"2001-01-17T00:00:00\", \"2001-01-18T00:00:00\", \"2001-01-19T00:00:00\", \"2001-01-22T00:00:00\", \"2001-01-23T00:00:00\", \"2001-01-24T00:00:00\", \"2001-01-25T00:00:00\", \"2001-01-26T00:00:00\", \"2001-01-29T00:00:00\", \"2001-01-30T00:00:00\", \"2001-01-31T00:00:00\", \"2001-02-01T00:00:00\", \"2001-02-02T00:00:00\", \"2001-02-05T00:00:00\", \"2001-02-06T00:00:00\", \"2001-02-07T00:00:00\", \"2001-02-08T00:00:00\", \"2001-02-09T00:00:00\", \"2001-02-12T00:00:00\", \"2001-02-13T00:00:00\", \"2001-02-14T00:00:00\", \"2001-02-15T00:00:00\", \"2001-02-16T00:00:00\", \"2001-02-20T00:00:00\", \"2001-02-21T00:00:00\", \"2001-02-22T00:00:00\", \"2001-02-23T00:00:00\", \"2001-02-26T00:00:00\", \"2001-02-27T00:00:00\", \"2001-02-28T00:00:00\", \"2001-03-01T00:00:00\", \"2001-03-02T00:00:00\", \"2001-03-05T00:00:00\", \"2001-03-06T00:00:00\", \"2001-03-07T00:00:00\", \"2001-03-08T00:00:00\", \"2001-03-09T00:00:00\", \"2001-03-12T00:00:00\", \"2001-03-13T00:00:00\", \"2001-03-14T00:00:00\", \"2001-03-15T00:00:00\", \"2001-03-16T00:00:00\", \"2001-03-19T00:00:00\", \"2001-03-20T00:00:00\", \"2001-03-21T00:00:00\", \"2001-03-22T00:00:00\", \"2001-03-23T00:00:00\", \"2001-03-26T00:00:00\", \"2001-03-27T00:00:00\", \"2001-03-28T00:00:00\", \"2001-03-29T00:00:00\", \"2001-03-30T00:00:00\", \"2001-04-02T00:00:00\", \"2001-04-03T00:00:00\", \"2001-04-04T00:00:00\", \"2001-04-05T00:00:00\", \"2001-04-06T00:00:00\", \"2001-04-09T00:00:00\", \"2001-04-10T00:00:00\", \"2001-04-11T00:00:00\", \"2001-04-12T00:00:00\", \"2001-04-16T00:00:00\", \"2001-04-17T00:00:00\", \"2001-04-18T00:00:00\", \"2001-04-19T00:00:00\", \"2001-04-20T00:00:00\", \"2001-04-23T00:00:00\", \"2001-04-24T00:00:00\", \"2001-04-25T00:00:00\", \"2001-04-26T00:00:00\", \"2001-04-27T00:00:00\", \"2001-04-30T00:00:00\", \"2001-05-01T00:00:00\", \"2001-05-02T00:00:00\", \"2001-05-03T00:00:00\", \"2001-05-04T00:00:00\", \"2001-05-07T00:00:00\", \"2001-05-08T00:00:00\", \"2001-05-09T00:00:00\", \"2001-05-10T00:00:00\", \"2001-05-11T00:00:00\", \"2001-05-14T00:00:00\", \"2001-05-15T00:00:00\", \"2001-05-16T00:00:00\", \"2001-05-17T00:00:00\", \"2001-05-18T00:00:00\", \"2001-05-21T00:00:00\", \"2001-05-22T00:00:00\", \"2001-05-23T00:00:00\", \"2001-05-24T00:00:00\", \"2001-05-25T00:00:00\", \"2001-05-29T00:00:00\", \"2001-05-30T00:00:00\", \"2001-05-31T00:00:00\", \"2001-06-01T00:00:00\", \"2001-06-04T00:00:00\", \"2001-06-05T00:00:00\", \"2001-06-06T00:00:00\", \"2001-06-07T00:00:00\", \"2001-06-08T00:00:00\", \"2001-06-11T00:00:00\", \"2001-06-12T00:00:00\", \"2001-06-13T00:00:00\", \"2001-06-14T00:00:00\", \"2001-06-15T00:00:00\", \"2001-06-18T00:00:00\", \"2001-06-19T00:00:00\", \"2001-06-20T00:00:00\", \"2001-06-21T00:00:00\", \"2001-06-22T00:00:00\", \"2001-06-25T00:00:00\", \"2001-06-26T00:00:00\", \"2001-06-27T00:00:00\", \"2001-06-28T00:00:00\", \"2001-06-29T00:00:00\", \"2001-07-02T00:00:00\", \"2001-07-03T00:00:00\", \"2001-07-05T00:00:00\", \"2001-07-06T00:00:00\", \"2001-07-09T00:00:00\", \"2001-07-10T00:00:00\", \"2001-07-11T00:00:00\", \"2001-07-12T00:00:00\", \"2001-07-13T00:00:00\", \"2001-07-16T00:00:00\", \"2001-07-17T00:00:00\", \"2001-07-18T00:00:00\", \"2001-07-19T00:00:00\", \"2001-07-20T00:00:00\", \"2001-07-23T00:00:00\", \"2001-07-24T00:00:00\", \"2001-07-25T00:00:00\", \"2001-07-26T00:00:00\", \"2001-07-27T00:00:00\", \"2001-07-30T00:00:00\", \"2001-07-31T00:00:00\", \"2001-08-01T00:00:00\", \"2001-08-02T00:00:00\", \"2001-08-03T00:00:00\", \"2001-08-06T00:00:00\", \"2001-08-07T00:00:00\", \"2001-08-08T00:00:00\", \"2001-08-09T00:00:00\", \"2001-08-10T00:00:00\", \"2001-08-13T00:00:00\", \"2001-08-14T00:00:00\", \"2001-08-15T00:00:00\", \"2001-08-16T00:00:00\", \"2001-08-17T00:00:00\", \"2001-08-20T00:00:00\", \"2001-08-21T00:00:00\", \"2001-08-22T00:00:00\", \"2001-08-23T00:00:00\", \"2001-08-24T00:00:00\", \"2001-08-27T00:00:00\", \"2001-08-28T00:00:00\", \"2001-08-29T00:00:00\", \"2001-08-30T00:00:00\", \"2001-08-31T00:00:00\", \"2001-09-04T00:00:00\", \"2001-09-05T00:00:00\", \"2001-09-06T00:00:00\", \"2001-09-07T00:00:00\", \"2001-09-10T00:00:00\", \"2001-09-17T00:00:00\", \"2001-09-18T00:00:00\", \"2001-09-19T00:00:00\", \"2001-09-20T00:00:00\", \"2001-09-21T00:00:00\", \"2001-09-24T00:00:00\", \"2001-09-25T00:00:00\", \"2001-09-26T00:00:00\", \"2001-09-27T00:00:00\", \"2001-09-28T00:00:00\", \"2001-10-01T00:00:00\", \"2001-10-02T00:00:00\", \"2001-10-03T00:00:00\", \"2001-10-04T00:00:00\", \"2001-10-05T00:00:00\", \"2001-10-08T00:00:00\", \"2001-10-09T00:00:00\", \"2001-10-10T00:00:00\", \"2001-10-11T00:00:00\", \"2001-10-12T00:00:00\", \"2001-10-15T00:00:00\", \"2001-10-16T00:00:00\", \"2001-10-17T00:00:00\", \"2001-10-18T00:00:00\", \"2001-10-19T00:00:00\", \"2001-10-22T00:00:00\", \"2001-10-23T00:00:00\", \"2001-10-24T00:00:00\", \"2001-10-25T00:00:00\", \"2001-10-26T00:00:00\", \"2001-10-29T00:00:00\", \"2001-10-30T00:00:00\", \"2001-10-31T00:00:00\", \"2001-11-01T00:00:00\", \"2001-11-02T00:00:00\", \"2001-11-05T00:00:00\", \"2001-11-06T00:00:00\", \"2001-11-07T00:00:00\", \"2001-11-08T00:00:00\", \"2001-11-09T00:00:00\", \"2001-11-12T00:00:00\", \"2001-11-13T00:00:00\", \"2001-11-14T00:00:00\", \"2001-11-15T00:00:00\", \"2001-11-16T00:00:00\", \"2001-11-19T00:00:00\", \"2001-11-20T00:00:00\", \"2001-11-21T00:00:00\", \"2001-11-23T00:00:00\", \"2001-11-26T00:00:00\", \"2001-11-27T00:00:00\", \"2001-11-28T00:00:00\", \"2001-11-29T00:00:00\", \"2001-11-30T00:00:00\", \"2001-12-03T00:00:00\", \"2001-12-04T00:00:00\", \"2001-12-05T00:00:00\", \"2001-12-06T00:00:00\", \"2001-12-07T00:00:00\", \"2001-12-10T00:00:00\", \"2001-12-11T00:00:00\", \"2001-12-12T00:00:00\", \"2001-12-13T00:00:00\", \"2001-12-14T00:00:00\", \"2001-12-17T00:00:00\", \"2001-12-18T00:00:00\", \"2001-12-19T00:00:00\", \"2001-12-20T00:00:00\", \"2001-12-21T00:00:00\", \"2001-12-24T00:00:00\", \"2001-12-26T00:00:00\", \"2001-12-27T00:00:00\", \"2001-12-28T00:00:00\", \"2001-12-31T00:00:00\", \"2002-01-02T00:00:00\", \"2002-01-03T00:00:00\", \"2002-01-04T00:00:00\", \"2002-01-07T00:00:00\", \"2002-01-08T00:00:00\", \"2002-01-09T00:00:00\", \"2002-01-10T00:00:00\", \"2002-01-11T00:00:00\", \"2002-01-14T00:00:00\", \"2002-01-15T00:00:00\", \"2002-01-16T00:00:00\", \"2002-01-17T00:00:00\", \"2002-01-18T00:00:00\", \"2002-01-22T00:00:00\", \"2002-01-23T00:00:00\", \"2002-01-24T00:00:00\", \"2002-01-25T00:00:00\", \"2002-01-28T00:00:00\", \"2002-01-29T00:00:00\", \"2002-01-30T00:00:00\", \"2002-01-31T00:00:00\", \"2002-02-01T00:00:00\", \"2002-02-04T00:00:00\", \"2002-02-05T00:00:00\", \"2002-02-06T00:00:00\", \"2002-02-07T00:00:00\", \"2002-02-08T00:00:00\", \"2002-02-11T00:00:00\", \"2002-02-12T00:00:00\", \"2002-02-13T00:00:00\", \"2002-02-14T00:00:00\", \"2002-02-15T00:00:00\", \"2002-02-19T00:00:00\", \"2002-02-20T00:00:00\", \"2002-02-21T00:00:00\", \"2002-02-22T00:00:00\", \"2002-02-25T00:00:00\", \"2002-02-26T00:00:00\", \"2002-02-27T00:00:00\", \"2002-02-28T00:00:00\", \"2002-03-01T00:00:00\", \"2002-03-04T00:00:00\", \"2002-03-05T00:00:00\", \"2002-03-06T00:00:00\", \"2002-03-07T00:00:00\", \"2002-03-08T00:00:00\", \"2002-03-11T00:00:00\", \"2002-03-12T00:00:00\", \"2002-03-13T00:00:00\", \"2002-03-14T00:00:00\", \"2002-03-15T00:00:00\", \"2002-03-18T00:00:00\", \"2002-03-19T00:00:00\", \"2002-03-20T00:00:00\", \"2002-03-21T00:00:00\", \"2002-03-22T00:00:00\", \"2002-03-25T00:00:00\", \"2002-03-26T00:00:00\", \"2002-03-27T00:00:00\", \"2002-03-28T00:00:00\", \"2002-04-01T00:00:00\", \"2002-04-02T00:00:00\", \"2002-04-03T00:00:00\", \"2002-04-04T00:00:00\", \"2002-04-05T00:00:00\", \"2002-04-08T00:00:00\", \"2002-04-09T00:00:00\", \"2002-04-10T00:00:00\", \"2002-04-11T00:00:00\", \"2002-04-12T00:00:00\", \"2002-04-15T00:00:00\", \"2002-04-16T00:00:00\", \"2002-04-17T00:00:00\", \"2002-04-18T00:00:00\", \"2002-04-19T00:00:00\", \"2002-04-22T00:00:00\", \"2002-04-23T00:00:00\", \"2002-04-24T00:00:00\", \"2002-04-25T00:00:00\", \"2002-04-26T00:00:00\", \"2002-04-29T00:00:00\", \"2002-04-30T00:00:00\", \"2002-05-01T00:00:00\", \"2002-05-02T00:00:00\", \"2002-05-03T00:00:00\", \"2002-05-06T00:00:00\", \"2002-05-07T00:00:00\", \"2002-05-08T00:00:00\", \"2002-05-09T00:00:00\", \"2002-05-10T00:00:00\", \"2002-05-13T00:00:00\", \"2002-05-14T00:00:00\", \"2002-05-15T00:00:00\", \"2002-05-16T00:00:00\", \"2002-05-17T00:00:00\", \"2002-05-20T00:00:00\", \"2002-05-21T00:00:00\", \"2002-05-22T00:00:00\", \"2002-05-23T00:00:00\", \"2002-05-24T00:00:00\", \"2002-05-28T00:00:00\", \"2002-05-29T00:00:00\", \"2002-05-30T00:00:00\", \"2002-05-31T00:00:00\", \"2002-06-03T00:00:00\", \"2002-06-04T00:00:00\", \"2002-06-05T00:00:00\", \"2002-06-06T00:00:00\", \"2002-06-07T00:00:00\", \"2002-06-10T00:00:00\", \"2002-06-11T00:00:00\", \"2002-06-12T00:00:00\", \"2002-06-13T00:00:00\", \"2002-06-14T00:00:00\", \"2002-06-17T00:00:00\", \"2002-06-18T00:00:00\", \"2002-06-19T00:00:00\", \"2002-06-20T00:00:00\", \"2002-06-21T00:00:00\", \"2002-06-24T00:00:00\", \"2002-06-25T00:00:00\", \"2002-06-26T00:00:00\", \"2002-06-27T00:00:00\", \"2002-06-28T00:00:00\", \"2002-07-01T00:00:00\", \"2002-07-02T00:00:00\", \"2002-07-03T00:00:00\", \"2002-07-05T00:00:00\", \"2002-07-08T00:00:00\", \"2002-07-09T00:00:00\", \"2002-07-10T00:00:00\", \"2002-07-11T00:00:00\", \"2002-07-12T00:00:00\", \"2002-07-15T00:00:00\", \"2002-07-16T00:00:00\", \"2002-07-17T00:00:00\", \"2002-07-18T00:00:00\", \"2002-07-19T00:00:00\", \"2002-07-22T00:00:00\", \"2002-07-23T00:00:00\", \"2002-07-24T00:00:00\", \"2002-07-25T00:00:00\", \"2002-07-26T00:00:00\", \"2002-07-29T00:00:00\", \"2002-07-30T00:00:00\", \"2002-07-31T00:00:00\", \"2002-08-01T00:00:00\", \"2002-08-02T00:00:00\", \"2002-08-05T00:00:00\", \"2002-08-06T00:00:00\", \"2002-08-07T00:00:00\", \"2002-08-08T00:00:00\", \"2002-08-09T00:00:00\", \"2002-08-12T00:00:00\", \"2002-08-13T00:00:00\", \"2002-08-14T00:00:00\", \"2002-08-15T00:00:00\", \"2002-08-16T00:00:00\", \"2002-08-19T00:00:00\", \"2002-08-20T00:00:00\", \"2002-08-21T00:00:00\", \"2002-08-22T00:00:00\", \"2002-08-23T00:00:00\", \"2002-08-26T00:00:00\", \"2002-08-27T00:00:00\", \"2002-08-28T00:00:00\", \"2002-08-29T00:00:00\", \"2002-08-30T00:00:00\", \"2002-09-03T00:00:00\", \"2002-09-04T00:00:00\", \"2002-09-05T00:00:00\", \"2002-09-06T00:00:00\", \"2002-09-09T00:00:00\", \"2002-09-10T00:00:00\", \"2002-09-11T00:00:00\", \"2002-09-12T00:00:00\", \"2002-09-13T00:00:00\", \"2002-09-16T00:00:00\", \"2002-09-17T00:00:00\", \"2002-09-18T00:00:00\", \"2002-09-19T00:00:00\", \"2002-09-20T00:00:00\", \"2002-09-23T00:00:00\", \"2002-09-24T00:00:00\", \"2002-09-25T00:00:00\", \"2002-09-26T00:00:00\", \"2002-09-27T00:00:00\", \"2002-09-30T00:00:00\", \"2002-10-01T00:00:00\", \"2002-10-02T00:00:00\", \"2002-10-03T00:00:00\", \"2002-10-04T00:00:00\", \"2002-10-07T00:00:00\", \"2002-10-08T00:00:00\", \"2002-10-09T00:00:00\", \"2002-10-10T00:00:00\", \"2002-10-11T00:00:00\", \"2002-10-14T00:00:00\", \"2002-10-15T00:00:00\", \"2002-10-16T00:00:00\", \"2002-10-17T00:00:00\", \"2002-10-18T00:00:00\", \"2002-10-21T00:00:00\", \"2002-10-22T00:00:00\", \"2002-10-23T00:00:00\", \"2002-10-24T00:00:00\", \"2002-10-25T00:00:00\", \"2002-10-28T00:00:00\", \"2002-10-29T00:00:00\", \"2002-10-30T00:00:00\", \"2002-10-31T00:00:00\", \"2002-11-01T00:00:00\", \"2002-11-04T00:00:00\", \"2002-11-05T00:00:00\", \"2002-11-06T00:00:00\", \"2002-11-07T00:00:00\", \"2002-11-08T00:00:00\", \"2002-11-11T00:00:00\", \"2002-11-12T00:00:00\", \"2002-11-13T00:00:00\", \"2002-11-14T00:00:00\", \"2002-11-15T00:00:00\", \"2002-11-18T00:00:00\", \"2002-11-19T00:00:00\", \"2002-11-20T00:00:00\", \"2002-11-21T00:00:00\", \"2002-11-22T00:00:00\", \"2002-11-25T00:00:00\", \"2002-11-26T00:00:00\", \"2002-11-27T00:00:00\", \"2002-11-29T00:00:00\", \"2002-12-02T00:00:00\", \"2002-12-03T00:00:00\", \"2002-12-04T00:00:00\", \"2002-12-05T00:00:00\", \"2002-12-06T00:00:00\", \"2002-12-09T00:00:00\", \"2002-12-10T00:00:00\", \"2002-12-11T00:00:00\", \"2002-12-12T00:00:00\", \"2002-12-13T00:00:00\", \"2002-12-16T00:00:00\", \"2002-12-17T00:00:00\", \"2002-12-18T00:00:00\", \"2002-12-19T00:00:00\", \"2002-12-20T00:00:00\", \"2002-12-23T00:00:00\", \"2002-12-24T00:00:00\", \"2002-12-26T00:00:00\", \"2002-12-27T00:00:00\", \"2002-12-30T00:00:00\", \"2002-12-31T00:00:00\", \"2003-01-02T00:00:00\", \"2003-01-03T00:00:00\", \"2003-01-06T00:00:00\", \"2003-01-07T00:00:00\", \"2003-01-08T00:00:00\", \"2003-01-09T00:00:00\", \"2003-01-10T00:00:00\", \"2003-01-13T00:00:00\", \"2003-01-14T00:00:00\", \"2003-01-15T00:00:00\", \"2003-01-16T00:00:00\", \"2003-01-17T00:00:00\", \"2003-01-21T00:00:00\", \"2003-01-22T00:00:00\", \"2003-01-23T00:00:00\", \"2003-01-24T00:00:00\", \"2003-01-27T00:00:00\", \"2003-01-28T00:00:00\", \"2003-01-29T00:00:00\", \"2003-01-30T00:00:00\", \"2003-01-31T00:00:00\", \"2003-02-03T00:00:00\", \"2003-02-04T00:00:00\", \"2003-02-05T00:00:00\", \"2003-02-06T00:00:00\", \"2003-02-07T00:00:00\", \"2003-02-10T00:00:00\", \"2003-02-11T00:00:00\", \"2003-02-12T00:00:00\", \"2003-02-13T00:00:00\", \"2003-02-14T00:00:00\", \"2003-02-18T00:00:00\", \"2003-02-19T00:00:00\", \"2003-02-20T00:00:00\", \"2003-02-21T00:00:00\", \"2003-02-24T00:00:00\", \"2003-02-25T00:00:00\", \"2003-02-26T00:00:00\", \"2003-02-27T00:00:00\", \"2003-02-28T00:00:00\", \"2003-03-03T00:00:00\", \"2003-03-04T00:00:00\", \"2003-03-05T00:00:00\", \"2003-03-06T00:00:00\", \"2003-03-07T00:00:00\", \"2003-03-10T00:00:00\", \"2003-03-11T00:00:00\", \"2003-03-12T00:00:00\", \"2003-03-13T00:00:00\", \"2003-03-14T00:00:00\", \"2003-03-17T00:00:00\", \"2003-03-18T00:00:00\", \"2003-03-19T00:00:00\", \"2003-03-20T00:00:00\", \"2003-03-21T00:00:00\", \"2003-03-24T00:00:00\", \"2003-03-25T00:00:00\", \"2003-03-26T00:00:00\", \"2003-03-27T00:00:00\", \"2003-03-28T00:00:00\", \"2003-03-31T00:00:00\", \"2003-04-01T00:00:00\", \"2003-04-02T00:00:00\", \"2003-04-03T00:00:00\", \"2003-04-04T00:00:00\", \"2003-04-07T00:00:00\", \"2003-04-08T00:00:00\", \"2003-04-09T00:00:00\", \"2003-04-10T00:00:00\", \"2003-04-11T00:00:00\", \"2003-04-14T00:00:00\", \"2003-04-15T00:00:00\", \"2003-04-16T00:00:00\", \"2003-04-17T00:00:00\", \"2003-04-21T00:00:00\", \"2003-04-22T00:00:00\", \"2003-04-23T00:00:00\", \"2003-04-24T00:00:00\", \"2003-04-25T00:00:00\", \"2003-04-28T00:00:00\", \"2003-04-29T00:00:00\", \"2003-04-30T00:00:00\", \"2003-05-01T00:00:00\", \"2003-05-02T00:00:00\", \"2003-05-05T00:00:00\", \"2003-05-06T00:00:00\", \"2003-05-07T00:00:00\", \"2003-05-08T00:00:00\", \"2003-05-09T00:00:00\", \"2003-05-12T00:00:00\", \"2003-05-13T00:00:00\", \"2003-05-14T00:00:00\", \"2003-05-15T00:00:00\", \"2003-05-16T00:00:00\", \"2003-05-19T00:00:00\", \"2003-05-20T00:00:00\", \"2003-05-21T00:00:00\", \"2003-05-22T00:00:00\", \"2003-05-23T00:00:00\", \"2003-05-27T00:00:00\", \"2003-05-28T00:00:00\", \"2003-05-29T00:00:00\", \"2003-05-30T00:00:00\", \"2003-06-02T00:00:00\", \"2003-06-03T00:00:00\", \"2003-06-04T00:00:00\", \"2003-06-05T00:00:00\", \"2003-06-06T00:00:00\", \"2003-06-09T00:00:00\", \"2003-06-10T00:00:00\", \"2003-06-11T00:00:00\", \"2003-06-12T00:00:00\", \"2003-06-13T00:00:00\", \"2003-06-16T00:00:00\", \"2003-06-17T00:00:00\", \"2003-06-18T00:00:00\", \"2003-06-19T00:00:00\", \"2003-06-20T00:00:00\", \"2003-06-23T00:00:00\", \"2003-06-24T00:00:00\", \"2003-06-25T00:00:00\", \"2003-06-26T00:00:00\", \"2003-06-27T00:00:00\", \"2003-06-30T00:00:00\", \"2003-07-01T00:00:00\", \"2003-07-02T00:00:00\", \"2003-07-03T00:00:00\", \"2003-07-07T00:00:00\", \"2003-07-08T00:00:00\", \"2003-07-09T00:00:00\", \"2003-07-10T00:00:00\", \"2003-07-11T00:00:00\", \"2003-07-14T00:00:00\", \"2003-07-15T00:00:00\", \"2003-07-16T00:00:00\", \"2003-07-17T00:00:00\", \"2003-07-18T00:00:00\", \"2003-07-21T00:00:00\", \"2003-07-22T00:00:00\", \"2003-07-23T00:00:00\", \"2003-07-24T00:00:00\", \"2003-07-25T00:00:00\", \"2003-07-28T00:00:00\", \"2003-07-29T00:00:00\", \"2003-07-30T00:00:00\", \"2003-07-31T00:00:00\", \"2003-08-01T00:00:00\", \"2003-08-04T00:00:00\", \"2003-08-05T00:00:00\", \"2003-08-06T00:00:00\", \"2003-08-07T00:00:00\", \"2003-08-08T00:00:00\", \"2003-08-11T00:00:00\", \"2003-08-12T00:00:00\", \"2003-08-13T00:00:00\", \"2003-08-14T00:00:00\", \"2003-08-15T00:00:00\", \"2003-08-18T00:00:00\", \"2003-08-19T00:00:00\", \"2003-08-20T00:00:00\", \"2003-08-21T00:00:00\", \"2003-08-22T00:00:00\", \"2003-08-25T00:00:00\", \"2003-08-26T00:00:00\", \"2003-08-27T00:00:00\", \"2003-08-28T00:00:00\", \"2003-08-29T00:00:00\", \"2003-09-02T00:00:00\", \"2003-09-03T00:00:00\", \"2003-09-04T00:00:00\", \"2003-09-05T00:00:00\", \"2003-09-08T00:00:00\", \"2003-09-09T00:00:00\", \"2003-09-10T00:00:00\", \"2003-09-11T00:00:00\", \"2003-09-12T00:00:00\", \"2003-09-15T00:00:00\", \"2003-09-16T00:00:00\", \"2003-09-17T00:00:00\", \"2003-09-18T00:00:00\", \"2003-09-19T00:00:00\", \"2003-09-22T00:00:00\", \"2003-09-23T00:00:00\", \"2003-09-24T00:00:00\", \"2003-09-25T00:00:00\", \"2003-09-26T00:00:00\", \"2003-09-29T00:00:00\", \"2003-09-30T00:00:00\", \"2003-10-01T00:00:00\", \"2003-10-02T00:00:00\", \"2003-10-03T00:00:00\", \"2003-10-06T00:00:00\", \"2003-10-07T00:00:00\", \"2003-10-08T00:00:00\", \"2003-10-09T00:00:00\", \"2003-10-10T00:00:00\", \"2003-10-13T00:00:00\", \"2003-10-14T00:00:00\", \"2003-10-15T00:00:00\", \"2003-10-16T00:00:00\", \"2003-10-17T00:00:00\", \"2003-10-20T00:00:00\", \"2003-10-21T00:00:00\", \"2003-10-22T00:00:00\", \"2003-10-23T00:00:00\", \"2003-10-24T00:00:00\", \"2003-10-27T00:00:00\", \"2003-10-28T00:00:00\", \"2003-10-29T00:00:00\", \"2003-10-30T00:00:00\", \"2003-10-31T00:00:00\", \"2003-11-03T00:00:00\", \"2003-11-04T00:00:00\", \"2003-11-05T00:00:00\", \"2003-11-06T00:00:00\", \"2003-11-07T00:00:00\", \"2003-11-10T00:00:00\", \"2003-11-11T00:00:00\", \"2003-11-12T00:00:00\", \"2003-11-13T00:00:00\", \"2003-11-14T00:00:00\", \"2003-11-17T00:00:00\", \"2003-11-18T00:00:00\", \"2003-11-19T00:00:00\", \"2003-11-20T00:00:00\", \"2003-11-21T00:00:00\", \"2003-11-24T00:00:00\", \"2003-11-25T00:00:00\", \"2003-11-26T00:00:00\", \"2003-11-28T00:00:00\", \"2003-12-01T00:00:00\", \"2003-12-02T00:00:00\", \"2003-12-03T00:00:00\", \"2003-12-04T00:00:00\", \"2003-12-05T00:00:00\", \"2003-12-08T00:00:00\", \"2003-12-09T00:00:00\", \"2003-12-10T00:00:00\", \"2003-12-11T00:00:00\", \"2003-12-12T00:00:00\", \"2003-12-15T00:00:00\", \"2003-12-16T00:00:00\", \"2003-12-17T00:00:00\", \"2003-12-18T00:00:00\", \"2003-12-19T00:00:00\", \"2003-12-22T00:00:00\", \"2003-12-23T00:00:00\", \"2003-12-24T00:00:00\", \"2003-12-26T00:00:00\", \"2003-12-29T00:00:00\", \"2003-12-30T00:00:00\", \"2003-12-31T00:00:00\", \"2004-01-02T00:00:00\", \"2004-01-05T00:00:00\", \"2004-01-06T00:00:00\", \"2004-01-07T00:00:00\", \"2004-01-08T00:00:00\", \"2004-01-09T00:00:00\", \"2004-01-12T00:00:00\", \"2004-01-13T00:00:00\", \"2004-01-14T00:00:00\", \"2004-01-15T00:00:00\", \"2004-01-16T00:00:00\", \"2004-01-20T00:00:00\", \"2004-01-21T00:00:00\", \"2004-01-22T00:00:00\", \"2004-01-23T00:00:00\", \"2004-01-26T00:00:00\", \"2004-01-27T00:00:00\", \"2004-01-28T00:00:00\", \"2004-01-29T00:00:00\", \"2004-01-30T00:00:00\", \"2004-02-02T00:00:00\", \"2004-02-03T00:00:00\", \"2004-02-04T00:00:00\", \"2004-02-05T00:00:00\", \"2004-02-06T00:00:00\", \"2004-02-09T00:00:00\", \"2004-02-10T00:00:00\", \"2004-02-11T00:00:00\", \"2004-02-12T00:00:00\", \"2004-02-13T00:00:00\", \"2004-02-17T00:00:00\", \"2004-02-18T00:00:00\", \"2004-02-19T00:00:00\", \"2004-02-20T00:00:00\", \"2004-02-23T00:00:00\", \"2004-02-24T00:00:00\", \"2004-02-25T00:00:00\", \"2004-02-26T00:00:00\", \"2004-02-27T00:00:00\", \"2004-03-01T00:00:00\", \"2004-03-02T00:00:00\", \"2004-03-03T00:00:00\", \"2004-03-04T00:00:00\", \"2004-03-05T00:00:00\", \"2004-03-08T00:00:00\", \"2004-03-09T00:00:00\", \"2004-03-10T00:00:00\", \"2004-03-11T00:00:00\", \"2004-03-12T00:00:00\", \"2004-03-15T00:00:00\", \"2004-03-16T00:00:00\", \"2004-03-17T00:00:00\", \"2004-03-18T00:00:00\", \"2004-03-19T00:00:00\", \"2004-03-22T00:00:00\", \"2004-03-23T00:00:00\", \"2004-03-24T00:00:00\", \"2004-03-25T00:00:00\", \"2004-03-26T00:00:00\", \"2004-03-29T00:00:00\", \"2004-03-30T00:00:00\", \"2004-03-31T00:00:00\", \"2004-04-01T00:00:00\", \"2004-04-02T00:00:00\", \"2004-04-05T00:00:00\", \"2004-04-06T00:00:00\", \"2004-04-07T00:00:00\", \"2004-04-08T00:00:00\", \"2004-04-12T00:00:00\", \"2004-04-13T00:00:00\", \"2004-04-14T00:00:00\", \"2004-04-15T00:00:00\", \"2004-04-16T00:00:00\", \"2004-04-19T00:00:00\", \"2004-04-20T00:00:00\", \"2004-04-21T00:00:00\", \"2004-04-22T00:00:00\", \"2004-04-23T00:00:00\", \"2004-04-26T00:00:00\", \"2004-04-27T00:00:00\", \"2004-04-28T00:00:00\", \"2004-04-29T00:00:00\", \"2004-04-30T00:00:00\", \"2004-05-03T00:00:00\", \"2004-05-04T00:00:00\", \"2004-05-05T00:00:00\", \"2004-05-06T00:00:00\", \"2004-05-07T00:00:00\", \"2004-05-10T00:00:00\", \"2004-05-11T00:00:00\", \"2004-05-12T00:00:00\", \"2004-05-13T00:00:00\", \"2004-05-14T00:00:00\", \"2004-05-17T00:00:00\", \"2004-05-18T00:00:00\", \"2004-05-19T00:00:00\", \"2004-05-20T00:00:00\", \"2004-05-21T00:00:00\", \"2004-05-24T00:00:00\", \"2004-05-25T00:00:00\", \"2004-05-26T00:00:00\", \"2004-05-27T00:00:00\", \"2004-05-28T00:00:00\", \"2004-06-01T00:00:00\", \"2004-06-02T00:00:00\", \"2004-06-03T00:00:00\", \"2004-06-04T00:00:00\", \"2004-06-07T00:00:00\", \"2004-06-08T00:00:00\", \"2004-06-09T00:00:00\", \"2004-06-10T00:00:00\", \"2004-06-14T00:00:00\", \"2004-06-15T00:00:00\", \"2004-06-16T00:00:00\", \"2004-06-17T00:00:00\", \"2004-06-18T00:00:00\", \"2004-06-21T00:00:00\", \"2004-06-22T00:00:00\", \"2004-06-23T00:00:00\", \"2004-06-24T00:00:00\", \"2004-06-25T00:00:00\", \"2004-06-28T00:00:00\", \"2004-06-29T00:00:00\", \"2004-06-30T00:00:00\", \"2004-07-01T00:00:00\", \"2004-07-02T00:00:00\", \"2004-07-06T00:00:00\", \"2004-07-07T00:00:00\", \"2004-07-08T00:00:00\", \"2004-07-09T00:00:00\", \"2004-07-12T00:00:00\", \"2004-07-13T00:00:00\", \"2004-07-14T00:00:00\", \"2004-07-15T00:00:00\", \"2004-07-16T00:00:00\", \"2004-07-19T00:00:00\", \"2004-07-20T00:00:00\", \"2004-07-21T00:00:00\", \"2004-07-22T00:00:00\", \"2004-07-23T00:00:00\", \"2004-07-26T00:00:00\", \"2004-07-27T00:00:00\", \"2004-07-28T00:00:00\", \"2004-07-29T00:00:00\", \"2004-07-30T00:00:00\", \"2004-08-02T00:00:00\", \"2004-08-03T00:00:00\", \"2004-08-04T00:00:00\", \"2004-08-05T00:00:00\", \"2004-08-06T00:00:00\", \"2004-08-09T00:00:00\", \"2004-08-10T00:00:00\", \"2004-08-11T00:00:00\", \"2004-08-12T00:00:00\", \"2004-08-13T00:00:00\", \"2004-08-16T00:00:00\", \"2004-08-17T00:00:00\", \"2004-08-18T00:00:00\", \"2004-08-19T00:00:00\", \"2004-08-20T00:00:00\", \"2004-08-23T00:00:00\", \"2004-08-24T00:00:00\", \"2004-08-25T00:00:00\", \"2004-08-26T00:00:00\", \"2004-08-27T00:00:00\", \"2004-08-30T00:00:00\", \"2004-08-31T00:00:00\", \"2004-09-01T00:00:00\", \"2004-09-02T00:00:00\", \"2004-09-03T00:00:00\", \"2004-09-07T00:00:00\", \"2004-09-08T00:00:00\", \"2004-09-09T00:00:00\", \"2004-09-10T00:00:00\", \"2004-09-13T00:00:00\", \"2004-09-14T00:00:00\", \"2004-09-15T00:00:00\", \"2004-09-16T00:00:00\", \"2004-09-17T00:00:00\", \"2004-09-20T00:00:00\", \"2004-09-21T00:00:00\", \"2004-09-22T00:00:00\", \"2004-09-23T00:00:00\", \"2004-09-24T00:00:00\", \"2004-09-27T00:00:00\", \"2004-09-28T00:00:00\", \"2004-09-29T00:00:00\", \"2004-09-30T00:00:00\", \"2004-10-01T00:00:00\", \"2004-10-04T00:00:00\", \"2004-10-05T00:00:00\", \"2004-10-06T00:00:00\", \"2004-10-07T00:00:00\", \"2004-10-08T00:00:00\", \"2004-10-11T00:00:00\", \"2004-10-12T00:00:00\", \"2004-10-13T00:00:00\", \"2004-10-14T00:00:00\", \"2004-10-15T00:00:00\", \"2004-10-18T00:00:00\", \"2004-10-19T00:00:00\", \"2004-10-20T00:00:00\", \"2004-10-21T00:00:00\", \"2004-10-22T00:00:00\", \"2004-10-25T00:00:00\", \"2004-10-26T00:00:00\", \"2004-10-27T00:00:00\", \"2004-10-28T00:00:00\", \"2004-10-29T00:00:00\", \"2004-11-01T00:00:00\", \"2004-11-02T00:00:00\", \"2004-11-03T00:00:00\", \"2004-11-04T00:00:00\", \"2004-11-05T00:00:00\", \"2004-11-08T00:00:00\", \"2004-11-09T00:00:00\", \"2004-11-10T00:00:00\", \"2004-11-11T00:00:00\", \"2004-11-12T00:00:00\", \"2004-11-15T00:00:00\", \"2004-11-16T00:00:00\", \"2004-11-17T00:00:00\", \"2004-11-18T00:00:00\", \"2004-11-19T00:00:00\", \"2004-11-22T00:00:00\", \"2004-11-23T00:00:00\", \"2004-11-24T00:00:00\", \"2004-11-26T00:00:00\", \"2004-11-29T00:00:00\", \"2004-11-30T00:00:00\", \"2004-12-01T00:00:00\", \"2004-12-02T00:00:00\", \"2004-12-03T00:00:00\", \"2004-12-06T00:00:00\", \"2004-12-07T00:00:00\", \"2004-12-08T00:00:00\", \"2004-12-09T00:00:00\", \"2004-12-10T00:00:00\", \"2004-12-13T00:00:00\", \"2004-12-14T00:00:00\", \"2004-12-15T00:00:00\", \"2004-12-16T00:00:00\", \"2004-12-17T00:00:00\", \"2004-12-20T00:00:00\", \"2004-12-21T00:00:00\", \"2004-12-22T00:00:00\", \"2004-12-23T00:00:00\", \"2004-12-27T00:00:00\", \"2004-12-28T00:00:00\", \"2004-12-29T00:00:00\", \"2004-12-30T00:00:00\", \"2004-12-31T00:00:00\", \"2005-01-03T00:00:00\", \"2005-01-04T00:00:00\", \"2005-01-05T00:00:00\", \"2005-01-06T00:00:00\", \"2005-01-07T00:00:00\", \"2005-01-10T00:00:00\", \"2005-01-11T00:00:00\", \"2005-01-12T00:00:00\", \"2005-01-13T00:00:00\", \"2005-01-14T00:00:00\", \"2005-01-18T00:00:00\", \"2005-01-19T00:00:00\", \"2005-01-20T00:00:00\", \"2005-01-21T00:00:00\", \"2005-01-24T00:00:00\", \"2005-01-25T00:00:00\", \"2005-01-26T00:00:00\", \"2005-01-27T00:00:00\", \"2005-01-28T00:00:00\", \"2005-01-31T00:00:00\", \"2005-02-01T00:00:00\", \"2005-02-02T00:00:00\", \"2005-02-03T00:00:00\", \"2005-02-04T00:00:00\", \"2005-02-07T00:00:00\", \"2005-02-08T00:00:00\", \"2005-02-09T00:00:00\", \"2005-02-10T00:00:00\", \"2005-02-11T00:00:00\", \"2005-02-14T00:00:00\", \"2005-02-15T00:00:00\", \"2005-02-16T00:00:00\", \"2005-02-17T00:00:00\", \"2005-02-18T00:00:00\", \"2005-02-22T00:00:00\", \"2005-02-23T00:00:00\", \"2005-02-24T00:00:00\", \"2005-02-25T00:00:00\", \"2005-02-28T00:00:00\", \"2005-03-01T00:00:00\", \"2005-03-02T00:00:00\", \"2005-03-03T00:00:00\", \"2005-03-04T00:00:00\", \"2005-03-07T00:00:00\", \"2005-03-08T00:00:00\", \"2005-03-09T00:00:00\", \"2005-03-10T00:00:00\", \"2005-03-11T00:00:00\", \"2005-03-14T00:00:00\", \"2005-03-15T00:00:00\", \"2005-03-16T00:00:00\", \"2005-03-17T00:00:00\", \"2005-03-18T00:00:00\", \"2005-03-21T00:00:00\", \"2005-03-22T00:00:00\", \"2005-03-23T00:00:00\", \"2005-03-24T00:00:00\", \"2005-03-28T00:00:00\", \"2005-03-29T00:00:00\", \"2005-03-30T00:00:00\", \"2005-03-31T00:00:00\", \"2005-04-01T00:00:00\", \"2005-04-04T00:00:00\", \"2005-04-05T00:00:00\", \"2005-04-06T00:00:00\", \"2005-04-07T00:00:00\", \"2005-04-08T00:00:00\", \"2005-04-11T00:00:00\", \"2005-04-12T00:00:00\", \"2005-04-13T00:00:00\", \"2005-04-14T00:00:00\", \"2005-04-15T00:00:00\", \"2005-04-18T00:00:00\", \"2005-04-19T00:00:00\", \"2005-04-20T00:00:00\", \"2005-04-21T00:00:00\", \"2005-04-22T00:00:00\", \"2005-04-25T00:00:00\", \"2005-04-26T00:00:00\", \"2005-04-27T00:00:00\", \"2005-04-28T00:00:00\", \"2005-04-29T00:00:00\", \"2005-05-02T00:00:00\", \"2005-05-03T00:00:00\", \"2005-05-04T00:00:00\", \"2005-05-05T00:00:00\", \"2005-05-06T00:00:00\", \"2005-05-09T00:00:00\", \"2005-05-10T00:00:00\", \"2005-05-11T00:00:00\", \"2005-05-12T00:00:00\", \"2005-05-13T00:00:00\", \"2005-05-16T00:00:00\", \"2005-05-17T00:00:00\", \"2005-05-18T00:00:00\", \"2005-05-19T00:00:00\", \"2005-05-20T00:00:00\", \"2005-05-23T00:00:00\", \"2005-05-24T00:00:00\", \"2005-05-25T00:00:00\", \"2005-05-26T00:00:00\", \"2005-05-27T00:00:00\", \"2005-05-31T00:00:00\", \"2005-06-01T00:00:00\", \"2005-06-02T00:00:00\", \"2005-06-03T00:00:00\", \"2005-06-06T00:00:00\", \"2005-06-07T00:00:00\", \"2005-06-08T00:00:00\", \"2005-06-09T00:00:00\", \"2005-06-10T00:00:00\", \"2005-06-13T00:00:00\", \"2005-06-14T00:00:00\", \"2005-06-15T00:00:00\", \"2005-06-16T00:00:00\", \"2005-06-17T00:00:00\", \"2005-06-20T00:00:00\", \"2005-06-21T00:00:00\", \"2005-06-22T00:00:00\", \"2005-06-23T00:00:00\", \"2005-06-24T00:00:00\", \"2005-06-27T00:00:00\", \"2005-06-28T00:00:00\", \"2005-06-29T00:00:00\", \"2005-06-30T00:00:00\", \"2005-07-01T00:00:00\", \"2005-07-05T00:00:00\", \"2005-07-06T00:00:00\", \"2005-07-07T00:00:00\", \"2005-07-08T00:00:00\", \"2005-07-11T00:00:00\", \"2005-07-12T00:00:00\", \"2005-07-13T00:00:00\", \"2005-07-14T00:00:00\", \"2005-07-15T00:00:00\", \"2005-07-18T00:00:00\", \"2005-07-19T00:00:00\", \"2005-07-20T00:00:00\", \"2005-07-21T00:00:00\", \"2005-07-22T00:00:00\", \"2005-07-25T00:00:00\", \"2005-07-26T00:00:00\", \"2005-07-27T00:00:00\", \"2005-07-28T00:00:00\", \"2005-07-29T00:00:00\", \"2005-08-01T00:00:00\", \"2005-08-02T00:00:00\", \"2005-08-03T00:00:00\", \"2005-08-04T00:00:00\", \"2005-08-05T00:00:00\", \"2005-08-08T00:00:00\", \"2005-08-09T00:00:00\", \"2005-08-10T00:00:00\", \"2005-08-11T00:00:00\", \"2005-08-12T00:00:00\", \"2005-08-15T00:00:00\", \"2005-08-16T00:00:00\", \"2005-08-17T00:00:00\", \"2005-08-18T00:00:00\", \"2005-08-19T00:00:00\", \"2005-08-22T00:00:00\", \"2005-08-23T00:00:00\", \"2005-08-24T00:00:00\", \"2005-08-25T00:00:00\", \"2005-08-26T00:00:00\", \"2005-08-29T00:00:00\", \"2005-08-30T00:00:00\", \"2005-08-31T00:00:00\", \"2005-09-01T00:00:00\", \"2005-09-02T00:00:00\", \"2005-09-06T00:00:00\", \"2005-09-07T00:00:00\", \"2005-09-08T00:00:00\", \"2005-09-09T00:00:00\", \"2005-09-12T00:00:00\", \"2005-09-13T00:00:00\", \"2005-09-14T00:00:00\", \"2005-09-15T00:00:00\", \"2005-09-16T00:00:00\", \"2005-09-19T00:00:00\", \"2005-09-20T00:00:00\", \"2005-09-21T00:00:00\", \"2005-09-22T00:00:00\", \"2005-09-23T00:00:00\", \"2005-09-26T00:00:00\", \"2005-09-27T00:00:00\", \"2005-09-28T00:00:00\", \"2005-09-29T00:00:00\", \"2005-09-30T00:00:00\", \"2005-10-03T00:00:00\", \"2005-10-04T00:00:00\", \"2005-10-05T00:00:00\", \"2005-10-06T00:00:00\", \"2005-10-07T00:00:00\", \"2005-10-10T00:00:00\", \"2005-10-11T00:00:00\", \"2005-10-12T00:00:00\", \"2005-10-13T00:00:00\", \"2005-10-14T00:00:00\", \"2005-10-17T00:00:00\", \"2005-10-18T00:00:00\", \"2005-10-19T00:00:00\", \"2005-10-20T00:00:00\", \"2005-10-21T00:00:00\", \"2005-10-24T00:00:00\", \"2005-10-25T00:00:00\", \"2005-10-26T00:00:00\", \"2005-10-27T00:00:00\", \"2005-10-28T00:00:00\", \"2005-10-31T00:00:00\", \"2005-11-01T00:00:00\", \"2005-11-02T00:00:00\", \"2005-11-03T00:00:00\", \"2005-11-04T00:00:00\", \"2005-11-07T00:00:00\", \"2005-11-08T00:00:00\", \"2005-11-09T00:00:00\", \"2005-11-10T00:00:00\", \"2005-11-11T00:00:00\", \"2005-11-14T00:00:00\", \"2005-11-15T00:00:00\", \"2005-11-16T00:00:00\", \"2005-11-17T00:00:00\", \"2005-11-18T00:00:00\", \"2005-11-21T00:00:00\", \"2005-11-22T00:00:00\", \"2005-11-23T00:00:00\", \"2005-11-25T00:00:00\", \"2005-11-28T00:00:00\", \"2005-11-29T00:00:00\", \"2005-11-30T00:00:00\", \"2005-12-01T00:00:00\", \"2005-12-02T00:00:00\", \"2005-12-05T00:00:00\", \"2005-12-06T00:00:00\", \"2005-12-07T00:00:00\", \"2005-12-08T00:00:00\", \"2005-12-09T00:00:00\", \"2005-12-12T00:00:00\", \"2005-12-13T00:00:00\", \"2005-12-14T00:00:00\", \"2005-12-15T00:00:00\", \"2005-12-16T00:00:00\", \"2005-12-19T00:00:00\", \"2005-12-20T00:00:00\", \"2005-12-21T00:00:00\", \"2005-12-22T00:00:00\", \"2005-12-23T00:00:00\", \"2005-12-27T00:00:00\", \"2005-12-28T00:00:00\", \"2005-12-29T00:00:00\", \"2005-12-30T00:00:00\", \"2006-01-03T00:00:00\", \"2006-01-04T00:00:00\", \"2006-01-05T00:00:00\", \"2006-01-06T00:00:00\", \"2006-01-09T00:00:00\", \"2006-01-10T00:00:00\", \"2006-01-11T00:00:00\", \"2006-01-12T00:00:00\", \"2006-01-13T00:00:00\", \"2006-01-17T00:00:00\", \"2006-01-18T00:00:00\", \"2006-01-19T00:00:00\", \"2006-01-20T00:00:00\", \"2006-01-23T00:00:00\", \"2006-01-24T00:00:00\", \"2006-01-25T00:00:00\", \"2006-01-26T00:00:00\", \"2006-01-27T00:00:00\", \"2006-01-30T00:00:00\", \"2006-01-31T00:00:00\", \"2006-02-01T00:00:00\", \"2006-02-02T00:00:00\", \"2006-02-03T00:00:00\", \"2006-02-06T00:00:00\", \"2006-02-07T00:00:00\", \"2006-02-08T00:00:00\", \"2006-02-09T00:00:00\", \"2006-02-10T00:00:00\", \"2006-02-13T00:00:00\", \"2006-02-14T00:00:00\", \"2006-02-15T00:00:00\", \"2006-02-16T00:00:00\", \"2006-02-17T00:00:00\", \"2006-02-21T00:00:00\", \"2006-02-22T00:00:00\", \"2006-02-23T00:00:00\", \"2006-02-24T00:00:00\", \"2006-02-27T00:00:00\", \"2006-02-28T00:00:00\", \"2006-03-01T00:00:00\", \"2006-03-02T00:00:00\", \"2006-03-03T00:00:00\", \"2006-03-06T00:00:00\", \"2006-03-07T00:00:00\", \"2006-03-08T00:00:00\", \"2006-03-09T00:00:00\", \"2006-03-10T00:00:00\", \"2006-03-13T00:00:00\", \"2006-03-14T00:00:00\", \"2006-03-15T00:00:00\", \"2006-03-16T00:00:00\", \"2006-03-17T00:00:00\", \"2006-03-20T00:00:00\", \"2006-03-21T00:00:00\", \"2006-03-22T00:00:00\", \"2006-03-23T00:00:00\", \"2006-03-24T00:00:00\", \"2006-03-27T00:00:00\", \"2006-03-28T00:00:00\", \"2006-03-29T00:00:00\", \"2006-03-30T00:00:00\", \"2006-03-31T00:00:00\", \"2006-04-03T00:00:00\", \"2006-04-04T00:00:00\", \"2006-04-05T00:00:00\", \"2006-04-06T00:00:00\", \"2006-04-07T00:00:00\", \"2006-04-10T00:00:00\", \"2006-04-11T00:00:00\", \"2006-04-12T00:00:00\", \"2006-04-13T00:00:00\", \"2006-04-17T00:00:00\", \"2006-04-18T00:00:00\", \"2006-04-19T00:00:00\", \"2006-04-20T00:00:00\", \"2006-04-21T00:00:00\", \"2006-04-24T00:00:00\", \"2006-04-25T00:00:00\", \"2006-04-26T00:00:00\", \"2006-04-27T00:00:00\", \"2006-04-28T00:00:00\", \"2006-05-01T00:00:00\", \"2006-05-02T00:00:00\", \"2006-05-03T00:00:00\", \"2006-05-04T00:00:00\", \"2006-05-05T00:00:00\", \"2006-05-08T00:00:00\", \"2006-05-09T00:00:00\", \"2006-05-10T00:00:00\", \"2006-05-11T00:00:00\", \"2006-05-12T00:00:00\", \"2006-05-15T00:00:00\", \"2006-05-16T00:00:00\", \"2006-05-17T00:00:00\", \"2006-05-18T00:00:00\", \"2006-05-19T00:00:00\", \"2006-05-22T00:00:00\", \"2006-05-23T00:00:00\", \"2006-05-24T00:00:00\", \"2006-05-25T00:00:00\", \"2006-05-26T00:00:00\", \"2006-05-30T00:00:00\", \"2006-05-31T00:00:00\", \"2006-06-01T00:00:00\", \"2006-06-02T00:00:00\", \"2006-06-05T00:00:00\", \"2006-06-06T00:00:00\", \"2006-06-07T00:00:00\", \"2006-06-08T00:00:00\", \"2006-06-09T00:00:00\", \"2006-06-12T00:00:00\", \"2006-06-13T00:00:00\", \"2006-06-14T00:00:00\", \"2006-06-15T00:00:00\", \"2006-06-16T00:00:00\", \"2006-06-19T00:00:00\", \"2006-06-20T00:00:00\", \"2006-06-21T00:00:00\", \"2006-06-22T00:00:00\", \"2006-06-23T00:00:00\", \"2006-06-26T00:00:00\", \"2006-06-27T00:00:00\", \"2006-06-28T00:00:00\", \"2006-06-29T00:00:00\", \"2006-06-30T00:00:00\", \"2006-07-03T00:00:00\", \"2006-07-05T00:00:00\", \"2006-07-06T00:00:00\", \"2006-07-07T00:00:00\", \"2006-07-10T00:00:00\", \"2006-07-11T00:00:00\", \"2006-07-12T00:00:00\", \"2006-07-13T00:00:00\", \"2006-07-14T00:00:00\", \"2006-07-17T00:00:00\", \"2006-07-18T00:00:00\", \"2006-07-19T00:00:00\", \"2006-07-20T00:00:00\", \"2006-07-21T00:00:00\", \"2006-07-24T00:00:00\", \"2006-07-25T00:00:00\", \"2006-07-26T00:00:00\", \"2006-07-27T00:00:00\", \"2006-07-28T00:00:00\", \"2006-07-31T00:00:00\", \"2006-08-01T00:00:00\", \"2006-08-02T00:00:00\", \"2006-08-03T00:00:00\", \"2006-08-04T00:00:00\", \"2006-08-07T00:00:00\", \"2006-08-08T00:00:00\", \"2006-08-09T00:00:00\", \"2006-08-10T00:00:00\", \"2006-08-11T00:00:00\", \"2006-08-14T00:00:00\", \"2006-08-15T00:00:00\", \"2006-08-16T00:00:00\", \"2006-08-17T00:00:00\", \"2006-08-18T00:00:00\", \"2006-08-21T00:00:00\", \"2006-08-22T00:00:00\", \"2006-08-23T00:00:00\", \"2006-08-24T00:00:00\", \"2006-08-25T00:00:00\", \"2006-08-28T00:00:00\", \"2006-08-29T00:00:00\", \"2006-08-30T00:00:00\", \"2006-08-31T00:00:00\", \"2006-09-01T00:00:00\", \"2006-09-05T00:00:00\", \"2006-09-06T00:00:00\", \"2006-09-07T00:00:00\", \"2006-09-08T00:00:00\", \"2006-09-11T00:00:00\", \"2006-09-12T00:00:00\", \"2006-09-13T00:00:00\", \"2006-09-14T00:00:00\", \"2006-09-15T00:00:00\", \"2006-09-18T00:00:00\", \"2006-09-19T00:00:00\", \"2006-09-20T00:00:00\", \"2006-09-21T00:00:00\", \"2006-09-22T00:00:00\", \"2006-09-25T00:00:00\", \"2006-09-26T00:00:00\", \"2006-09-27T00:00:00\", \"2006-09-28T00:00:00\", \"2006-09-29T00:00:00\", \"2006-10-02T00:00:00\", \"2006-10-03T00:00:00\", \"2006-10-04T00:00:00\", \"2006-10-05T00:00:00\", \"2006-10-06T00:00:00\", \"2006-10-09T00:00:00\", \"2006-10-10T00:00:00\", \"2006-10-11T00:00:00\", \"2006-10-12T00:00:00\", \"2006-10-13T00:00:00\", \"2006-10-16T00:00:00\", \"2006-10-17T00:00:00\", \"2006-10-18T00:00:00\", \"2006-10-19T00:00:00\", \"2006-10-20T00:00:00\", \"2006-10-23T00:00:00\", \"2006-10-24T00:00:00\", \"2006-10-25T00:00:00\", \"2006-10-26T00:00:00\", \"2006-10-27T00:00:00\", \"2006-10-30T00:00:00\", \"2006-10-31T00:00:00\", \"2006-11-01T00:00:00\", \"2006-11-02T00:00:00\", \"2006-11-03T00:00:00\", \"2006-11-06T00:00:00\", \"2006-11-07T00:00:00\", \"2006-11-08T00:00:00\", \"2006-11-09T00:00:00\", \"2006-11-10T00:00:00\", \"2006-11-13T00:00:00\", \"2006-11-14T00:00:00\", \"2006-11-15T00:00:00\", \"2006-11-16T00:00:00\", \"2006-11-17T00:00:00\", \"2006-11-20T00:00:00\", \"2006-11-21T00:00:00\", \"2006-11-22T00:00:00\", \"2006-11-24T00:00:00\", \"2006-11-27T00:00:00\", \"2006-11-28T00:00:00\", \"2006-11-29T00:00:00\", \"2006-11-30T00:00:00\", \"2006-12-01T00:00:00\", \"2006-12-04T00:00:00\", \"2006-12-05T00:00:00\", \"2006-12-06T00:00:00\", \"2006-12-07T00:00:00\", \"2006-12-08T00:00:00\", \"2006-12-11T00:00:00\", \"2006-12-12T00:00:00\", \"2006-12-13T00:00:00\", \"2006-12-14T00:00:00\", \"2006-12-15T00:00:00\", \"2006-12-18T00:00:00\", \"2006-12-19T00:00:00\", \"2006-12-20T00:00:00\", \"2006-12-21T00:00:00\", \"2006-12-22T00:00:00\", \"2006-12-26T00:00:00\", \"2006-12-27T00:00:00\", \"2006-12-28T00:00:00\", \"2006-12-29T00:00:00\", \"2007-01-03T00:00:00\", \"2007-01-04T00:00:00\", \"2007-01-05T00:00:00\", \"2007-01-08T00:00:00\", \"2007-01-09T00:00:00\", \"2007-01-10T00:00:00\", \"2007-01-11T00:00:00\", \"2007-01-12T00:00:00\", \"2007-01-16T00:00:00\", \"2007-01-17T00:00:00\", \"2007-01-18T00:00:00\", \"2007-01-19T00:00:00\", \"2007-01-22T00:00:00\", \"2007-01-23T00:00:00\", \"2007-01-24T00:00:00\", \"2007-01-25T00:00:00\", \"2007-01-26T00:00:00\", \"2007-01-29T00:00:00\", \"2007-01-30T00:00:00\", \"2007-01-31T00:00:00\", \"2007-02-01T00:00:00\", \"2007-02-02T00:00:00\", \"2007-02-05T00:00:00\", \"2007-02-06T00:00:00\", \"2007-02-07T00:00:00\", \"2007-02-08T00:00:00\", \"2007-02-09T00:00:00\", \"2007-02-12T00:00:00\", \"2007-02-13T00:00:00\", \"2007-02-14T00:00:00\", \"2007-02-15T00:00:00\", \"2007-02-16T00:00:00\", \"2007-02-20T00:00:00\", \"2007-02-21T00:00:00\", \"2007-02-22T00:00:00\", \"2007-02-23T00:00:00\", \"2007-02-26T00:00:00\", \"2007-02-27T00:00:00\", \"2007-02-28T00:00:00\", \"2007-03-01T00:00:00\", \"2007-03-02T00:00:00\", \"2007-03-05T00:00:00\", \"2007-03-06T00:00:00\", \"2007-03-07T00:00:00\", \"2007-03-08T00:00:00\", \"2007-03-09T00:00:00\", \"2007-03-12T00:00:00\", \"2007-03-13T00:00:00\", \"2007-03-14T00:00:00\", \"2007-03-15T00:00:00\", \"2007-03-16T00:00:00\", \"2007-03-19T00:00:00\", \"2007-03-20T00:00:00\", \"2007-03-21T00:00:00\", \"2007-03-22T00:00:00\", \"2007-03-23T00:00:00\", \"2007-03-26T00:00:00\", \"2007-03-27T00:00:00\", \"2007-03-28T00:00:00\", \"2007-03-29T00:00:00\", \"2007-03-30T00:00:00\", \"2007-04-02T00:00:00\", \"2007-04-03T00:00:00\", \"2007-04-04T00:00:00\", \"2007-04-05T00:00:00\", \"2007-04-09T00:00:00\", \"2007-04-10T00:00:00\", \"2007-04-11T00:00:00\", \"2007-04-12T00:00:00\", \"2007-04-13T00:00:00\", \"2007-04-16T00:00:00\", \"2007-04-17T00:00:00\", \"2007-04-18T00:00:00\", \"2007-04-19T00:00:00\", \"2007-04-20T00:00:00\", \"2007-04-23T00:00:00\", \"2007-04-24T00:00:00\", \"2007-04-25T00:00:00\", \"2007-04-26T00:00:00\", \"2007-04-27T00:00:00\", \"2007-04-30T00:00:00\", \"2007-05-01T00:00:00\", \"2007-05-02T00:00:00\", \"2007-05-03T00:00:00\", \"2007-05-04T00:00:00\", \"2007-05-07T00:00:00\", \"2007-05-08T00:00:00\", \"2007-05-09T00:00:00\", \"2007-05-10T00:00:00\", \"2007-05-11T00:00:00\", \"2007-05-14T00:00:00\", \"2007-05-15T00:00:00\", \"2007-05-16T00:00:00\", \"2007-05-17T00:00:00\", \"2007-05-18T00:00:00\", \"2007-05-21T00:00:00\", \"2007-05-22T00:00:00\", \"2007-05-23T00:00:00\", \"2007-05-24T00:00:00\", \"2007-05-25T00:00:00\", \"2007-05-29T00:00:00\", \"2007-05-30T00:00:00\", \"2007-05-31T00:00:00\", \"2007-06-01T00:00:00\", \"2007-06-04T00:00:00\", \"2007-06-05T00:00:00\", \"2007-06-06T00:00:00\", \"2007-06-07T00:00:00\", \"2007-06-08T00:00:00\", \"2007-06-11T00:00:00\", \"2007-06-12T00:00:00\", \"2007-06-13T00:00:00\", \"2007-06-14T00:00:00\", \"2007-06-15T00:00:00\", \"2007-06-18T00:00:00\", \"2007-06-19T00:00:00\", \"2007-06-20T00:00:00\", \"2007-06-21T00:00:00\", \"2007-06-22T00:00:00\", \"2007-06-25T00:00:00\", \"2007-06-26T00:00:00\", \"2007-06-27T00:00:00\", \"2007-06-28T00:00:00\", \"2007-06-29T00:00:00\", \"2007-07-02T00:00:00\", \"2007-07-03T00:00:00\", \"2007-07-05T00:00:00\", \"2007-07-06T00:00:00\", \"2007-07-09T00:00:00\", \"2007-07-10T00:00:00\", \"2007-07-11T00:00:00\", \"2007-07-12T00:00:00\", \"2007-07-13T00:00:00\", \"2007-07-16T00:00:00\", \"2007-07-17T00:00:00\", \"2007-07-18T00:00:00\", \"2007-07-19T00:00:00\", \"2007-07-20T00:00:00\", \"2007-07-23T00:00:00\", \"2007-07-24T00:00:00\", \"2007-07-25T00:00:00\", \"2007-07-26T00:00:00\", \"2007-07-27T00:00:00\", \"2007-07-30T00:00:00\", \"2007-07-31T00:00:00\", \"2007-08-01T00:00:00\", \"2007-08-02T00:00:00\", \"2007-08-03T00:00:00\", \"2007-08-06T00:00:00\", \"2007-08-07T00:00:00\", \"2007-08-08T00:00:00\", \"2007-08-09T00:00:00\", \"2007-08-10T00:00:00\", \"2007-08-13T00:00:00\", \"2007-08-14T00:00:00\", \"2007-08-15T00:00:00\", \"2007-08-16T00:00:00\", \"2007-08-17T00:00:00\", \"2007-08-20T00:00:00\", \"2007-08-21T00:00:00\", \"2007-08-22T00:00:00\", \"2007-08-23T00:00:00\", \"2007-08-24T00:00:00\", \"2007-08-27T00:00:00\", \"2007-08-28T00:00:00\", \"2007-08-29T00:00:00\", \"2007-08-30T00:00:00\", \"2007-08-31T00:00:00\", \"2007-09-04T00:00:00\", \"2007-09-05T00:00:00\", \"2007-09-06T00:00:00\", \"2007-09-07T00:00:00\", \"2007-09-10T00:00:00\", \"2007-09-11T00:00:00\", \"2007-09-12T00:00:00\", \"2007-09-13T00:00:00\", \"2007-09-14T00:00:00\", \"2007-09-17T00:00:00\", \"2007-09-18T00:00:00\", \"2007-09-19T00:00:00\", \"2007-09-20T00:00:00\", \"2007-09-21T00:00:00\", \"2007-09-24T00:00:00\", \"2007-09-25T00:00:00\", \"2007-09-26T00:00:00\", \"2007-09-27T00:00:00\", \"2007-09-28T00:00:00\", \"2007-10-01T00:00:00\", \"2007-10-02T00:00:00\", \"2007-10-03T00:00:00\", \"2007-10-04T00:00:00\", \"2007-10-05T00:00:00\", \"2007-10-08T00:00:00\", \"2007-10-09T00:00:00\", \"2007-10-10T00:00:00\", \"2007-10-11T00:00:00\", \"2007-10-12T00:00:00\", \"2007-10-15T00:00:00\", \"2007-10-16T00:00:00\", \"2007-10-17T00:00:00\", \"2007-10-18T00:00:00\", \"2007-10-19T00:00:00\", \"2007-10-22T00:00:00\", \"2007-10-23T00:00:00\", \"2007-10-24T00:00:00\", \"2007-10-25T00:00:00\", \"2007-10-26T00:00:00\", \"2007-10-29T00:00:00\", \"2007-10-30T00:00:00\", \"2007-10-31T00:00:00\", \"2007-11-01T00:00:00\", \"2007-11-02T00:00:00\", \"2007-11-05T00:00:00\", \"2007-11-06T00:00:00\", \"2007-11-07T00:00:00\", \"2007-11-08T00:00:00\", \"2007-11-09T00:00:00\", \"2007-11-12T00:00:00\", \"2007-11-13T00:00:00\", \"2007-11-14T00:00:00\", \"2007-11-15T00:00:00\", \"2007-11-16T00:00:00\", \"2007-11-19T00:00:00\", \"2007-11-20T00:00:00\", \"2007-11-21T00:00:00\", \"2007-11-23T00:00:00\", \"2007-11-26T00:00:00\", \"2007-11-27T00:00:00\", \"2007-11-28T00:00:00\", \"2007-11-29T00:00:00\", \"2007-11-30T00:00:00\", \"2007-12-03T00:00:00\", \"2007-12-04T00:00:00\", \"2007-12-05T00:00:00\", \"2007-12-06T00:00:00\", \"2007-12-07T00:00:00\", \"2007-12-10T00:00:00\", \"2007-12-11T00:00:00\", \"2007-12-12T00:00:00\", \"2007-12-13T00:00:00\", \"2007-12-14T00:00:00\", \"2007-12-17T00:00:00\", \"2007-12-18T00:00:00\", \"2007-12-19T00:00:00\", \"2007-12-20T00:00:00\", \"2007-12-21T00:00:00\", \"2007-12-24T00:00:00\", \"2007-12-26T00:00:00\", \"2007-12-27T00:00:00\", \"2007-12-28T00:00:00\", \"2007-12-31T00:00:00\", \"2008-01-02T00:00:00\", \"2008-01-03T00:00:00\", \"2008-01-04T00:00:00\", \"2008-01-07T00:00:00\", \"2008-01-08T00:00:00\", \"2008-01-09T00:00:00\", \"2008-01-10T00:00:00\", \"2008-01-11T00:00:00\", \"2008-01-14T00:00:00\", \"2008-01-15T00:00:00\", \"2008-01-16T00:00:00\", \"2008-01-17T00:00:00\", \"2008-01-18T00:00:00\", \"2008-01-22T00:00:00\", \"2008-01-23T00:00:00\", \"2008-01-24T00:00:00\", \"2008-01-25T00:00:00\", \"2008-01-28T00:00:00\", \"2008-01-29T00:00:00\", \"2008-01-30T00:00:00\", \"2008-01-31T00:00:00\", \"2008-02-01T00:00:00\", \"2008-02-04T00:00:00\", \"2008-02-05T00:00:00\", \"2008-02-06T00:00:00\", \"2008-02-07T00:00:00\", \"2008-02-08T00:00:00\", \"2008-02-11T00:00:00\", \"2008-02-12T00:00:00\", \"2008-02-13T00:00:00\", \"2008-02-14T00:00:00\", \"2008-02-15T00:00:00\", \"2008-02-19T00:00:00\", \"2008-02-20T00:00:00\", \"2008-02-21T00:00:00\", \"2008-02-22T00:00:00\", \"2008-02-25T00:00:00\", \"2008-02-26T00:00:00\", \"2008-02-27T00:00:00\", \"2008-02-28T00:00:00\", \"2008-02-29T00:00:00\", \"2008-03-03T00:00:00\", \"2008-03-04T00:00:00\", \"2008-03-05T00:00:00\", \"2008-03-06T00:00:00\", \"2008-03-07T00:00:00\", \"2008-03-10T00:00:00\", \"2008-03-11T00:00:00\", \"2008-03-12T00:00:00\", \"2008-03-13T00:00:00\", \"2008-03-14T00:00:00\", \"2008-03-17T00:00:00\", \"2008-03-18T00:00:00\", \"2008-03-19T00:00:00\", \"2008-03-20T00:00:00\", \"2008-03-24T00:00:00\", \"2008-03-25T00:00:00\", \"2008-03-26T00:00:00\", \"2008-03-27T00:00:00\", \"2008-03-28T00:00:00\", \"2008-03-31T00:00:00\", \"2008-04-01T00:00:00\", \"2008-04-02T00:00:00\", \"2008-04-03T00:00:00\", \"2008-04-04T00:00:00\", \"2008-04-07T00:00:00\", \"2008-04-08T00:00:00\", \"2008-04-09T00:00:00\", \"2008-04-10T00:00:00\", \"2008-04-11T00:00:00\", \"2008-04-14T00:00:00\", \"2008-04-15T00:00:00\", \"2008-04-16T00:00:00\", \"2008-04-17T00:00:00\", \"2008-04-18T00:00:00\", \"2008-04-21T00:00:00\", \"2008-04-22T00:00:00\", \"2008-04-23T00:00:00\", \"2008-04-24T00:00:00\", \"2008-04-25T00:00:00\", \"2008-04-28T00:00:00\", \"2008-04-29T00:00:00\", \"2008-04-30T00:00:00\", \"2008-05-01T00:00:00\", \"2008-05-02T00:00:00\", \"2008-05-05T00:00:00\", \"2008-05-06T00:00:00\", \"2008-05-07T00:00:00\", \"2008-05-08T00:00:00\", \"2008-05-09T00:00:00\", \"2008-05-12T00:00:00\", \"2008-05-13T00:00:00\", \"2008-05-14T00:00:00\", \"2008-05-15T00:00:00\", \"2008-05-16T00:00:00\", \"2008-05-19T00:00:00\", \"2008-05-20T00:00:00\", \"2008-05-21T00:00:00\", \"2008-05-22T00:00:00\", \"2008-05-23T00:00:00\", \"2008-05-27T00:00:00\", \"2008-05-28T00:00:00\", \"2008-05-29T00:00:00\", \"2008-05-30T00:00:00\", \"2008-06-02T00:00:00\", \"2008-06-03T00:00:00\", \"2008-06-04T00:00:00\", \"2008-06-05T00:00:00\", \"2008-06-06T00:00:00\", \"2008-06-09T00:00:00\", \"2008-06-10T00:00:00\", \"2008-06-11T00:00:00\", \"2008-06-12T00:00:00\", \"2008-06-13T00:00:00\", \"2008-06-16T00:00:00\", \"2008-06-17T00:00:00\", \"2008-06-18T00:00:00\", \"2008-06-19T00:00:00\", \"2008-06-20T00:00:00\", \"2008-06-23T00:00:00\", \"2008-06-24T00:00:00\", \"2008-06-25T00:00:00\", \"2008-06-26T00:00:00\", \"2008-06-27T00:00:00\", \"2008-06-30T00:00:00\", \"2008-07-01T00:00:00\", \"2008-07-02T00:00:00\", \"2008-07-03T00:00:00\", \"2008-07-07T00:00:00\", \"2008-07-08T00:00:00\", \"2008-07-09T00:00:00\", \"2008-07-10T00:00:00\", \"2008-07-11T00:00:00\", \"2008-07-14T00:00:00\", \"2008-07-15T00:00:00\", \"2008-07-16T00:00:00\", \"2008-07-17T00:00:00\", \"2008-07-18T00:00:00\", \"2008-07-21T00:00:00\", \"2008-07-22T00:00:00\", \"2008-07-23T00:00:00\", \"2008-07-24T00:00:00\", \"2008-07-25T00:00:00\", \"2008-07-28T00:00:00\", \"2008-07-29T00:00:00\", \"2008-07-30T00:00:00\", \"2008-07-31T00:00:00\", \"2008-08-01T00:00:00\", \"2008-08-04T00:00:00\", \"2008-08-05T00:00:00\", \"2008-08-06T00:00:00\", \"2008-08-07T00:00:00\", \"2008-08-08T00:00:00\", \"2008-08-11T00:00:00\", \"2008-08-12T00:00:00\", \"2008-08-13T00:00:00\", \"2008-08-14T00:00:00\", \"2008-08-15T00:00:00\", \"2008-08-18T00:00:00\", \"2008-08-19T00:00:00\", \"2008-08-20T00:00:00\", \"2008-08-21T00:00:00\", \"2008-08-22T00:00:00\", \"2008-08-25T00:00:00\", \"2008-08-26T00:00:00\", \"2008-08-27T00:00:00\", \"2008-08-28T00:00:00\", \"2008-08-29T00:00:00\", \"2008-09-02T00:00:00\", \"2008-09-03T00:00:00\", \"2008-09-04T00:00:00\", \"2008-09-05T00:00:00\", \"2008-09-08T00:00:00\", \"2008-09-09T00:00:00\", \"2008-09-10T00:00:00\", \"2008-09-11T00:00:00\", \"2008-09-12T00:00:00\", \"2008-09-15T00:00:00\", \"2008-09-16T00:00:00\", \"2008-09-17T00:00:00\", \"2008-09-18T00:00:00\", \"2008-09-19T00:00:00\", \"2008-09-22T00:00:00\", \"2008-09-23T00:00:00\", \"2008-09-24T00:00:00\", \"2008-09-25T00:00:00\", \"2008-09-26T00:00:00\", \"2008-09-29T00:00:00\", \"2008-09-30T00:00:00\", \"2008-10-01T00:00:00\", \"2008-10-02T00:00:00\", \"2008-10-03T00:00:00\", \"2008-10-06T00:00:00\", \"2008-10-07T00:00:00\", \"2008-10-08T00:00:00\", \"2008-10-09T00:00:00\", \"2008-10-10T00:00:00\", \"2008-10-13T00:00:00\", \"2008-10-14T00:00:00\", \"2008-10-15T00:00:00\", \"2008-10-16T00:00:00\", \"2008-10-17T00:00:00\", \"2008-10-20T00:00:00\", \"2008-10-21T00:00:00\", \"2008-10-22T00:00:00\", \"2008-10-23T00:00:00\", \"2008-10-24T00:00:00\", \"2008-10-27T00:00:00\", \"2008-10-28T00:00:00\", \"2008-10-29T00:00:00\", \"2008-10-30T00:00:00\", \"2008-10-31T00:00:00\", \"2008-11-03T00:00:00\", \"2008-11-04T00:00:00\", \"2008-11-05T00:00:00\", \"2008-11-06T00:00:00\", \"2008-11-07T00:00:00\", \"2008-11-10T00:00:00\", \"2008-11-11T00:00:00\", \"2008-11-12T00:00:00\", \"2008-11-13T00:00:00\", \"2008-11-14T00:00:00\", \"2008-11-17T00:00:00\", \"2008-11-18T00:00:00\", \"2008-11-19T00:00:00\", \"2008-11-20T00:00:00\", \"2008-11-21T00:00:00\", \"2008-11-24T00:00:00\", \"2008-11-25T00:00:00\", \"2008-11-26T00:00:00\", \"2008-11-28T00:00:00\", \"2008-12-01T00:00:00\", \"2008-12-02T00:00:00\", \"2008-12-03T00:00:00\", \"2008-12-04T00:00:00\", \"2008-12-05T00:00:00\", \"2008-12-08T00:00:00\", \"2008-12-09T00:00:00\", \"2008-12-10T00:00:00\", \"2008-12-11T00:00:00\", \"2008-12-12T00:00:00\", \"2008-12-15T00:00:00\", \"2008-12-16T00:00:00\", \"2008-12-17T00:00:00\", \"2008-12-18T00:00:00\", \"2008-12-19T00:00:00\", \"2008-12-22T00:00:00\", \"2008-12-23T00:00:00\", \"2008-12-24T00:00:00\", \"2008-12-26T00:00:00\", \"2008-12-29T00:00:00\", \"2008-12-30T00:00:00\", \"2008-12-31T00:00:00\", \"2009-01-02T00:00:00\", \"2009-01-05T00:00:00\", \"2009-01-06T00:00:00\", \"2009-01-07T00:00:00\", \"2009-01-08T00:00:00\", \"2009-01-09T00:00:00\", \"2009-01-12T00:00:00\", \"2009-01-13T00:00:00\", \"2009-01-14T00:00:00\", \"2009-01-15T00:00:00\", \"2009-01-16T00:00:00\", \"2009-01-20T00:00:00\", \"2009-01-21T00:00:00\", \"2009-01-22T00:00:00\", \"2009-01-23T00:00:00\", \"2009-01-26T00:00:00\", \"2009-01-27T00:00:00\", \"2009-01-28T00:00:00\", \"2009-01-29T00:00:00\", \"2009-01-30T00:00:00\", \"2009-02-02T00:00:00\", \"2009-02-03T00:00:00\", \"2009-02-04T00:00:00\", \"2009-02-05T00:00:00\", \"2009-02-06T00:00:00\", \"2009-02-09T00:00:00\", \"2009-02-10T00:00:00\", \"2009-02-11T00:00:00\", \"2009-02-12T00:00:00\", \"2009-02-13T00:00:00\", \"2009-02-17T00:00:00\", \"2009-02-18T00:00:00\", \"2009-02-19T00:00:00\", \"2009-02-20T00:00:00\", \"2009-02-23T00:00:00\", \"2009-02-24T00:00:00\", \"2009-02-25T00:00:00\", \"2009-02-26T00:00:00\", \"2009-02-27T00:00:00\", \"2009-03-02T00:00:00\", \"2009-03-03T00:00:00\", \"2009-03-04T00:00:00\", \"2009-03-05T00:00:00\", \"2009-03-06T00:00:00\", \"2009-03-09T00:00:00\", \"2009-03-10T00:00:00\", \"2009-03-11T00:00:00\", \"2009-03-12T00:00:00\", \"2009-03-13T00:00:00\", \"2009-03-16T00:00:00\", \"2009-03-17T00:00:00\", \"2009-03-18T00:00:00\", \"2009-03-19T00:00:00\", \"2009-03-20T00:00:00\", \"2009-03-23T00:00:00\", \"2009-03-24T00:00:00\", \"2009-03-25T00:00:00\", \"2009-03-26T00:00:00\", \"2009-03-27T00:00:00\", \"2009-03-30T00:00:00\", \"2009-03-31T00:00:00\", \"2009-04-01T00:00:00\", \"2009-04-02T00:00:00\", \"2009-04-03T00:00:00\", \"2009-04-06T00:00:00\", \"2009-04-07T00:00:00\", \"2009-04-08T00:00:00\", \"2009-04-09T00:00:00\", \"2009-04-13T00:00:00\", \"2009-04-14T00:00:00\", \"2009-04-15T00:00:00\", \"2009-04-16T00:00:00\", \"2009-04-17T00:00:00\", \"2009-04-20T00:00:00\", \"2009-04-21T00:00:00\", \"2009-04-22T00:00:00\", \"2009-04-23T00:00:00\", \"2009-04-24T00:00:00\", \"2009-04-27T00:00:00\", \"2009-04-28T00:00:00\", \"2009-04-29T00:00:00\", \"2009-04-30T00:00:00\", \"2009-05-01T00:00:00\", \"2009-05-04T00:00:00\", \"2009-05-05T00:00:00\", \"2009-05-06T00:00:00\", \"2009-05-07T00:00:00\", \"2009-05-08T00:00:00\", \"2009-05-11T00:00:00\", \"2009-05-12T00:00:00\", \"2009-05-13T00:00:00\", \"2009-05-14T00:00:00\", \"2009-05-15T00:00:00\", \"2009-05-18T00:00:00\", \"2009-05-19T00:00:00\", \"2009-05-20T00:00:00\", \"2009-05-21T00:00:00\", \"2009-05-22T00:00:00\", \"2009-05-26T00:00:00\", \"2009-05-27T00:00:00\", \"2009-05-28T00:00:00\", \"2009-05-29T00:00:00\", \"2009-06-01T00:00:00\", \"2009-06-02T00:00:00\", \"2009-06-03T00:00:00\", \"2009-06-04T00:00:00\", \"2009-06-05T00:00:00\", \"2009-06-08T00:00:00\", \"2009-06-09T00:00:00\", \"2009-06-10T00:00:00\", \"2009-06-11T00:00:00\", \"2009-06-12T00:00:00\", \"2009-06-15T00:00:00\", \"2009-06-16T00:00:00\", \"2009-06-17T00:00:00\", \"2009-06-18T00:00:00\", \"2009-06-19T00:00:00\", \"2009-06-22T00:00:00\", \"2009-06-23T00:00:00\", \"2009-06-24T00:00:00\", \"2009-06-25T00:00:00\", \"2009-06-26T00:00:00\", \"2009-06-29T00:00:00\", \"2009-06-30T00:00:00\", \"2009-07-01T00:00:00\", \"2009-07-02T00:00:00\", \"2009-07-06T00:00:00\", \"2009-07-07T00:00:00\", \"2009-07-08T00:00:00\", \"2009-07-09T00:00:00\", \"2009-07-10T00:00:00\", \"2009-07-13T00:00:00\", \"2009-07-14T00:00:00\", \"2009-07-15T00:00:00\", \"2009-07-16T00:00:00\", \"2009-07-17T00:00:00\", \"2009-07-20T00:00:00\", \"2009-07-21T00:00:00\", \"2009-07-22T00:00:00\", \"2009-07-23T00:00:00\", \"2009-07-24T00:00:00\", \"2009-07-27T00:00:00\", \"2009-07-28T00:00:00\", \"2009-07-29T00:00:00\", \"2009-07-30T00:00:00\", \"2009-07-31T00:00:00\", \"2009-08-03T00:00:00\", \"2009-08-04T00:00:00\", \"2009-08-05T00:00:00\", \"2009-08-06T00:00:00\", \"2009-08-07T00:00:00\", \"2009-08-10T00:00:00\", \"2009-08-11T00:00:00\", \"2009-08-12T00:00:00\", \"2009-08-13T00:00:00\", \"2009-08-14T00:00:00\", \"2009-08-17T00:00:00\", \"2009-08-18T00:00:00\", \"2009-08-19T00:00:00\", \"2009-08-20T00:00:00\", \"2009-08-21T00:00:00\", \"2009-08-24T00:00:00\", \"2009-08-25T00:00:00\", \"2009-08-26T00:00:00\", \"2009-08-27T00:00:00\", \"2009-08-28T00:00:00\", \"2009-08-31T00:00:00\", \"2009-09-01T00:00:00\", \"2009-09-02T00:00:00\", \"2009-09-03T00:00:00\", \"2009-09-04T00:00:00\", \"2009-09-08T00:00:00\", \"2009-09-09T00:00:00\", \"2009-09-10T00:00:00\", \"2009-09-11T00:00:00\", \"2009-09-14T00:00:00\", \"2009-09-15T00:00:00\", \"2009-09-16T00:00:00\", \"2009-09-17T00:00:00\", \"2009-09-18T00:00:00\", \"2009-09-21T00:00:00\", \"2009-09-22T00:00:00\", \"2009-09-23T00:00:00\", \"2009-09-24T00:00:00\", \"2009-09-25T00:00:00\", \"2009-09-28T00:00:00\", \"2009-09-29T00:00:00\", \"2009-09-30T00:00:00\", \"2009-10-01T00:00:00\", \"2009-10-02T00:00:00\", \"2009-10-05T00:00:00\", \"2009-10-06T00:00:00\", \"2009-10-07T00:00:00\", \"2009-10-08T00:00:00\", \"2009-10-09T00:00:00\", \"2009-10-12T00:00:00\", \"2009-10-13T00:00:00\", \"2009-10-14T00:00:00\", \"2009-10-15T00:00:00\", \"2009-10-16T00:00:00\", \"2009-10-19T00:00:00\", \"2009-10-20T00:00:00\", \"2009-10-21T00:00:00\", \"2009-10-22T00:00:00\", \"2009-10-23T00:00:00\", \"2009-10-26T00:00:00\", \"2009-10-27T00:00:00\", \"2009-10-28T00:00:00\", \"2009-10-29T00:00:00\", \"2009-10-30T00:00:00\", \"2009-11-02T00:00:00\", \"2009-11-03T00:00:00\", \"2009-11-04T00:00:00\", \"2009-11-05T00:00:00\", \"2009-11-06T00:00:00\", \"2009-11-09T00:00:00\", \"2009-11-10T00:00:00\", \"2009-11-11T00:00:00\", \"2009-11-12T00:00:00\", \"2009-11-13T00:00:00\", \"2009-11-16T00:00:00\", \"2009-11-17T00:00:00\", \"2009-11-18T00:00:00\", \"2009-11-19T00:00:00\", \"2009-11-20T00:00:00\", \"2009-11-23T00:00:00\", \"2009-11-24T00:00:00\", \"2009-11-25T00:00:00\", \"2009-11-27T00:00:00\", \"2009-11-30T00:00:00\", \"2009-12-01T00:00:00\", \"2009-12-02T00:00:00\", \"2009-12-03T00:00:00\", \"2009-12-04T00:00:00\", \"2009-12-07T00:00:00\", \"2009-12-08T00:00:00\", \"2009-12-09T00:00:00\", \"2009-12-10T00:00:00\", \"2009-12-11T00:00:00\", \"2009-12-14T00:00:00\", \"2009-12-15T00:00:00\", \"2009-12-16T00:00:00\", \"2009-12-17T00:00:00\", \"2009-12-18T00:00:00\", \"2009-12-21T00:00:00\", \"2009-12-22T00:00:00\", \"2009-12-23T00:00:00\", \"2009-12-24T00:00:00\", \"2009-12-28T00:00:00\", \"2009-12-29T00:00:00\", \"2009-12-30T00:00:00\", \"2009-12-31T00:00:00\", \"2010-01-04T00:00:00\", \"2010-01-05T00:00:00\", \"2010-01-06T00:00:00\", \"2010-01-07T00:00:00\", \"2010-01-08T00:00:00\", \"2010-01-11T00:00:00\", \"2010-01-12T00:00:00\", \"2010-01-13T00:00:00\", \"2010-01-14T00:00:00\", \"2010-01-15T00:00:00\", \"2010-01-19T00:00:00\", \"2010-01-20T00:00:00\", \"2010-01-21T00:00:00\", \"2010-01-22T00:00:00\", \"2010-01-25T00:00:00\", \"2010-01-26T00:00:00\", \"2010-01-27T00:00:00\", \"2010-01-28T00:00:00\", \"2010-01-29T00:00:00\", \"2010-02-01T00:00:00\", \"2010-02-02T00:00:00\", \"2010-02-03T00:00:00\", \"2010-02-04T00:00:00\", \"2010-02-05T00:00:00\", \"2010-02-08T00:00:00\", \"2010-02-09T00:00:00\", \"2010-02-10T00:00:00\", \"2010-02-11T00:00:00\", \"2010-02-12T00:00:00\", \"2010-02-16T00:00:00\", \"2010-02-17T00:00:00\", \"2010-02-18T00:00:00\", \"2010-02-19T00:00:00\", \"2010-02-22T00:00:00\", \"2010-02-23T00:00:00\", \"2010-02-24T00:00:00\", \"2010-02-25T00:00:00\", \"2010-02-26T00:00:00\", \"2010-03-01T00:00:00\", \"2010-03-02T00:00:00\", \"2010-03-03T00:00:00\", \"2010-03-04T00:00:00\", \"2010-03-05T00:00:00\", \"2010-03-08T00:00:00\", \"2010-03-09T00:00:00\", \"2010-03-10T00:00:00\", \"2010-03-11T00:00:00\", \"2010-03-12T00:00:00\", \"2010-03-15T00:00:00\", \"2010-03-16T00:00:00\", \"2010-03-17T00:00:00\", \"2010-03-18T00:00:00\", \"2010-03-19T00:00:00\", \"2010-03-22T00:00:00\", \"2010-03-23T00:00:00\", \"2010-03-24T00:00:00\", \"2010-03-25T00:00:00\", \"2010-03-26T00:00:00\", \"2010-03-29T00:00:00\", \"2010-03-30T00:00:00\", \"2010-03-31T00:00:00\", \"2010-04-01T00:00:00\", \"2010-04-05T00:00:00\", \"2010-04-06T00:00:00\", \"2010-04-07T00:00:00\", \"2010-04-08T00:00:00\", \"2010-04-09T00:00:00\", \"2010-04-12T00:00:00\", \"2010-04-13T00:00:00\", \"2010-04-14T00:00:00\", \"2010-04-15T00:00:00\", \"2010-04-16T00:00:00\", \"2010-04-19T00:00:00\", \"2010-04-20T00:00:00\", \"2010-04-21T00:00:00\", \"2010-04-22T00:00:00\", \"2010-04-23T00:00:00\", \"2010-04-26T00:00:00\", \"2010-04-27T00:00:00\", \"2010-04-28T00:00:00\", \"2010-04-29T00:00:00\", \"2010-04-30T00:00:00\", \"2010-05-03T00:00:00\", \"2010-05-04T00:00:00\", \"2010-05-05T00:00:00\", \"2010-05-06T00:00:00\", \"2010-05-07T00:00:00\", \"2010-05-10T00:00:00\", \"2010-05-11T00:00:00\", \"2010-05-12T00:00:00\", \"2010-05-13T00:00:00\", \"2010-05-14T00:00:00\", \"2010-05-17T00:00:00\", \"2010-05-18T00:00:00\", \"2010-05-19T00:00:00\", \"2010-05-20T00:00:00\", \"2010-05-21T00:00:00\", \"2010-05-24T00:00:00\", \"2010-05-25T00:00:00\", \"2010-05-26T00:00:00\", \"2010-05-27T00:00:00\", \"2010-05-28T00:00:00\", \"2010-06-01T00:00:00\", \"2010-06-02T00:00:00\", \"2010-06-03T00:00:00\", \"2010-06-04T00:00:00\", \"2010-06-07T00:00:00\", \"2010-06-08T00:00:00\", \"2010-06-09T00:00:00\", \"2010-06-10T00:00:00\", \"2010-06-11T00:00:00\", \"2010-06-14T00:00:00\", \"2010-06-15T00:00:00\", \"2010-06-16T00:00:00\", \"2010-06-17T00:00:00\", \"2010-06-18T00:00:00\", \"2010-06-21T00:00:00\", \"2010-06-22T00:00:00\", \"2010-06-23T00:00:00\", \"2010-06-24T00:00:00\", \"2010-06-25T00:00:00\", \"2010-06-28T00:00:00\", \"2010-06-29T00:00:00\", \"2010-06-30T00:00:00\", \"2010-07-01T00:00:00\", \"2010-07-02T00:00:00\", \"2010-07-06T00:00:00\", \"2010-07-07T00:00:00\", \"2010-07-08T00:00:00\", \"2010-07-09T00:00:00\", \"2010-07-12T00:00:00\", \"2010-07-13T00:00:00\", \"2010-07-14T00:00:00\", \"2010-07-15T00:00:00\", \"2010-07-16T00:00:00\", \"2010-07-19T00:00:00\", \"2010-07-20T00:00:00\", \"2010-07-21T00:00:00\", \"2010-07-22T00:00:00\", \"2010-07-23T00:00:00\", \"2010-07-26T00:00:00\", \"2010-07-27T00:00:00\", \"2010-07-28T00:00:00\", \"2010-07-29T00:00:00\", \"2010-07-30T00:00:00\", \"2010-08-02T00:00:00\", \"2010-08-03T00:00:00\", \"2010-08-04T00:00:00\", \"2010-08-05T00:00:00\", \"2010-08-06T00:00:00\", \"2010-08-09T00:00:00\", \"2010-08-10T00:00:00\", \"2010-08-11T00:00:00\", \"2010-08-12T00:00:00\", \"2010-08-13T00:00:00\", \"2010-08-16T00:00:00\", \"2010-08-17T00:00:00\", \"2010-08-18T00:00:00\", \"2010-08-19T00:00:00\", \"2010-08-20T00:00:00\", \"2010-08-23T00:00:00\", \"2010-08-24T00:00:00\", \"2010-08-25T00:00:00\", \"2010-08-26T00:00:00\", \"2010-08-27T00:00:00\", \"2010-08-30T00:00:00\", \"2010-08-31T00:00:00\", \"2010-09-01T00:00:00\", \"2010-09-02T00:00:00\", \"2010-09-03T00:00:00\", \"2010-09-07T00:00:00\", \"2010-09-08T00:00:00\", \"2010-09-09T00:00:00\", \"2010-09-10T00:00:00\", \"2010-09-13T00:00:00\", \"2010-09-14T00:00:00\", \"2010-09-15T00:00:00\", \"2010-09-16T00:00:00\", \"2010-09-17T00:00:00\", \"2010-09-20T00:00:00\", \"2010-09-21T00:00:00\", \"2010-09-22T00:00:00\", \"2010-09-23T00:00:00\", \"2010-09-24T00:00:00\", \"2010-09-27T00:00:00\", \"2010-09-28T00:00:00\", \"2010-09-29T00:00:00\", \"2010-09-30T00:00:00\", \"2010-10-01T00:00:00\", \"2010-10-04T00:00:00\", \"2010-10-05T00:00:00\", \"2010-10-06T00:00:00\", \"2010-10-07T00:00:00\", \"2010-10-08T00:00:00\", \"2010-10-11T00:00:00\", \"2010-10-12T00:00:00\", \"2010-10-13T00:00:00\", \"2010-10-14T00:00:00\", \"2010-10-15T00:00:00\", \"2010-10-18T00:00:00\", \"2010-10-19T00:00:00\", \"2010-10-20T00:00:00\", \"2010-10-21T00:00:00\", \"2010-10-22T00:00:00\", \"2010-10-25T00:00:00\", \"2010-10-26T00:00:00\", \"2010-10-27T00:00:00\", \"2010-10-28T00:00:00\", \"2010-10-29T00:00:00\", \"2010-11-01T00:00:00\", \"2010-11-02T00:00:00\", \"2010-11-03T00:00:00\", \"2010-11-04T00:00:00\", \"2010-11-05T00:00:00\", \"2010-11-08T00:00:00\", \"2010-11-09T00:00:00\", \"2010-11-10T00:00:00\", \"2010-11-11T00:00:00\", \"2010-11-12T00:00:00\", \"2010-11-15T00:00:00\", \"2010-11-16T00:00:00\", \"2010-11-17T00:00:00\", \"2010-11-18T00:00:00\", \"2010-11-19T00:00:00\", \"2010-11-22T00:00:00\", \"2010-11-23T00:00:00\", \"2010-11-24T00:00:00\", \"2010-11-26T00:00:00\", \"2010-11-29T00:00:00\", \"2010-11-30T00:00:00\", \"2010-12-01T00:00:00\", \"2010-12-02T00:00:00\", \"2010-12-03T00:00:00\", \"2010-12-06T00:00:00\", \"2010-12-07T00:00:00\", \"2010-12-08T00:00:00\", \"2010-12-09T00:00:00\", \"2010-12-10T00:00:00\", \"2010-12-13T00:00:00\", \"2010-12-14T00:00:00\", \"2010-12-15T00:00:00\", \"2010-12-16T00:00:00\", \"2010-12-17T00:00:00\", \"2010-12-20T00:00:00\", \"2010-12-21T00:00:00\", \"2010-12-22T00:00:00\", \"2010-12-23T00:00:00\", \"2010-12-27T00:00:00\", \"2010-12-28T00:00:00\", \"2010-12-29T00:00:00\", \"2010-12-30T00:00:00\", \"2010-12-31T00:00:00\", \"2011-01-03T00:00:00\", \"2011-01-04T00:00:00\", \"2011-01-05T00:00:00\", \"2011-01-06T00:00:00\", \"2011-01-07T00:00:00\", \"2011-01-10T00:00:00\", \"2011-01-11T00:00:00\", \"2011-01-12T00:00:00\", \"2011-01-13T00:00:00\", \"2011-01-14T00:00:00\", \"2011-01-18T00:00:00\", \"2011-01-19T00:00:00\", \"2011-01-20T00:00:00\", \"2011-01-21T00:00:00\", \"2011-01-24T00:00:00\", \"2011-01-25T00:00:00\", \"2011-01-26T00:00:00\", \"2011-01-27T00:00:00\", \"2011-01-28T00:00:00\", \"2011-01-31T00:00:00\", \"2011-02-01T00:00:00\", \"2011-02-02T00:00:00\", \"2011-02-03T00:00:00\", \"2011-02-04T00:00:00\", \"2011-02-07T00:00:00\", \"2011-02-08T00:00:00\", \"2011-02-09T00:00:00\", \"2011-02-10T00:00:00\", \"2011-02-11T00:00:00\", \"2011-02-14T00:00:00\", \"2011-02-15T00:00:00\", \"2011-02-16T00:00:00\", \"2011-02-17T00:00:00\", \"2011-02-18T00:00:00\", \"2011-02-22T00:00:00\", \"2011-02-23T00:00:00\", \"2011-02-24T00:00:00\", \"2011-02-25T00:00:00\", \"2011-02-28T00:00:00\", \"2011-03-01T00:00:00\", \"2011-03-02T00:00:00\", \"2011-03-03T00:00:00\", \"2011-03-04T00:00:00\", \"2011-03-07T00:00:00\", \"2011-03-08T00:00:00\", \"2011-03-09T00:00:00\", \"2011-03-10T00:00:00\", \"2011-03-11T00:00:00\", \"2011-03-14T00:00:00\", \"2011-03-15T00:00:00\", \"2011-03-16T00:00:00\", \"2011-03-17T00:00:00\", \"2011-03-18T00:00:00\", \"2011-03-21T00:00:00\", \"2011-03-22T00:00:00\", \"2011-03-23T00:00:00\", \"2011-03-24T00:00:00\", \"2011-03-25T00:00:00\", \"2011-03-28T00:00:00\", \"2011-03-29T00:00:00\", \"2011-03-30T00:00:00\", \"2011-03-31T00:00:00\", \"2011-04-01T00:00:00\", \"2011-04-04T00:00:00\", \"2011-04-05T00:00:00\", \"2011-04-06T00:00:00\", \"2011-04-07T00:00:00\", \"2011-04-08T00:00:00\", \"2011-04-11T00:00:00\", \"2011-04-12T00:00:00\", \"2011-04-13T00:00:00\", \"2011-04-14T00:00:00\", \"2011-04-15T00:00:00\", \"2011-04-18T00:00:00\", \"2011-04-19T00:00:00\", \"2011-04-20T00:00:00\", \"2011-04-21T00:00:00\", \"2011-04-25T00:00:00\", \"2011-04-26T00:00:00\", \"2011-04-27T00:00:00\", \"2011-04-28T00:00:00\", \"2011-04-29T00:00:00\", \"2011-05-02T00:00:00\", \"2011-05-03T00:00:00\", \"2011-05-04T00:00:00\", \"2011-05-05T00:00:00\", \"2011-05-06T00:00:00\", \"2011-05-09T00:00:00\", \"2011-05-10T00:00:00\", \"2011-05-11T00:00:00\", \"2011-05-12T00:00:00\", \"2011-05-13T00:00:00\", \"2011-05-16T00:00:00\", \"2011-05-17T00:00:00\", \"2011-05-18T00:00:00\", \"2011-05-19T00:00:00\", \"2011-05-20T00:00:00\", \"2011-05-23T00:00:00\", \"2011-05-24T00:00:00\", \"2011-05-25T00:00:00\", \"2011-05-26T00:00:00\", \"2011-05-27T00:00:00\", \"2011-05-31T00:00:00\", \"2011-06-01T00:00:00\", \"2011-06-02T00:00:00\", \"2011-06-03T00:00:00\", \"2011-06-06T00:00:00\", \"2011-06-07T00:00:00\", \"2011-06-08T00:00:00\", \"2011-06-09T00:00:00\", \"2011-06-10T00:00:00\", \"2011-06-13T00:00:00\", \"2011-06-14T00:00:00\", \"2011-06-15T00:00:00\", \"2011-06-16T00:00:00\", \"2011-06-17T00:00:00\", \"2011-06-20T00:00:00\", \"2011-06-21T00:00:00\", \"2011-06-22T00:00:00\", \"2011-06-23T00:00:00\", \"2011-06-24T00:00:00\", \"2011-06-27T00:00:00\", \"2011-06-28T00:00:00\", \"2011-06-29T00:00:00\", \"2011-06-30T00:00:00\", \"2011-07-01T00:00:00\", \"2011-07-05T00:00:00\", \"2011-07-06T00:00:00\", \"2011-07-07T00:00:00\", \"2011-07-08T00:00:00\", \"2011-07-11T00:00:00\", \"2011-07-12T00:00:00\", \"2011-07-13T00:00:00\", \"2011-07-14T00:00:00\", \"2011-07-15T00:00:00\", \"2011-07-18T00:00:00\", \"2011-07-19T00:00:00\", \"2011-07-20T00:00:00\", \"2011-07-21T00:00:00\", \"2011-07-22T00:00:00\", \"2011-07-25T00:00:00\", \"2011-07-26T00:00:00\", \"2011-07-27T00:00:00\", \"2011-07-28T00:00:00\", \"2011-07-29T00:00:00\", \"2011-08-01T00:00:00\", \"2011-08-02T00:00:00\", \"2011-08-03T00:00:00\", \"2011-08-04T00:00:00\", \"2011-08-05T00:00:00\", \"2011-08-08T00:00:00\", \"2011-08-09T00:00:00\", \"2011-08-10T00:00:00\", \"2011-08-11T00:00:00\", \"2011-08-12T00:00:00\", \"2011-08-15T00:00:00\", \"2011-08-16T00:00:00\", \"2011-08-17T00:00:00\", \"2011-08-18T00:00:00\", \"2011-08-19T00:00:00\", \"2011-08-22T00:00:00\", \"2011-08-23T00:00:00\", \"2011-08-24T00:00:00\", \"2011-08-25T00:00:00\", \"2011-08-26T00:00:00\", \"2011-08-29T00:00:00\", \"2011-08-30T00:00:00\", \"2011-08-31T00:00:00\", \"2011-09-01T00:00:00\", \"2011-09-02T00:00:00\", \"2011-09-06T00:00:00\", \"2011-09-07T00:00:00\", \"2011-09-08T00:00:00\", \"2011-09-09T00:00:00\", \"2011-09-12T00:00:00\", \"2011-09-13T00:00:00\", \"2011-09-14T00:00:00\", \"2011-09-15T00:00:00\", \"2011-09-16T00:00:00\", \"2011-09-19T00:00:00\", \"2011-09-20T00:00:00\", \"2011-09-21T00:00:00\", \"2011-09-22T00:00:00\", \"2011-09-23T00:00:00\", \"2011-09-26T00:00:00\", \"2011-09-27T00:00:00\", \"2011-09-28T00:00:00\", \"2011-09-29T00:00:00\", \"2011-09-30T00:00:00\", \"2011-10-03T00:00:00\", \"2011-10-04T00:00:00\", \"2011-10-05T00:00:00\", \"2011-10-06T00:00:00\", \"2011-10-07T00:00:00\", \"2011-10-10T00:00:00\", \"2011-10-11T00:00:00\", \"2011-10-12T00:00:00\", \"2011-10-13T00:00:00\", \"2011-10-14T00:00:00\", \"2011-10-17T00:00:00\", \"2011-10-18T00:00:00\", \"2011-10-19T00:00:00\", \"2011-10-20T00:00:00\", \"2011-10-21T00:00:00\", \"2011-10-24T00:00:00\", \"2011-10-25T00:00:00\", \"2011-10-26T00:00:00\", \"2011-10-27T00:00:00\", \"2011-10-28T00:00:00\", \"2011-10-31T00:00:00\", \"2011-11-01T00:00:00\", \"2011-11-02T00:00:00\", \"2011-11-03T00:00:00\", \"2011-11-04T00:00:00\", \"2011-11-07T00:00:00\", \"2011-11-08T00:00:00\", \"2011-11-09T00:00:00\", \"2011-11-10T00:00:00\", \"2011-11-11T00:00:00\", \"2011-11-14T00:00:00\", \"2011-11-15T00:00:00\", \"2011-11-16T00:00:00\", \"2011-11-17T00:00:00\", \"2011-11-18T00:00:00\", \"2011-11-21T00:00:00\", \"2011-11-22T00:00:00\", \"2011-11-23T00:00:00\", \"2011-11-25T00:00:00\", \"2011-11-28T00:00:00\", \"2011-11-29T00:00:00\", \"2011-11-30T00:00:00\", \"2011-12-01T00:00:00\", \"2011-12-02T00:00:00\", \"2011-12-05T00:00:00\", \"2011-12-06T00:00:00\", \"2011-12-07T00:00:00\", \"2011-12-08T00:00:00\", \"2011-12-09T00:00:00\", \"2011-12-12T00:00:00\", \"2011-12-13T00:00:00\", \"2011-12-14T00:00:00\", \"2011-12-15T00:00:00\", \"2011-12-16T00:00:00\", \"2011-12-19T00:00:00\", \"2011-12-20T00:00:00\", \"2011-12-21T00:00:00\", \"2011-12-22T00:00:00\", \"2011-12-23T00:00:00\", \"2011-12-27T00:00:00\", \"2011-12-28T00:00:00\", \"2011-12-29T00:00:00\", \"2011-12-30T00:00:00\", \"2012-01-03T00:00:00\", \"2012-01-04T00:00:00\", \"2012-01-05T00:00:00\", \"2012-01-06T00:00:00\", \"2012-01-09T00:00:00\", \"2012-01-10T00:00:00\", \"2012-01-11T00:00:00\", \"2012-01-12T00:00:00\", \"2012-01-13T00:00:00\", \"2012-01-17T00:00:00\", \"2012-01-18T00:00:00\", \"2012-01-19T00:00:00\", \"2012-01-20T00:00:00\", \"2012-01-23T00:00:00\", \"2012-01-24T00:00:00\", \"2012-01-25T00:00:00\", \"2012-01-26T00:00:00\", \"2012-01-27T00:00:00\", \"2012-01-30T00:00:00\", \"2012-01-31T00:00:00\", \"2012-02-01T00:00:00\", \"2012-02-02T00:00:00\", \"2012-02-03T00:00:00\", \"2012-02-06T00:00:00\", \"2012-02-07T00:00:00\", \"2012-02-08T00:00:00\", \"2012-02-09T00:00:00\", \"2012-02-10T00:00:00\", \"2012-02-13T00:00:00\", \"2012-02-14T00:00:00\", \"2012-02-15T00:00:00\", \"2012-02-16T00:00:00\", \"2012-02-17T00:00:00\", \"2012-02-21T00:00:00\", \"2012-02-22T00:00:00\", \"2012-02-23T00:00:00\", \"2012-02-24T00:00:00\", \"2012-02-27T00:00:00\", \"2012-02-28T00:00:00\", \"2012-02-29T00:00:00\", \"2012-03-01T00:00:00\", \"2012-03-02T00:00:00\", \"2012-03-05T00:00:00\", \"2012-03-06T00:00:00\", \"2012-03-07T00:00:00\", \"2012-03-08T00:00:00\", \"2012-03-09T00:00:00\", \"2012-03-12T00:00:00\", \"2012-03-13T00:00:00\", \"2012-03-14T00:00:00\", \"2012-03-15T00:00:00\", \"2012-03-16T00:00:00\", \"2012-03-19T00:00:00\", \"2012-03-20T00:00:00\", \"2012-03-21T00:00:00\", \"2012-03-22T00:00:00\", \"2012-03-23T00:00:00\", \"2012-03-26T00:00:00\", \"2012-03-27T00:00:00\", \"2012-03-28T00:00:00\", \"2012-03-29T00:00:00\", \"2012-03-30T00:00:00\", \"2012-04-02T00:00:00\", \"2012-04-03T00:00:00\", \"2012-04-04T00:00:00\", \"2012-04-05T00:00:00\", \"2012-04-09T00:00:00\", \"2012-04-10T00:00:00\", \"2012-04-11T00:00:00\", \"2012-04-12T00:00:00\", \"2012-04-13T00:00:00\", \"2012-04-16T00:00:00\", \"2012-04-17T00:00:00\", \"2012-04-18T00:00:00\", \"2012-04-19T00:00:00\", \"2012-04-20T00:00:00\", \"2012-04-23T00:00:00\", \"2012-04-24T00:00:00\", \"2012-04-25T00:00:00\", \"2012-04-26T00:00:00\", \"2012-04-27T00:00:00\", \"2012-04-30T00:00:00\", \"2012-05-01T00:00:00\", \"2012-05-02T00:00:00\", \"2012-05-03T00:00:00\", \"2012-05-04T00:00:00\", \"2012-05-07T00:00:00\", \"2012-05-08T00:00:00\", \"2012-05-09T00:00:00\", \"2012-05-10T00:00:00\", \"2012-05-11T00:00:00\", \"2012-05-14T00:00:00\", \"2012-05-15T00:00:00\", \"2012-05-16T00:00:00\", \"2012-05-17T00:00:00\", \"2012-05-18T00:00:00\", \"2012-05-21T00:00:00\", \"2012-05-22T00:00:00\", \"2012-05-23T00:00:00\", \"2012-05-24T00:00:00\", \"2012-05-25T00:00:00\", \"2012-05-29T00:00:00\", \"2012-05-30T00:00:00\", \"2012-05-31T00:00:00\", \"2012-06-01T00:00:00\", \"2012-06-04T00:00:00\", \"2012-06-05T00:00:00\", \"2012-06-06T00:00:00\", \"2012-06-07T00:00:00\", \"2012-06-08T00:00:00\", \"2012-06-11T00:00:00\", \"2012-06-12T00:00:00\", \"2012-06-13T00:00:00\", \"2012-06-14T00:00:00\", \"2012-06-15T00:00:00\", \"2012-06-18T00:00:00\", \"2012-06-19T00:00:00\", \"2012-06-20T00:00:00\", \"2012-06-21T00:00:00\", \"2012-06-22T00:00:00\", \"2012-06-25T00:00:00\", \"2012-06-26T00:00:00\", \"2012-06-27T00:00:00\", \"2012-06-28T00:00:00\", \"2012-06-29T00:00:00\", \"2012-07-02T00:00:00\", \"2012-07-03T00:00:00\", \"2012-07-05T00:00:00\", \"2012-07-06T00:00:00\", \"2012-07-09T00:00:00\", \"2012-07-10T00:00:00\", \"2012-07-11T00:00:00\", \"2012-07-12T00:00:00\", \"2012-07-13T00:00:00\", \"2012-07-16T00:00:00\", \"2012-07-17T00:00:00\", \"2012-07-18T00:00:00\", \"2012-07-19T00:00:00\", \"2012-07-20T00:00:00\", \"2012-07-23T00:00:00\", \"2012-07-24T00:00:00\", \"2012-07-25T00:00:00\", \"2012-07-26T00:00:00\", \"2012-07-27T00:00:00\", \"2012-07-30T00:00:00\", \"2012-07-31T00:00:00\", \"2012-08-01T00:00:00\", \"2012-08-02T00:00:00\", \"2012-08-03T00:00:00\", \"2012-08-06T00:00:00\", \"2012-08-07T00:00:00\", \"2012-08-08T00:00:00\", \"2012-08-09T00:00:00\", \"2012-08-10T00:00:00\", \"2012-08-13T00:00:00\", \"2012-08-14T00:00:00\", \"2012-08-15T00:00:00\", \"2012-08-16T00:00:00\", \"2012-08-17T00:00:00\", \"2012-08-20T00:00:00\", \"2012-08-21T00:00:00\", \"2012-08-22T00:00:00\", \"2012-08-23T00:00:00\", \"2012-08-24T00:00:00\", \"2012-08-27T00:00:00\", \"2012-08-28T00:00:00\", \"2012-08-29T00:00:00\", \"2012-08-30T00:00:00\", \"2012-08-31T00:00:00\", \"2012-09-04T00:00:00\", \"2012-09-05T00:00:00\", \"2012-09-06T00:00:00\", \"2012-09-07T00:00:00\", \"2012-09-10T00:00:00\", \"2012-09-11T00:00:00\", \"2012-09-12T00:00:00\", \"2012-09-13T00:00:00\", \"2012-09-14T00:00:00\", \"2012-09-17T00:00:00\", \"2012-09-18T00:00:00\", \"2012-09-19T00:00:00\", \"2012-09-20T00:00:00\", \"2012-09-21T00:00:00\", \"2012-09-24T00:00:00\", \"2012-09-25T00:00:00\", \"2012-09-26T00:00:00\", \"2012-09-27T00:00:00\", \"2012-09-28T00:00:00\", \"2012-10-01T00:00:00\", \"2012-10-02T00:00:00\", \"2012-10-03T00:00:00\", \"2012-10-04T00:00:00\", \"2012-10-05T00:00:00\", \"2012-10-08T00:00:00\", \"2012-10-09T00:00:00\", \"2012-10-10T00:00:00\", \"2012-10-11T00:00:00\", \"2012-10-12T00:00:00\", \"2012-10-15T00:00:00\", \"2012-10-16T00:00:00\", \"2012-10-17T00:00:00\", \"2012-10-18T00:00:00\", \"2012-10-19T00:00:00\", \"2012-10-22T00:00:00\", \"2012-10-23T00:00:00\", \"2012-10-24T00:00:00\", \"2012-10-25T00:00:00\", \"2012-10-26T00:00:00\", \"2012-10-31T00:00:00\", \"2012-11-01T00:00:00\", \"2012-11-02T00:00:00\", \"2012-11-05T00:00:00\", \"2012-11-06T00:00:00\", \"2012-11-07T00:00:00\", \"2012-11-08T00:00:00\", \"2012-11-09T00:00:00\", \"2012-11-12T00:00:00\", \"2012-11-13T00:00:00\", \"2012-11-14T00:00:00\", \"2012-11-15T00:00:00\", \"2012-11-16T00:00:00\", \"2012-11-19T00:00:00\", \"2012-11-20T00:00:00\", \"2012-11-21T00:00:00\", \"2012-11-23T00:00:00\", \"2012-11-26T00:00:00\", \"2012-11-27T00:00:00\", \"2012-11-28T00:00:00\", \"2012-11-29T00:00:00\", \"2012-11-30T00:00:00\", \"2012-12-03T00:00:00\", \"2012-12-04T00:00:00\", \"2012-12-05T00:00:00\", \"2012-12-06T00:00:00\", \"2012-12-07T00:00:00\", \"2012-12-10T00:00:00\", \"2012-12-11T00:00:00\", \"2012-12-12T00:00:00\", \"2012-12-13T00:00:00\", \"2012-12-14T00:00:00\", \"2012-12-17T00:00:00\", \"2012-12-18T00:00:00\", \"2012-12-19T00:00:00\", \"2012-12-20T00:00:00\", \"2012-12-21T00:00:00\", \"2012-12-24T00:00:00\", \"2012-12-26T00:00:00\", \"2012-12-27T00:00:00\", \"2012-12-28T00:00:00\", \"2012-12-31T00:00:00\", \"2013-01-02T00:00:00\", \"2013-01-03T00:00:00\", \"2013-01-04T00:00:00\", \"2013-01-07T00:00:00\", \"2013-01-08T00:00:00\", \"2013-01-09T00:00:00\", \"2013-01-10T00:00:00\", \"2013-01-11T00:00:00\", \"2013-01-14T00:00:00\", \"2013-01-15T00:00:00\", \"2013-01-16T00:00:00\", \"2013-01-17T00:00:00\", \"2013-01-18T00:00:00\", \"2013-01-22T00:00:00\", \"2013-01-23T00:00:00\", \"2013-01-24T00:00:00\", \"2013-01-25T00:00:00\", \"2013-01-28T00:00:00\", \"2013-01-29T00:00:00\", \"2013-01-30T00:00:00\", \"2013-01-31T00:00:00\", \"2013-02-01T00:00:00\", \"2013-02-04T00:00:00\", \"2013-02-05T00:00:00\", \"2013-02-06T00:00:00\", \"2013-02-07T00:00:00\", \"2013-02-08T00:00:00\", \"2013-02-11T00:00:00\", \"2013-02-12T00:00:00\", \"2013-02-13T00:00:00\", \"2013-02-14T00:00:00\", \"2013-02-15T00:00:00\", \"2013-02-19T00:00:00\", \"2013-02-20T00:00:00\", \"2013-02-21T00:00:00\", \"2013-02-22T00:00:00\", \"2013-02-25T00:00:00\", \"2013-02-26T00:00:00\", \"2013-02-27T00:00:00\", \"2013-02-28T00:00:00\", \"2013-03-01T00:00:00\", \"2013-03-04T00:00:00\", \"2013-03-05T00:00:00\", \"2013-03-06T00:00:00\", \"2013-03-07T00:00:00\", \"2013-03-08T00:00:00\", \"2013-03-11T00:00:00\", \"2013-03-12T00:00:00\", \"2013-03-13T00:00:00\", \"2013-03-14T00:00:00\", \"2013-03-15T00:00:00\", \"2013-03-18T00:00:00\", \"2013-03-19T00:00:00\", \"2013-03-20T00:00:00\", \"2013-03-21T00:00:00\", \"2013-03-22T00:00:00\", \"2013-03-25T00:00:00\", \"2013-03-26T00:00:00\", \"2013-03-27T00:00:00\", \"2013-03-28T00:00:00\", \"2013-04-01T00:00:00\", \"2013-04-02T00:00:00\", \"2013-04-03T00:00:00\", \"2013-04-04T00:00:00\", \"2013-04-05T00:00:00\", \"2013-04-08T00:00:00\", \"2013-04-09T00:00:00\", \"2013-04-10T00:00:00\", \"2013-04-11T00:00:00\", \"2013-04-12T00:00:00\", \"2013-04-15T00:00:00\", \"2013-04-16T00:00:00\", \"2013-04-17T00:00:00\", \"2013-04-18T00:00:00\", \"2013-04-19T00:00:00\", \"2013-04-22T00:00:00\", \"2013-04-23T00:00:00\", \"2013-04-24T00:00:00\", \"2013-04-25T00:00:00\", \"2013-04-26T00:00:00\", \"2013-04-29T00:00:00\", \"2013-04-30T00:00:00\", \"2013-05-01T00:00:00\", \"2013-05-02T00:00:00\", \"2013-05-03T00:00:00\", \"2013-05-06T00:00:00\", \"2013-05-07T00:00:00\", \"2013-05-08T00:00:00\", \"2013-05-09T00:00:00\", \"2013-05-10T00:00:00\", \"2013-05-13T00:00:00\", \"2013-05-14T00:00:00\", \"2013-05-15T00:00:00\", \"2013-05-16T00:00:00\", \"2013-05-17T00:00:00\", \"2013-05-20T00:00:00\", \"2013-05-21T00:00:00\", \"2013-05-22T00:00:00\", \"2013-05-23T00:00:00\", \"2013-05-24T00:00:00\", \"2013-05-28T00:00:00\", \"2013-05-29T00:00:00\", \"2013-05-30T00:00:00\", \"2013-05-31T00:00:00\", \"2013-06-03T00:00:00\", \"2013-06-04T00:00:00\", \"2013-06-05T00:00:00\", \"2013-06-06T00:00:00\", \"2013-06-07T00:00:00\", \"2013-06-10T00:00:00\", \"2013-06-11T00:00:00\", \"2013-06-12T00:00:00\", \"2013-06-13T00:00:00\", \"2013-06-14T00:00:00\", \"2013-06-17T00:00:00\", \"2013-06-18T00:00:00\", \"2013-06-19T00:00:00\", \"2013-06-20T00:00:00\", \"2013-06-21T00:00:00\", \"2013-06-24T00:00:00\", \"2013-06-25T00:00:00\", \"2013-06-26T00:00:00\", \"2013-06-27T00:00:00\", \"2013-06-28T00:00:00\", \"2013-07-01T00:00:00\", \"2013-07-02T00:00:00\", \"2013-07-03T00:00:00\", \"2013-07-05T00:00:00\", \"2013-07-08T00:00:00\", \"2013-07-09T00:00:00\", \"2013-07-10T00:00:00\", \"2013-07-11T00:00:00\", \"2013-07-12T00:00:00\", \"2013-07-15T00:00:00\", \"2013-07-16T00:00:00\", \"2013-07-17T00:00:00\", \"2013-07-18T00:00:00\", \"2013-07-19T00:00:00\", \"2013-07-22T00:00:00\", \"2013-07-23T00:00:00\", \"2013-07-24T00:00:00\", \"2013-07-25T00:00:00\", \"2013-07-26T00:00:00\", \"2013-07-29T00:00:00\", \"2013-07-30T00:00:00\", \"2013-07-31T00:00:00\", \"2013-08-01T00:00:00\", \"2013-08-02T00:00:00\", \"2013-08-05T00:00:00\", \"2013-08-06T00:00:00\", \"2013-08-07T00:00:00\", \"2013-08-08T00:00:00\", \"2013-08-09T00:00:00\", \"2013-08-12T00:00:00\", \"2013-08-13T00:00:00\", \"2013-08-14T00:00:00\", \"2013-08-15T00:00:00\", \"2013-08-16T00:00:00\", \"2013-08-19T00:00:00\", \"2013-08-20T00:00:00\", \"2013-08-21T00:00:00\", \"2013-08-22T00:00:00\", \"2013-08-23T00:00:00\", \"2013-08-26T00:00:00\", \"2013-08-27T00:00:00\", \"2013-08-28T00:00:00\", \"2013-08-29T00:00:00\", \"2013-08-30T00:00:00\", \"2013-09-03T00:00:00\", \"2013-09-04T00:00:00\", \"2013-09-05T00:00:00\", \"2013-09-06T00:00:00\", \"2013-09-09T00:00:00\", \"2013-09-10T00:00:00\", \"2013-09-11T00:00:00\", \"2013-09-12T00:00:00\", \"2013-09-13T00:00:00\", \"2013-09-16T00:00:00\", \"2013-09-17T00:00:00\", \"2013-09-18T00:00:00\", \"2013-09-19T00:00:00\", \"2013-09-20T00:00:00\", \"2013-09-23T00:00:00\", \"2013-09-24T00:00:00\", \"2013-09-25T00:00:00\", \"2013-09-26T00:00:00\", \"2013-09-27T00:00:00\", \"2013-09-30T00:00:00\", \"2013-10-01T00:00:00\", \"2013-10-02T00:00:00\", \"2013-10-03T00:00:00\", \"2013-10-04T00:00:00\", \"2013-10-07T00:00:00\", \"2013-10-08T00:00:00\", \"2013-10-09T00:00:00\", \"2013-10-10T00:00:00\", \"2013-10-11T00:00:00\", \"2013-10-14T00:00:00\", \"2013-10-15T00:00:00\", \"2013-10-16T00:00:00\", \"2013-10-17T00:00:00\", \"2013-10-18T00:00:00\", \"2013-10-21T00:00:00\", \"2013-10-22T00:00:00\", \"2013-10-23T00:00:00\", \"2013-10-24T00:00:00\", \"2013-10-25T00:00:00\", \"2013-10-28T00:00:00\", \"2013-10-29T00:00:00\", \"2013-10-30T00:00:00\", \"2013-10-31T00:00:00\", \"2013-11-01T00:00:00\", \"2013-11-04T00:00:00\", \"2013-11-05T00:00:00\", \"2013-11-06T00:00:00\", \"2013-11-07T00:00:00\", \"2013-11-08T00:00:00\", \"2013-11-11T00:00:00\", \"2013-11-12T00:00:00\", \"2013-11-13T00:00:00\", \"2013-11-14T00:00:00\", \"2013-11-15T00:00:00\", \"2013-11-18T00:00:00\", \"2013-11-19T00:00:00\", \"2013-11-20T00:00:00\", \"2013-11-21T00:00:00\", \"2013-11-22T00:00:00\", \"2013-11-25T00:00:00\", \"2013-11-26T00:00:00\", \"2013-11-27T00:00:00\", \"2013-11-29T00:00:00\", \"2013-12-02T00:00:00\", \"2013-12-03T00:00:00\", \"2013-12-04T00:00:00\", \"2013-12-05T00:00:00\", \"2013-12-06T00:00:00\", \"2013-12-09T00:00:00\", \"2013-12-10T00:00:00\", \"2013-12-11T00:00:00\", \"2013-12-12T00:00:00\", \"2013-12-13T00:00:00\", \"2013-12-16T00:00:00\", \"2013-12-17T00:00:00\", \"2013-12-18T00:00:00\", \"2013-12-19T00:00:00\", \"2013-12-20T00:00:00\", \"2013-12-23T00:00:00\", \"2013-12-24T00:00:00\", \"2013-12-26T00:00:00\", \"2013-12-27T00:00:00\", \"2013-12-30T00:00:00\", \"2013-12-31T00:00:00\", \"2014-01-02T00:00:00\", \"2014-01-03T00:00:00\", \"2014-01-06T00:00:00\", \"2014-01-07T00:00:00\", \"2014-01-08T00:00:00\", \"2014-01-09T00:00:00\", \"2014-01-10T00:00:00\", \"2014-01-13T00:00:00\", \"2014-01-14T00:00:00\", \"2014-01-15T00:00:00\", \"2014-01-16T00:00:00\", \"2014-01-17T00:00:00\", \"2014-01-21T00:00:00\", \"2014-01-22T00:00:00\", \"2014-01-23T00:00:00\", \"2014-01-24T00:00:00\", \"2014-01-27T00:00:00\", \"2014-01-28T00:00:00\", \"2014-01-29T00:00:00\", \"2014-01-30T00:00:00\", \"2014-01-31T00:00:00\", \"2014-02-03T00:00:00\", \"2014-02-04T00:00:00\", \"2014-02-05T00:00:00\", \"2014-02-06T00:00:00\", \"2014-02-07T00:00:00\", \"2014-02-10T00:00:00\", \"2014-02-11T00:00:00\", \"2014-02-12T00:00:00\", \"2014-02-13T00:00:00\", \"2014-02-14T00:00:00\", \"2014-02-18T00:00:00\", \"2014-02-19T00:00:00\", \"2014-02-20T00:00:00\", \"2014-02-21T00:00:00\", \"2014-02-24T00:00:00\", \"2014-02-25T00:00:00\", \"2014-02-26T00:00:00\", \"2014-02-27T00:00:00\", \"2014-02-28T00:00:00\", \"2014-03-03T00:00:00\", \"2014-03-04T00:00:00\", \"2014-03-05T00:00:00\", \"2014-03-06T00:00:00\", \"2014-03-07T00:00:00\", \"2014-03-10T00:00:00\", \"2014-03-11T00:00:00\", \"2014-03-12T00:00:00\", \"2014-03-13T00:00:00\", \"2014-03-14T00:00:00\", \"2014-03-17T00:00:00\", \"2014-03-18T00:00:00\", \"2014-03-19T00:00:00\", \"2014-03-20T00:00:00\", \"2014-03-21T00:00:00\", \"2014-03-24T00:00:00\", \"2014-03-25T00:00:00\", \"2014-03-26T00:00:00\", \"2014-03-27T00:00:00\", \"2014-03-28T00:00:00\", \"2014-03-31T00:00:00\", \"2014-04-01T00:00:00\", \"2014-04-02T00:00:00\", \"2014-04-03T00:00:00\", \"2014-04-04T00:00:00\", \"2014-04-07T00:00:00\", \"2014-04-08T00:00:00\", \"2014-04-09T00:00:00\", \"2014-04-10T00:00:00\", \"2014-04-11T00:00:00\", \"2014-04-14T00:00:00\", \"2014-04-15T00:00:00\", \"2014-04-16T00:00:00\", \"2014-04-17T00:00:00\", \"2014-04-21T00:00:00\", \"2014-04-22T00:00:00\", \"2014-04-23T00:00:00\", \"2014-04-24T00:00:00\", \"2014-04-25T00:00:00\", \"2014-04-28T00:00:00\", \"2014-04-29T00:00:00\", \"2014-04-30T00:00:00\", \"2014-05-01T00:00:00\", \"2014-05-02T00:00:00\", \"2014-05-05T00:00:00\", \"2014-05-06T00:00:00\", \"2014-05-07T00:00:00\", \"2014-05-08T00:00:00\", \"2014-05-09T00:00:00\", \"2014-05-12T00:00:00\", \"2014-05-13T00:00:00\", \"2014-05-14T00:00:00\", \"2014-05-15T00:00:00\", \"2014-05-16T00:00:00\", \"2014-05-19T00:00:00\", \"2014-05-20T00:00:00\", \"2014-05-21T00:00:00\", \"2014-05-22T00:00:00\", \"2014-05-23T00:00:00\", \"2014-05-27T00:00:00\", \"2014-05-28T00:00:00\", \"2014-05-29T00:00:00\", \"2014-05-30T00:00:00\", \"2014-06-02T00:00:00\", \"2014-06-03T00:00:00\", \"2014-06-04T00:00:00\", \"2014-06-05T00:00:00\", \"2014-06-06T00:00:00\", \"2014-06-09T00:00:00\", \"2014-06-10T00:00:00\", \"2014-06-11T00:00:00\", \"2014-06-12T00:00:00\", \"2014-06-13T00:00:00\", \"2014-06-16T00:00:00\", \"2014-06-17T00:00:00\", \"2014-06-18T00:00:00\", \"2014-06-19T00:00:00\", \"2014-06-20T00:00:00\", \"2014-06-23T00:00:00\", \"2014-06-24T00:00:00\", \"2014-06-25T00:00:00\", \"2014-06-26T00:00:00\", \"2014-06-27T00:00:00\", \"2014-06-30T00:00:00\", \"2014-07-01T00:00:00\", \"2014-07-02T00:00:00\", \"2014-07-03T00:00:00\", \"2014-07-07T00:00:00\", \"2014-07-08T00:00:00\", \"2014-07-09T00:00:00\", \"2014-07-10T00:00:00\", \"2014-07-11T00:00:00\", \"2014-07-14T00:00:00\", \"2014-07-15T00:00:00\", \"2014-07-16T00:00:00\", \"2014-07-17T00:00:00\", \"2014-07-18T00:00:00\", \"2014-07-21T00:00:00\", \"2014-07-22T00:00:00\", \"2014-07-23T00:00:00\", \"2014-07-24T00:00:00\", \"2014-07-25T00:00:00\", \"2014-07-28T00:00:00\", \"2014-07-29T00:00:00\", \"2014-07-30T00:00:00\", \"2014-07-31T00:00:00\", \"2014-08-01T00:00:00\", \"2014-08-04T00:00:00\", \"2014-08-05T00:00:00\", \"2014-08-06T00:00:00\", \"2014-08-07T00:00:00\", \"2014-08-08T00:00:00\", \"2014-08-11T00:00:00\", \"2014-08-12T00:00:00\", \"2014-08-13T00:00:00\", \"2014-08-14T00:00:00\", \"2014-08-15T00:00:00\", \"2014-08-18T00:00:00\", \"2014-08-19T00:00:00\", \"2014-08-20T00:00:00\", \"2014-08-21T00:00:00\", \"2014-08-22T00:00:00\", \"2014-08-25T00:00:00\", \"2014-08-26T00:00:00\", \"2014-08-27T00:00:00\", \"2014-08-28T00:00:00\", \"2014-08-29T00:00:00\", \"2014-09-02T00:00:00\", \"2014-09-03T00:00:00\", \"2014-09-04T00:00:00\", \"2014-09-05T00:00:00\", \"2014-09-08T00:00:00\", \"2014-09-09T00:00:00\", \"2014-09-10T00:00:00\", \"2014-09-11T00:00:00\", \"2014-09-12T00:00:00\", \"2014-09-15T00:00:00\", \"2014-09-16T00:00:00\", \"2014-09-17T00:00:00\", \"2014-09-18T00:00:00\", \"2014-09-19T00:00:00\", \"2014-09-22T00:00:00\", \"2014-09-23T00:00:00\", \"2014-09-24T00:00:00\", \"2014-09-25T00:00:00\", \"2014-09-26T00:00:00\", \"2014-09-29T00:00:00\", \"2014-09-30T00:00:00\", \"2014-10-01T00:00:00\", \"2014-10-02T00:00:00\", \"2014-10-03T00:00:00\", \"2014-10-06T00:00:00\", \"2014-10-07T00:00:00\", \"2014-10-08T00:00:00\", \"2014-10-09T00:00:00\", \"2014-10-10T00:00:00\", \"2014-10-13T00:00:00\", \"2014-10-14T00:00:00\", \"2014-10-15T00:00:00\", \"2014-10-16T00:00:00\", \"2014-10-17T00:00:00\", \"2014-10-20T00:00:00\", \"2014-10-21T00:00:00\", \"2014-10-22T00:00:00\", \"2014-10-23T00:00:00\", \"2014-10-24T00:00:00\", \"2014-10-27T00:00:00\", \"2014-10-28T00:00:00\", \"2014-10-29T00:00:00\", \"2014-10-30T00:00:00\", \"2014-10-31T00:00:00\", \"2014-11-03T00:00:00\", \"2014-11-04T00:00:00\", \"2014-11-05T00:00:00\", \"2014-11-06T00:00:00\", \"2014-11-07T00:00:00\", \"2014-11-10T00:00:00\", \"2014-11-11T00:00:00\", \"2014-11-12T00:00:00\", \"2014-11-13T00:00:00\", \"2014-11-14T00:00:00\", \"2014-11-17T00:00:00\", \"2014-11-18T00:00:00\", \"2014-11-19T00:00:00\", \"2014-11-20T00:00:00\", \"2014-11-21T00:00:00\", \"2014-11-24T00:00:00\", \"2014-11-25T00:00:00\", \"2014-11-26T00:00:00\", \"2014-11-28T00:00:00\", \"2014-12-01T00:00:00\", \"2014-12-02T00:00:00\", \"2014-12-03T00:00:00\", \"2014-12-04T00:00:00\", \"2014-12-05T00:00:00\", \"2014-12-08T00:00:00\", \"2014-12-09T00:00:00\", \"2014-12-10T00:00:00\", \"2014-12-11T00:00:00\", \"2014-12-12T00:00:00\", \"2014-12-15T00:00:00\", \"2014-12-16T00:00:00\", \"2014-12-17T00:00:00\", \"2014-12-18T00:00:00\", \"2014-12-19T00:00:00\", \"2014-12-22T00:00:00\", \"2014-12-23T00:00:00\", \"2014-12-24T00:00:00\", \"2014-12-26T00:00:00\", \"2014-12-29T00:00:00\", \"2014-12-30T00:00:00\", \"2014-12-31T00:00:00\", \"2015-01-02T00:00:00\", \"2015-01-05T00:00:00\", \"2015-01-06T00:00:00\", \"2015-01-07T00:00:00\", \"2015-01-08T00:00:00\", \"2015-01-09T00:00:00\", \"2015-01-12T00:00:00\", \"2015-01-13T00:00:00\", \"2015-01-14T00:00:00\", \"2015-01-15T00:00:00\", \"2015-01-16T00:00:00\", \"2015-01-20T00:00:00\", \"2015-01-21T00:00:00\", \"2015-01-22T00:00:00\", \"2015-01-23T00:00:00\", \"2015-01-26T00:00:00\", \"2015-01-27T00:00:00\", \"2015-01-28T00:00:00\", \"2015-01-29T00:00:00\", \"2015-01-30T00:00:00\", \"2015-02-02T00:00:00\", \"2015-02-03T00:00:00\", \"2015-02-04T00:00:00\", \"2015-02-05T00:00:00\", \"2015-02-06T00:00:00\", \"2015-02-09T00:00:00\", \"2015-02-10T00:00:00\", \"2015-02-11T00:00:00\", \"2015-02-12T00:00:00\", \"2015-02-13T00:00:00\", \"2015-02-17T00:00:00\", \"2015-02-18T00:00:00\", \"2015-02-19T00:00:00\", \"2015-02-20T00:00:00\", \"2015-02-23T00:00:00\", \"2015-02-24T00:00:00\", \"2015-02-25T00:00:00\", \"2015-02-26T00:00:00\", \"2015-02-27T00:00:00\", \"2015-03-02T00:00:00\", \"2015-03-03T00:00:00\", \"2015-03-04T00:00:00\", \"2015-03-05T00:00:00\", \"2015-03-06T00:00:00\", \"2015-03-09T00:00:00\", \"2015-03-10T00:00:00\", \"2015-03-11T00:00:00\", \"2015-03-12T00:00:00\", \"2015-03-13T00:00:00\", \"2015-03-16T00:00:00\", \"2015-03-17T00:00:00\", \"2015-03-18T00:00:00\", \"2015-03-19T00:00:00\", \"2015-03-20T00:00:00\", \"2015-03-23T00:00:00\", \"2015-03-24T00:00:00\", \"2015-03-25T00:00:00\", \"2015-03-26T00:00:00\", \"2015-03-27T00:00:00\", \"2015-03-30T00:00:00\", \"2015-03-31T00:00:00\", \"2015-04-01T00:00:00\", \"2015-04-02T00:00:00\", \"2015-04-06T00:00:00\", \"2015-04-07T00:00:00\", \"2015-04-08T00:00:00\", \"2015-04-09T00:00:00\", \"2015-04-10T00:00:00\", \"2015-04-13T00:00:00\", \"2015-04-14T00:00:00\", \"2015-04-15T00:00:00\", \"2015-04-16T00:00:00\", \"2015-04-17T00:00:00\", \"2015-04-20T00:00:00\", \"2015-04-21T00:00:00\", \"2015-04-22T00:00:00\", \"2015-04-23T00:00:00\", \"2015-04-24T00:00:00\", \"2015-04-27T00:00:00\", \"2015-04-28T00:00:00\", \"2015-04-29T00:00:00\", \"2015-04-30T00:00:00\", \"2015-05-01T00:00:00\", \"2015-05-04T00:00:00\", \"2015-05-05T00:00:00\", \"2015-05-06T00:00:00\", \"2015-05-07T00:00:00\", \"2015-05-08T00:00:00\", \"2015-05-11T00:00:00\", \"2015-05-12T00:00:00\", \"2015-05-13T00:00:00\", \"2015-05-14T00:00:00\", \"2015-05-15T00:00:00\", \"2015-05-18T00:00:00\", \"2015-05-19T00:00:00\", \"2015-05-20T00:00:00\", \"2015-05-21T00:00:00\", \"2015-05-22T00:00:00\", \"2015-05-26T00:00:00\", \"2015-05-27T00:00:00\", \"2015-05-28T00:00:00\", \"2015-05-29T00:00:00\", \"2015-06-01T00:00:00\", \"2015-06-02T00:00:00\", \"2015-06-03T00:00:00\", \"2015-06-04T00:00:00\", \"2015-06-05T00:00:00\", \"2015-06-08T00:00:00\", \"2015-06-09T00:00:00\", \"2015-06-10T00:00:00\", \"2015-06-11T00:00:00\", \"2015-06-12T00:00:00\", \"2015-06-15T00:00:00\", \"2015-06-16T00:00:00\", \"2015-06-17T00:00:00\", \"2015-06-18T00:00:00\", \"2015-06-19T00:00:00\", \"2015-06-22T00:00:00\", \"2015-06-23T00:00:00\", \"2015-06-24T00:00:00\", \"2015-06-25T00:00:00\", \"2015-06-26T00:00:00\", \"2015-06-29T00:00:00\", \"2015-06-30T00:00:00\", \"2015-07-01T00:00:00\", \"2015-07-02T00:00:00\", \"2015-07-06T00:00:00\", \"2015-07-07T00:00:00\", \"2015-07-08T00:00:00\", \"2015-07-09T00:00:00\", \"2015-07-10T00:00:00\", \"2015-07-13T00:00:00\", \"2015-07-14T00:00:00\", \"2015-07-15T00:00:00\", \"2015-07-16T00:00:00\", \"2015-07-17T00:00:00\", \"2015-07-20T00:00:00\", \"2015-07-21T00:00:00\", \"2015-07-22T00:00:00\", \"2015-07-23T00:00:00\", \"2015-07-24T00:00:00\", \"2015-07-27T00:00:00\", \"2015-07-28T00:00:00\", \"2015-07-29T00:00:00\", \"2015-07-30T00:00:00\", \"2015-07-31T00:00:00\", \"2015-08-03T00:00:00\", \"2015-08-04T00:00:00\", \"2015-08-05T00:00:00\", \"2015-08-06T00:00:00\", \"2015-08-07T00:00:00\", \"2015-08-10T00:00:00\", \"2015-08-11T00:00:00\", \"2015-08-12T00:00:00\", \"2015-08-13T00:00:00\", \"2015-08-14T00:00:00\", \"2015-08-17T00:00:00\", \"2015-08-18T00:00:00\", \"2015-08-19T00:00:00\", \"2015-08-20T00:00:00\", \"2015-08-21T00:00:00\", \"2015-08-24T00:00:00\", \"2015-08-25T00:00:00\", \"2015-08-26T00:00:00\", \"2015-08-27T00:00:00\", \"2015-08-28T00:00:00\", \"2015-08-31T00:00:00\", \"2015-09-01T00:00:00\", \"2015-09-02T00:00:00\", \"2015-09-03T00:00:00\", \"2015-09-04T00:00:00\", \"2015-09-08T00:00:00\", \"2015-09-09T00:00:00\", \"2015-09-10T00:00:00\", \"2015-09-11T00:00:00\", \"2015-09-14T00:00:00\", \"2015-09-15T00:00:00\", \"2015-09-16T00:00:00\", \"2015-09-17T00:00:00\", \"2015-09-18T00:00:00\", \"2015-09-21T00:00:00\", \"2015-09-22T00:00:00\", \"2015-09-23T00:00:00\", \"2015-09-24T00:00:00\", \"2015-09-25T00:00:00\", \"2015-09-28T00:00:00\", \"2015-09-29T00:00:00\", \"2015-09-30T00:00:00\", \"2015-10-01T00:00:00\", \"2015-10-02T00:00:00\", \"2015-10-05T00:00:00\", \"2015-10-06T00:00:00\", \"2015-10-07T00:00:00\", \"2015-10-08T00:00:00\", \"2015-10-09T00:00:00\", \"2015-10-12T00:00:00\", \"2015-10-13T00:00:00\", \"2015-10-14T00:00:00\", \"2015-10-15T00:00:00\", \"2015-10-16T00:00:00\", \"2015-10-19T00:00:00\", \"2015-10-20T00:00:00\", \"2015-10-21T00:00:00\", \"2015-10-22T00:00:00\", \"2015-10-23T00:00:00\", \"2015-10-26T00:00:00\", \"2015-10-27T00:00:00\", \"2015-10-28T00:00:00\", \"2015-10-29T00:00:00\", \"2015-10-30T00:00:00\", \"2015-11-02T00:00:00\", \"2015-11-03T00:00:00\", \"2015-11-04T00:00:00\", \"2015-11-05T00:00:00\", \"2015-11-06T00:00:00\", \"2015-11-09T00:00:00\", \"2015-11-10T00:00:00\", \"2015-11-11T00:00:00\", \"2015-11-12T00:00:00\", \"2015-11-13T00:00:00\", \"2015-11-16T00:00:00\", \"2015-11-17T00:00:00\", \"2015-11-18T00:00:00\", \"2015-11-19T00:00:00\", \"2015-11-20T00:00:00\", \"2015-11-23T00:00:00\", \"2015-11-24T00:00:00\", \"2015-11-25T00:00:00\", \"2015-11-27T00:00:00\", \"2015-11-30T00:00:00\", \"2015-12-01T00:00:00\", \"2015-12-02T00:00:00\", \"2015-12-03T00:00:00\", \"2015-12-04T00:00:00\", \"2015-12-07T00:00:00\", \"2015-12-08T00:00:00\", \"2015-12-09T00:00:00\", \"2015-12-10T00:00:00\", \"2015-12-11T00:00:00\", \"2015-12-14T00:00:00\", \"2015-12-15T00:00:00\", \"2015-12-16T00:00:00\", \"2015-12-17T00:00:00\", \"2015-12-18T00:00:00\", \"2015-12-21T00:00:00\", \"2015-12-22T00:00:00\", \"2015-12-23T00:00:00\", \"2015-12-24T00:00:00\", \"2015-12-28T00:00:00\", \"2015-12-29T00:00:00\", \"2015-12-30T00:00:00\", \"2015-12-31T00:00:00\", \"2016-01-04T00:00:00\", \"2016-01-05T00:00:00\", \"2016-01-06T00:00:00\", \"2016-01-07T00:00:00\", \"2016-01-08T00:00:00\", \"2016-01-11T00:00:00\", \"2016-01-12T00:00:00\", \"2016-01-13T00:00:00\", \"2016-01-14T00:00:00\", \"2016-01-15T00:00:00\", \"2016-01-19T00:00:00\", \"2016-01-20T00:00:00\", \"2016-01-21T00:00:00\", \"2016-01-22T00:00:00\", \"2016-01-25T00:00:00\", \"2016-01-26T00:00:00\", \"2016-01-27T00:00:00\", \"2016-01-28T00:00:00\", \"2016-01-29T00:00:00\", \"2016-02-01T00:00:00\", \"2016-02-02T00:00:00\", \"2016-02-03T00:00:00\", \"2016-02-04T00:00:00\", \"2016-02-05T00:00:00\", \"2016-02-08T00:00:00\", \"2016-02-09T00:00:00\", \"2016-02-10T00:00:00\", \"2016-02-11T00:00:00\", \"2016-02-12T00:00:00\", \"2016-02-16T00:00:00\", \"2016-02-17T00:00:00\", \"2016-02-18T00:00:00\", \"2016-02-19T00:00:00\", \"2016-02-22T00:00:00\", \"2016-02-23T00:00:00\", \"2016-02-24T00:00:00\", \"2016-02-25T00:00:00\", \"2016-02-26T00:00:00\", \"2016-02-29T00:00:00\", \"2016-03-01T00:00:00\", \"2016-03-02T00:00:00\", \"2016-03-03T00:00:00\", \"2016-03-04T00:00:00\", \"2016-03-07T00:00:00\", \"2016-03-08T00:00:00\", \"2016-03-09T00:00:00\", \"2016-03-10T00:00:00\", \"2016-03-11T00:00:00\", \"2016-03-14T00:00:00\", \"2016-03-15T00:00:00\", \"2016-03-16T00:00:00\", \"2016-03-17T00:00:00\", \"2016-03-18T00:00:00\", \"2016-03-21T00:00:00\", \"2016-03-22T00:00:00\", \"2016-03-23T00:00:00\", \"2016-03-24T00:00:00\", \"2016-03-28T00:00:00\", \"2016-03-29T00:00:00\", \"2016-03-30T00:00:00\", \"2016-03-31T00:00:00\", \"2016-04-01T00:00:00\", \"2016-04-04T00:00:00\", \"2016-04-05T00:00:00\", \"2016-04-06T00:00:00\", \"2016-04-07T00:00:00\", \"2016-04-08T00:00:00\", \"2016-04-11T00:00:00\", \"2016-04-12T00:00:00\", \"2016-04-13T00:00:00\", \"2016-04-14T00:00:00\", \"2016-04-15T00:00:00\", \"2016-04-18T00:00:00\", \"2016-04-19T00:00:00\", \"2016-04-20T00:00:00\", \"2016-04-21T00:00:00\", \"2016-04-22T00:00:00\", \"2016-04-25T00:00:00\", \"2016-04-26T00:00:00\", \"2016-04-27T00:00:00\", \"2016-04-28T00:00:00\", \"2016-04-29T00:00:00\", \"2016-05-02T00:00:00\", \"2016-05-03T00:00:00\", \"2016-05-04T00:00:00\", \"2016-05-05T00:00:00\", \"2016-05-06T00:00:00\", \"2016-05-09T00:00:00\", \"2016-05-10T00:00:00\", \"2016-05-11T00:00:00\", \"2016-05-12T00:00:00\", \"2016-05-13T00:00:00\", \"2016-05-16T00:00:00\", \"2016-05-17T00:00:00\", \"2016-05-18T00:00:00\", \"2016-05-19T00:00:00\", \"2016-05-20T00:00:00\", \"2016-05-23T00:00:00\", \"2016-05-24T00:00:00\", \"2016-05-25T00:00:00\", \"2016-05-26T00:00:00\", \"2016-05-27T00:00:00\", \"2016-05-31T00:00:00\", \"2016-06-01T00:00:00\", \"2016-06-02T00:00:00\", \"2016-06-03T00:00:00\", \"2016-06-06T00:00:00\", \"2016-06-07T00:00:00\", \"2016-06-08T00:00:00\", \"2016-06-09T00:00:00\", \"2016-06-10T00:00:00\", \"2016-06-13T00:00:00\", \"2016-06-14T00:00:00\", \"2016-06-15T00:00:00\", \"2016-06-16T00:00:00\", \"2016-06-17T00:00:00\", \"2016-06-20T00:00:00\", \"2016-06-21T00:00:00\", \"2016-06-22T00:00:00\", \"2016-06-23T00:00:00\", \"2016-06-24T00:00:00\", \"2016-06-27T00:00:00\", \"2016-06-28T00:00:00\", \"2016-06-29T00:00:00\", \"2016-06-30T00:00:00\", \"2016-07-01T00:00:00\", \"2016-07-05T00:00:00\", \"2016-07-06T00:00:00\", \"2016-07-07T00:00:00\", \"2016-07-08T00:00:00\", \"2016-07-11T00:00:00\", \"2016-07-12T00:00:00\", \"2016-07-13T00:00:00\", \"2016-07-14T00:00:00\", \"2016-07-15T00:00:00\", \"2016-07-18T00:00:00\", \"2016-07-19T00:00:00\", \"2016-07-20T00:00:00\", \"2016-07-21T00:00:00\", \"2016-07-22T00:00:00\", \"2016-07-25T00:00:00\", \"2016-07-26T00:00:00\", \"2016-07-27T00:00:00\", \"2016-07-28T00:00:00\", \"2016-07-29T00:00:00\", \"2016-08-01T00:00:00\", \"2016-08-02T00:00:00\", \"2016-08-03T00:00:00\", \"2016-08-04T00:00:00\", \"2016-08-05T00:00:00\", \"2016-08-08T00:00:00\", \"2016-08-09T00:00:00\", \"2016-08-10T00:00:00\", \"2016-08-11T00:00:00\", \"2016-08-12T00:00:00\", \"2016-08-15T00:00:00\", \"2016-08-16T00:00:00\", \"2016-08-17T00:00:00\", \"2016-08-18T00:00:00\", \"2016-08-19T00:00:00\", \"2016-08-22T00:00:00\", \"2016-08-23T00:00:00\", \"2016-08-24T00:00:00\", \"2016-08-25T00:00:00\", \"2016-08-26T00:00:00\", \"2016-08-29T00:00:00\", \"2016-08-30T00:00:00\", \"2016-08-31T00:00:00\", \"2016-09-01T00:00:00\", \"2016-09-02T00:00:00\", \"2016-09-06T00:00:00\", \"2016-09-07T00:00:00\", \"2016-09-08T00:00:00\", \"2016-09-09T00:00:00\", \"2016-09-12T00:00:00\", \"2016-09-13T00:00:00\", \"2016-09-14T00:00:00\", \"2016-09-15T00:00:00\", \"2016-09-16T00:00:00\", \"2016-09-19T00:00:00\", \"2016-09-20T00:00:00\", \"2016-09-21T00:00:00\", \"2016-09-22T00:00:00\", \"2016-09-23T00:00:00\", \"2016-09-26T00:00:00\", \"2016-09-27T00:00:00\", \"2016-09-28T00:00:00\", \"2016-09-29T00:00:00\", \"2016-09-30T00:00:00\", \"2016-10-03T00:00:00\", \"2016-10-04T00:00:00\", \"2016-10-05T00:00:00\", \"2016-10-06T00:00:00\", \"2016-10-07T00:00:00\", \"2016-10-10T00:00:00\", \"2016-10-11T00:00:00\", \"2016-10-12T00:00:00\", \"2016-10-13T00:00:00\", \"2016-10-14T00:00:00\", \"2016-10-17T00:00:00\", \"2016-10-18T00:00:00\", \"2016-10-19T00:00:00\", \"2016-10-20T00:00:00\", \"2016-10-21T00:00:00\", \"2016-10-24T00:00:00\", \"2016-10-25T00:00:00\", \"2016-10-26T00:00:00\", \"2016-10-27T00:00:00\", \"2016-10-28T00:00:00\", \"2016-10-31T00:00:00\", \"2016-11-01T00:00:00\", \"2016-11-02T00:00:00\", \"2016-11-03T00:00:00\", \"2016-11-04T00:00:00\", \"2016-11-07T00:00:00\", \"2016-11-08T00:00:00\", \"2016-11-09T00:00:00\", \"2016-11-10T00:00:00\", \"2016-11-11T00:00:00\", \"2016-11-14T00:00:00\", \"2016-11-15T00:00:00\", \"2016-11-16T00:00:00\", \"2016-11-17T00:00:00\", \"2016-11-18T00:00:00\", \"2016-11-21T00:00:00\", \"2016-11-22T00:00:00\", \"2016-11-23T00:00:00\", \"2016-11-25T00:00:00\", \"2016-11-28T00:00:00\", \"2016-11-29T00:00:00\", \"2016-11-30T00:00:00\", \"2016-12-01T00:00:00\", \"2016-12-02T00:00:00\", \"2016-12-05T00:00:00\", \"2016-12-06T00:00:00\", \"2016-12-07T00:00:00\", \"2016-12-08T00:00:00\", \"2016-12-09T00:00:00\", \"2016-12-12T00:00:00\", \"2016-12-13T00:00:00\", \"2016-12-14T00:00:00\", \"2016-12-15T00:00:00\", \"2016-12-16T00:00:00\", \"2016-12-19T00:00:00\", \"2016-12-20T00:00:00\", \"2016-12-21T00:00:00\", \"2016-12-22T00:00:00\", \"2016-12-23T00:00:00\", \"2016-12-27T00:00:00\", \"2016-12-28T00:00:00\", \"2016-12-29T00:00:00\", \"2016-12-30T00:00:00\", \"2017-01-03T00:00:00\", \"2017-01-04T00:00:00\", \"2017-01-05T00:00:00\", \"2017-01-06T00:00:00\", \"2017-01-09T00:00:00\", \"2017-01-10T00:00:00\", \"2017-01-11T00:00:00\", \"2017-01-12T00:00:00\", \"2017-01-13T00:00:00\", \"2017-01-17T00:00:00\", \"2017-01-18T00:00:00\", \"2017-01-19T00:00:00\", \"2017-01-20T00:00:00\", \"2017-01-23T00:00:00\", \"2017-01-24T00:00:00\", \"2017-01-25T00:00:00\", \"2017-01-26T00:00:00\", \"2017-01-27T00:00:00\", \"2017-01-30T00:00:00\", \"2017-01-31T00:00:00\", \"2017-02-01T00:00:00\", \"2017-02-02T00:00:00\", \"2017-02-03T00:00:00\", \"2017-02-06T00:00:00\", \"2017-02-07T00:00:00\", \"2017-02-08T00:00:00\", \"2017-02-09T00:00:00\", \"2017-02-10T00:00:00\", \"2017-02-13T00:00:00\", \"2017-02-14T00:00:00\", \"2017-02-15T00:00:00\", \"2017-02-16T00:00:00\", \"2017-02-17T00:00:00\", \"2017-02-21T00:00:00\", \"2017-02-22T00:00:00\", \"2017-02-23T00:00:00\", \"2017-02-24T00:00:00\", \"2017-02-27T00:00:00\", \"2017-02-28T00:00:00\", \"2017-03-01T00:00:00\", \"2017-03-02T00:00:00\", \"2017-03-03T00:00:00\", \"2017-03-06T00:00:00\", \"2017-03-07T00:00:00\", \"2017-03-08T00:00:00\", \"2017-03-09T00:00:00\", \"2017-03-10T00:00:00\", \"2017-03-13T00:00:00\", \"2017-03-14T00:00:00\", \"2017-03-15T00:00:00\", \"2017-03-16T00:00:00\", \"2017-03-17T00:00:00\", \"2017-03-20T00:00:00\", \"2017-03-21T00:00:00\", \"2017-03-22T00:00:00\", \"2017-03-23T00:00:00\", \"2017-03-24T00:00:00\", \"2017-03-27T00:00:00\", \"2017-03-28T00:00:00\", \"2017-03-29T00:00:00\", \"2017-03-30T00:00:00\", \"2017-03-31T00:00:00\", \"2017-04-03T00:00:00\", \"2017-04-04T00:00:00\", \"2017-04-05T00:00:00\", \"2017-04-06T00:00:00\", \"2017-04-07T00:00:00\", \"2017-04-10T00:00:00\", \"2017-04-11T00:00:00\", \"2017-04-12T00:00:00\", \"2017-04-13T00:00:00\", \"2017-04-17T00:00:00\", \"2017-04-18T00:00:00\", \"2017-04-19T00:00:00\", \"2017-04-20T00:00:00\", \"2017-04-21T00:00:00\", \"2017-04-24T00:00:00\", \"2017-04-25T00:00:00\", \"2017-04-26T00:00:00\", \"2017-04-27T00:00:00\", \"2017-04-28T00:00:00\", \"2017-05-01T00:00:00\", \"2017-05-02T00:00:00\", \"2017-05-03T00:00:00\", \"2017-05-04T00:00:00\", \"2017-05-05T00:00:00\", \"2017-05-08T00:00:00\", \"2017-05-09T00:00:00\", \"2017-05-10T00:00:00\", \"2017-05-11T00:00:00\", \"2017-05-12T00:00:00\", \"2017-05-15T00:00:00\", \"2017-05-16T00:00:00\", \"2017-05-17T00:00:00\", \"2017-05-18T00:00:00\", \"2017-05-19T00:00:00\", \"2017-05-22T00:00:00\", \"2017-05-23T00:00:00\", \"2017-05-24T00:00:00\", \"2017-05-25T00:00:00\", \"2017-05-26T00:00:00\", \"2017-05-30T00:00:00\", \"2017-05-31T00:00:00\", \"2017-06-01T00:00:00\", \"2017-06-02T00:00:00\", \"2017-06-05T00:00:00\", \"2017-06-06T00:00:00\", \"2017-06-07T00:00:00\", \"2017-06-08T00:00:00\", \"2017-06-09T00:00:00\", \"2017-06-12T00:00:00\", \"2017-06-13T00:00:00\", \"2017-06-14T00:00:00\", \"2017-06-15T00:00:00\", \"2017-06-16T00:00:00\", \"2017-06-19T00:00:00\", \"2017-06-20T00:00:00\", \"2017-06-21T00:00:00\", \"2017-06-22T00:00:00\", \"2017-06-23T00:00:00\", \"2017-06-26T00:00:00\", \"2017-06-27T00:00:00\", \"2017-06-28T00:00:00\", \"2017-06-29T00:00:00\", \"2017-06-30T00:00:00\", \"2017-07-03T00:00:00\", \"2017-07-05T00:00:00\", \"2017-07-06T00:00:00\", \"2017-07-07T00:00:00\", \"2017-07-10T00:00:00\", \"2017-07-11T00:00:00\", \"2017-07-12T00:00:00\", \"2017-07-13T00:00:00\", \"2017-07-14T00:00:00\", \"2017-07-17T00:00:00\", \"2017-07-18T00:00:00\", \"2017-07-19T00:00:00\", \"2017-07-20T00:00:00\", \"2017-07-21T00:00:00\", \"2017-07-24T00:00:00\", \"2017-07-25T00:00:00\", \"2017-07-26T00:00:00\", \"2017-07-27T00:00:00\", \"2017-07-28T00:00:00\", \"2017-07-31T00:00:00\", \"2017-08-01T00:00:00\", \"2017-08-02T00:00:00\", \"2017-08-03T00:00:00\", \"2017-08-04T00:00:00\", \"2017-08-07T00:00:00\", \"2017-08-08T00:00:00\", \"2017-08-09T00:00:00\", \"2017-08-10T00:00:00\", \"2017-08-11T00:00:00\", \"2017-08-14T00:00:00\", \"2017-08-15T00:00:00\", \"2017-08-16T00:00:00\", \"2017-08-17T00:00:00\", \"2017-08-18T00:00:00\", \"2017-08-21T00:00:00\", \"2017-08-22T00:00:00\", \"2017-08-23T00:00:00\", \"2017-08-24T00:00:00\", \"2017-08-25T00:00:00\", \"2017-08-28T00:00:00\", \"2017-08-29T00:00:00\", \"2017-08-30T00:00:00\", \"2017-08-31T00:00:00\", \"2017-09-01T00:00:00\", \"2017-09-05T00:00:00\", \"2017-09-06T00:00:00\", \"2017-09-07T00:00:00\", \"2017-09-08T00:00:00\", \"2017-09-11T00:00:00\", \"2017-09-12T00:00:00\", \"2017-09-13T00:00:00\", \"2017-09-14T00:00:00\", \"2017-09-15T00:00:00\", \"2017-09-18T00:00:00\", \"2017-09-19T00:00:00\", \"2017-09-20T00:00:00\", \"2017-09-21T00:00:00\", \"2017-09-22T00:00:00\", \"2017-09-25T00:00:00\", \"2017-09-26T00:00:00\", \"2017-09-27T00:00:00\", \"2017-09-28T00:00:00\", \"2017-09-29T00:00:00\", \"2017-10-02T00:00:00\", \"2017-10-03T00:00:00\", \"2017-10-04T00:00:00\", \"2017-10-05T00:00:00\", \"2017-10-06T00:00:00\", \"2017-10-09T00:00:00\", \"2017-10-10T00:00:00\", \"2017-10-11T00:00:00\", \"2017-10-12T00:00:00\", \"2017-10-13T00:00:00\", \"2017-10-16T00:00:00\", \"2017-10-17T00:00:00\", \"2017-10-18T00:00:00\", \"2017-10-19T00:00:00\", \"2017-10-20T00:00:00\", \"2017-10-23T00:00:00\", \"2017-10-24T00:00:00\", \"2017-10-25T00:00:00\", \"2017-10-26T00:00:00\", \"2017-10-27T00:00:00\", \"2017-10-30T00:00:00\", \"2017-10-31T00:00:00\", \"2017-11-01T00:00:00\", \"2017-11-02T00:00:00\", \"2017-11-03T00:00:00\", \"2017-11-06T00:00:00\", \"2017-11-07T00:00:00\", \"2017-11-08T00:00:00\", \"2017-11-09T00:00:00\", \"2017-11-10T00:00:00\", \"2017-11-13T00:00:00\", \"2017-11-14T00:00:00\", \"2017-11-15T00:00:00\", \"2017-11-16T00:00:00\", \"2017-11-17T00:00:00\", \"2017-11-20T00:00:00\", \"2017-11-21T00:00:00\", \"2017-11-22T00:00:00\", \"2017-11-24T00:00:00\", \"2017-11-27T00:00:00\", \"2017-11-28T00:00:00\", \"2017-11-29T00:00:00\", \"2017-11-30T00:00:00\", \"2017-12-01T00:00:00\", \"2017-12-04T00:00:00\", \"2017-12-05T00:00:00\", \"2017-12-06T00:00:00\", \"2017-12-07T00:00:00\", \"2017-12-08T00:00:00\", \"2017-12-11T00:00:00\", \"2017-12-12T00:00:00\", \"2017-12-13T00:00:00\", \"2017-12-14T00:00:00\", \"2017-12-15T00:00:00\", \"2017-12-18T00:00:00\", \"2017-12-19T00:00:00\", \"2017-12-20T00:00:00\", \"2017-12-21T00:00:00\", \"2017-12-22T00:00:00\", \"2017-12-26T00:00:00\", \"2017-12-27T00:00:00\", \"2017-12-28T00:00:00\", \"2017-12-29T00:00:00\", \"2018-01-02T00:00:00\", \"2018-01-03T00:00:00\", \"2018-01-04T00:00:00\", \"2018-01-05T00:00:00\", \"2018-01-08T00:00:00\", \"2018-01-09T00:00:00\", \"2018-01-10T00:00:00\", \"2018-01-11T00:00:00\", \"2018-01-12T00:00:00\", \"2018-01-16T00:00:00\", \"2018-01-17T00:00:00\", \"2018-01-18T00:00:00\", \"2018-01-19T00:00:00\", \"2018-01-22T00:00:00\", \"2018-01-23T00:00:00\", \"2018-01-24T00:00:00\", \"2018-01-25T00:00:00\", \"2018-01-26T00:00:00\", \"2018-01-29T00:00:00\", \"2018-01-30T00:00:00\", \"2018-01-31T00:00:00\", \"2018-02-01T00:00:00\", \"2018-02-02T00:00:00\", \"2018-02-05T00:00:00\", \"2018-02-06T00:00:00\", \"2018-02-07T00:00:00\", \"2018-02-08T00:00:00\", \"2018-02-09T00:00:00\", \"2018-02-12T00:00:00\", \"2018-02-13T00:00:00\", \"2018-02-14T00:00:00\", \"2018-02-15T00:00:00\", \"2018-02-16T00:00:00\", \"2018-02-20T00:00:00\", \"2018-02-21T00:00:00\", \"2018-02-22T00:00:00\", \"2018-02-23T00:00:00\", \"2018-02-26T00:00:00\", \"2018-02-27T00:00:00\", \"2018-02-28T00:00:00\", \"2018-03-01T00:00:00\", \"2018-03-02T00:00:00\", \"2018-03-05T00:00:00\", \"2018-03-06T00:00:00\", \"2018-03-07T00:00:00\", \"2018-03-08T00:00:00\", \"2018-03-09T00:00:00\", \"2018-03-12T00:00:00\", \"2018-03-13T00:00:00\", \"2018-03-14T00:00:00\", \"2018-03-15T00:00:00\", \"2018-03-16T00:00:00\", \"2018-03-19T00:00:00\", \"2018-03-20T00:00:00\", \"2018-03-21T00:00:00\", \"2018-03-22T00:00:00\", \"2018-03-23T00:00:00\", \"2018-03-26T00:00:00\", \"2018-03-27T00:00:00\", \"2018-03-28T00:00:00\", \"2018-03-29T00:00:00\", \"2018-04-02T00:00:00\", \"2018-04-03T00:00:00\", \"2018-04-04T00:00:00\", \"2018-04-05T00:00:00\", \"2018-04-06T00:00:00\", \"2018-04-09T00:00:00\", \"2018-04-10T00:00:00\", \"2018-04-11T00:00:00\", \"2018-04-12T00:00:00\", \"2018-04-13T00:00:00\", \"2018-04-16T00:00:00\", \"2018-04-17T00:00:00\", \"2018-04-18T00:00:00\", \"2018-04-19T00:00:00\", \"2018-04-20T00:00:00\", \"2018-04-23T00:00:00\", \"2018-04-24T00:00:00\", \"2018-04-25T00:00:00\", \"2018-04-26T00:00:00\", \"2018-04-27T00:00:00\", \"2018-04-30T00:00:00\", \"2018-05-01T00:00:00\", \"2018-05-02T00:00:00\", \"2018-05-03T00:00:00\", \"2018-05-04T00:00:00\", \"2018-05-07T00:00:00\", \"2018-05-08T00:00:00\", \"2018-05-09T00:00:00\", \"2018-05-10T00:00:00\", \"2018-05-11T00:00:00\", \"2018-05-14T00:00:00\", \"2018-05-15T00:00:00\", \"2018-05-16T00:00:00\", \"2018-05-17T00:00:00\", \"2018-05-18T00:00:00\", \"2018-05-21T00:00:00\", \"2018-05-22T00:00:00\", \"2018-05-23T00:00:00\", \"2018-05-24T00:00:00\", \"2018-05-25T00:00:00\", \"2018-05-29T00:00:00\", \"2018-05-30T00:00:00\", \"2018-05-31T00:00:00\", \"2018-06-01T00:00:00\", \"2018-06-04T00:00:00\", \"2018-06-05T00:00:00\", \"2018-06-06T00:00:00\", \"2018-06-07T00:00:00\", \"2018-06-08T00:00:00\", \"2018-06-11T00:00:00\", \"2018-06-12T00:00:00\", \"2018-06-13T00:00:00\", \"2018-06-14T00:00:00\", \"2018-06-15T00:00:00\", \"2018-06-18T00:00:00\", \"2018-06-19T00:00:00\", \"2018-06-20T00:00:00\", \"2018-06-21T00:00:00\", \"2018-06-22T00:00:00\", \"2018-06-25T00:00:00\", \"2018-06-26T00:00:00\", \"2018-06-27T00:00:00\", \"2018-06-28T00:00:00\", \"2018-06-29T00:00:00\", \"2018-07-02T00:00:00\", \"2018-07-03T00:00:00\", \"2018-07-05T00:00:00\", \"2018-07-06T00:00:00\", \"2018-07-09T00:00:00\", \"2018-07-10T00:00:00\", \"2018-07-11T00:00:00\", \"2018-07-12T00:00:00\", \"2018-07-13T00:00:00\", \"2018-07-16T00:00:00\", \"2018-07-17T00:00:00\", \"2018-07-18T00:00:00\", \"2018-07-19T00:00:00\", \"2018-07-20T00:00:00\", \"2018-07-23T00:00:00\", \"2018-07-24T00:00:00\", \"2018-07-25T00:00:00\", \"2018-07-26T00:00:00\", \"2018-07-27T00:00:00\", \"2018-07-30T00:00:00\", \"2018-07-31T00:00:00\", \"2018-08-01T00:00:00\", \"2018-08-02T00:00:00\", \"2018-08-03T00:00:00\", \"2018-08-06T00:00:00\", \"2018-08-07T00:00:00\", \"2018-08-08T00:00:00\", \"2018-08-09T00:00:00\", \"2018-08-10T00:00:00\", \"2018-08-13T00:00:00\", \"2018-08-14T00:00:00\", \"2018-08-15T00:00:00\", \"2018-08-16T00:00:00\", \"2018-08-17T00:00:00\", \"2018-08-20T00:00:00\", \"2018-08-21T00:00:00\", \"2018-08-22T00:00:00\", \"2018-08-23T00:00:00\", \"2018-08-24T00:00:00\", \"2018-08-27T00:00:00\", \"2018-08-28T00:00:00\", \"2018-08-29T00:00:00\", \"2018-08-30T00:00:00\", \"2018-08-31T00:00:00\", \"2018-09-04T00:00:00\", \"2018-09-05T00:00:00\", \"2018-09-06T00:00:00\", \"2018-09-07T00:00:00\", \"2018-09-10T00:00:00\", \"2018-09-11T00:00:00\", \"2018-09-12T00:00:00\", \"2018-09-13T00:00:00\", \"2018-09-14T00:00:00\", \"2018-09-17T00:00:00\", \"2018-09-18T00:00:00\", \"2018-09-19T00:00:00\", \"2018-09-20T00:00:00\", \"2018-09-21T00:00:00\", \"2018-09-24T00:00:00\", \"2018-09-25T00:00:00\", \"2018-09-26T00:00:00\", \"2018-09-27T00:00:00\", \"2018-09-28T00:00:00\", \"2018-10-01T00:00:00\", \"2018-10-02T00:00:00\", \"2018-10-03T00:00:00\", \"2018-10-04T00:00:00\", \"2018-10-05T00:00:00\", \"2018-10-08T00:00:00\", \"2018-10-09T00:00:00\", \"2018-10-10T00:00:00\", \"2018-10-11T00:00:00\", \"2018-10-12T00:00:00\", \"2018-10-15T00:00:00\", \"2018-10-16T00:00:00\", \"2018-10-17T00:00:00\", \"2018-10-18T00:00:00\", \"2018-10-19T00:00:00\", \"2018-10-22T00:00:00\", \"2018-10-23T00:00:00\", \"2018-10-24T00:00:00\", \"2018-10-25T00:00:00\", \"2018-10-26T00:00:00\", \"2018-10-29T00:00:00\", \"2018-10-30T00:00:00\", \"2018-10-31T00:00:00\", \"2018-11-01T00:00:00\", \"2018-11-02T00:00:00\", \"2018-11-05T00:00:00\", \"2018-11-06T00:00:00\", \"2018-11-07T00:00:00\", \"2018-11-08T00:00:00\", \"2018-11-09T00:00:00\", \"2018-11-12T00:00:00\", \"2018-11-13T00:00:00\", \"2018-11-14T00:00:00\", \"2018-11-15T00:00:00\", \"2018-11-16T00:00:00\", \"2018-11-19T00:00:00\", \"2018-11-20T00:00:00\", \"2018-11-21T00:00:00\", \"2018-11-23T00:00:00\", \"2018-11-26T00:00:00\", \"2018-11-27T00:00:00\", \"2018-11-28T00:00:00\", \"2018-11-29T00:00:00\", \"2018-11-30T00:00:00\", \"2018-12-03T00:00:00\", \"2018-12-04T00:00:00\", \"2018-12-06T00:00:00\", \"2018-12-07T00:00:00\", \"2018-12-10T00:00:00\", \"2018-12-11T00:00:00\", \"2018-12-12T00:00:00\", \"2018-12-13T00:00:00\", \"2018-12-14T00:00:00\", \"2018-12-17T00:00:00\", \"2018-12-18T00:00:00\", \"2018-12-19T00:00:00\", \"2018-12-20T00:00:00\", \"2018-12-21T00:00:00\", \"2018-12-24T00:00:00\", \"2018-12-26T00:00:00\", \"2018-12-27T00:00:00\", \"2018-12-28T00:00:00\", \"2018-12-31T00:00:00\", \"2019-01-02T00:00:00\", \"2019-01-03T00:00:00\", \"2019-01-04T00:00:00\", \"2019-01-07T00:00:00\", \"2019-01-08T00:00:00\", \"2019-01-09T00:00:00\", \"2019-01-10T00:00:00\", \"2019-01-11T00:00:00\", \"2019-01-14T00:00:00\", \"2019-01-15T00:00:00\", \"2019-01-16T00:00:00\", \"2019-01-17T00:00:00\", \"2019-01-18T00:00:00\", \"2019-01-22T00:00:00\", \"2019-01-23T00:00:00\", \"2019-01-24T00:00:00\", \"2019-01-25T00:00:00\", \"2019-01-28T00:00:00\", \"2019-01-29T00:00:00\", \"2019-01-30T00:00:00\", \"2019-01-31T00:00:00\", \"2019-02-01T00:00:00\", \"2019-02-04T00:00:00\", \"2019-02-05T00:00:00\", \"2019-02-06T00:00:00\", \"2019-02-07T00:00:00\", \"2019-02-08T00:00:00\", \"2019-02-11T00:00:00\", \"2019-02-12T00:00:00\", \"2019-02-13T00:00:00\", \"2019-02-14T00:00:00\", \"2019-02-15T00:00:00\", \"2019-02-19T00:00:00\", \"2019-02-20T00:00:00\", \"2019-02-21T00:00:00\", \"2019-02-22T00:00:00\", \"2019-02-25T00:00:00\", \"2019-02-26T00:00:00\", \"2019-02-27T00:00:00\", \"2019-02-28T00:00:00\", \"2019-03-01T00:00:00\", \"2019-03-04T00:00:00\", \"2019-03-05T00:00:00\", \"2019-03-06T00:00:00\", \"2019-03-07T00:00:00\", \"2019-03-08T00:00:00\", \"2019-03-11T00:00:00\", \"2019-03-12T00:00:00\", \"2019-03-13T00:00:00\", \"2019-03-14T00:00:00\", \"2019-03-15T00:00:00\", \"2019-03-18T00:00:00\", \"2019-03-19T00:00:00\", \"2019-03-20T00:00:00\", \"2019-03-21T00:00:00\", \"2019-03-22T00:00:00\", \"2019-03-25T00:00:00\", \"2019-03-26T00:00:00\", \"2019-03-27T00:00:00\", \"2019-03-28T00:00:00\", \"2019-03-29T00:00:00\", \"2019-04-01T00:00:00\", \"2019-04-02T00:00:00\", \"2019-04-03T00:00:00\", \"2019-04-04T00:00:00\", \"2019-04-05T00:00:00\", \"2019-04-08T00:00:00\", \"2019-04-09T00:00:00\", \"2019-04-10T00:00:00\", \"2019-04-11T00:00:00\", \"2019-04-12T00:00:00\", \"2019-04-15T00:00:00\", \"2019-04-16T00:00:00\", \"2019-04-17T00:00:00\", \"2019-04-18T00:00:00\", \"2019-04-22T00:00:00\", \"2019-04-23T00:00:00\", \"2019-04-24T00:00:00\", \"2019-04-25T00:00:00\", \"2019-04-26T00:00:00\", \"2019-04-29T00:00:00\", \"2019-04-30T00:00:00\", \"2019-05-01T00:00:00\", \"2019-05-02T00:00:00\", \"2019-05-03T00:00:00\", \"2019-05-06T00:00:00\", \"2019-05-07T00:00:00\", \"2019-05-08T00:00:00\", \"2019-05-09T00:00:00\", \"2019-05-10T00:00:00\", \"2019-05-13T00:00:00\", \"2019-05-14T00:00:00\", \"2019-05-15T00:00:00\", \"2019-05-16T00:00:00\", \"2019-05-17T00:00:00\", \"2019-05-20T00:00:00\", \"2019-05-21T00:00:00\", \"2019-05-22T00:00:00\", \"2019-05-23T00:00:00\", \"2019-05-24T00:00:00\", \"2019-05-28T00:00:00\", \"2019-05-29T00:00:00\", \"2019-05-30T00:00:00\", \"2019-05-31T00:00:00\", \"2019-06-03T00:00:00\", \"2019-06-04T00:00:00\", \"2019-06-05T00:00:00\", \"2019-06-06T00:00:00\", \"2019-06-07T00:00:00\", \"2019-06-10T00:00:00\", \"2019-06-11T00:00:00\", \"2019-06-12T00:00:00\", \"2019-06-13T00:00:00\", \"2019-06-14T00:00:00\", \"2019-06-17T00:00:00\", \"2019-06-18T00:00:00\", \"2019-06-19T00:00:00\", \"2019-06-20T00:00:00\", \"2019-06-21T00:00:00\", \"2019-06-24T00:00:00\", \"2019-06-25T00:00:00\", \"2019-06-26T00:00:00\", \"2019-06-27T00:00:00\", \"2019-06-28T00:00:00\", \"2019-07-01T00:00:00\", \"2019-07-02T00:00:00\", \"2019-07-03T00:00:00\", \"2019-07-05T00:00:00\", \"2019-07-08T00:00:00\", \"2019-07-09T00:00:00\", \"2019-07-10T00:00:00\", \"2019-07-11T00:00:00\", \"2019-07-12T00:00:00\", \"2019-07-15T00:00:00\", \"2019-07-16T00:00:00\", \"2019-07-17T00:00:00\", \"2019-07-18T00:00:00\", \"2019-07-19T00:00:00\", \"2019-07-22T00:00:00\", \"2019-07-23T00:00:00\", \"2019-07-24T00:00:00\", \"2019-07-25T00:00:00\", \"2019-07-26T00:00:00\", \"2019-07-29T00:00:00\", \"2019-07-30T00:00:00\", \"2019-07-31T00:00:00\", \"2019-08-01T00:00:00\", \"2019-08-02T00:00:00\", \"2019-08-05T00:00:00\", \"2019-08-06T00:00:00\", \"2019-08-07T00:00:00\", \"2019-08-08T00:00:00\", \"2019-08-09T00:00:00\", \"2019-08-12T00:00:00\", \"2019-08-13T00:00:00\", \"2019-08-14T00:00:00\", \"2019-08-15T00:00:00\", \"2019-08-16T00:00:00\", \"2019-08-19T00:00:00\", \"2019-08-20T00:00:00\", \"2019-08-21T00:00:00\", \"2019-08-22T00:00:00\", \"2019-08-23T00:00:00\", \"2019-08-26T00:00:00\", \"2019-08-27T00:00:00\", \"2019-08-28T00:00:00\", \"2019-08-29T00:00:00\", \"2019-08-30T00:00:00\", \"2019-09-03T00:00:00\", \"2019-09-04T00:00:00\", \"2019-09-05T00:00:00\", \"2019-09-06T00:00:00\", \"2019-09-09T00:00:00\", \"2019-09-10T00:00:00\", \"2019-09-11T00:00:00\", \"2019-09-12T00:00:00\", \"2019-09-13T00:00:00\", \"2019-09-16T00:00:00\", \"2019-09-17T00:00:00\", \"2019-09-18T00:00:00\", \"2019-09-19T00:00:00\", \"2019-09-20T00:00:00\", \"2019-09-23T00:00:00\", \"2019-09-24T00:00:00\", \"2019-09-25T00:00:00\", \"2019-09-26T00:00:00\", \"2019-09-27T00:00:00\", \"2019-09-30T00:00:00\", \"2019-10-01T00:00:00\", \"2019-10-02T00:00:00\", \"2019-10-03T00:00:00\", \"2019-10-04T00:00:00\", \"2019-10-07T00:00:00\", \"2019-10-08T00:00:00\", \"2019-10-09T00:00:00\", \"2019-10-10T00:00:00\", \"2019-10-11T00:00:00\", \"2019-10-14T00:00:00\", \"2019-10-15T00:00:00\", \"2019-10-16T00:00:00\", \"2019-10-17T00:00:00\", \"2019-10-18T00:00:00\", \"2019-10-21T00:00:00\", \"2019-10-22T00:00:00\", \"2019-10-23T00:00:00\", \"2019-10-24T00:00:00\", \"2019-10-25T00:00:00\", \"2019-10-28T00:00:00\", \"2019-10-29T00:00:00\", \"2019-10-30T00:00:00\", \"2019-10-31T00:00:00\", \"2019-11-01T00:00:00\", \"2019-11-04T00:00:00\", \"2019-11-05T00:00:00\", \"2019-11-06T00:00:00\", \"2019-11-07T00:00:00\", \"2019-11-08T00:00:00\", \"2019-11-11T00:00:00\", \"2019-11-12T00:00:00\", \"2019-11-13T00:00:00\", \"2019-11-14T00:00:00\", \"2019-11-15T00:00:00\", \"2019-11-18T00:00:00\", \"2019-11-19T00:00:00\", \"2019-11-20T00:00:00\", \"2019-11-21T00:00:00\", \"2019-11-22T00:00:00\", \"2019-11-25T00:00:00\", \"2019-11-26T00:00:00\", \"2019-11-27T00:00:00\", \"2019-11-29T00:00:00\", \"2019-12-02T00:00:00\", \"2019-12-03T00:00:00\", \"2019-12-04T00:00:00\", \"2019-12-05T00:00:00\", \"2019-12-06T00:00:00\", \"2019-12-09T00:00:00\", \"2019-12-10T00:00:00\", \"2019-12-11T00:00:00\", \"2019-12-12T00:00:00\", \"2019-12-13T00:00:00\", \"2019-12-16T00:00:00\", \"2019-12-17T00:00:00\", \"2019-12-18T00:00:00\", \"2019-12-19T00:00:00\", \"2019-12-20T00:00:00\", \"2019-12-23T00:00:00\", \"2019-12-24T00:00:00\", \"2019-12-26T00:00:00\", \"2019-12-27T00:00:00\", \"2019-12-30T00:00:00\", \"2019-12-31T00:00:00\", \"2020-01-02T00:00:00\", \"2020-01-03T00:00:00\", \"2020-01-06T00:00:00\", \"2020-01-07T00:00:00\", \"2020-01-08T00:00:00\", \"2020-01-09T00:00:00\", \"2020-01-10T00:00:00\", \"2020-01-13T00:00:00\", \"2020-01-14T00:00:00\", \"2020-01-15T00:00:00\", \"2020-01-16T00:00:00\", \"2020-01-17T00:00:00\", \"2020-01-21T00:00:00\", \"2020-01-22T00:00:00\", \"2020-01-23T00:00:00\", \"2020-01-24T00:00:00\", \"2020-01-27T00:00:00\", \"2020-01-28T00:00:00\", \"2020-01-29T00:00:00\", \"2020-01-30T00:00:00\", \"2020-01-31T00:00:00\", \"2020-02-03T00:00:00\", \"2020-02-04T00:00:00\", \"2020-02-05T00:00:00\", \"2020-02-06T00:00:00\", \"2020-02-07T00:00:00\", \"2020-02-10T00:00:00\", \"2020-02-11T00:00:00\", \"2020-02-12T00:00:00\", \"2020-02-13T00:00:00\", \"2020-02-14T00:00:00\", \"2020-02-18T00:00:00\", \"2020-02-19T00:00:00\", \"2020-02-20T00:00:00\", \"2020-02-21T00:00:00\", \"2020-02-24T00:00:00\", \"2020-02-25T00:00:00\", \"2020-02-26T00:00:00\", \"2020-02-27T00:00:00\", \"2020-02-28T00:00:00\", \"2020-03-02T00:00:00\", \"2020-03-03T00:00:00\", \"2020-03-04T00:00:00\", \"2020-03-05T00:00:00\", \"2020-03-06T00:00:00\", \"2020-03-09T00:00:00\", \"2020-03-10T00:00:00\", \"2020-03-11T00:00:00\", \"2020-03-12T00:00:00\", \"2020-03-13T00:00:00\", \"2020-03-16T00:00:00\", \"2020-03-17T00:00:00\", \"2020-03-18T00:00:00\", \"2020-03-19T00:00:00\", \"2020-03-20T00:00:00\", \"2020-03-23T00:00:00\", \"2020-03-24T00:00:00\", \"2020-03-25T00:00:00\", \"2020-03-26T00:00:00\", \"2020-03-27T00:00:00\", \"2020-03-30T00:00:00\", \"2020-03-31T00:00:00\", \"2020-04-01T00:00:00\", \"2020-04-02T00:00:00\", \"2020-04-03T00:00:00\", \"2020-04-06T00:00:00\", \"2020-04-07T00:00:00\", \"2020-04-08T00:00:00\", \"2020-04-09T00:00:00\", \"2020-04-13T00:00:00\", \"2020-04-14T00:00:00\", \"2020-04-15T00:00:00\", \"2020-04-16T00:00:00\", \"2020-04-17T00:00:00\", \"2020-04-20T00:00:00\", \"2020-04-21T00:00:00\", \"2020-04-22T00:00:00\", \"2020-04-23T00:00:00\", \"2020-04-24T00:00:00\", \"2020-04-27T00:00:00\", \"2020-04-28T00:00:00\", \"2020-04-29T00:00:00\", \"2020-04-30T00:00:00\", \"2020-05-01T00:00:00\", \"2020-05-04T00:00:00\", \"2020-05-05T00:00:00\", \"2020-05-06T00:00:00\", \"2020-05-07T00:00:00\", \"2020-05-08T00:00:00\", \"2020-05-11T00:00:00\", \"2020-05-12T00:00:00\", \"2020-05-13T00:00:00\", \"2020-05-14T00:00:00\", \"2020-05-15T00:00:00\", \"2020-05-18T00:00:00\", \"2020-05-19T00:00:00\", \"2020-05-20T00:00:00\", \"2020-05-21T00:00:00\", \"2020-05-22T00:00:00\", \"2020-05-26T00:00:00\", \"2020-05-27T00:00:00\", \"2020-05-28T00:00:00\", \"2020-05-29T00:00:00\", \"2020-06-01T00:00:00\", \"2020-06-02T00:00:00\", \"2020-06-03T00:00:00\", \"2020-06-04T00:00:00\", \"2020-06-05T00:00:00\", \"2020-06-08T00:00:00\", \"2020-06-09T00:00:00\", \"2020-06-10T00:00:00\", \"2020-06-11T00:00:00\", \"2020-06-12T00:00:00\", \"2020-06-15T00:00:00\", \"2020-06-16T00:00:00\", \"2020-06-17T00:00:00\", \"2020-06-18T00:00:00\", \"2020-06-19T00:00:00\", \"2020-06-22T00:00:00\", \"2020-06-23T00:00:00\", \"2020-06-24T00:00:00\", \"2020-06-25T00:00:00\", \"2020-06-26T00:00:00\", \"2020-06-29T00:00:00\", \"2020-06-30T00:00:00\", \"2020-07-01T00:00:00\", \"2020-07-02T00:00:00\", \"2020-07-06T00:00:00\", \"2020-07-07T00:00:00\", \"2020-07-08T00:00:00\", \"2020-07-09T00:00:00\", \"2020-07-10T00:00:00\", \"2020-07-13T00:00:00\", \"2020-07-14T00:00:00\", \"2020-07-15T00:00:00\", \"2020-07-16T00:00:00\", \"2020-07-17T00:00:00\", \"2020-07-20T00:00:00\", \"2020-07-21T00:00:00\", \"2020-07-22T00:00:00\", \"2020-07-23T00:00:00\", \"2020-07-24T00:00:00\", \"2020-07-27T00:00:00\", \"2020-07-28T00:00:00\", \"2020-07-29T00:00:00\", \"2020-07-30T00:00:00\", \"2020-07-31T00:00:00\", \"2020-08-03T00:00:00\", \"2020-08-04T00:00:00\", \"2020-08-05T00:00:00\", \"2020-08-06T00:00:00\", \"2020-08-07T00:00:00\", \"2020-08-10T00:00:00\", \"2020-08-11T00:00:00\", \"2020-08-12T00:00:00\", \"2020-08-13T00:00:00\", \"2020-08-14T00:00:00\", \"2020-08-17T00:00:00\", \"2020-08-18T00:00:00\", \"2020-08-19T00:00:00\", \"2020-08-20T00:00:00\", \"2020-08-21T00:00:00\", \"2020-08-24T00:00:00\", \"2020-08-25T00:00:00\", \"2020-08-26T00:00:00\", \"2020-08-27T00:00:00\", \"2020-08-28T00:00:00\", \"2020-08-31T00:00:00\", \"2020-09-01T00:00:00\", \"2020-09-02T00:00:00\", \"2020-09-03T00:00:00\", \"2020-09-04T00:00:00\", \"2020-09-08T00:00:00\", \"2020-09-09T00:00:00\", \"2020-09-10T00:00:00\", \"2020-09-11T00:00:00\", \"2020-09-14T00:00:00\", \"2020-09-15T00:00:00\", \"2020-09-16T00:00:00\", \"2020-09-17T00:00:00\", \"2020-09-18T00:00:00\", \"2020-09-21T00:00:00\", \"2020-09-22T00:00:00\", \"2020-09-23T00:00:00\", \"2020-09-24T00:00:00\", \"2020-09-25T00:00:00\", \"2020-09-28T00:00:00\", \"2020-09-29T00:00:00\", \"2020-09-30T00:00:00\", \"2020-10-01T00:00:00\", \"2020-10-02T00:00:00\", \"2020-10-05T00:00:00\", \"2020-10-06T00:00:00\", \"2020-10-07T00:00:00\", \"2020-10-08T00:00:00\", \"2020-10-09T00:00:00\", \"2020-10-12T00:00:00\", \"2020-10-13T00:00:00\", \"2020-10-14T00:00:00\", \"2020-10-15T00:00:00\", \"2020-10-16T00:00:00\", \"2020-10-19T00:00:00\", \"2020-10-20T00:00:00\", \"2020-10-21T00:00:00\", \"2020-10-22T00:00:00\", \"2020-10-23T00:00:00\", \"2020-10-26T00:00:00\", \"2020-10-27T00:00:00\", \"2020-10-28T00:00:00\", \"2020-10-29T00:00:00\", \"2020-10-30T00:00:00\", \"2020-11-02T00:00:00\", \"2020-11-03T00:00:00\", \"2020-11-04T00:00:00\", \"2020-11-05T00:00:00\", \"2020-11-06T00:00:00\", \"2020-11-09T00:00:00\", \"2020-11-10T00:00:00\", \"2020-11-11T00:00:00\", \"2020-11-12T00:00:00\", \"2020-11-13T00:00:00\", \"2020-11-16T00:00:00\", \"2020-11-17T00:00:00\", \"2020-11-18T00:00:00\", \"2020-11-19T00:00:00\", \"2020-11-20T00:00:00\", \"2020-11-23T00:00:00\", \"2020-11-24T00:00:00\", \"2020-11-25T00:00:00\", \"2020-11-27T00:00:00\", \"2020-11-30T00:00:00\", \"2020-12-01T00:00:00\", \"2020-12-02T00:00:00\", \"2020-12-03T00:00:00\", \"2020-12-04T00:00:00\", \"2020-12-07T00:00:00\", \"2020-12-08T00:00:00\", \"2020-12-09T00:00:00\", \"2020-12-10T00:00:00\", \"2020-12-11T00:00:00\", \"2020-12-14T00:00:00\", \"2020-12-15T00:00:00\", \"2020-12-16T00:00:00\", \"2020-12-17T00:00:00\", \"2020-12-18T00:00:00\", \"2020-12-21T00:00:00\", \"2020-12-22T00:00:00\", \"2020-12-23T00:00:00\", \"2020-12-24T00:00:00\", \"2020-12-28T00:00:00\", \"2020-12-29T00:00:00\", \"2020-12-30T00:00:00\", \"2020-12-31T00:00:00\", \"2021-01-04T00:00:00\", \"2021-01-05T00:00:00\", \"2021-01-06T00:00:00\", \"2021-01-07T00:00:00\", \"2021-01-08T00:00:00\", \"2021-01-11T00:00:00\", \"2021-01-12T00:00:00\", \"2021-01-13T00:00:00\", \"2021-01-14T00:00:00\", \"2021-01-15T00:00:00\", \"2021-01-19T00:00:00\", \"2021-01-20T00:00:00\", \"2021-01-21T00:00:00\", \"2021-01-22T00:00:00\", \"2021-01-25T00:00:00\", \"2021-01-26T00:00:00\", \"2021-01-27T00:00:00\", \"2021-01-28T00:00:00\", \"2021-01-29T00:00:00\", \"2021-02-01T00:00:00\", \"2021-02-02T00:00:00\", \"2021-02-03T00:00:00\", \"2021-02-04T00:00:00\", \"2021-02-05T00:00:00\", \"2021-02-08T00:00:00\", \"2021-02-09T00:00:00\", \"2021-02-10T00:00:00\", \"2021-02-11T00:00:00\", \"2021-02-12T00:00:00\", \"2021-02-16T00:00:00\", \"2021-02-17T00:00:00\", \"2021-02-18T00:00:00\", \"2021-02-19T00:00:00\", \"2021-02-22T00:00:00\", \"2021-02-23T00:00:00\", \"2021-02-24T00:00:00\", \"2021-02-25T00:00:00\", \"2021-02-26T00:00:00\", \"2021-03-01T00:00:00\", \"2021-03-02T00:00:00\", \"2021-03-03T00:00:00\", \"2021-03-04T00:00:00\", \"2021-03-05T00:00:00\", \"2021-03-08T00:00:00\", \"2021-03-09T00:00:00\", \"2021-03-10T00:00:00\", \"2021-03-11T00:00:00\", \"2021-03-12T00:00:00\", \"2021-03-15T00:00:00\", \"2021-03-16T00:00:00\", \"2021-03-17T00:00:00\", \"2021-03-18T00:00:00\", \"2021-03-19T00:00:00\", \"2021-03-22T00:00:00\", \"2021-03-23T00:00:00\", \"2021-03-24T00:00:00\", \"2021-03-25T00:00:00\", \"2021-03-26T00:00:00\", \"2021-03-29T00:00:00\", \"2021-03-30T00:00:00\", \"2021-03-31T00:00:00\", \"2021-04-01T00:00:00\", \"2021-04-05T00:00:00\", \"2021-04-06T00:00:00\", \"2021-04-07T00:00:00\", \"2021-04-08T00:00:00\", \"2021-04-09T00:00:00\", \"2021-04-12T00:00:00\", \"2021-04-13T00:00:00\", \"2021-04-14T00:00:00\", \"2021-04-15T00:00:00\", \"2021-04-16T00:00:00\", \"2021-04-19T00:00:00\", \"2021-04-20T00:00:00\", \"2021-04-21T00:00:00\", \"2021-04-22T00:00:00\", \"2021-04-23T00:00:00\", \"2021-04-26T00:00:00\", \"2021-04-27T00:00:00\", \"2021-04-28T00:00:00\", \"2021-04-29T00:00:00\", \"2021-04-30T00:00:00\", \"2021-05-03T00:00:00\", \"2021-05-04T00:00:00\", \"2021-05-05T00:00:00\", \"2021-05-06T00:00:00\", \"2021-05-07T00:00:00\", \"2021-05-10T00:00:00\", \"2021-05-11T00:00:00\", \"2021-05-12T00:00:00\", \"2021-05-13T00:00:00\", \"2021-05-14T00:00:00\", \"2021-05-17T00:00:00\", \"2021-05-18T00:00:00\", \"2021-05-19T00:00:00\", \"2021-05-20T00:00:00\", \"2021-05-21T00:00:00\", \"2021-05-24T00:00:00\", \"2021-05-25T00:00:00\", \"2021-05-26T00:00:00\", \"2021-05-27T00:00:00\", \"2021-05-28T00:00:00\", \"2021-06-01T00:00:00\", \"2021-06-02T00:00:00\", \"2021-06-03T00:00:00\", \"2021-06-04T00:00:00\", \"2021-06-07T00:00:00\", \"2021-06-08T00:00:00\", \"2021-06-09T00:00:00\", \"2021-06-10T00:00:00\", \"2021-06-11T00:00:00\", \"2021-06-14T00:00:00\", \"2021-06-15T00:00:00\", \"2021-06-16T00:00:00\", \"2021-06-17T00:00:00\", \"2021-06-18T00:00:00\", \"2021-06-21T00:00:00\", \"2021-06-22T00:00:00\", \"2021-06-23T00:00:00\", \"2021-06-24T00:00:00\", \"2021-06-25T00:00:00\", \"2021-06-28T00:00:00\", \"2021-06-29T00:00:00\", \"2021-06-30T00:00:00\", \"2021-07-01T00:00:00\", \"2021-07-02T00:00:00\", \"2021-07-06T00:00:00\", \"2021-07-07T00:00:00\", \"2021-07-08T00:00:00\", \"2021-07-09T00:00:00\", \"2021-07-12T00:00:00\", \"2021-07-13T00:00:00\", \"2021-07-14T00:00:00\", \"2021-07-15T00:00:00\", \"2021-07-16T00:00:00\", \"2021-07-19T00:00:00\", \"2021-07-20T00:00:00\", \"2021-07-21T00:00:00\", \"2021-07-22T00:00:00\", \"2021-07-23T00:00:00\"], \"xaxis\": \"x\", \"y\": [0.265625, 0.2924109995365143, 0.3046880066394806, 0.2924109995365143, 0.295758992433548, 0.30691999197006226, 0.295758992433548, 0.3214290142059326, 0.30691999197006226, 0.3058040142059326, 0.3002229928970337, 0.33370500802993774, 0.3482140004634857, 0.34375, 0.3660709857940674, 0.3660709857940674, 0.3560270071029663, 0.34933000802993774, 0.3872770071029663, 0.38839301466941833, 0.3861609995365143, 0.37723198533058167, 0.3683040142059326, 0.360491007566452, 0.37723198533058167, 0.3705359995365143, 0.3705359995365143, 0.34151801466941833, 0.3515630066394806, 0.34151801466941833, 0.3482140004634857, 0.358258992433548, 0.3392859995365143, 0.327008992433548, 0.3370540142059326, 0.3359380066394806, 0.3359380066394806, 0.3482140004634857, 0.34598198533058167, 0.32589301466941833, 0.3348209857940674, 0.34375, 0.3638390004634857, 0.3839290142059326, 0.3794640004634857, 0.3716520071029663, 0.36160698533058167, 0.3325890004634857, 0.34933000802993774, 0.36495500802993774, 0.3515630066394806, 0.3504459857940674, 0.3671880066394806, 0.3515630066394806, 0.359375, 0.3861609995365143, 0.4107140004634857, 0.38892900943756104, 0.408392995595932, 0.39589300751686096, 0.4023210108280182, 0.39410701394081116, 0.38553598523139954, 0.36142900586128235, 0.3482140004634857, 0.3726789951324463, 0.36767899990081787, 0.36678600311279297, 0.39357098937034607, 0.38928601145744324, 0.4003570079803467, 0.38285699486732483, 0.36428600549697876, 0.4069640040397644, 0.45928600430488586, 0.44714298844337463, 0.4330359995365143, 0.42910701036453247, 0.4414289891719818, 0.4408929944038391, 0.4678570032119751, 0.45517900586128235, 0.4630360007286072, 0.474821001291275, 0.44571399688720703, 0.4598209857940674, 0.44571399688720703, 0.4387499988079071, 0.42821401357650757, 0.4107140004634857, 0.4080359935760498, 0.41589298844337463, 0.4139289855957031, 0.4303570091724396, 0.42053601145744324, 0.42017900943756104, 0.42071399092674255, 0.41964301466941833, 0.41482099890708923, 0.4142859876155853, 0.4064289927482605, 0.38339298963546753, 0.35321399569511414, 0.35624998807907104, 0.3730359971523285, 0.368928998708725, 0.3739289939403534, 0.3701789975166321, 0.38678601384162903, 0.3807139992713928, 0.35785698890686035, 0.36267900466918945, 0.36553600430488586, 0.35499998927116394, 0.36500000953674316, 0.36303600668907166, 0.36053600907325745, 0.38696399331092834, 0.4016070067882538, 0.39750000834465027, 0.42839300632476807, 0.42410698533058167, 0.41678598523139954, 0.42035698890686035, 0.4151790142059326, 0.42678600549697876, 0.42571398615837097, 0.41410699486732483, 0.39339300990104675, 0.4053570032119751, 0.3774999976158142, 0.4025000035762787, 0.4350000023841858, 0.4437499940395355, 0.42785701155662537, 0.44821399450302124, 0.3712500035762787, 0.35642901062965393, 0.35678601264953613, 0.3489289879798889, 0.3408930003643036, 0.32982099056243896, 0.33196398615837097, 0.3385710120201111, 0.3380360007286072, 0.33553600311279297, 0.3403570055961609, 0.3539290130138397, 0.3482140004634857, 0.341607004404068, 0.34375, 0.3375000059604645, 0.3401789963245392, 0.3396430015563965, 0.3408930003643036, 0.33446401357650757, 0.32928600907325745, 0.33303600549697876, 0.3226790130138397, 0.32357099652290344, 0.3199999928474426, 0.32517901062965393, 0.3180359899997711, 0.33160701394081116, 0.3378570079803467, 0.32857099175453186, 0.3183929920196533, 0.3183929920196533, 0.33125001192092896, 0.32589301466941833, 0.33125001192092896, 0.3164289891719818, 0.3085710108280182, 0.3101789951324463, 0.30339300632476807, 0.29071399569511414, 0.30392900109291077, 0.2800000011920929, 0.2808929979801178, 0.29374998807907104, 0.2775000035762787, 0.27053600549697876, 0.276964008808136, 0.276964008808136, 0.2775000035762787, 0.26875001192092896, 0.26750001311302185, 0.2835710048675537, 0.2882139980792999, 0.2892859876155853, 0.2857140004634857, 0.30035701394081116, 0.316785991191864, 0.32160699367523193, 0.32124999165534973, 0.32160699367523193, 0.30339300632476807, 0.3214290142059326, 0.32678601145744324, 0.3396430015563965, 0.3239290118217468, 0.3383930027484894, 0.3426789939403534, 0.33339300751686096, 0.3148210048675537, 0.3142859935760498, 0.3135710060596466, 0.33196398615837097, 0.33160701394081116, 0.3405359983444214, 0.3494639992713928, 0.349821001291275, 0.33410701155662537, 0.33410701155662537, 0.3348209857940674, 0.345892995595932, 0.350178986787796, 0.3473210036754608, 0.3387500047683716, 0.35714301466941833, 0.3487499952316284, 0.3514289855957031, 0.35428598523139954, 0.3816069960594177, 0.375, 0.36660701036453247, 0.36464300751686096, 0.3803569972515106, 0.3758929967880249, 0.4000000059604645, 0.42428600788116455, 0.4067859947681427, 0.4025000035762787, 0.4025000035762787, 0.38892900943756104, 0.38374999165534973, 0.375, 0.36410701274871826, 0.3682140111923218, 0.3751789927482605, 0.38607099652290344, 0.3691070079803467, 0.375, 0.381428986787796, 0.38374999165534973, 0.39410701394081116, 0.4005360007286072, 0.39107099175453186, 0.41607099771499634, 0.42107099294662476, 0.42303600907325745, 0.4089289903640747, 0.4037500023841858, 0.38660699129104614, 0.3791069984436035, 0.3758929967880249, 0.3776789903640747, 0.38749998807907104, 0.3710710108280182, 0.4014289975166321, 0.39589300751686096, 0.38964301347732544, 0.4110710024833679, 0.41446399688720703, 0.4151790142059326, 0.41553598642349243, 0.4119639992713928, 0.43017899990081787, 0.4414289891719818, 0.4358929991722107, 0.45267900824546814, 0.45446398854255676, 0.4405359923839569, 0.4339289963245392, 0.42910701036453247, 0.44607099890708923, 0.4412499964237213, 0.44660699367523193, 0.4392859935760498, 0.42678600549697876, 0.4039289951324463, 0.4130359888076782, 0.3839290142059326, 0.4060710072517395, 0.42517900466918945, 0.42267900705337524, 0.39214301109313965, 0.38749998807907104, 0.41874998807907104, 0.4337500035762787, 0.42017900943756104, 0.4298210144042969, 0.435357004404068, 0.4403569996356964, 0.44749999046325684, 0.4414289891719818, 0.4373210072517395, 0.4362500011920929, 0.4455359876155853, 0.441785991191864, 0.4437499940395355, 0.4449999928474426, 0.4333930015563965, 0.43017899990081787, 0.41696399450302124, 0.41892901062965393, 0.41910699009895325, 0.42267900705337524, 0.4367859959602356, 0.4298210144042969, 0.42410698533058167, 0.4446429908275604, 0.441785991191864, 0.4385710060596466, 0.4303570091724396, 0.4403569996356964, 0.443928986787796, 0.44749999046325684, 0.4464290142059326, 0.45964300632476807, 0.4662500023841858, 0.45375001430511475, 0.44607099890708923, 0.4380359947681427, 0.4330359995365143, 0.42446398735046387, 0.4307140111923218, 0.4108929932117462, 0.42785701155662537, 0.4333930015563965, 0.42821401357650757, 0.42303600907325745, 0.41982099413871765, 0.4044640064239502, 0.4012500047683716, 0.4351789951324463, 0.4319640100002289, 0.4164290130138397, 0.42750000953674316, 0.4573209881782532, 0.45142900943756104, 0.45017901062965393, 0.44660699367523193, 0.441785991191864, 0.41892901062965393, 0.4342859983444214, 0.44964298605918884, 0.4312500059604645, 0.42821401357650757, 0.42821401357650757, 0.4321430027484894, 0.41607099771499634, 0.4091069996356964, 0.4067859947681427, 0.4057140052318573, 0.39571401476860046, 0.3821429908275604, 0.38357099890708923, 0.36535701155662537, 0.35874998569488525, 0.3489289879798889, 0.35892900824546814, 0.36678600311279297, 0.35982099175453186, 0.3057140111923218, 0.3055360019207001, 0.30089300870895386, 0.3083930015563965, 0.306071013212204, 0.29553601145744324, 0.30464300513267517, 0.3164289891719818, 0.30464300513267517, 0.30250000953674316, 0.3133929967880249, 0.33464300632476807, 0.32160699367523193, 0.3130359947681427, 0.3092859983444214, 0.32678601145744324, 0.3126789927482605, 0.32553601264953613, 0.318928986787796, 0.279107004404068, 0.26767900586128235, 0.26714301109313965, 0.26642900705337524, 0.25839298963546753, 0.27142900228500366, 0.256428986787796, 0.256071001291275, 0.26821398735046387, 0.2755360007286072, 0.27250000834465027, 0.26428601145744324, 0.2580359876155853, 0.2498210072517395, 0.26321399211883545, 0.26839300990104675, 0.2732140123844147, 0.26785698533058167, 0.26767900586128235, 0.26053598523139954, 0.27089300751686096, 0.2787500023841858, 0.2823210060596466, 0.2853569984436035, 0.2841069996356964, 0.2878569960594177, 0.2851789891719818, 0.2808929979801178, 0.2773210108280182, 0.26517900824546814, 0.26249998807907104, 0.26249998807907104, 0.26339301466941833, 0.2508929967880249, 0.25857099890708923, 0.2532140016555786, 0.2567859888076782, 0.2566069960594177, 0.2558929920196533, 0.2551789879798889, 0.2524999976158142, 0.2530359923839569, 0.2589290142059326, 0.26428601145744324, 0.26821398735046387, 0.26035699248313904, 0.26553601026535034, 0.26517900824546814, 0.2614290118217468, 0.26660698652267456, 0.26249998807907104, 0.26285699009895325, 0.2589290142059326, 0.25910699367523193, 0.2530359923839569, 0.2553569972515106, 0.2505359947681427, 0.24589300155639648, 0.24428600072860718, 0.24267899990081787, 0.2519640028476715, 0.25910699367523193, 0.26374998688697815, 0.27071401476860046, 0.25999999046325684, 0.2519640028476715, 0.256071001291275, 0.25999999046325684, 0.26249998807907104, 0.26571398973464966, 0.26232099533081055, 0.2753570079803467, 0.2787500023841858, 0.2757140100002289, 0.2853569984436035, 0.2869639992713928, 0.29214298725128174, 0.30160701274871826, 0.30178600549697876, 0.3075000047683716, 0.2857140004634857, 0.2828570008277893, 0.27071401476860046, 0.2792859971523285, 0.2783930003643036, 0.29107099771499634, 0.2848210036754608, 0.2794640064239502, 0.27267900109291077, 0.2773210108280182, 0.29196399450302124, 0.2858929932117462, 0.2851789891719818, 0.275178998708725, 0.2807140052318573, 0.2767859995365143, 0.2710709869861603, 0.27071401476860046, 0.26732099056243896, 0.26124998927116394, 0.26696398854255676, 0.26339301466941833, 0.27285701036453247, 0.2766070067882538, 0.27125000953674316, 0.26410698890686035, 0.26517900824546814, 0.26928600668907166, 0.2601790130138397, 0.2535710036754608, 0.2524999976158142, 0.25874999165534973, 0.256428986787796, 0.2571429908275604, 0.2510710060596466, 0.2512499988079071, 0.2558929920196533, 0.26428601145744324, 0.26607099175453186, 0.26607099175453186, 0.26517900824546814, 0.25982099771499634, 0.26214298605918884, 0.26285699009895325, 0.26124998927116394, 0.26089298725128174, 0.2576789855957031, 0.26107099652290344, 0.2517859935760498, 0.2503570020198822, 0.247857004404068, 0.2530359923839569, 0.24642899632453918, 0.2523210048675537, 0.26035699248313904, 0.26660698652267456, 0.2557139992713928, 0.256428986787796, 0.26178601384162903, 0.26071399450302124, 0.2580359876155853, 0.2576789855957031, 0.2526789903640747, 0.2562499940395355, 0.2562499940395355, 0.2569639980792999, 0.25964298844337463, 0.26196399331092834, 0.27267900109291077, 0.26517900824546814, 0.26374998688697815, 0.26785698533058167, 0.26321399211883545, 0.26821398735046387, 0.2589290142059326, 0.26535698771476746, 0.26803600788116455, 0.26160699129104614, 0.25999999046325684, 0.26107099652290344, 0.25999999046325684, 0.25946399569511414, 0.2566069960594177, 0.2541069984436035, 0.2539289891719818, 0.26285699009895325, 0.26392900943756104, 0.26803600788116455, 0.26785698533058167, 0.26696398854255676, 0.26625001430511475, 0.26785698533058167, 0.2566069960594177, 0.25982099771499634, 0.25732100009918213, 0.25874999165534973, 0.2601790130138397, 0.2524999976158142, 0.2528569996356964, 0.26071399450302124, 0.25821399688720703, 0.25732100009918213, 0.25874999165534973, 0.2580359876155853, 0.2533929944038391, 0.2566069960594177, 0.23571400344371796, 0.24250000715255737, 0.23910699784755707, 0.23642900586128235, 0.23428599536418915, 0.23464299738407135, 0.24124999344348907, 0.24250000715255737, 0.23999999463558197, 0.23839299380779266, 0.2475000023841858, 0.2510710060596466, 0.2539289891719818, 0.256428986787796, 0.2580359876155853, 0.287321001291275, 0.3125, 0.3151789903640747, 0.3214290142059326, 0.32678601145744324, 0.33142900466918945, 0.33339300751686096, 0.33125001192092896, 0.33446401357650757, 0.3357140123844147, 0.32321399450302124, 0.3176789879798889, 0.3187499940395355, 0.32571399211883545, 0.32714301347732544, 0.3371430039405823, 0.32642900943756104, 0.32321399450302124, 0.3205359876155853, 0.3116070032119751, 0.3091070055961609, 0.3142859935760498, 0.3149999976158142, 0.3062500059604645, 0.29982098937034607, 0.3067860007286072, 0.3116070032119751, 0.3173210024833679, 0.3110710084438324, 0.32624998688697815, 0.32482099533081055, 0.3414289951324463, 0.3417859971523285, 0.3428570032119751, 0.3403570055961609, 0.33535701036453247, 0.3408930003643036, 0.3444640040397644, 0.33446401357650757, 0.3403570055961609, 0.3408930003643036, 0.3441070020198822, 0.341607004404068, 0.35482099652290344, 0.36428600549697876, 0.3551790118217468, 0.3496429920196533, 0.35446399450302124, 0.35535699129104614, 0.350178986787796, 0.35482099652290344, 0.3732140064239502, 0.3725000023841858, 0.3680360019207001, 0.3714289963245392, 0.3712500035762787, 0.36625000834465027, 0.38464298844337463, 0.3748210072517395, 0.3700000047683716, 0.36214300990104675, 0.3764289915561676, 0.3701789975166321, 0.3787499964237213, 0.36392900347709656, 0.3505359888076782, 0.35589298605918884, 0.3507139980792999, 0.35107100009918213, 0.3517859876155853, 0.36035698652267456, 0.35660699009895325, 0.35196399688720703, 0.36321398615837097, 0.36285701394081116, 0.3751789927482605, 0.38714298605918884, 0.372857004404068, 0.3725000023841858, 0.3758929967880249, 0.38357099890708923, 0.39625000953674316, 0.4037500023841858, 0.4080359935760498, 0.4098210036754608, 0.4076789915561676, 0.4017859995365143, 0.4060710072517395, 0.3994640111923218, 0.3960709869861603, 0.4028570055961609, 0.4124999940395355, 0.39660701155662537, 0.3992860019207001, 0.39500001072883606, 0.4085710048675537, 0.4032140076160431, 0.39428600668907166, 0.4005360007286072, 0.3807139992713928, 0.3648209869861603, 0.3694640100002289, 0.3803569972515106, 0.3700000047683716, 0.3712500035762787, 0.3673210144042969, 0.38732099533081055, 0.39803600311279297, 0.41464298963546753, 0.4117859899997711, 0.41874998807907104, 0.42285698652267456, 0.4348210096359253, 0.4383929967880249, 0.4432139992713928, 0.4151790142059326, 0.40625, 0.41464298963546753, 0.4139289855957031, 0.4064289927482605, 0.410535991191864, 0.4035710096359253, 0.4035710096359253, 0.42357099056243896, 0.42303600907325745, 0.412321001291275, 0.4087499976158142, 0.4133929908275604, 0.4091069996356964, 0.4112499952316284, 0.4128569960594177, 0.4017859995365143, 0.39107099175453186, 0.38464298844337463, 0.3987500071525574, 0.4003570079803467, 0.38321399688720703, 0.3773210048675537, 0.36446401476860046, 0.36464300751686096, 0.36392900347709656, 0.36214300990104675, 0.3776789903640747, 0.3692860007286072, 0.3700000047683716, 0.3733929991722107, 0.38767901062965393, 0.38464298844337463, 0.3755359947681427, 0.3776789903640747, 0.3723210096359253, 0.3758929967880249, 0.36517900228500366, 0.36392900347709656, 0.3787499964237213, 0.3730359971523285, 0.36017900705337524, 0.35928601026535034, 0.35499998927116394, 0.35785698890686035, 0.3517859876155853, 0.35446399450302124, 0.35374999046325684, 0.36446401476860046, 0.3710710108280182, 0.3776789903640747, 0.3799999952316284, 0.3816069960594177, 0.3799999952316284, 0.39589300751686096, 0.39446398615837097, 0.4033930003643036, 0.41714298725128174, 0.4107140004634857, 0.42375001311302185, 0.4307140111923218, 0.4321430027484894, 0.4080359935760498, 0.4057140052318573, 0.4058929979801178, 0.4037500023841858, 0.3960709869861603, 0.4028570055961609, 0.4108929932117462, 0.4119639992713928, 0.4021430015563965, 0.4050000011920929, 0.4028570055961609, 0.3985710144042969, 0.39750000834465027, 0.38910698890686035, 0.4003570079803467, 0.4055359959602356, 0.4048210084438324, 0.4103569984436035, 0.42500001192092896, 0.42375001311302185, 0.4107140004634857, 0.41357100009918213, 0.41535699367523193, 0.4012500047683716, 0.4000000059604645, 0.39625000953674316, 0.3992860019207001, 0.4073210060596466, 0.4114289879798889, 0.42714300751686096, 0.42892900109291077, 0.42517900466918945, 0.42714300751686096, 0.44928601384162903, 0.47749999165534973, 0.4642859995365143, 0.48392900824546814, 0.4942860007286072, 0.48482099175453186, 0.49214300513267517, 0.4723210036754608, 0.4610710144042969, 0.4676789939403534, 0.45839300751686096, 0.4617860019207001, 0.4617860019207001, 0.45160698890686035, 0.45535698533058167, 0.47982099652290344, 0.48285698890686035, 0.4983929991722107, 0.4985710084438324, 0.48285698890686035, 0.48410698771476746, 0.4910709857940674, 0.5057139992713928, 0.4969640076160431, 0.48767900466918945, 0.49160701036453247, 0.5007140040397644, 0.48089298605918884, 0.4757139980792999, 0.5232139825820923, 0.5210710167884827, 0.5062500238418579, 0.4951789975166321, 0.4951789975166321, 0.4960710108280182, 0.4946430027484894, 0.48446398973464966, 0.48107099533081055, 0.4723210036754608, 0.47803598642349243, 0.46035701036453247, 0.4655359983444214, 0.4667859971523285, 0.4758929908275604, 0.4746429920196533, 0.4762499928474426, 0.4692859947681427, 0.48464301228523254, 0.48750001192092896, 0.48553600907325745, 0.48321399092674255, 0.4757139980792999, 0.48321399092674255, 0.4726789891719818, 0.47696399688720703, 0.48410698771476746, 0.48821398615837097, 0.5073210000991821, 0.5091069936752319, 0.5030360221862793, 0.5010709762573242, 0.5010709762573242, 0.5164290070533752, 0.5071430206298828, 0.513929009437561, 0.5323209762573242, 0.5419639945030212, 0.5392860174179077, 0.54892897605896, 0.5378569960594177, 0.5480359792709351, 0.5846430063247681, 0.5858929753303528, 0.5876790285110474, 0.5773209929466248, 0.5892860293388367, 0.6017860174179077, 0.5924999713897705, 0.6017860174179077, 0.58017897605896, 0.580357015132904, 0.5810710191726685, 0.5767859816551208, 0.5550000071525574, 0.5526790022850037, 0.5426790118217468, 0.5382140278816223, 0.5362499952316284, 0.5203570127487183, 0.5217859745025635, 0.5282139778137207, 0.5880360007286072, 0.574999988079071, 0.5708929896354675, 0.574999988079071, 0.5646430253982544, 0.5657140016555786, 0.5482140183448792, 0.558214008808136, 0.5791069865226746, 0.5762500166893005, 0.5828570127487183, 0.5774999856948853, 0.56392902135849, 0.5587499737739563, 0.5676789879798889, 0.5605360269546509, 0.5317860245704651, 0.5410709977149963, 0.5628569722175598, 0.5537499785423279, 0.5423210263252258, 0.5507140159606934, 0.5496429800987244, 0.5512499809265137, 0.566785991191864, 0.5483930110931396, 0.550000011920929, 0.5550000071525574, 0.5705360174179077, 0.5901790261268616, 0.6189290285110474, 0.6133930087089539, 0.6092860102653503, 0.6158930063247681, 0.6403570175170898, 0.6367859840393066, 0.6291069984436035, 0.63857102394104, 0.6491069793701172, 0.637499988079071, 0.6405360102653503, 0.6355360150337219, 0.6337500214576721, 0.6285709738731384, 0.6491069793701172, 0.6632140278816223, 0.6733930110931396, 0.6787499785423279, 0.6592860221862793, 0.6655359864234924, 0.665893018245697, 0.670179009437561, 0.679286003112793, 0.6907140016555786, 0.6919639706611633, 0.6905360221862793, 0.6926789879798889, 0.7030360102653503, 0.7257140278816223, 0.7074999809265137, 0.6974999904632568, 0.6891070008277893, 0.6837499737739563, 0.7098209857940674, 0.8032140135765076, 0.8125, 0.8526790142059326, 0.8467860221862793, 0.8476790189743042, 0.8560709953308105, 0.8466070294380188, 0.849107027053833, 0.8566070199012756, 0.8982139825820923, 0.9319639801979065, 0.9357140064239502, 0.9366070032119751, 0.955357015132904, 0.9876790046691895, 0.9723209738731384, 0.9771429896354675, 0.9710710048675537, 0.9651790261268616, 0.9776790142059326, 0.987500011920929, 0.9910709857940674, 0.98642897605896, 0.9810709953308105, 0.9803569912910461, 0.9891070127487183, 0.9851790070533752, 1.0955359935760498, 1.0941070318222046, 1.1437499523162842, 1.1526789665222168, 1.2221430540084839, 1.1973210573196411, 1.210536003112793, 1.164463996887207, 1.1192859411239624, 1.1746430397033691, 1.1230360269546509, 1.1299999952316284, 1.14267897605896, 1.1633930206298828, 1.159106969833374, 1.1658929586410522, 1.165356993675232, 1.1892859935760498, 1.1605360507965088, 1.1200000047683716, 1.1373209953308105, 1.1383930444717407, 1.1430360078811646, 1.127856969833374, 1.146070957183838, 1.1507140398025513, 1.157142996788025, 1.149999976158142, 1.1301790475845337, 1.141785979270935, 1.151785969734192, 1.1526789665222168, 1.2366069555282593, 1.2314289808273315, 1.1528569459915161, 1.1689289808273315, 1.2464289665222168, 1.2535710334777832, 1.261607050895691, 1.2478569746017456, 1.258213996887207, 1.2587499618530273, 1.26357102394104, 1.286607027053833, 1.2901790142059326, 1.2971429824829102, 1.3210710287094116, 1.3732140064239502, 1.3844640254974365, 1.4219640493392944, 1.389464020729065, 1.4078569412231445, 1.4096430540084839, 1.4446430206298828, 1.4060709476470947, 1.3992860317230225, 1.4501789808273315, 1.5112500190734863, 1.5787500143051147, 1.6094640493392944, 1.5680359601974487, 1.5501790046691895, 1.523036003112793, 1.5755360126495361, 1.5880359411239624, 1.5891070365905762, 1.6021430492401123, 1.589285969734192, 1.5757139921188354, 1.4924999475479126, 1.5289289951324463, 1.526785969734192, 1.4474999904632568, 1.405357003211975, 1.4225000143051147, 1.4382139444351196, 1.440000057220459, 1.4628570079803467, 1.4707139730453491, 1.5089290142059326, 1.5342860221862793, 1.5607140064239502, 1.5296430587768555, 1.519642949104309, 1.5178569555282593, 1.5189290046691895, 1.4910709857940674, 1.5285710096359253, 1.4882140159606934, 1.4603569507598877, 1.4674999713897705, 1.4960709810256958, 1.5117859840393066, 1.5557140111923218, 1.5621429681777954, 1.497143030166626, 1.5235710144042969, 1.4657139778137207, 1.3307139873504639, 1.2625000476837158, 1.272143006324768, 1.3246430158615112, 1.2682139873504639, 1.3278570175170898, 1.2678569555282593, 1.320713996887207, 1.2925000190734863, 1.2839289903640747, 1.269286036491394, 1.2878570556640625, 1.301071047782898, 1.293213963508606, 1.3267860412597656, 1.309999942779541, 1.3300000429153442, 1.3203569650650024, 1.3007140159606934, 1.2717859745025635, 1.2189290523529053, 1.241786003112793, 1.269642949104309, 1.2628569602966309, 1.2799999713897705, 1.3410710096359253, 1.3410710096359253, 1.4199999570846558, 1.417857050895691, 1.420714020729065, 1.4550000429153442, 1.448570966720581, 1.4199999570846558, 1.4392859935760498, 1.4299999475479126, 1.3657139539718628, 1.3542859554290771, 1.3049999475479126, 1.3185709714889526, 1.344642996788025, 1.2789289951324463, 1.282142996788025, 1.285714030265808, 1.32607102394104, 1.3564289808273315, 1.3682140111923218, 1.3432140350341797, 1.3521430492401123, 1.3767859935760498, 1.388929009437561, 1.3485709428787231, 1.3250000476837158, 1.3324999809265137, 1.29892897605896, 1.3146430253982544, 1.3035709857940674, 1.3564289808273315, 1.3353569507598877, 1.3439290523529053, 1.3660709857940674, 1.3607139587402344, 1.3657139539718628, 1.369642972946167, 1.4553569555282593, 1.4839290380477905, 1.4817860126495361, 1.5425000190734863, 1.5582139492034912, 1.5460710525512695, 1.5714290142059326, 1.5646430253982544, 1.5582139492034912, 1.5710710287094116, 1.5642859935760498, 1.5232139825820923, 1.526785969734192, 1.5425000190734863, 1.5435709953308105, 1.5253570079803467, 1.5353569984436035, 1.5232139825820923, 1.565000057220459, 1.5492860078811646, 1.5714290142059326, 1.6464289426803589, 1.7028570175170898, 1.651785969734192, 1.6839289665222168, 1.6535710096359253, 1.6367859840393066, 1.6382139921188354, 1.6335710287094116, 1.6346429586410522, 1.6449999809265137, 1.6335710287094116, 1.6371430158615112, 1.6632139682769775, 1.6746430397033691, 1.6521430015563965, 1.6507140398025513, 1.7428569793701172, 1.738571047782898, 1.7778569459915161, 1.8324999809265137, 1.8357139825820923, 1.815000057220459, 1.7717859745025635, 1.7810709476470947, 1.8289289474487305, 1.8799999952316284, 1.8996429443359375, 1.861070990562439, 1.8535710573196411, 1.899999976158142, 1.9228570461273193, 1.9085710048675537, 1.8242859840393066, 1.8692859411239624, 1.9146430492401123, 1.9442859888076782, 1.9196430444717407, 1.8849999904632568, 1.8464289903640747, 1.832142949104309, 1.79892897605896, 1.8424999713897705, 1.7589290142059326, 1.9192860126495361, 1.9285709857940674, 1.9085710048675537, 1.8646429777145386, 1.9621429443359375, 2.005000114440918, 1.9878569841384888, 2.0282139778137207, 2.003571033477783, 2.0367860794067383, 1.978929042816162, 1.9453569650650024, 2.056786060333252, 2.0535709857940674, 2.141071081161499, 2.2089290618896484, 2.183928966522217, 2.151071071624756, 2.1392860412597656, 2.1467859745025635, 2.184999942779541, 2.197856903076172, 2.194643020629883, 2.2242860794067383, 2.319643020629883, 2.304286003112793, 2.3057138919830322, 2.319999933242798, 2.375714063644409, 2.3967859745025635, 2.476428985595703, 2.4878571033477783, 2.432142972946167, 2.42214298248291, 2.557142972946167, 2.5939290523529053, 2.565000057220459, 2.6446430683135986, 2.641071081161499, 2.645714044570923, 2.6546430587768555, 2.6753571033477783, 2.677856922149658, 2.5717859268188477, 2.57785701751709, 2.5396430492401123, 2.549285888671875, 2.575356960296631, 2.625, 2.643570899963379, 2.619642972946167, 2.651071071624756, 2.627500057220459, 2.551785945892334, 2.567500114440918, 2.669642925262451, 2.677500009536743, 2.6564290523529053, 2.7249999046325684, 2.7160708904266357, 2.887856960296631, 2.996428966522217, 3.010356903076172, 3.056786060333252, 3.0253570079803467, 2.946070909500122, 2.822856903076172, 2.7174999713897705, 2.7739291191101074, 2.7157139778137207, 2.6500000953674316, 2.583214044570923, 2.572499990463257, 2.6785709857940674, 2.6967859268188477, 2.693571090698242, 2.575000047683716, 2.566071033477783, 2.4035708904266357, 2.414285898208618, 2.4574999809265137, 2.319643020629883, 2.4039289951324463, 2.3110709190368652, 2.4157140254974365, 2.4721429347991943, 2.5203568935394287, 2.510356903076172, 2.4671430587768555, 2.54714298248291, 2.5625, 2.552143096923828, 2.5353569984436035, 2.446070909500122, 2.4678568840026855, 2.4860711097717285, 2.4185709953308105, 2.338571071624756, 2.3682138919830322, 2.3450000286102295, 2.2832140922546387, 2.2567861080169678, 2.3457140922546387, 2.4042859077453613, 2.365356922149658, 2.296786069869995, 2.309286117553711, 2.2853569984436035, 2.2074999809265137, 2.202500104904175, 2.148571014404297, 2.1414289474487305, 2.125356912612915, 2.0967860221862793, 2.2260708808898926, 2.2410709857940674, 2.240000009536743, 2.237499952316284, 2.184643030166626, 2.4003570079803467, 2.544286012649536, 2.492500066757202, 2.452500104904175, 2.4282140731811523, 2.382499933242798, 2.373929023742676, 2.314642906188965, 2.365000009536743, 2.3446431159973145, 2.4153571128845215, 2.3942859172821045, 2.3482139110565186, 2.3632140159606934, 2.433928966522217, 2.4771430492401123, 2.5139288902282715, 2.4857139587402344, 2.557857036590576, 2.5407140254974365, 2.5403571128845215, 2.567500114440918, 2.567500114440918, 2.5367860794067383, 2.5214290618896484, 2.433928966522217, 2.4178569316864014, 2.4210710525512695, 2.320713996887207, 2.330713987350464, 2.2564289569854736, 2.303929090499878, 2.26357102394104, 2.255357027053833, 2.2621428966522217, 2.297499895095825, 2.2696430683135986, 2.186429023742676, 2.134643077850342, 2.2203569412231445, 2.2021429538726807, 2.142857074737549, 2.132857084274292, 2.0914289951324463, 2.1700000762939453, 2.1157140731811523, 2.0357139110565186, 2.083214044570923, 2.057499885559082, 2.120713949203491, 2.0557138919830322, 2.0428569316864014, 2.052500009536743, 2.0664288997650146, 2.127856969833374, 2.1010708808898926, 2.106786012649536, 2.0510709285736084, 2.000714063644409, 2.1060709953308105, 2.0453569889068604, 2.069643020629883, 2.0357139110565186, 1.991786003112793, 1.9785710573196411, 1.964285969734192, 1.9874999523162842, 1.8914289474487305, 1.8660709857940674, 1.809643030166626, 1.8703570365905762, 1.8892860412597656, 1.932142972946167, 2.1607139110565186, 2.1685709953308105, 2.193571090698242, 2.2117860317230225, 2.2810709476470947, 2.2642860412597656, 2.3424999713897705, 2.427143096923828, 2.3992860317230225, 2.434286117553711, 2.4853570461273193, 2.43928599357605, 2.4003570079803467, 2.313570976257324, 2.271070957183838, 2.2882139682769775, 2.273214101791382, 2.2835710048675537, 2.37321400642395, 2.427856922149658, 2.413928985595703, 2.4253571033477783, 2.377142906188965, 2.4149999618530273, 2.4039289951324463, 2.421786069869995, 2.455357074737549, 2.3921430110931396, 2.374285936355591, 2.3914289474487305, 2.4232139587402344, 2.442142963409424, 2.552856922149658, 2.501070976257324, 2.5999999046325684, 2.5899999141693115, 2.5892860889434814, 2.5939290523529053, 2.6500000953674316, 2.6489291191101074, 2.6464290618896484, 2.6389288902282715, 2.634643077850342, 2.687856912612915, 2.6660709381103516, 2.607142925262451, 2.705357074737549, 2.7717859745025635, 2.728929042816162, 2.750356912612915, 2.749285936355591, 2.6735711097717285, 2.645714044570923, 2.692142963409424, 2.672499895095825, 2.6507139205932617, 2.6653571128845215, 2.636070966720581, 2.615356922149658, 2.687856912612915, 2.679286003112793, 2.692857027053833, 2.6532139778137207, 2.6617860794067383, 2.821070909500122, 2.8553569316864014, 2.9092860221862793, 2.8946430683135986, 2.9171431064605713, 2.935357093811035, 2.871786117553711, 2.872143030166626, 2.895714044570923, 2.8271429538726807, 2.820713996887207, 2.7960710525512695, 2.8467860221862793, 2.875356912612915, 2.944643020629883, 2.976428985595703, 2.9685709476470947, 3.012500047683716, 3.0357139110565186, 3.00178599357605, 3.057499885559082, 3.066071033477783, 3.0882139205932617, 3.164285898208618, 3.2253570556640625, 3.2725000381469727, 3.197856903076172, 3.2789289951324463, 3.2785708904266357, 3.273571014404297, 3.2614290714263916, 3.254286050796509, 3.259643077850342, 3.208214044570923, 3.1085710525512695, 3.1521430015563965, 3.169642925262451, 3.0764288902282715, 3.180356979370117, 3.1624999046325684, 3.132857084274292, 3.052500009536743, 3.0824999809265137, 3.0271430015563965, 2.960714101791382, 2.93571400642395, 2.9110710620880127, 2.911428928375244, 2.888214111328125, 3.0299999713897705, 2.992856979370117, 3.059286117553711, 3.0374999046325684, 3.052500009536743, 3.3060710430145264, 3.4642860889434814, 3.421428918838501, 3.379286050796509, 3.4678568840026855, 3.391071081161499, 3.1810710430145264, 3.1607139110565186, 3.0996429920196533, 3.06071400642395, 3.0964291095733643, 3.080357074737549, 3.049285888671875, 3.0692861080169678, 3.055356979370117, 3.061785936355591, 3.0264289379119873, 3.0267860889434814, 2.997857093811035, 3.005357027053833, 3.0767860412597656, 3.07785701751709, 2.973928928375244, 3.0314290523529053, 3.0250000953674316, 3.046428918838501, 3.0432140827178955, 3.0296430587768555, 3.067857027053833, 3.18571400642395, 3.1967859268188477, 3.1810710430145264, 3.1610710620880127, 2.997499942779541, 3.0217859745025635, 3.109286069869995, 3.0503571033477783, 3.0828568935394287, 3.1496429443359375, 3.132857084274292, 3.142857074737549, 3.1417860984802246, 3.2096428871154785, 3.1571431159973145, 3.2142860889434814, 3.1989290714263916, 3.1996428966522217, 3.254642963409424, 3.2671430110931396, 3.3524999618530273, 3.3557140827178955, 3.3399999141693115, 3.4232139587402344, 3.4092860221862793, 3.3299999237060547, 3.3482139110565186, 3.318213939666748, 3.3446431159973145, 3.375, 3.366786003112793, 3.3814289569854736, 3.3446431159973145, 3.3660709857940674, 3.306786060333252, 3.2925000190734863, 3.2228569984436035, 3.26535701751709, 3.226785898208618, 3.2285709381103516, 3.223928928375244, 3.248929023742676, 3.3396430015563965, 3.3299999237060547, 3.4053568840026855, 3.5299999713897705, 3.568571090698242, 3.56428599357605, 3.552500009536743, 3.5853569507598877, 3.585714101791382, 3.6003570556640625, 3.7114291191101074, 3.752142906188965, 3.817142963409424, 3.833570957183838, 3.883570909500122, 3.9057140350341797, 3.8399999141693115, 3.833570957183838, 3.9085710048675537, 3.929286003112793, 3.999285936355591, 4.054999828338623, 4.03178596496582, 3.953213930130005, 4.057857036590576, 4.083929061889648, 4.241786003112793, 4.328214168548584, 4.228570938110352, 4.333213806152344, 4.381071090698242, 4.415713787078857, 4.431070804595947, 4.446071147918701, 4.292500019073486, 4.299285888671875, 4.1964287757873535, 4.2410712242126465, 4.3035712242126465, 4.46750020980835, 4.416429042816162, 4.341071128845215, 4.425000190734863, 4.392857074737549, 4.369286060333252, 4.273213863372803, 4.353213787078857, 4.305714130401611, 4.3585710525512695, 4.330714225769043, 4.541786193847656, 4.7410712242126465, 4.724999904632568, 4.6546430587768555, 4.726786136627197, 4.728213787078857, 4.788214206695557, 4.918929100036621, 4.932143211364746, 4.961071014404297, 4.932857036590576, 5.0, 5.1339287757873535, 5.132143020629883, 4.817500114440918, 4.9021430015563965, 5.214285850524902, 5.137499809265137, 5.0510711669921875, 4.705714225769043, 4.8214287757873535, 4.874642848968506, 4.708929061889648, 4.830357074737549, 4.822500228881836, 4.786070823669434, 4.5139288902282715, 4.464285850524902, 4.563929080963135, 4.429643154144287, 4.2821431159973145, 4.180356979370117, 4.359285831451416, 4.364999771118164, 4.556070804595947, 4.732500076293945, 4.681070804595947, 4.8321428298950195, 4.723214149475098, 4.529285907745361, 4.788570880889893, 4.8660712242126465, 4.945713996887207, 5.148571014404297, 4.884285926818848, 4.821785926818848, 4.706070899963379, 4.882500171661377, 4.838929176330566, 4.887499809265137, 4.900000095367432, 4.957499980926514, 4.943213939666748, 5.0328569412231445, 5.027500152587891, 5.01107120513916, 5.148213863372803, 5.295713901519775, 5.470714092254639, 5.456070899963379, 5.517857074737549, 5.4810709953308105, 5.583570957183838, 5.658928871154785, 5.639999866485596, 5.579999923706055, 5.76607084274292, 5.996786117553711, 5.994999885559082, 5.956786155700684, 5.793929100036621, 5.973214149475098, 5.963571071624756, 6.056428909301758, 6.169642925262451, 6.1964287757873535, 6.086429119110107, 6.227142810821533, 6.648571014404297, 6.64035701751709, 6.527856826782227, 6.596428871154785, 6.61035680770874, 6.6785712242126465, 6.783928871154785, 6.694285869598389, 6.7096428871154785, 6.649285793304443, 6.849643230438232, 6.653571128845215, 6.266786098480225, 5.906071186065674, 5.491428852081299, 6.070000171661377, 5.932499885559082, 5.867856979370117, 5.942500114440918, 5.8553571701049805, 6.0303568840026855, 6.0164289474487305, 6.126429080963135, 6.162143230438232, 6.243214130401611, 6.436429023742676, 6.581786155700684, 6.507856845855713, 6.387856960296631, 6.421785831451416, 6.625, 6.783928871154785, 6.939286231994629, 6.936070919036865, 6.7335710525512695, 6.816429138183594, 6.851070880889893, 6.799643039703369, 6.585713863372803, 6.534999847412109, 6.539999961853027, 6.686070919036865, 6.925356864929199, 7.099999904632568, 7.1053571701049805, 7.091785907745361, 7.136785984039307, 7.074285984039307, 6.958570957183838, 6.961785793304443, 6.430356979370117, 6.34428596496582, 6.1160712242126465, 6.4071431159973145, 6.3578572273254395, 6.167500019073486, 6.385000228881836, 6.037143230438232, 5.7014288902282715, 5.746070861816406, 5.762856960296631, 5.558570861816406, 4.966785907745361, 4.8428568840026855, 4.643214225769043, 4.643214225769043, 4.697856903076172, 4.720714092254639, 4.834286212921143, 4.776785850524902, 4.701786041259766, 4.619999885559082, 4.357142925262451, 4.329999923706055, 4.481429100036621, 4.623213768005371, 4.459286212921143, 4.621428966522217, 4.552143096923828, 4.451070785522461, 4.3635711669921875, 4.42214298248291, 4.340713977813721, 4.2664289474487305, 4.276429176330566, 4.255356788635254, 4.3914289474487305, 4.63964319229126, 4.465000152587891, 4.347499847412109, 4.450714111328125, 4.446071147918701, 4.318929195404053, 4.3660712242126465, 4.2746429443359375, 4.548213958740234, 4.501070976257324, 4.569285869598389, 4.521786212921143, 4.526071071624756, 4.743570804595947, 4.631071090698242, 4.759643077850342, 4.983213901519775, 5.034999847412109, 5.180714130401611, 5.0089287757873535, 5.107500076293945, 5.125, 5.340356826782227, 5.267499923706055, 5.414642810821533, 5.4671430587768555, 5.567500114440918, 5.458570957183838, 5.408570766448975, 5.5196428298950195, 5.255000114440918, 5.277856826782227, 5.299285888671875, 5.489285945892334, 5.517499923706055, 5.751429080963135, 6.005713939666748, 5.721428871154785, 5.817500114440918, 6.033570766448975, 6.06178617477417, 6.151429176330566, 6.251786231994629, 6.212500095367432, 6.4285712242126465, 6.4621429443359375, 6.597499847412109, 6.666429042816162, 6.521070957183838, 6.609285831451416, 6.551785945892334, 6.71999979019165, 6.784286022186279, 6.6521430015563965, 6.776071071624756, 6.700714111328125, 6.557143211364746, 6.639286041259766, 6.36392879486084, 6.323214054107666, 6.4703569412231445, 6.658214092254639, 6.678928852081299, 6.667500019073486, 6.7410712242126465, 6.646429061889648, 6.620357036590576, 6.61392879486084, 6.76535701751709, 6.630000114440918, 6.4860711097717285, 6.630000114440918, 6.457499980926514, 6.187857151031494, 6.156071186065674, 6.315713882446289, 6.479642868041992, 6.3839287757873535, 6.460713863372803, 6.259643077850342, 6.184286117553711, 6.1875, 6.335357189178467, 6.009285926818848, 6.074643135070801, 5.980000019073486, 6.2385711669921875, 6.006429195404053, 6.075714111328125, 6.255713939666748, 6.412499904632568, 6.223214149475098, 6.30821418762207, 6.163570880889893, 6.210000038146973, 6.058570861816406, 6.171785831451416, 6.13607120513916, 5.898213863372803, 5.938929080963135, 5.786428928375244, 5.937857151031494, 5.679643154144287, 5.789999961853027, 5.514286041259766, 5.610000133514404, 5.710000038146973, 5.676785945892334, 5.59499979019165, 5.472499847412109, 5.737143039703369, 5.86392879486084, 5.841785907745361, 6.055356979370117, 6.19857120513916, 6.31178617477417, 6.403571128845215, 6.404285907745361, 6.276429176330566, 6.2639288902282715, 6.197500228881836, 6.28000020980835, 6.224643230438232, 6.313929080963135, 6.162499904632568, 6.2014288902282715, 6.238214015960693, 6.204999923706055, 6.054643154144287, 5.935357093811035, 5.962856769561768, 5.757856845855713, 5.720714092254639, 5.639999866485596, 5.417142868041992, 5.414642810821533, 5.451786041259766, 5.319285869598389, 5.012856960296631, 4.99571418762207, 4.565357208251953, 4.788928985595703, 5.03249979019165, 4.680356979370117, 4.53000020980835, 4.596786022186279, 4.711785793304443, 4.579999923706055, 3.7592859268188477, 4.059286117553711, 3.8971428871154785, 3.575000047683716, 3.4667859077453613, 3.505000114440918, 3.184286117553711, 3.2067859172821045, 3.169286012649536, 3.4571430683135986, 3.937856912612915, 3.7171430587768555, 3.49821400642395, 3.6389288902282715, 3.4785709381103516, 3.515713930130005, 3.2674999237060547, 3.4596428871154785, 3.508213996887207, 3.442142963409424, 3.288928985595703, 3.568213939666748, 3.733928918838501, 3.9657139778137207, 3.8424999713897705, 3.819999933242798, 3.9639289379119873, 3.68928599357605, 3.539285898208618, 3.508570909500122, 3.424285888671875, 3.384643077850342, 3.2185709476470947, 3.4442861080169678, 3.2228569984436035, 3.1478569507598877, 3.211071014404297, 3.0817859172821045, 2.874643087387085, 2.9492859840393066, 3.319643020629883, 3.242856979370117, 3.392857074737549, 3.309643030166626, 3.1760709285736084, 3.302500009536743, 3.424999952316284, 3.2646429538726807, 3.357142925262451, 3.561429023742676, 3.573570966720581, 3.507499933242798, 3.392857074737549, 3.509643077850342, 3.3839290142059326, 3.4082140922546387, 3.184286117553711, 3.1939289569854736, 3.2142860889434814, 3.062143087387085, 3.0850000381469727, 3.0371429920196533, 3.064642906188965, 3.0932140350341797, 3.0817859172821045, 3.0482139587402344, 3.2410709857940674, 3.377856969833374, 3.322143077850342, 3.250356912612915, 3.31071400642395, 3.234999895095825, 3.166429042816162, 3.132499933242798, 3.047499895095825, 2.9778571128845215, 2.940356969833374, 2.7928569316864014, 2.958214044570923, 3.1557140350341797, 3.1557140350341797, 3.2014288902282715, 3.240356922149658, 3.364285945892334, 3.3214290142059326, 3.2189290523529053, 3.268213987350464, 3.320713996887207, 3.3410708904266357, 3.444999933242798, 3.561429023742676, 3.6610710620880127, 3.493928909301758, 3.4578568935394287, 3.5453569889068604, 3.541429042816162, 3.376070976257324, 3.370357036590576, 3.237143039703369, 3.257143020629883, 3.1053569316864014, 3.2232139110565186, 3.255713939666748, 3.185357093811035, 3.189642906188965, 3.140713930130005, 3.1560709476470947, 3.256071090698242, 3.1728570461273193, 3.046428918838501, 2.9682140350341797, 3.1653571128845215, 3.309999942779541, 3.441071033477783, 3.4260709285736084, 3.4078569412231445, 3.559286117553711, 3.625714063644409, 3.629286050796509, 3.628213882446289, 3.8450000286102295, 3.8035709857940674, 3.8032140731811523, 3.92392897605896, 3.816071033477783, 3.731786012649536, 3.754286050796509, 3.8817861080169678, 4.025356769561768, 4.142499923706055, 4.2303571701049805, 4.107142925262451, 4.154285907745361, 4.270357131958008, 4.2935709953308105, 4.2253570556640625, 4.2014288902282715, 4.337500095367432, 4.4078569412231445, 4.3035712242126465, 4.348570823669434, 4.3396430015563965, 4.478570938110352, 4.425000190734863, 4.4546427726745605, 4.425000190734863, 4.46928596496582, 4.493928909301758, 4.544285774230957, 4.716785907745361, 4.739643096923828, 4.732142925262451, 4.609285831451416, 4.61392879486084, 4.627500057220459, 4.443571090698242, 4.267499923706055, 4.39107084274292, 4.372142791748047, 4.523213863372803, 4.551785945892334, 4.495357036590576, 4.434999942779541, 4.375, 4.670713901519775, 4.751786231994629, 4.8239288330078125, 4.8503570556640625, 4.976786136627197, 4.981785774230957, 5.033928871154785, 5.133571147918701, 5.166786193847656, 5.137499809265137, 5.097143173217773, 5.0089287757873535, 4.998213768005371, 4.891786098480225, 4.86035680770874, 4.869643211364746, 4.8421430587768555, 4.8528571128845215, 4.981429100036621, 4.906071186065674, 4.786070823669434, 4.864999771118164, 4.994999885559082, 5.0871429443359375, 5.070356845855713, 5.086785793304443, 5.101070880889893, 5.00071382522583, 4.950356960296631, 4.835713863372803, 4.900713920593262, 4.869999885559082, 4.947143077850342, 5.083570957183838, 5.081070899963379, 5.24571418762207, 5.268570899963379, 5.419642925262451, 5.461071014404297, 5.411070823669434, 5.5978569984436035, 5.6364288330078125, 5.713929176330566, 5.7178568840026855, 5.714285850524902, 5.715356826782227, 5.813929080963135, 5.835357189178467, 5.943929195404053, 5.912499904632568, 5.896786212921143, 5.853929042816162, 5.911070823669434, 5.882856845855713, 5.815357208251953, 5.903929233551025, 6.014999866485596, 5.9564290046691895, 5.699643135070801, 5.857142925262451, 5.878571033477783, 5.940357208251953, 6.0435709953308105, 6.0378570556640625, 6.050000190734863, 5.978929042816162, 6.051785945892334, 6.073214054107666, 6.007500171661377, 5.903571128845215, 5.899285793304443, 5.948214054107666, 6.082499980926514, 6.1760711669921875, 6.112143039703369, 6.1628570556640625, 6.148571014404297, 6.204286098480225, 6.255713939666748, 6.495357036590576, 6.591071128845215, 6.6078572273254395, 6.572143077850342, 6.588571071624756, 6.625, 6.565000057220459, 6.513214111328125, 6.648213863372803, 6.62071418762207, 6.619643211364746, 6.459286212921143, 6.603570938110352, 6.643570899963379, 6.786070823669434, 6.794642925262451, 6.759643077850342, 6.802499771118164, 6.814642906188965, 6.786428928375244, 6.831786155700684, 6.805714130401611, 6.716071128845215, 6.78071403503418, 7.098570823669434, 7.318571090698242, 7.32857084274292, 7.283570766448975, 7.231429100036621, 7.048929214477539, 6.871428966522217, 7.012499809265137, 6.732142925262451, 6.76107120513916, 6.7410712242126465, 6.814642906188965, 6.929643154144287, 6.940713882446289, 7.195000171661377, 7.24928617477417, 7.2589287757873535, 7.213929176330566, 7.301785945892334, 7.379642963409424, 7.392857074737549, 7.355713844299316, 7.161070823669434, 7.139999866485596, 7.3528571128845215, 7.30142879486084, 7.292500019073486, 7.163928985595703, 7.13964319229126, 7.034643173217773, 7.008213996887207, 7.0171427726745605, 6.904285907745361, 6.748213768005371, 6.781071186065674, 7.064286231994629, 7.01535701751709, 6.952499866485596, 7.034999847412109, 6.934642791748047, 6.965356826782227, 6.852142810821533, 6.979642868041992, 7.0796427726745605, 7.15571403503418, 7.2178568840026855, 7.465713977813721, 7.557499885559082, 7.4678568840026855, 7.558570861816406, 7.526071071624756, 7.643214225769043, 7.656428813934326, 7.534643173217773, 7.520713806152344, 7.570713996887207, 7.503929138183594, 7.4185709953308105, 7.523213863372803, 7.479642868041992, 7.354642868041992, 7.679999828338623, 7.56178617477417, 7.431070804595947, 7.0625, 7.252500057220459, 7.355000019073486, 7.424285888671875, 7.117499828338623, 6.859285831451416, 6.9546427726745605, 6.994999885559082, 7.115356922149658, 6.85892915725708, 6.980713844299316, 6.932857036590576, 7.006785869598389, 6.968571186065674, 7.0953569412231445, 7.156428813934326, 7.264286041259766, 7.23392915725708, 7.247499942779541, 7.202499866485596, 7.1578569412231445, 7.0378570556640625, 7.166429042816162, 7.214285850524902, 7.307857036590576, 7.463929176330566, 7.458929061889648, 7.476070880889893, 7.525356769561768, 7.819643020629883, 7.824285984039307, 7.965000152587891, 8.029999732971191, 8.053570747375488, 8.092857360839844, 7.994286060333252, 8.016071319580078, 8.00428581237793, 8.023214340209961, 7.9375, 8.026785850524902, 8.15571403503418, 8.19178581237793, 8.094642639160156, 8.246429443359375, 8.299642562866211, 8.423213958740234, 8.39285659790039, 8.427499771118164, 8.517499923706055, 8.555000305175781, 8.592857360839844, 8.569643020629883, 8.635356903076172, 8.653214454650879, 8.65821361541748, 8.774642944335938, 8.890000343322754, 8.835714340209961, 8.823928833007812, 8.735357284545898, 9.257857322692871, 9.516785621643066, 9.672499656677246, 9.625, 9.35857105255127, 9.342857360839844, 9.59428596496582, 9.3246431350708, 9.512499809265137, 9.238571166992188, 9.142499923706055, 8.79464340209961, 8.42357063293457, 9.071070671081543, 9.161429405212402, 9.360357284545898, 9.227143287658691, 9.0649995803833, 9.079285621643066, 9.012857437133789, 8.869285583496094, 8.491429328918457, 8.65428638458252, 8.812856674194336, 8.757857322692871, 8.71821403503418, 9.048213958740234, 9.174285888671875, 9.315357208251953, 9.426786422729492, 9.397143363952637, 9.14142894744873, 8.962142944335938, 8.904643058776855, 8.685713768005371, 8.946785926818848, 9.053929328918457, 9.081428527832031, 9.274642944335938, 9.54464340209961, 9.709643363952637, 9.788213729858398, 9.64892864227295, 9.780357360839844, 9.677499771118164, 9.60714340209961, 9.524999618530273, 9.58214282989502, 9.14892864227295, 8.983214378356934, 8.874285697937012, 8.819286346435547, 8.879643440246582, 9.238213539123535, 9.217499732971191, 9.272143363952637, 9.188928604125977, 8.992856979370117, 9.026070594787598, 8.98035717010498, 8.925000190734863, 8.770713806152344, 8.996070861816406, 9.079999923706055, 9.250714302062988, 9.283571243286133, 9.260000228881836, 9.431428909301758, 9.319999694824219, 9.21821403503418, 9.1875, 9.351785659790039, 9.354642868041992, 9.392143249511719, 9.346428871154785, 9.288928985595703, 9.348214149475098, 9.264642715454102, 8.935357093811035, 8.992500305175781, 8.896429061889648, 8.84428596496582, 8.998929023742676, 9.038213729858398, 8.924285888671875, 8.915714263916016, 8.778571128845215, 8.568928718566895, 8.674642562866211, 8.581428527832031, 8.62928581237793, 8.660714149475098, 8.682143211364746, 8.940357208251953, 9.006071090698242, 9.241786003112793, 9.207500457763672, 9.390000343322754, 9.395357131958008, 9.407500267028809, 9.537142753601074, 9.57357120513916, 9.650713920593262, 9.8774995803833, 9.834643363952637, 10.115357398986816, 10.134642601013184, 10.276785850524902, 10.318571090698242, 10.4399995803833, 10.398571014404297, 10.244999885559082, 10.263214111328125, 10.133929252624512, 10.09000015258789, 9.95142936706543, 10.319286346435547, 10.328213691711426, 10.329285621643066, 10.5024995803833, 10.54857063293457, 10.662142753601074, 10.71928596496582, 10.796786308288574, 11.240714073181152, 11.35714340209961, 11.053214073181152, 11.090356826782227, 11.054286003112793, 10.981071472167969, 11.029999732971191, 11.001786231994629, 10.993928909301758, 10.901429176330566, 10.749285697937012, 10.863571166992188, 11.04857063293457, 11.171428680419922, 11.366786003112793, 11.326070785522461, 11.37928581237793, 11.28857135772705, 11.358214378356934, 11.308929443359375, 11.001070976257324, 10.965714454650879, 10.771071434020996, 10.73214340209961, 11.01535701751709, 10.954643249511719, 11.191429138183594, 11.026070594787598, 11.242856979370117, 11.25, 11.31678581237793, 11.112500190734863, 11.300000190734863, 11.362500190734863, 11.337142944335938, 11.433929443359375, 11.364643096923828, 11.464642524719238, 11.420000076293945, 11.44857120513916, 11.488213539123535, 11.438928604125977, 11.441429138183594, 11.473214149475098, 11.450357437133789, 11.507499694824219, 11.578571319580078, 11.6128568649292, 11.557143211364746, 11.59571361541748, 11.623929023742676, 11.617500305175781, 11.559286117553711, 11.520000457763672, 11.770357131958008, 11.831786155700684, 11.928570747375488, 11.918929100036621, 12.00428581237793, 12.23035717010498, 12.20142936706543, 12.300713539123535, 12.34571361541748, 12.445713996887207, 12.166070938110352, 12.101428985595703, 11.881428718566895, 11.668571472167969, 12.051786422729492, 12.192856788635254, 12.280357360839844, 12.257499694824219, 12.003570556640625, 12.118571281433105, 12.322500228881836, 12.29714298248291, 12.265713691711426, 12.375, 12.567143440246582, 12.685713768005371, 12.791428565979004, 12.662142753601074, 12.744643211364746, 12.82785701751709, 12.853570938110352, 12.968929290771484, 12.796428680419922, 12.520000457763672, 12.09321403503418, 12.236429214477539, 12.24571418762207, 12.434286117553711, 12.614643096923828, 12.475357055664062, 12.575714111328125, 12.841428756713867, 12.85714340209961, 12.691429138183594, 12.705714225769043, 12.588213920593262, 12.381071090698242, 12.571070671081543, 12.627142906188965, 12.336786270141602, 11.786070823669434, 11.95142936706543, 11.809642791748047, 12.117856979370117, 12.185713768005371, 12.11392879486084, 12.320357322692871, 12.555000305175781, 12.515713691711426, 12.534285545349121, 12.451070785522461, 12.446785926818848, 12.305713653564453, 12.185357093811035, 12.103214263916016, 12.072856903076172, 12.074286460876465, 11.966428756713867, 11.814286231994629, 11.871429443359375, 12.004643440246582, 11.872142791748047, 11.694999694824219, 11.851785659790039, 12.066429138183594, 12.228928565979004, 12.524999618530273, 12.607500076293945, 12.515000343322754, 12.505356788635254, 12.383929252624512, 12.504643440246582, 12.367142677307129, 12.435713768005371, 12.48464298248291, 12.383929252624512, 12.380714416503906, 12.414285659790039, 12.48035717010498, 12.401070594787598, 12.3774995803833, 12.160714149475098, 11.903571128845215, 12.005000114440918, 12.138214111328125, 12.161786079406738, 11.972143173217773, 11.942856788635254, 11.86392879486084, 12.027856826782227, 11.964285850524902, 12.0503568649292, 12.422499656677246, 12.339642524719238, 12.360713958740234, 12.265713691711426, 12.072856903076172, 11.85857105255127, 11.865714073181152, 11.838929176330566, 11.639286041259766, 11.664285659790039, 11.872857093811035, 11.66964340209961, 11.6128568649292, 11.437856674194336, 11.261428833007812, 11.617856979370117, 11.521785736083984, 11.829643249511719, 11.655357360839844, 11.85857105255127, 11.973570823669434, 11.930000305175781, 11.988213539123535, 12.259285926818848, 12.479642868041992, 12.562856674194336, 12.757143020629883, 12.846785545349121, 12.64285659790039, 12.633929252624512, 12.786429405212402, 12.77750015258789, 13.032856941223145, 13.350000381469727, 13.458929061889648, 13.817856788635254, 13.831786155700684, 14.046428680419922, 14.23214340209961, 14.407500267028809, 14.021071434020996, 13.993571281433105, 13.945713996887207, 14.16964340209961, 13.889642715454102, 14.020357131958008, 13.477499961853027, 13.343570709228516, 12.614643096923828, 13.357500076293945, 12.98892879486084, 13.346428871154785, 13.463929176330566, 13.693214416503906, 13.588570594787598, 13.587142944335938, 13.073213577270508, 12.715356826782227, 12.729999542236328, 13.342857360839844, 13.4350004196167, 13.347143173217773, 13.699286460876465, 13.927499771118164, 13.928214073181152, 13.743928909301758, 13.608214378356934, 13.358928680419922, 13.562143325805664, 13.711786270141602, 13.71928596496582, 13.481429100036621, 13.569286346435547, 13.736429214477539, 13.903571128845215, 14.034285545349121, 14.303570747375488, 14.701070785522461, 14.766071319580078, 14.71928596496582, 14.350713729858398, 14.439286231994629, 14.39892864227295, 14.259285926818848, 14.178929328918457, 13.948928833007812, 13.618571281433105, 13.378570556640625, 13.303570747375488, 13.508929252624512, 13.477499961853027, 13.20714282989502, 13.88607120513916, 14.29607105255127, 14.36392879486084, 14.586786270141602, 15.071429252624512, 14.999643325805664, 15.079999923706055, 14.236429214477539, 14.118213653564453, 14.031070709228516, 14.491786003112793, 14.206070899963379, 14.307143211364746, 14.453213691711426, 14.462499618530273, 14.456428527832031, 14.161070823669434, 14.193214416503906, 14.395357131958008, 14.294285774230957, 14.276070594787598, 14.508213996887207, 14.117142677307129, 13.757857322692871, 13.736429214477539, 13.545000076293945, 13.886786460876465, 13.741786003112793, 13.478928565979004, 13.390713691711426, 13.178929328918457, 13.446785926818848, 13.106785774230957, 12.98464298248291, 13.432856559753418, 13.328571319580078, 13.649999618530273, 13.854642868041992, 13.91785717010498, 14.036070823669434, 13.962499618530273, 13.896071434020996, 13.952142715454102, 14.057856559753418, 13.994285583496094, 13.88607120513916, 13.578213691711426, 13.533571243286133, 13.607856750488281, 13.650357246398926, 14.141071319580078, 14.158928871154785, 14.233928680419922, 14.404643058776855, 14.518928527832031, 14.380000114440918, 14.468570709228516, 14.464285850524902, 14.686785697937012, 14.765713691711426, 14.929642677307129, 15.085714340209961, 15.061785697937012, 15.115714073181152, 15.091071128845215, 15.049642562866211, 14.993213653564453, 15.16785717010498, 15.325357437133789, 15.276785850524902, 15.010713577270508, 15.264642715454102, 15.014642715454102, 15.952142715454102, 15.879643440246582, 15.974286079406738, 16.17892837524414, 16.3028564453125, 16.292499542236328, 16.25428581237793, 16.417142868041992, 16.570356369018555, 16.743928909301758, 17.0242862701416, 17.61321449279785, 17.622142791748047, 17.950000762939453, 18.19499969482422, 17.773929595947266, 17.936071395874023, 17.932857513427734, 18.387500762939453, 18.322856903076172, 18.4424991607666, 18.657499313354492, 18.777143478393555, 19.12178611755371, 19.37285614013672, 19.445356369018555, 19.470714569091797, 19.04142951965332, 18.937856674194336, 18.953214645385742, 19.356786727905273, 19.47035789489746, 19.71428680419922, 20.28928565979004, 21.056428909301758, 20.912857055664062, 20.9132137298584, 21.467857360839844, 21.641429901123047, 21.51785659790039, 21.405000686645508, 21.287500381469727, 21.6778564453125, 21.945714950561523, 22.057857513427734, 21.78071403503418, 21.412500381469727, 22.093929290771484, 22.4757137298584, 22.296785354614258, 22.63142967224121, 22.72249984741211, 22.444286346435547, 22.364286422729492, 22.241785049438477, 21.6153564453125, 20.718929290771484, 21.774999618530273, 21.726428985595703, 20.979999542236328, 20.463571548461914, 20.417856216430664, 20.010000228881836, 21.78571319580078, 21.703571319580078, 21.53571319580078, 20.856428146362305, 20.79035758972168, 20.9278564453125, 20.779285430908203, 20.1875, 20.338571548461914, 20.292142868041992, 20.327856063842773, 20.375713348388672, 20.239643096923828, 19.93642807006836, 19.756071090698242, 19.502857208251953, 18.932857513427734, 18.942142486572266, 20.045713424682617, 19.891786575317383, 20.37714385986328, 20.190000534057617, 20.081785202026367, 20.438213348388672, 20.684642791748047, 20.633214950561523, 20.035356521606445, 20.153213500976562, 20.101070404052734, 20.409286499023438, 20.41857147216797, 20.7257137298584, 20.398929595947266, 20.5771427154541, 20.43428611755371, 20.411785125732422, 20.504642486572266, 20.920713424682617, 20.97892951965332, 20.919286727905273, 20.631071090698242, 20.78928565979004, 20.3846435546875, 20.429643630981445, 20.51785659790039, 20.323213577270508, 20.85714340209961, 21.161428451538086, 21.407499313354492, 21.783571243286133, 21.63857078552246, 21.92464256286621, 21.721786499023438, 21.5867862701416, 21.389286041259766, 21.60607147216797, 21.675357818603516, 21.676429748535156, 21.652143478393555, 21.940000534057617, 21.582143783569336, 21.565357208251953, 21.461429595947266, 20.534643173217773, 20.531429290771484, 20.898571014404297, 21.25107192993164, 21.812856674194336, 21.671785354614258, 21.706785202026367, 21.989286422729492, 22.233928680419922, 22.175357818603516, 22.13785743713379, 22.168928146362305, 22.203571319580078, 22.5, 22.56035614013672, 22.52964210510254, 22.726428985595703, 23.146785736083984, 23.75535774230957, 23.430713653564453, 23.888214111328125, 23.66535758972168, 23.68642807006836, 24.13142967224121, 24.100000381469727, 24.052499771118164, 23.70964241027832, 23.75857162475586, 24.10607147216797, 23.936786651611328, 24.15250015258789, 24.301429748535156, 23.669286727905273, 23.592500686645508, 23.921070098876953, 24.39214324951172, 24.68857192993164, 24.992143630981445, 25.068214416503906, 25.075000762939453, 24.953571319580078, 25.00321388244629, 24.671070098876953, 24.05500030517578, 23.75642967224121, 24.332857131958008, 23.825000762939453, 23.54964256286621, 23.618213653564453, 23.980356216430664, 23.814285278320312, 23.306785583496094, 22.791786193847656, 22.70892906188965, 22.8896427154541, 22.43214225769043, 22.489643096923828, 22.670000076293945, 23.206785202026367, 23.021785736083984, 22.59428596496582, 21.780000686645508, 22.64392852783203, 21.90571403503418, 22.02964210510254, 21.769285202026367, 21.571428298950195, 21.261428833007812, 21.30500030517578, 20.600000381469727, 20.87928581237793, 20.816070556640625, 19.928571701049805, 19.20535659790039, 19.537857055664062, 19.38678550720215, 19.389286041259766, 19.174285888671875, 18.77214241027832, 18.845714569091797, 20.20464324951172, 20.032499313354492, 20.060714721679688, 20.41071319580078, 21.054643630981445, 20.885000228881836, 20.819286346435547, 21.04857063293457, 20.902856826782227, 20.93535614013672, 20.566070556640625, 19.24250030517578, 19.544286727905273, 19.04464340209961, 18.922143936157227, 19.335357666015625, 19.25, 18.917499542236328, 18.206785202026367, 18.52964210510254, 19.06785774230957, 18.796785354614258, 18.633214950561523, 18.547500610351562, 18.577499389648438, 18.321428298950195, 18.395000457763672, 18.199642181396484, 19.006071090698242, 19.608213424682617, 19.360713958740234, 18.821428298950195, 18.71071434020996, 18.761070251464844, 18.467857360839844, 18.696786880493164, 18.582143783569336, 17.91964340209961, 17.354286193847656, 18.074642181396484, 17.952856063842773, 17.85714340209961, 18.02750015258789, 18.357500076293945, 16.08928680419922, 15.710000038146973, 16.065357208251953, 16.366785049438477, 16.315357208251953, 16.267499923706055, 16.200714111328125, 15.79714298248291, 16.351428985595703, 16.33392906188965, 16.722143173217773, 16.963571548461914, 17.140356063842773, 16.71071434020996, 16.67892837524414, 16.663928985595703, 16.43428611755371, 16.428213119506836, 16.030357360839844, 15.930713653564453, 16.100357055664062, 15.814286231994629, 16.034643173217773, 15.8774995803833, 15.764286041259766, 15.373929023742676, 15.001786231994629, 15.397856712341309, 15.202142715454102, 15.377857208251953, 15.418571472167969, 15.638214111328125, 15.301071166992188, 15.298213958740234, 15.446429252624512, 15.845000267028809, 16.275714874267578, 16.231786727905273, 16.145713806152344, 16.168928146362305, 16.49678611755371, 16.556428909301758, 16.46928596496582, 16.145713806152344, 15.809286117553711, 15.318214416503906, 15.349642753601074, 15.428214073181152, 15.275713920593262, 15.114286422729492, 15.221785545349121, 15.249285697937012, 15.560357093811035, 15.511786460876465, 15.350000381469727, 14.994643211364746, 15.222857475280762, 14.385713577270508, 14.001786231994629, 13.947500228881836, 14.238213539123535, 14.504643440246582, 14.480713844299316, 14.585000038146973, 14.899999618530273, 15.361429214477539, 15.813570976257324, 15.688928604125977, 15.911429405212402, 16.070714950561523, 16.453929901123047, 16.380714416503906, 16.56571388244629, 16.313213348388672, 16.177499771118164, 16.240713119506836, 15.852143287658691, 15.316070556640625, 15.520713806152344, 15.473570823669434, 15.818928718566895, 15.702142715454102, 15.762499809265137, 15.790714263916016, 15.898214340209961, 15.765713691711426, 15.891071319580078, 16.127857208251953, 16.061786651611328, 16.097143173217773, 16.046785354614258, 15.896785736083984, 15.659285545349121, 15.778928756713867, 15.674642562866211, 15.628570556640625, 15.435357093811035, 15.569999694824219, 15.358928680419922, 15.428570747375488, 15.420356750488281, 15.10714340209961, 14.8871431350708, 14.76785659790039, 14.376428604125977, 14.379643440246582, 14.21678638458252, 14.063570976257324, 14.161786079406738, 14.614999771118164, 14.946070671081543, 15.028571128845215, 14.907856941223145, 14.823213577270508, 15.083929061889648, 15.026070594787598, 15.260356903076172, 15.232500076293945, 15.265713691711426, 15.364286422729492, 15.368213653564453, 15.420000076293945, 15.176786422729492, 15.225357055664062, 14.963929176330566, 15.732500076293945, 15.660714149475098, 15.749643325805664, 15.992500305175781, 16.190000534057617, 16.161785125732422, 16.309999465942383, 16.519285202026367, 16.766071319580078, 16.616071701049805, 16.606428146362305, 16.464643478393555, 16.230356216430664, 16.691429138183594, 17.484643936157227, 17.803571701049805, 17.782499313354492, 17.940357208251953, 18.13357162475586, 17.895357131958008, 17.941429138183594, 17.96285629272461, 17.893571853637695, 17.963214874267578, 17.449642181396484, 17.532142639160156, 17.560714721679688, 17.400714874267578, 17.44928550720215, 17.81035614013672, 17.688213348388672, 17.79357147216797, 18.077499389648438, 17.665714263916016, 16.703929901123047, 16.881786346435547, 16.60357093811035, 16.075714111328125, 16.261428833007812, 16.595714569091797, 16.867856979370117, 16.693214416503906, 17.522857666015625, 17.467857360839844, 17.197500228881836, 17.364999771118164, 17.241071701049805, 17.02678680419922, 17.427143096923828, 17.484285354614258, 17.2646427154541, 17.25107192993164, 17.41964340209961, 17.176429748535156, 17.37821388244629, 17.48714256286621, 17.600357055664062, 17.715713500976562, 17.809999465942383, 17.896785736083984, 18.01785659790039, 18.17464256286621, 18.6200008392334, 18.56678581237793, 18.748571395874023, 18.99678611755371, 18.784286499023438, 18.924285888671875, 18.452856063842773, 18.746429443359375, 18.667856216430664, 18.572500228881836, 18.8125, 18.766071319580078, 18.604286193847656, 18.303213119506836, 18.591428756713867, 18.537500381469727, 18.571786880493164, 18.593929290771484, 18.862857818603516, 18.749643325805664, 18.522499084472656, 18.555356979370117, 18.39285659790039, 18.61214256286621, 18.564285278320312, 18.704999923706055, 19.049999237060547, 19.498571395874023, 19.859643936157227, 19.686786651611328, 20.2257137298584, 20.178571701049805, 20.282142639160156, 20.000713348388672, 20.229642868041992, 20.198213577270508, 20.04857063293457, 20.019285202026367, 19.801071166992188, 19.91071319580078, 19.82107162475586, 19.67035675048828, 19.44499969482422, 19.60785675048828, 20.3603572845459, 20.273929595947266, 20.139286041259766, 20.00321388244629, 19.804285049438477, 20.036428451538086, 19.754642486572266, 19.320714950561523, 19.426071166992188, 19.28714370727539, 19.409286499023438, 19.161428451538086, 19.033571243286133, 19.133214950561523, 19.51392936706543, 19.90571403503418, 19.79464340209961, 19.309642791748047, 19.609643936157227, 19.696786880493164, 19.863571166992188, 19.502500534057617, 19.66071319580078, 18.08928680419922, 17.883928298950195, 17.849285125732422, 17.878570556640625, 17.911785125732422, 18.171070098876953, 18.306785583496094, 18.30392837524414, 18.559999465942383, 18.892499923706055, 19.141429901123047, 19.139999389648438, 19.44392967224121, 19.428213119506836, 19.499643325805664, 19.19178581237793, 18.969642639160156, 18.758928298950195, 18.8410701751709, 18.645000457763672, 18.47678565979004, 18.84535789489746, 18.794286727905273, 18.84857177734375, 18.972856521606445, 19.01285743713379, 18.95535659790039, 18.944286346435547, 18.961429595947266, 19.14607048034668, 19.164642333984375, 18.951786041259766, 18.738929748535156, 18.812143325805664, 18.97857093811035, 18.97357177734375, 18.882143020629883, 19.031070709228516, 19.256786346435547, 19.46392822265625, 19.277856826782227, 19.19499969482422, 19.17357063293457, 19.169286727905273, 19.344642639160156, 19.376785278320312, 19.24250030517578, 18.99357032775879, 18.695356369018555, 18.694286346435547, 18.940000534057617, 18.695714950561523, 18.5575008392334, 18.63142967224121, 18.498571395874023, 18.53607177734375, 18.74785614013672, 18.97035789489746, 18.989286422729492, 18.741071701049805, 20.27750015258789, 20.426429748535156, 21.217500686645508, 21.15464210510254, 21.074642181396484, 21.124286651611328, 21.163570404052734, 21.46285629272461, 21.22892951965332, 21.15464210510254, 20.999643325805664, 20.91214370727539, 21.172500610351562, 21.205713272094727, 21.20964241027832, 21.029285430908203, 21.339643478393555, 21.592500686645508, 21.596786499023438, 21.653928756713867, 21.688213348388672, 21.93321418762207, 22.343929290771484, 22.28607177734375, 22.692142486572266, 22.60714340209961, 22.451786041259766, 22.769285202026367, 23.029285430908203, 23.11964225769043, 23.05607032775879, 23.424999237060547, 23.5625, 23.46500015258789, 23.072500228881836, 22.81999969482422, 23.049999237060547, 23.020000457763672, 23.045000076293945, 22.96500015258789, 22.727500915527344, 22.707500457763672, 22.56999969482422, 22.59000015258789, 22.725000381469727, 22.9950008392334, 23.232500076293945, 23.3799991607666, 23.3700008392334, 23.50749969482422, 23.99250030517578, 23.837499618530273, 23.84749984741211, 23.760000228881836, 23.80500030517578, 24.112499237060547, 23.829999923706055, 23.69499969482422, 23.272499084472656, 23.607500076293945, 23.485000610351562, 23.68000030517578, 24.297500610351562, 24.25749969482422, 24.417499542236328, 24.7549991607666, 24.594999313354492, 24.537500381469727, 23.899999618530273, 24.032499313354492, 23.897499084472656, 23.780000686645508, 23.739999771118164, 23.6200008392334, 23.684999465942383, 23.997499465942383, 23.99250030517578, 24.309999465942383, 24.375, 24.4950008392334, 24.790000915527344, 25.13249969482422, 25.142499923706055, 25.145000457763672, 25.329999923706055, 25.385000228881836, 25.22249984741211, 25.532499313354492, 25.5625, 25.625, 25.825000762939453, 24.735000610351562, 24.530000686645508, 24.74250030517578, 24.59000015258789, 24.497499465942383, 25.25, 25.357500076293945, 25.415000915527344, 25.407499313354492, 25.21500015258789, 25.395000457763672, 25.447500228881836, 25.239999771118164, 25.264999389648438, 25.65999984741211, 25.4375, 24.467500686645508, 25.1875, 25.02750015258789, 25.1875, 24.795000076293945, 24.975000381469727, 24.905000686645508, 24.905000686645508, 24.6875, 25.200000762939453, 25.2549991607666, 25.1825008392334, 24.952499389648438, 24.6875, 24.385000228881836, 24.065000534057617, 24.417499542236328, 24.940000534057617, 25.61750030517578, 25.747499465942383, 26.207500457763672, 26.30500030517578, 26.27750015258789, 26.684999465942383, 26.834999084472656, 26.7450008392334, 27.0, 27.350000381469727, 27.149999618530273, 27.21500015258789, 27.174999237060547, 27.252500534057617, 27.207500457763672, 27.424999237060547, 27.8125, 28.204999923706055, 28.545000076293945, 28.497499465942383, 28.86750030517578, 28.667499542236328, 29.077499389648438, 29.11750030517578, 29.657499313354492, 29.399999618530273, 29.75, 29.732500076293945, 28.767499923706055, 28.657499313354492, 28.982500076293945, 28.872499465942383, 28.75, 28.100000381469727, 28.530000686645508, 27.987499237060547, 27.905000686645508, 27.4325008392334, 27.0575008392334, 26.6875, 27.352500915527344, 28.162500381469727, 27.94499969482422, 28.235000610351562, 28.135000228881836, 28.002500534057617, 28.497499465942383, 28.477500915527344, 28.1299991607666, 27.594999313354492, 27.332500457763672, 26.5625, 26.565000534057617, 26.9375, 27.97249984741211, 28.002500534057617, 27.3125, 27.55500030517578, 27.450000762939453, 26.704999923706055, 26.497499465942383, 27.18000030517578, 27.387500762939453, 28.100000381469727, 28.2450008392334, 28.274999618530273, 27.28499984741211, 28.827499389648438, 29.725000381469727, 29.290000915527344, 29.657499313354492, 29.662500381469727, 29.889999389648438, 29.985000610351562, 29.732500076293945, 29.93000030517578, 30.5049991607666, 31.219999313354492, 31.614999771118164, 31.770000457763672, 31.957500457763672, 32.18000030517578, 32.11249923706055, 32.375, 33.25, 33.04249954223633, 32.1974983215332, 32.60499954223633, 32.1150016784668, 32.272499084472656, 32.34000015258789, 32.1349983215332, 31.602500915527344, 31.649999618530273, 31.78499984741211, 31.127500534057617, 30.559999465942383, 31.112499237060547, 30.897499084472656, 31.237499237060547, 31.760000228881836, 32.11750030517578, 31.875, 31.475000381469727, 31.802499771118164, 31.672500610351562, 30.844999313354492, 31.059999465942383, 30.8125, 31.592500686645508, 31.107500076293945, 31.0625, 31.329999923706055, 31.837499618530273, 31.502500534057617, 31.399999618530273, 31.639999389648438, 31.774999618530273, 31.712499618530273, 31.575000762939453, 31.69499969482422, 31.542499542236328, 31.1875, 31.899999618530273, 31.727500915527344, 32.154998779296875, 32.41749954223633, 32.56999969482422, 33.162498474121094, 32.63999938964844, 32.15999984741211, 31.287500381469727, 32.23749923706055, 32.17499923706055, 31.450000762939453, 31.252500534057617, 31.315000534057617, 31.905000686645508, 31.579999923706055, 31.467500686645508, 31.502500534057617, 32.23749923706055, 32.192501068115234, 32.54750061035156, 32.51750183105469, 32.51499938964844, 32.84749984741211, 33.1349983215332, 32.404998779296875, 33.0099983215332, 32.94499969482422, 32.56999969482422, 32.6349983215332, 32.4900016784668, 32.529998779296875, 32.34000015258789, 32.162498474121094, 31.950000762939453, 31.854999542236328, 32.220001220703125, 32.147499084472656, 31.792499542236328, 31.729999542236328, 31.899999618530273, 31.825000762939453, 31.969999313354492, 31.649999618530273, 31.90250015258789, 31.75749969482422, 32.02750015258789, 31.875, 31.6875, 31.13249969482422, 31.357500076293945, 31.649999618530273, 31.610000610351562, 31.5, 31.422500610351562, 30.642499923706055, 30.017499923706055, 30.81999969482422, 31.415000915527344, 31.40250015258789, 31.704999923706055, 32.127498626708984, 32.404998779296875, 33.01750183105469, 32.6875, 31.30500030517578, 31.290000915527344, 31.125, 30.6924991607666, 30.844999313354492, 30.747499465942383, 30.592500686645508, 30.325000762939453, 29.610000610351562, 28.65999984741211, 28.850000381469727, 28.782499313354492, 28.8799991607666, 29.93000030517578, 28.372499465942383, 28.809999465942383, 28.787500381469727, 28.989999771118164, 29.290000915527344, 29.125, 28.752500534057617, 28.162500381469727, 26.440000534057617, 25.780000686645508, 25.934999465942383, 27.422500610351562, 28.229999542236328, 28.322500228881836, 28.190000534057617, 26.93000030517578, 28.084999084472656, 27.592500686645508, 27.3174991607666, 28.077499389648438, 27.537500381469727, 28.142499923706055, 28.552499771118164, 28.827499389648438, 29.06999969482422, 29.102500915527344, 28.479999542236328, 28.362499237060547, 28.802499771118164, 28.350000381469727, 28.579999923706055, 28.75, 28.677499771118164, 28.110000610351562, 27.264999389648438, 27.575000762939453, 27.395000457763672, 27.594999313354492, 27.69499969482422, 27.827499389648438, 27.69499969482422, 27.375, 28.030000686645508, 27.899999618530273, 27.947500228881836, 27.552499771118164, 27.96500015258789, 27.760000228881836, 27.9325008392334, 28.4424991607666, 28.440000534057617, 28.875, 29.770000457763672, 28.81999969482422, 28.637500762939453, 29.8174991607666, 30.13249969482422, 29.875, 30.295000076293945, 30.642499923706055, 30.5, 30.229999542236328, 30.264999389648438, 30.142499923706055, 29.1924991607666, 29.02750015258789, 28.93000030517578, 28.084999084472656, 28.545000076293945, 28.422500610351562, 29.322500228881836, 29.69499969482422, 29.825000762939453, 29.4375, 29.719999313354492, 29.50749969482422, 29.452499389648438, 29.575000762939453, 29.334999084472656, 29.06999969482422, 28.799999237060547, 29.75749969482422, 29.56999969482422, 29.5575008392334, 28.905000686645508, 29.042499542236328, 28.295000076293945, 28.1200008392334, 27.622499465942383, 27.834999084472656, 27.2450008392334, 26.50749969482422, 26.832500457763672, 26.8075008392334, 27.15250015258789, 27.00749969482422, 26.704999923706055, 27.184999465942383, 26.829999923706055, 26.315000534057617, 26.337499618530273, 25.677499771118164, 25.174999237060547, 24.112499237060547, 24.239999771118164, 24.63249969482422, 24.989999771118164, 24.34749984741211, 24.8799991607666, 24.282499313354492, 24.165000915527344, 24.197500228881836, 24.075000762939453, 25.354999542236328, 24.860000610351562, 24.997499465942383, 23.354999542236328, 23.522499084472656, 24.334999084472656, 24.107500076293945, 23.6200008392334, 24.087499618530273, 24.149999618530273, 23.5049991607666, 23.752500534057617, 23.747499465942383, 23.5674991607666, 23.424999237060547, 23.497499465942383, 24.15999984741211, 24.530000686645508, 24.065000534057617, 24.010000228881836, 24.219999313354492, 23.672500610351562, 24.024999618530273, 24.190000534057617, 24.227500915527344, 24.172500610351562, 25.13249969482422, 25.1875, 25.375, 25.752500534057617, 25.467500686645508, 25.25749969482422, 25.280000686645508, 25.292499542236328, 25.565000534057617, 25.6299991607666, 26.145000457763672, 26.49250030517578, 26.450000762939453, 26.479999542236328, 26.477500915527344, 26.68000030517578, 26.532499313354492, 26.417499542236328, 26.297500610351562, 26.920000076293945, 27.389999389648438, 27.247499465942383, 27.497499465942383, 27.780000686645508, 27.452499389648438, 27.739999771118164, 27.135000228881836, 27.165000915527344, 27.2549991607666, 27.610000610351562, 28.010000228881836, 28.024999618530273, 27.462499618530273, 26.8700008392334, 26.727500915527344, 26.782499313354492, 26.49250030517578, 26.420000076293945, 26.270000457763672, 26.087499618530273, 24.454999923706055, 23.707500457763672, 23.434999465942383, 23.40999984741211, 23.795000076293945, 23.547500610351562, 23.309999465942383, 23.18000030517578, 23.197500228881836, 23.354999542236328, 23.127500534057617, 22.584999084472656, 22.6299991607666, 23.469999313354492, 23.372499465942383, 23.639999389648438, 23.549999237060547, 23.80500030517578, 24.107500076293945, 24.475000381469727, 24.905000686645508, 25.102500915527344, 25.087499618530273, 24.96500015258789, 24.614999771118164, 24.43000030517578, 24.479999542236328, 24.657499313354492, 24.75749969482422, 24.735000610351562, 24.912500381469727, 24.707500457763672, 24.334999084472656, 24.364999771118164, 24.28499984741211, 24.387500762939453, 23.832500457763672, 23.774999618530273, 23.977500915527344, 23.887500762939453, 24.024999618530273, 23.350000381469727, 23.010000228881836, 23.397499084472656, 23.600000381469727, 23.899999618530273, 23.97249984741211, 23.747499465942383, 23.88249969482422, 23.985000610351562, 24.170000076293945, 24.2450008392334, 24.354999542236328, 24.217500686645508, 24.697500228881836, 24.69499969482422, 24.957500457763672, 24.967500686645508, 24.989999771118164, 24.857500076293945, 24.665000915527344, 24.334999084472656, 24.167499542236328, 25.737499237060547, 26.084999084472656, 26.052499771118164, 26.512500762939453, 26.1200008392334, 26.447500228881836, 26.467500686645508, 26.8700008392334, 27.092500686645508, 27.202499389648438, 27.0, 26.982500076293945, 27.045000076293945, 27.3700008392334, 27.344999313354492, 27.30500030517578, 27.270000457763672, 27.34000015258789, 27.127500534057617, 27.212499618530273, 27.00749969482422, 26.892499923706055, 26.735000610351562, 26.704999923706055, 26.5, 26.524999618530273, 26.6825008392334, 26.9325008392334, 26.924999237060547, 27.09000015258789, 26.3799991607666, 25.782499313354492, 26.360000610351562, 26.987499237060547, 27.9424991607666, 28.892499923706055, 28.729999542236328, 28.395000457763672, 28.392499923706055, 28.387500762939453, 28.655000686645508, 28.177499771118164, 28.219999313354492, 28.272499084472656, 28.487499237060547, 28.045000076293945, 28.262500762939453, 28.1299991607666, 28.25, 28.262500762939453, 28.47249984741211, 28.514999389648438, 29.012500762939453, 29.075000762939453, 29.334999084472656, 29.2450008392334, 29.407499313354492, 29.387500762939453, 29.36750030517578, 29.280000686645508, 29.264999389648438, 29.149999618530273, 29.412500381469727, 29.5625, 28.897499084472656, 28.6200008392334, 28.43000030517578, 28.385000228881836, 27.872499465942383, 27.897499084472656, 27.457500457763672, 27.209999084472656, 27.602500915527344, 27.764999389648438, 27.719999313354492, 26.947500228881836, 27.107500076293945, 26.427499771118164, 26.77750015258789, 27.497499465942383, 27.487499237060547, 27.514999389648438, 27.9325008392334, 27.950000762939453, 27.8075008392334, 27.947500228881836, 27.892499923706055, 27.864999771118164, 27.6299991607666, 27.372499465942383, 27.475000381469727, 27.27750015258789, 27.487499237060547, 27.75749969482422, 28.030000686645508, 28.487499237060547, 28.325000762939453, 28.797500610351562, 28.797500610351562, 28.954999923706055, 28.99250030517578, 29.15999984741211, 29.237499237060547, 29.264999389648438, 29.072500228881836, 29.1299991607666, 29.315000534057617, 29.190000534057617, 29.1825008392334, 28.954999923706055, 29.037500381469727, 29.0049991607666, 29.15250015258789, 29.477500915527344, 29.747499465942383, 29.77750015258789, 29.9375, 29.8125, 29.760000228881836, 30.0, 29.997499465942383, 29.94499969482422, 30.0, 30.020000457763672, 29.99250030517578, 30.469999313354492, 30.485000610351562, 30.487499237060547, 30.407499313354492, 30.337499618530273, 32.1875, 32.13249969482422, 32.27000045776367, 32.5724983215332, 32.88249969482422, 33.0099983215332, 33.10499954223633, 33.029998779296875, 33.3224983215332, 33.755001068115234, 33.877498626708984, 33.837501525878906, 33.93000030517578, 34.17499923706055, 34.27750015258789, 34.13249969482422, 34.165000915527344, 34.23249816894531, 34.247501373291016, 34.9474983215332, 34.7400016784668, 34.94499969482422, 34.834999084472656, 34.880001068115234, 34.75, 34.66999816894531, 34.78499984741211, 34.79999923706055, 34.747501373291016, 35.1150016784668, 35.17250061035156, 34.997501373291016, 35.3650016784668, 34.959999084472656, 35.35499954223633, 35.22999954223633, 35.15999984741211, 35.220001220703125, 35.95000076293945, 36.029998779296875, 35.98249816894531, 35.915000915527344, 35.92499923706055, 36.192501068115234, 36.005001068115234, 35.915000915527344, 35.834999084472656, 35.79249954223633, 35.407501220703125, 35.45000076293945, 35.26250076293945, 35.45750045776367, 35.29999923706055, 35.16999816894531, 35.61000061035156, 35.567501068115234, 35.90999984741211, 36.13249969482422, 35.91999816894531, 35.9474983215332, 35.912498474121094, 36.64500045776367, 36.877498626708984, 36.76499938964844, 36.63249969482422, 37.2400016784668, 38.252498626708984, 38.497501373291016, 38.314998626708984, 38.48749923706055, 39.025001525878906, 38.92499923706055, 38.86750030517578, 37.5625, 38.1349983215332, 38.26499938964844, 38.497501373291016, 38.45000076293945, 38.334999084472656, 38.467498779296875, 38.40250015258789, 38.41749954223633, 38.189998626708984, 38.29499816894531, 38.86249923706055, 38.48249816894531, 38.61249923706055, 38.842498779296875, 38.747501373291016, 37.244998931884766, 36.35499954223633, 36.647499084472656, 36.290000915527344, 36.0724983215332, 35.567501068115234, 36.584999084472656, 36.252498626708984, 36.467498779296875, 36.407501220703125, 36.56999969482422, 36.45500183105469, 35.932498931884766, 36.45750045776367, 35.91999816894531, 36.005001068115234, 35.875, 36.022499084472656, 35.682498931884766, 36.04499816894531, 36.26499938964844, 36.38249969482422, 36.435001373291016, 36.942501068115234, 37.2599983215332, 37.38999938964844, 37.52000045776367, 37.755001068115234, 37.584999084472656, 37.567501068115234, 38.022499084472656, 38.185001373291016, 38.3650016784668, 37.63999938964844, 37.375, 37.182498931884766, 37.51250076293945, 39.28499984741211, 38.89250183105469, 39.09749984741211, 39.70249938964844, 40.02000045776367, 40.26499938964844, 38.83000183105469, 39.369998931884766, 39.962501525878906, 40.400001525878906, 40.23749923706055, 39.46500015258789, 39.375, 39.3025016784668, 39.94499969482422, 39.994998931884766, 39.817501068115234, 39.96500015258789, 40.36750030517578, 40.727500915527344, 40.837501525878906, 41.0, 41.01250076293945, 40.52000045776367, 40.477500915527344, 40.314998626708984, 39.657501220703125, 40.375, 40.21500015258789, 39.912498474121094, 39.56999969482422, 39.970001220703125, 39.66749954223633, 39.682498931884766, 39.01750183105469, 38.34749984741211, 37.97249984741211, 37.63750076293945, 38.28499984741211, 38.557498931884766, 38.31999969482422, 38.529998779296875, 38.45249938964844, 38.619998931884766, 38.369998931884766, 38.84749984741211, 38.82500076293945, 38.959999084472656, 38.974998474121094, 39.13750076293945, 39.0, 39.247501373291016, 39.970001220703125, 40.11750030517578, 39.939998626708984, 38.994998931884766, 39.0625, 39.04249954223633, 39.275001525878906, 39.102500915527344, 39.352500915527344, 40.76250076293945, 41.68000030517578, 42.2599983215332, 41.72249984741211, 42.02750015258789, 43.125, 43.5625, 43.70249938964844, 44.060001373291016, 43.970001220703125, 43.66749954223633, 43.49250030517578, 42.834999084472656, 42.27000045776367, 42.775001525878906, 42.537498474121094, 42.494998931884766, 43.28499984741211, 43.7400016784668, 43.74250030517578, 43.522499084472656, 43.26750183105469, 42.369998931884766, 42.962501525878906, 42.76250076293945, 42.45000076293945, 42.40999984741211, 42.252498626708984, 42.33000183105469, 42.342498779296875, 43.16749954223633, 42.92499923706055, 43.067501068115234, 43.05500030517578, 43.49250030517578, 44.10499954223633, 43.6349983215332, 43.587501525878906, 43.752498626708984, 43.752498626708984, 42.64250183105469, 42.650001525878906, 42.77000045776367, 42.307498931884766, 43.064998626708984, 43.057498931884766, 43.25749969482422, 43.75, 43.587501525878906, 43.58250045776367, 43.5724983215332, 43.81999969482422, 44.272499084472656, 44.04750061035156, 44.775001525878906, 44.814998626708984, 44.6150016784668, 44.25, 44.2599983215332, 43.55500030517578, 42.77750015258789, 42.877498626708984, 41.9900016784668, 41.74250030517578, 41.85749816894531, 41.94499969482422, 40.125, 39.122501373291016, 40.75749969482422, 39.8849983215332, 38.787498474121094, 39.102500915527344, 40.6775016784668, 41.084999084472656, 41.842498779296875, 43.247501373291016, 43.10749816894531, 42.962501525878906, 42.76750183105469, 43.125, 43.875, 44.74250030517578, 44.59749984741211, 44.529998779296875, 43.75, 44.0525016784668, 44.20500183105469, 44.16749954223633, 43.75749969482422, 44.23500061035156, 44.994998931884766, 45.43000030517578, 44.99250030517578, 44.61000061035156, 44.662498474121094, 44.505001068115234, 43.82500076293945, 43.810001373291016, 42.817501068115234, 42.212501525878906, 41.23500061035156, 43.192501068115234, 42.084999084472656, 41.619998931884766, 41.94499969482422, 41.66999816894531, 42.09749984741211, 42.90250015258789, 43.20000076293945, 42.095001220703125, 42.51250076293945, 43.3125, 43.11000061035156, 43.53499984741211, 43.682498931884766, 43.95500183105469, 44.560001373291016, 44.459999084472656, 43.20000076293945, 41.43000030517578, 41.310001373291016, 40.73500061035156, 40.912498474121094, 41.05500030517578, 40.58000183105469, 41.314998626708984, 42.275001525878906, 44.14250183105469, 44.22249984741211, 45.95750045776367, 46.290000915527344, 46.51250076293945, 46.84000015258789, 47.5099983215332, 47.147499084472656, 47.037498474121094, 46.61000061035156, 47.04499816894531, 46.747501373291016, 46.57749938964844, 46.907501220703125, 46.790000915527344, 47.09000015258789, 47.037498474121094, 47.14500045776367, 46.974998474121094, 46.875, 46.717498779296875, 47.560001373291016, 47.95750045776367, 48.32749938964844, 48.494998931884766, 48.3650016784668, 47.92499923706055, 47.807498931884766, 48.06999969482422, 47.67499923706055, 47.70000076293945, 47.209999084472656, 47.185001373291016, 46.42250061035156, 46.625, 46.3650016784668, 46.22999954223633, 45.54249954223633, 46.10749816894531, 46.040000915527344, 46.375, 46.27750015258789, 46.79499816894531, 45.97999954223633, 46.349998474121094, 46.99250030517578, 47.64500045776367, 47.587501525878906, 46.970001220703125, 47.75749969482422, 47.83250045776367, 47.727500915527344, 47.86249923706055, 47.599998474121094, 47.970001220703125, 47.86000061035156, 47.90250015258789, 48.25, 48.70500183105469, 48.5525016784668, 47.744998931884766, 47.477500915527344, 47.5724983215332, 50.375, 51.84749984741211, 51.997501373291016, 52.26750183105469, 51.77750015258789, 51.8125, 52.220001220703125, 51.88249969482422, 52.217498779296875, 52.4375, 52.560001373291016, 53.33000183105469, 54.39500045776367, 53.8650016784668, 53.7599983215332, 53.76250076293945, 53.872501373291016, 54.040000915527344, 54.48500061035156, 54.92499923706055, 55.744998931884766, 56.25749969482422, 56.907501220703125, 57.09000015258789, 56.717498779296875, 55.775001525878906, 55.32500076293945, 54.58250045776367, 55.962501525878906, 55.26750183105469, 56.602500915527344, 55.959999084472656, 54.470001220703125, 54.560001373291016, 54.592498779296875, 55.00749969482422, 54.415000915527344, 55.1974983215332, 55.54750061035156, 55.10499954223633, 56.23749923706055, 56.435001373291016, 56.814998626708984, 57.31999969482422, 58.01750183105469, 56.997501373291016, 56.0724983215332, 55.942501068115234, 56.717498779296875, 54.09000015258789, 53.61249923706055, 55.52750015258789, 54.34000015258789, 55.537498474121094, 55.29750061035156, 54.005001068115234, 54.82749938964844, 55.162498474121094, 55.682498931884766, 53.772499084472656, 54.95000076293945, 54.07500076293945, 53.060001373291016, 53.32500076293945, 54.71500015258789, 55.55500030517578, 51.869998931884766, 50.397499084472656, 50.942501068115234, 52.48749923706055, 52.122501373291016, 51.11750030517578, 48.54249954223633, 48.057498931884766, 46.70000076293945, 47.852500915527344, 48.38249969482422, 46.46500015258789, 44.244998931884766, 44.19499969482422, 43.0724983215332, 43.654998779296875, 43.560001373291016, 45.23500061035156, 44.88750076293945, 44.64500045776367, 46.20500183105469, 44.17250061035156, 43.68000030517578, 42.122501373291016, 42.400001525878906, 42.157501220703125, 42.275001525878906, 42.73749923706055, 41.369998931884766, 40.98500061035156, 41.51750183105469, 40.22249984741211, 39.20750045776367, 37.682498931884766, 36.70750045776367, 39.29249954223633, 39.037498474121094, 39.057498931884766, 39.435001373291016, 39.47999954223633, 35.54750061035156, 37.064998626708984, 36.98249816894531, 37.6875, 38.32749938964844, 38.45000076293945, 38.0724983215332, 37.5, 38.26750183105469, 38.73500061035156, 38.96500015258789, 39.20500183105469, 38.32500076293945, 38.47999954223633, 38.17499923706055, 39.439998626708984, 39.07500076293945, 38.66999816894531, 41.3125, 41.61000061035156, 41.630001068115234, 42.8125, 43.54499816894531, 43.560001373291016, 42.73500061035156, 42.602500915527344, 42.35749816894531, 42.72249984741211, 42.54499816894531, 42.70000076293945, 42.60499954223633, 42.73249816894531, 43.00749969482422, 42.76499938964844, 43.24250030517578, 43.557498931884766, 43.58250045776367, 43.717498779296875, 43.287498474121094, 43.74250030517578, 43.962501525878906, 43.88249969482422, 43.630001068115234, 43.125, 43.227500915527344, 44.724998474121094, 45.227500915527344, 45.4275016784668, 45.932498931884766, 46.529998779296875, 47.005001068115234, 46.63249969482422, 47.040000915527344, 48.772499084472656, 47.76250076293945, 47.185001373291016, 46.6974983215332, 47.11750030517578, 47.18000030517578, 47.48749923706055, 47.810001373291016, 48.505001068115234, 48.837501525878906, 48.92250061035156, 49.25, 50.025001525878906, 49.875, 50.154998779296875, 49.73749923706055, 49.717498779296875, 49.807498931884766, 49.8125, 50.782501220703125, 50.96500015258789, 51.13249969482422, 51.869998931884766, 51.790000915527344, 51.31999969482422, 51.07500076293945, 51.15250015258789, 50.16749954223633, 52.630001068115234, 52.287498474121094, 52.9375, 52.119998931884766, 50.71500015258789, 50.724998474121094, 50.18000030517578, 49.29499816894531, 46.43000030517578, 47.165000915527344, 47.72999954223633, 47.52000045776367, 47.25, 45.772499084472656, 46.650001525878906, 45.69499969482422, 44.915000915527344, 44.74250030517578, 44.557498931884766, 44.345001220703125, 44.57500076293945, 43.76750183105469, 43.32500076293945, 44.90999984741211, 45.6349983215332, 46.30500030517578, 47.537498474121094, 48.14500045776367, 48.70249938964844, 48.54750061035156, 48.537498474121094, 48.185001373291016, 48.47249984741211, 49.61249923706055, 49.467498779296875, 49.8650016784668, 49.69499969482422, 49.64500045776367, 48.89250183105469, 49.95000076293945, 49.935001373291016, 49.47999954223633, 50.38750076293945, 50.682498931884766, 51.102500915527344, 51.057498931884766, 50.005001068115234, 50.310001373291016, 50.807498931884766, 50.4375, 50.82500076293945, 51.3025016784668, 51.125, 50.837501525878906, 51.415000915527344, 50.647499084472656, 51.80500030517578, 52.209999084472656, 52.16749954223633, 51.755001068115234, 51.935001373291016, 52.41999816894531, 52.19499969482422, 53.2599983215332, 52.10749816894531, 51.005001068115234, 48.334999084472656, 49.25, 49.7599983215332, 50.85749816894531, 50.247501373291016, 50.119998931884766, 52.24250030517578, 50.6875, 50.435001373291016, 51.625, 52.587501525878906, 52.59000015258789, 53.15999984741211, 53.1150016784668, 50.65999984741211, 51.622501373291016, 51.040000915527344, 51.38249969482422, 52.252498626708984, 52.185001373291016, 51.42499923706055, 52.29750061035156, 53.31999969482422, 53.314998626708984, 53.54249954223633, 54.17499923706055, 55.897499084472656, 55.772499084472656, 54.6875, 54.974998474121094, 55.17499923706055, 55.692501068115234, 55.2400016784668, 54.432498931884766, 54.68000030517578, 54.41999816894531, 55.25749969482422, 54.97249984741211, 54.70500183105469, 55.99250030517578, 56.147499084472656, 54.7400016784668, 55.20500183105469, 56.752498626708984, 56.76499938964844, 56.099998474121094, 56.75749969482422, 57.522499084472656, 59.0525016784668, 58.967498779296875, 58.83000183105469, 58.592498779296875, 58.81999969482422, 59.102500915527344, 60.127498626708984, 59.9900016784668, 60.79499816894531, 60.89500045776367, 61.64500045776367, 62.26250076293945, 60.8224983215332, 60.814998626708984, 62.189998626708984, 63.95500183105469, 64.375, 64.28250122070312, 64.30999755859375, 64.85749816894531, 65.03500366210938, 65.55000305175781, 65.48999786376953, 66.11750030517578, 65.66000366210938, 66.44000244140625, 66.7750015258789, 66.57250213623047, 65.79750061035156, 65.50250244140625, 65.44499969482422, 66.59249877929688, 66.07250213623047, 66.95999908447266, 66.8125, 66.04000091552734, 64.86250305175781, 65.43499755859375, 66.3949966430664, 67.67749786376953, 66.7300033569336, 67.12000274658203, 67.69249725341797, 67.86499786376953, 68.7874984741211, 69.96499633789062, 70.10250091552734, 69.93499755859375, 70.00499725341797, 69.86000061035156, 71.0, 71.06749725341797, 72.47750091552734, 72.44999694824219, 72.87999725341797, 73.4124984741211, 75.0875015258789, 74.35749816894531, 74.94999694824219, 74.59750366210938, 75.79750061035156, 77.40750122070312, 77.5824966430664, 79.23999786376953, 78.16999816894531, 77.83499908447266, 78.80999755859375, 79.68250274658203, 79.14250183105469, 79.42500305175781, 79.80750274658203, 79.57749938964844, 77.23750305175781, 79.42250061035156, 81.08499908447266, 80.96749877929688, 77.37750244140625, 77.16500091552734, 79.7125015258789, 80.36250305175781, 81.30249786376953, 80.00749969482422, 80.38749694824219, 79.90249633789062, 81.80000305175781, 81.21749877929688, 81.23750305175781, 79.75, 80.90499877929688, 80.07499694824219, 78.26249694824219, 74.54499816894531, 72.0199966430664, 73.1624984741211, 68.37999725341797, 68.33999633789062, 74.70249938964844, 72.33000183105469, 75.68499755859375, 73.2300033569336, 72.25749969482422, 66.5425033569336, 71.33499908447266, 68.85749816894531, 62.057498931884766, 69.49250030517578, 60.5525016784668, 63.21500015258789, 61.66749954223633, 61.19499969482422, 57.310001373291016, 56.092498779296875, 61.720001220703125, 61.380001068115234, 64.61000061035156, 61.935001373291016, 63.70249938964844, 63.5724983215332, 60.227500915527344, 61.23249816894531, 60.352500915527344, 65.61750030517578, 64.85749816894531, 66.51750183105469, 66.99749755859375, 68.3125, 71.76249694824219, 71.10749816894531, 71.67250061035156, 70.69999694824219, 69.23249816894531, 67.09249877929688, 69.0250015258789, 68.75749969482422, 70.74250030517578, 70.7925033569336, 69.6449966430664, 71.93250274658203, 73.44999694824219, 72.26750183105469, 73.29000091552734, 74.38999938964844, 75.15750122070312, 75.93499755859375, 77.53250122070312, 78.75250244140625, 77.85250091552734, 76.9124984741211, 77.38500213623047, 76.92749786376953, 78.73999786376953, 78.28500366210938, 79.80750274658203, 79.2125015258789, 79.72250366210938, 79.18250274658203, 79.52749633789062, 79.5625, 79.48500061035156, 80.4625015258789, 80.83499908447266, 81.27999877929688, 80.58000183105469, 82.875, 83.36499786376953, 85.99749755859375, 88.20999908447266, 83.9749984741211, 84.69999694824219, 85.74749755859375, 88.0199966430664, 87.89749908447266, 87.93250274658203, 87.43000030517578, 89.71749877929688, 91.63249969482422, 90.01499938964844, 91.20999908447266, 88.40750122070312, 90.44499969482422, 91.19999694824219, 91.02749633789062, 91.02749633789062, 93.4625015258789, 93.17250061035156, 95.34249877929688, 95.75250244140625, 95.91999816894531, 95.47750091552734, 97.05750274658203, 97.7249984741211, 96.52249908447266, 96.32749938964844, 98.35749816894531, 97.0, 97.27249908447266, 92.84500122070312, 92.61499786376953, 94.80999755859375, 93.25250244140625, 95.04000091552734, 96.19000244140625, 106.26000213623047, 108.9375, 109.66500091552734, 110.0625, 113.90249633789062, 111.11250305175781, 112.72750091552734, 109.375, 113.01000213623047, 115.01000213623047, 114.90750122070312, 114.60749816894531, 115.5625, 115.7074966430664, 118.2750015258789, 124.37000274658203, 125.85749816894531, 124.82499694824219, 126.52249908447266, 125.01000213623047, 124.80750274658203, 129.0399932861328, 134.17999267578125, 131.39999389648438, 120.87999725341797, 120.95999908447266, 112.81999969482422, 117.31999969482422, 113.48999786376953, 112.0, 115.36000061035156, 115.54000091552734, 112.12999725341797, 110.33999633789062, 106.83999633789062, 110.08000183105469, 111.80999755859375, 107.12000274658203, 108.22000122070312, 112.27999877929688, 114.95999908447266, 114.08999633789062, 115.80999755859375, 116.79000091552734, 113.0199966430664, 116.5, 113.16000366210938, 115.08000183105469, 114.97000122070312, 116.97000122070312, 124.4000015258789, 121.0999984741211, 121.19000244140625, 120.70999908447266, 119.0199966430664, 115.9800033569336, 117.51000213623047, 116.87000274658203, 115.75, 115.04000091552734, 115.05000305175781, 116.5999984741211, 111.19999694824219, 115.31999969482422, 108.86000061035156, 108.7699966430664, 110.44000244140625, 114.94999694824219, 119.02999877929688, 118.69000244140625, 116.31999969482422, 115.97000122070312, 119.48999786376953, 119.20999908447266, 119.26000213623047, 120.30000305175781, 119.38999938964844, 118.02999877929688, 118.63999938964844, 117.33999633789062, 113.8499984741211, 115.16999816894531, 116.02999877929688, 116.58999633789062, 119.05000305175781, 122.72000122070312, 123.08000183105469, 122.94000244140625, 122.25, 123.75, 124.37999725341797, 121.77999877929688, 123.23999786376953, 122.41000366210938, 121.77999877929688, 127.87999725341797, 127.80999755859375, 128.6999969482422, 126.66000366210938, 128.22999572753906, 131.8800048828125, 130.9600067138672, 131.97000122070312, 136.69000244140625, 134.8699951171875, 133.72000122070312, 132.69000244140625, 129.41000366210938, 131.00999450683594, 126.5999984741211, 130.9199981689453, 132.0500030517578, 128.97999572753906, 128.8000030517578, 130.88999938964844, 128.91000366210938, 127.13999938964844, 127.83000183105469, 132.02999877929688, 136.8699951171875, 139.07000732421875, 142.9199981689453, 143.16000366210938, 142.05999755859375, 137.08999633789062, 131.9600067138672, 134.13999938964844, 134.99000549316406, 133.94000244140625, 137.38999938964844, 136.75999450683594, 136.91000366210938, 136.00999450683594, 135.38999938964844, 135.1300048828125, 135.3699951171875, 133.19000244140625, 130.83999633789062, 129.7100067138672, 129.8699951171875, 126.0, 125.86000061035156, 125.3499984741211, 120.98999786376953, 121.26000213623047, 127.79000091552734, 125.12000274658203, 122.05999755859375, 120.12999725341797, 121.41999816894531, 116.36000061035156, 121.08999633789062, 119.9800033569336, 121.95999908447266, 121.02999877929688, 123.98999786376953, 125.56999969482422, 124.76000213623047, 120.52999877929688, 119.98999786376953, 123.38999938964844, 122.54000091552734, 120.08999633789062, 120.58999633789062, 121.20999908447266, 121.38999938964844, 119.9000015258789, 122.1500015258789, 123.0, 125.9000015258789, 126.20999908447266, 127.9000015258789, 130.36000061035156, 133.0, 131.24000549316406, 134.42999267578125, 132.02999877929688, 134.5, 134.16000366210938, 134.83999633789062, 133.11000061035156, 133.5, 131.94000244140625, 134.32000732421875, 134.72000122070312, 134.38999938964844, 133.5800018310547, 133.47999572753906, 131.4600067138672, 132.5399932861328, 127.8499984741211, 128.10000610351562, 129.74000549316406, 130.2100067138672, 126.8499984741211, 125.91000366210938, 122.7699966430664, 124.97000122070312, 127.44999694824219, 126.2699966430664, 124.8499984741211, 124.69000244140625, 127.30999755859375, 125.43000030517578, 127.0999984741211, 126.9000015258789, 126.8499984741211, 125.27999877929688, 124.61000061035156, 124.27999877929688, 125.05999755859375, 123.54000091552734, 125.88999938964844, 125.9000015258789, 126.73999786376953, 127.12999725341797, 126.11000061035156, 127.3499984741211, 130.47999572753906, 129.63999938964844, 130.14999389648438, 131.7899932861328, 130.4600067138672, 132.3000030517578, 133.97999572753906, 133.6999969482422, 133.41000366210938, 133.11000061035156, 134.77999877929688, 136.3300018310547, 136.9600067138672, 137.27000427246094, 139.9600067138672, 142.02000427246094, 144.57000732421875, 143.24000549316406, 145.11000061035156, 144.5, 145.63999938964844, 149.14999389648438, 148.47999572753906, 146.38999938964844, 142.4499969482422, 146.14999389648438, 145.39999389648438, 146.8000030517578, 148.55999755859375], \"yaxis\": \"y\"}],\n",
       "                        {\"legend\": {\"tracegroupgap\": 0}, \"template\": {\"data\": {\"bar\": [{\"error_x\": {\"color\": \"#2a3f5f\"}, \"error_y\": {\"color\": \"#2a3f5f\"}, \"marker\": {\"line\": {\"color\": \"#E5ECF6\", \"width\": 0.5}}, \"type\": \"bar\"}], \"barpolar\": [{\"marker\": {\"line\": {\"color\": \"#E5ECF6\", \"width\": 0.5}}, \"type\": \"barpolar\"}], \"carpet\": [{\"aaxis\": {\"endlinecolor\": \"#2a3f5f\", \"gridcolor\": \"white\", \"linecolor\": \"white\", \"minorgridcolor\": \"white\", \"startlinecolor\": \"#2a3f5f\"}, \"baxis\": {\"endlinecolor\": \"#2a3f5f\", \"gridcolor\": \"white\", \"linecolor\": \"white\", \"minorgridcolor\": \"white\", \"startlinecolor\": \"#2a3f5f\"}, \"type\": \"carpet\"}], \"choropleth\": [{\"colorbar\": {\"outlinewidth\": 0, \"ticks\": \"\"}, \"type\": \"choropleth\"}], \"contour\": [{\"colorbar\": {\"outlinewidth\": 0, \"ticks\": \"\"}, \"colorscale\": [[0.0, \"#0d0887\"], [0.1111111111111111, \"#46039f\"], [0.2222222222222222, \"#7201a8\"], [0.3333333333333333, \"#9c179e\"], [0.4444444444444444, \"#bd3786\"], [0.5555555555555556, \"#d8576b\"], [0.6666666666666666, \"#ed7953\"], [0.7777777777777778, \"#fb9f3a\"], [0.8888888888888888, \"#fdca26\"], [1.0, \"#f0f921\"]], \"type\": \"contour\"}], \"contourcarpet\": [{\"colorbar\": {\"outlinewidth\": 0, \"ticks\": \"\"}, \"type\": \"contourcarpet\"}], \"heatmap\": [{\"colorbar\": {\"outlinewidth\": 0, \"ticks\": \"\"}, \"colorscale\": [[0.0, \"#0d0887\"], [0.1111111111111111, \"#46039f\"], [0.2222222222222222, \"#7201a8\"], [0.3333333333333333, \"#9c179e\"], [0.4444444444444444, \"#bd3786\"], [0.5555555555555556, \"#d8576b\"], [0.6666666666666666, \"#ed7953\"], [0.7777777777777778, \"#fb9f3a\"], [0.8888888888888888, \"#fdca26\"], [1.0, \"#f0f921\"]], \"type\": \"heatmap\"}], \"heatmapgl\": [{\"colorbar\": {\"outlinewidth\": 0, \"ticks\": \"\"}, \"colorscale\": [[0.0, \"#0d0887\"], [0.1111111111111111, \"#46039f\"], [0.2222222222222222, \"#7201a8\"], [0.3333333333333333, \"#9c179e\"], [0.4444444444444444, \"#bd3786\"], [0.5555555555555556, \"#d8576b\"], [0.6666666666666666, \"#ed7953\"], [0.7777777777777778, \"#fb9f3a\"], [0.8888888888888888, \"#fdca26\"], [1.0, \"#f0f921\"]], \"type\": \"heatmapgl\"}], \"histogram\": [{\"marker\": {\"colorbar\": {\"outlinewidth\": 0, \"ticks\": \"\"}}, \"type\": \"histogram\"}], \"histogram2d\": [{\"colorbar\": {\"outlinewidth\": 0, \"ticks\": \"\"}, \"colorscale\": [[0.0, \"#0d0887\"], [0.1111111111111111, \"#46039f\"], [0.2222222222222222, \"#7201a8\"], [0.3333333333333333, \"#9c179e\"], [0.4444444444444444, \"#bd3786\"], [0.5555555555555556, \"#d8576b\"], [0.6666666666666666, \"#ed7953\"], [0.7777777777777778, \"#fb9f3a\"], [0.8888888888888888, \"#fdca26\"], [1.0, \"#f0f921\"]], \"type\": \"histogram2d\"}], \"histogram2dcontour\": [{\"colorbar\": {\"outlinewidth\": 0, \"ticks\": \"\"}, \"colorscale\": [[0.0, \"#0d0887\"], [0.1111111111111111, \"#46039f\"], [0.2222222222222222, \"#7201a8\"], [0.3333333333333333, \"#9c179e\"], [0.4444444444444444, \"#bd3786\"], [0.5555555555555556, \"#d8576b\"], [0.6666666666666666, \"#ed7953\"], [0.7777777777777778, \"#fb9f3a\"], [0.8888888888888888, \"#fdca26\"], [1.0, \"#f0f921\"]], \"type\": \"histogram2dcontour\"}], \"mesh3d\": [{\"colorbar\": {\"outlinewidth\": 0, \"ticks\": \"\"}, \"type\": \"mesh3d\"}], \"parcoords\": [{\"line\": {\"colorbar\": {\"outlinewidth\": 0, \"ticks\": \"\"}}, \"type\": \"parcoords\"}], \"pie\": [{\"automargin\": true, \"type\": \"pie\"}], \"scatter\": [{\"marker\": {\"colorbar\": {\"outlinewidth\": 0, \"ticks\": \"\"}}, \"type\": \"scatter\"}], \"scatter3d\": [{\"line\": {\"colorbar\": {\"outlinewidth\": 0, \"ticks\": \"\"}}, \"marker\": {\"colorbar\": {\"outlinewidth\": 0, \"ticks\": \"\"}}, \"type\": \"scatter3d\"}], \"scattercarpet\": [{\"marker\": {\"colorbar\": {\"outlinewidth\": 0, \"ticks\": \"\"}}, \"type\": \"scattercarpet\"}], \"scattergeo\": [{\"marker\": {\"colorbar\": {\"outlinewidth\": 0, \"ticks\": \"\"}}, \"type\": \"scattergeo\"}], \"scattergl\": [{\"marker\": {\"colorbar\": {\"outlinewidth\": 0, \"ticks\": \"\"}}, \"type\": \"scattergl\"}], \"scattermapbox\": [{\"marker\": {\"colorbar\": {\"outlinewidth\": 0, \"ticks\": \"\"}}, \"type\": \"scattermapbox\"}], \"scatterpolar\": [{\"marker\": {\"colorbar\": {\"outlinewidth\": 0, \"ticks\": \"\"}}, \"type\": \"scatterpolar\"}], \"scatterpolargl\": [{\"marker\": {\"colorbar\": {\"outlinewidth\": 0, \"ticks\": \"\"}}, \"type\": \"scatterpolargl\"}], \"scatterternary\": [{\"marker\": {\"colorbar\": {\"outlinewidth\": 0, \"ticks\": \"\"}}, \"type\": \"scatterternary\"}], \"surface\": [{\"colorbar\": {\"outlinewidth\": 0, \"ticks\": \"\"}, \"colorscale\": [[0.0, \"#0d0887\"], [0.1111111111111111, \"#46039f\"], [0.2222222222222222, \"#7201a8\"], [0.3333333333333333, \"#9c179e\"], [0.4444444444444444, \"#bd3786\"], [0.5555555555555556, \"#d8576b\"], [0.6666666666666666, \"#ed7953\"], [0.7777777777777778, \"#fb9f3a\"], [0.8888888888888888, \"#fdca26\"], [1.0, \"#f0f921\"]], \"type\": \"surface\"}], \"table\": [{\"cells\": {\"fill\": {\"color\": \"#EBF0F8\"}, \"line\": {\"color\": \"white\"}}, \"header\": {\"fill\": {\"color\": \"#C8D4E3\"}, \"line\": {\"color\": \"white\"}}, \"type\": \"table\"}]}, \"layout\": {\"annotationdefaults\": {\"arrowcolor\": \"#2a3f5f\", \"arrowhead\": 0, \"arrowwidth\": 1}, \"coloraxis\": {\"colorbar\": {\"outlinewidth\": 0, \"ticks\": \"\"}}, \"colorscale\": {\"diverging\": [[0, \"#8e0152\"], [0.1, \"#c51b7d\"], [0.2, \"#de77ae\"], [0.3, \"#f1b6da\"], [0.4, \"#fde0ef\"], [0.5, \"#f7f7f7\"], [0.6, \"#e6f5d0\"], [0.7, \"#b8e186\"], [0.8, \"#7fbc41\"], [0.9, \"#4d9221\"], [1, \"#276419\"]], \"sequential\": [[0.0, \"#0d0887\"], [0.1111111111111111, \"#46039f\"], [0.2222222222222222, \"#7201a8\"], [0.3333333333333333, \"#9c179e\"], [0.4444444444444444, \"#bd3786\"], [0.5555555555555556, \"#d8576b\"], [0.6666666666666666, \"#ed7953\"], [0.7777777777777778, \"#fb9f3a\"], [0.8888888888888888, \"#fdca26\"], [1.0, \"#f0f921\"]], \"sequentialminus\": [[0.0, \"#0d0887\"], [0.1111111111111111, \"#46039f\"], [0.2222222222222222, \"#7201a8\"], [0.3333333333333333, \"#9c179e\"], [0.4444444444444444, \"#bd3786\"], [0.5555555555555556, \"#d8576b\"], [0.6666666666666666, \"#ed7953\"], [0.7777777777777778, \"#fb9f3a\"], [0.8888888888888888, \"#fdca26\"], [1.0, \"#f0f921\"]]}, \"colorway\": [\"#636efa\", \"#EF553B\", \"#00cc96\", \"#ab63fa\", \"#FFA15A\", \"#19d3f3\", \"#FF6692\", \"#B6E880\", \"#FF97FF\", \"#FECB52\"], \"font\": {\"color\": \"#2a3f5f\"}, \"geo\": {\"bgcolor\": \"white\", \"lakecolor\": \"white\", \"landcolor\": \"#E5ECF6\", \"showlakes\": true, \"showland\": true, \"subunitcolor\": \"white\"}, \"hoverlabel\": {\"align\": \"left\"}, \"hovermode\": \"closest\", \"mapbox\": {\"style\": \"light\"}, \"paper_bgcolor\": \"white\", \"plot_bgcolor\": \"#E5ECF6\", \"polar\": {\"angularaxis\": {\"gridcolor\": \"white\", \"linecolor\": \"white\", \"ticks\": \"\"}, \"bgcolor\": \"#E5ECF6\", \"radialaxis\": {\"gridcolor\": \"white\", \"linecolor\": \"white\", \"ticks\": \"\"}}, \"scene\": {\"xaxis\": {\"backgroundcolor\": \"#E5ECF6\", \"gridcolor\": \"white\", \"gridwidth\": 2, \"linecolor\": \"white\", \"showbackground\": true, \"ticks\": \"\", \"zerolinecolor\": \"white\"}, \"yaxis\": {\"backgroundcolor\": \"#E5ECF6\", \"gridcolor\": \"white\", \"gridwidth\": 2, \"linecolor\": \"white\", \"showbackground\": true, \"ticks\": \"\", \"zerolinecolor\": \"white\"}, \"zaxis\": {\"backgroundcolor\": \"#E5ECF6\", \"gridcolor\": \"white\", \"gridwidth\": 2, \"linecolor\": \"white\", \"showbackground\": true, \"ticks\": \"\", \"zerolinecolor\": \"white\"}}, \"shapedefaults\": {\"line\": {\"color\": \"#2a3f5f\"}}, \"ternary\": {\"aaxis\": {\"gridcolor\": \"white\", \"linecolor\": \"white\", \"ticks\": \"\"}, \"baxis\": {\"gridcolor\": \"white\", \"linecolor\": \"white\", \"ticks\": \"\"}, \"bgcolor\": \"#E5ECF6\", \"caxis\": {\"gridcolor\": \"white\", \"linecolor\": \"white\", \"ticks\": \"\"}}, \"title\": {\"x\": 0.05}, \"xaxis\": {\"automargin\": true, \"gridcolor\": \"white\", \"linecolor\": \"white\", \"ticks\": \"\", \"title\": {\"standoff\": 15}, \"zerolinecolor\": \"white\", \"zerolinewidth\": 2}, \"yaxis\": {\"automargin\": true, \"gridcolor\": \"white\", \"linecolor\": \"white\", \"ticks\": \"\", \"title\": {\"standoff\": 15}, \"zerolinecolor\": \"white\", \"zerolinewidth\": 2}}}, \"title\": {\"text\": \"Closing Price Of APPLE Stock\"}, \"xaxis\": {\"anchor\": \"y\", \"domain\": [0.0, 1.0], \"rangeselector\": {\"buttons\": [{\"count\": 1, \"label\": \"1Yr\", \"step\": \"year\", \"stepmode\": \"backward\"}, {\"count\": 2, \"label\": \"3Yr\", \"step\": \"year\", \"stepmode\": \"backward\"}, {\"count\": 3, \"label\": \"5Yr\", \"step\": \"year\", \"stepmode\": \"backward\"}, {\"step\": \"all\"}]}, \"rangeslider\": {\"visible\": true}, \"title\": {\"text\": \"Date\"}}, \"yaxis\": {\"anchor\": \"x\", \"domain\": [0.0, 1.0], \"title\": {\"text\": \"Close\"}}},\n",
       "                        {\"responsive\": true}\n",
       "                    ).then(function(){\n",
       "                            \n",
       "var gd = document.getElementById('6558a93b-a25f-4f69-9dc8-0147e5cb54ba');\n",
       "var x = new MutationObserver(function (mutations, observer) {{\n",
       "        var display = window.getComputedStyle(gd).display;\n",
       "        if (!display || display === 'none') {{\n",
       "            console.log([gd, 'removed!']);\n",
       "            Plotly.purge(gd);\n",
       "            observer.disconnect();\n",
       "        }}\n",
       "}});\n",
       "\n",
       "// Listen for the removal of the full notebook cells\n",
       "var notebookContainer = gd.closest('#notebook-container');\n",
       "if (notebookContainer) {{\n",
       "    x.observe(notebookContainer, {childList: true});\n",
       "}}\n",
       "\n",
       "// Listen for the clearing of the current output cell\n",
       "var outputEl = gd.closest('.output');\n",
       "if (outputEl) {{\n",
       "    x.observe(outputEl, {childList: true});\n",
       "}}\n",
       "\n",
       "                        })\n",
       "                };\n",
       "                \n",
       "            </script>\n",
       "        </div>\n",
       "</body>\n",
       "</html>"
      ]
     },
     "metadata": {},
     "output_type": "display_data"
    }
   ],
   "source": [
    "# Let us visualize the stock price at the time of 'Close'\n",
    "fig = px.line(data1, x= 'Date', y = 'Close', title = 'Closing Price Of APPLE Stock')\n",
    "\n",
    "fig.update_xaxes(\n",
    "    rangeslider_visible = True,\n",
    "    rangeselector = dict(\n",
    "        buttons = list([\n",
    "                        dict(count = 1, label = '1Yr', step = 'year', stepmode = 'backward'),\n",
    "                        dict(count = 2, label = '3Yr', step = 'year', stepmode = 'backward'),\n",
    "                        dict(count = 3, label = '5Yr', step = 'year', stepmode = 'backward'),\n",
    "                        dict(step = 'all')\n",
    "        ])\n",
    "    )\n",
    ")\n",
    "fig.show()"
   ]
  },
  {
   "cell_type": "code",
   "execution_count": 15,
   "metadata": {
    "executionInfo": {
     "elapsed": 45,
     "status": "ok",
     "timestamp": 1630776304031,
     "user": {
      "displayName": "Nikhil Patil",
      "photoUrl": "https://lh3.googleusercontent.com/a-/AOh14GjOCeCbFSM6nJVluIeDKtA75xEInZVBcTFRNG4n=s64",
      "userId": "16764176433869186065"
     },
     "user_tz": -330
    },
    "id": "eya9kT-E1S1W"
   },
   "outputs": [],
   "source": [
    "df = data['Close']"
   ]
  },
  {
   "cell_type": "markdown",
   "metadata": {
    "id": "igwMcI5B7mO2"
   },
   "source": [
    "After getting values from the \"Close\" column, we need to sccale them.\n",
    "We will use sklearn library for sclaing the values."
   ]
  },
  {
   "cell_type": "code",
   "execution_count": 16,
   "metadata": {
    "executionInfo": {
     "elapsed": 45,
     "status": "ok",
     "timestamp": 1630776304032,
     "user": {
      "displayName": "Nikhil Patil",
      "photoUrl": "https://lh3.googleusercontent.com/a-/AOh14GjOCeCbFSM6nJVluIeDKtA75xEInZVBcTFRNG4n=s64",
      "userId": "16764176433869186065"
     },
     "user_tz": -330
    },
    "id": "akkMy6u_wZZt"
   },
   "outputs": [],
   "source": [
    "# Normalizing data, scale between 0 and 1:\n",
    "from sklearn.preprocessing import MinMaxScaler\n",
    "scaler = MinMaxScaler(feature_range=(0, 1))\n",
    "scaled_df = scaler.fit_transform(np.array(df).reshape(-1,1))"
   ]
  },
  {
   "cell_type": "code",
   "execution_count": 17,
   "metadata": {
    "colab": {
     "base_uri": "https://localhost:8080/"
    },
    "executionInfo": {
     "elapsed": 42,
     "status": "ok",
     "timestamp": 1630776304033,
     "user": {
      "displayName": "Nikhil Patil",
      "photoUrl": "https://lh3.googleusercontent.com/a-/AOh14GjOCeCbFSM6nJVluIeDKtA75xEInZVBcTFRNG4n=s64",
      "userId": "16764176433869186065"
     },
     "user_tz": -330
    },
    "id": "hajnxauj8jR8",
    "outputId": "b8a46618-b1a6-4e69-9426-8669b76e9c68"
   },
   "outputs": [
    {
     "data": {
      "text/plain": [
       "array([[2.10447945e-04],\n",
       "       [3.90321511e-04],\n",
       "       [4.72764172e-04],\n",
       "       ...,\n",
       "       [9.74817969e-01],\n",
       "       [9.84219322e-01],\n",
       "       [9.96038052e-01]])"
      ]
     },
     "execution_count": 17,
     "metadata": {},
     "output_type": "execute_result"
    }
   ],
   "source": [
    "scaled_df"
   ]
  },
  {
   "cell_type": "code",
   "execution_count": 18,
   "metadata": {
    "executionInfo": {
     "elapsed": 36,
     "status": "ok",
     "timestamp": 1630776304034,
     "user": {
      "displayName": "Nikhil Patil",
      "photoUrl": "https://lh3.googleusercontent.com/a-/AOh14GjOCeCbFSM6nJVluIeDKtA75xEInZVBcTFRNG4n=s64",
      "userId": "16764176433869186065"
     },
     "user_tz": -330
    },
    "id": "I1FEfruABoh6"
   },
   "outputs": [],
   "source": [
    "# Now we will split the data \n",
    "training_size = int(len(scaled_df) * 0.80)\n",
    "test_size = len(scaled_df) - training_size"
   ]
  },
  {
   "cell_type": "code",
   "execution_count": 19,
   "metadata": {
    "executionInfo": {
     "elapsed": 37,
     "status": "ok",
     "timestamp": 1630776304035,
     "user": {
      "displayName": "Nikhil Patil",
      "photoUrl": "https://lh3.googleusercontent.com/a-/AOh14GjOCeCbFSM6nJVluIeDKtA75xEInZVBcTFRNG4n=s64",
      "userId": "16764176433869186065"
     },
     "user_tz": -330
    },
    "id": "GctPmhTaCVXc"
   },
   "outputs": [],
   "source": [
    "train_data, test_data = scaled_df[0:training_size,:], scaled_df[training_size:len(scaled_df),:1]"
   ]
  },
  {
   "cell_type": "code",
   "execution_count": 20,
   "metadata": {
    "colab": {
     "base_uri": "https://localhost:8080/"
    },
    "executionInfo": {
     "elapsed": 37,
     "status": "ok",
     "timestamp": 1630776304036,
     "user": {
      "displayName": "Nikhil Patil",
      "photoUrl": "https://lh3.googleusercontent.com/a-/AOh14GjOCeCbFSM6nJVluIeDKtA75xEInZVBcTFRNG4n=s64",
      "userId": "16764176433869186065"
     },
     "user_tz": -330
    },
    "id": "aFcu49bsC7QV",
    "outputId": "e678f76a-0c82-43b5-e555-b82f4674d824"
   },
   "outputs": [
    {
     "data": {
      "text/plain": [
       "(4137, 1035)"
      ]
     },
     "execution_count": 20,
     "metadata": {},
     "output_type": "execute_result"
    }
   ],
   "source": [
    "training_size, test_size"
   ]
  },
  {
   "cell_type": "code",
   "execution_count": 21,
   "metadata": {
    "executionInfo": {
     "elapsed": 39,
     "status": "ok",
     "timestamp": 1630776304041,
     "user": {
      "displayName": "Nikhil Patil",
      "photoUrl": "https://lh3.googleusercontent.com/a-/AOh14GjOCeCbFSM6nJVluIeDKtA75xEInZVBcTFRNG4n=s64",
      "userId": "16764176433869186065"
     },
     "user_tz": -330
    },
    "id": "mjhGVOvrCzGn"
   },
   "outputs": [],
   "source": [
    "def create_dataset(dataset, time_step=1):\n",
    "  xtrain = []\n",
    "  ytrain = []\n",
    "  for i in range(len(dataset) - time_step-1):\n",
    "    a = dataset[i:(i+time_step), 0]\n",
    "    xtrain.append(a)\n",
    "    ytrain.append(dataset[i + time_step, 0])\n",
    "  return np.array(xtrain), np.array(ytrain)  "
   ]
  },
  {
   "cell_type": "code",
   "execution_count": 22,
   "metadata": {
    "executionInfo": {
     "elapsed": 41,
     "status": "ok",
     "timestamp": 1630776304044,
     "user": {
      "displayName": "Nikhil Patil",
      "photoUrl": "https://lh3.googleusercontent.com/a-/AOh14GjOCeCbFSM6nJVluIeDKtA75xEInZVBcTFRNG4n=s64",
      "userId": "16764176433869186065"
     },
     "user_tz": -330
    },
    "id": "XdxKffEULppm"
   },
   "outputs": [],
   "source": [
    "# Let us define the time_steps\n",
    "time_step = 100\n",
    "x_train, y_train = create_dataset(train_data, time_step)\n",
    "x_test, y_test = create_dataset(test_data, time_step)"
   ]
  },
  {
   "cell_type": "code",
   "execution_count": 23,
   "metadata": {
    "colab": {
     "base_uri": "https://localhost:8080/"
    },
    "executionInfo": {
     "elapsed": 42,
     "status": "ok",
     "timestamp": 1630776304046,
     "user": {
      "displayName": "Nikhil Patil",
      "photoUrl": "https://lh3.googleusercontent.com/a-/AOh14GjOCeCbFSM6nJVluIeDKtA75xEInZVBcTFRNG4n=s64",
      "userId": "16764176433869186065"
     },
     "user_tz": -330
    },
    "id": "2FHBT7vhMLQ2",
    "outputId": "b1f7e1ee-999c-4bfe-e81d-77fbe67adeeb"
   },
   "outputs": [
    {
     "name": "stdout",
     "output_type": "stream",
     "text": [
      "(4036, 100) (4036,)\n"
     ]
    }
   ],
   "source": [
    "print(x_train.shape, y_train.shape)"
   ]
  },
  {
   "cell_type": "code",
   "execution_count": 24,
   "metadata": {
    "colab": {
     "base_uri": "https://localhost:8080/"
    },
    "executionInfo": {
     "elapsed": 35,
     "status": "ok",
     "timestamp": 1630776304047,
     "user": {
      "displayName": "Nikhil Patil",
      "photoUrl": "https://lh3.googleusercontent.com/a-/AOh14GjOCeCbFSM6nJVluIeDKtA75xEInZVBcTFRNG4n=s64",
      "userId": "16764176433869186065"
     },
     "user_tz": -330
    },
    "id": "eQp0C3YjMQeK",
    "outputId": "a71f68c0-6bba-46a6-9f53-08dfc7e7906f"
   },
   "outputs": [
    {
     "name": "stdout",
     "output_type": "stream",
     "text": [
      "(934, 100) (934,)\n"
     ]
    }
   ],
   "source": [
    "print(x_test.shape, y_test.shape)"
   ]
  },
  {
   "cell_type": "code",
   "execution_count": 25,
   "metadata": {
    "executionInfo": {
     "elapsed": 33,
     "status": "ok",
     "timestamp": 1630776304048,
     "user": {
      "displayName": "Nikhil Patil",
      "photoUrl": "https://lh3.googleusercontent.com/a-/AOh14GjOCeCbFSM6nJVluIeDKtA75xEInZVBcTFRNG4n=s64",
      "userId": "16764176433869186065"
     },
     "user_tz": -330
    },
    "id": "1mERCk3-M5K1"
   },
   "outputs": [],
   "source": [
    "# Now reshape the inputs to(samples, time_steps, features) which is required for LSTM\n",
    "x_train = x_train.reshape(x_train.shape[0], x_train.shape[1], 1)\n",
    "x_test = x_test.reshape(x_test.shape[0], x_test.shape[1], 1)"
   ]
  },
  {
   "cell_type": "code",
   "execution_count": 26,
   "metadata": {
    "executionInfo": {
     "elapsed": 6448,
     "status": "ok",
     "timestamp": 1630776310464,
     "user": {
      "displayName": "Nikhil Patil",
      "photoUrl": "https://lh3.googleusercontent.com/a-/AOh14GjOCeCbFSM6nJVluIeDKtA75xEInZVBcTFRNG4n=s64",
      "userId": "16764176433869186065"
     },
     "user_tz": -330
    },
    "id": "0A7RYi9DOM9g"
   },
   "outputs": [],
   "source": [
    "# Building Model\n",
    "model = Sequential()\n",
    "\n",
    "# Adding first LSTM layer and some dropout Dropout regularisation\n",
    "model.add(LSTM(units=100, return_sequences=True, input_shape = (x_train.shape[1], 1)))\n",
    "\n",
    "# Adding Second LSTM layer and some dropout Dropout regularisation\n",
    "model.add(LSTM(units= 100, return_sequences=True))\n",
    "\n",
    "# Adding third LSTM layer and some dropout Dropout regularisation\n",
    "model.add(LSTM(units = 100, return_sequences=True))\n",
    "\n",
    "# Adding third LSTM layer and some dropout Dropout regularisation\n",
    "model.add(LSTM(units = 100, return_sequences=True))\n",
    "\n",
    "# Adding forth LSTM layer \n",
    "model.add(LSTM(units = 100))\n",
    "\n",
    "# Adding output layer\n",
    "model.add(Dense(1))\n",
    "\n",
    "# Compiling the LSTM model\n",
    "model.compile(loss = 'mean_squared_error', optimizer= 'adam')"
   ]
  },
  {
   "cell_type": "code",
   "execution_count": 27,
   "metadata": {
    "colab": {
     "base_uri": "https://localhost:8080/"
    },
    "executionInfo": {
     "elapsed": 27,
     "status": "ok",
     "timestamp": 1630776310465,
     "user": {
      "displayName": "Nikhil Patil",
      "photoUrl": "https://lh3.googleusercontent.com/a-/AOh14GjOCeCbFSM6nJVluIeDKtA75xEInZVBcTFRNG4n=s64",
      "userId": "16764176433869186065"
     },
     "user_tz": -330
    },
    "id": "AsClc3eRGW6o",
    "outputId": "640a8424-85fa-46a7-9385-c01e54845a8a"
   },
   "outputs": [
    {
     "name": "stdout",
     "output_type": "stream",
     "text": [
      "Model: \"sequential\"\n",
      "_________________________________________________________________\n",
      "Layer (type)                 Output Shape              Param #   \n",
      "=================================================================\n",
      "lstm (LSTM)                  (None, 100, 100)          40800     \n",
      "_________________________________________________________________\n",
      "lstm_1 (LSTM)                (None, 100, 100)          80400     \n",
      "_________________________________________________________________\n",
      "lstm_2 (LSTM)                (None, 100, 100)          80400     \n",
      "_________________________________________________________________\n",
      "lstm_3 (LSTM)                (None, 100, 100)          80400     \n",
      "_________________________________________________________________\n",
      "lstm_4 (LSTM)                (None, 100)               80400     \n",
      "_________________________________________________________________\n",
      "dense (Dense)                (None, 1)                 101       \n",
      "=================================================================\n",
      "Total params: 362,501\n",
      "Trainable params: 362,501\n",
      "Non-trainable params: 0\n",
      "_________________________________________________________________\n"
     ]
    }
   ],
   "source": [
    "# Let us look at the summary of the model\n",
    "model.summary()"
   ]
  },
  {
   "cell_type": "code",
   "execution_count": 28,
   "metadata": {
    "colab": {
     "base_uri": "https://localhost:8080/"
    },
    "executionInfo": {
     "elapsed": 569407,
     "status": "ok",
     "timestamp": 1630776879851,
     "user": {
      "displayName": "Nikhil Patil",
      "photoUrl": "https://lh3.googleusercontent.com/a-/AOh14GjOCeCbFSM6nJVluIeDKtA75xEInZVBcTFRNG4n=s64",
      "userId": "16764176433869186065"
     },
     "user_tz": -330
    },
    "id": "lHwkZ6Hw-Hf4",
    "outputId": "ec05fd62-0741-4ffb-b5df-019cb910edeb"
   },
   "outputs": [
    {
     "name": "stdout",
     "output_type": "stream",
     "text": [
      "Epoch 1/100\n",
      "41/41 [==============================] - 21s 217ms/step - loss: 9.7292e-04 - val_loss: 0.0073\n",
      "Epoch 2/100\n",
      "41/41 [==============================] - 7s 173ms/step - loss: 3.9163e-05 - val_loss: 0.0058\n",
      "Epoch 3/100\n",
      "41/41 [==============================] - 7s 169ms/step - loss: 3.6017e-05 - val_loss: 0.0064\n",
      "Epoch 4/100\n",
      "41/41 [==============================] - 7s 161ms/step - loss: 3.6103e-05 - val_loss: 0.0051\n",
      "Epoch 5/100\n",
      "41/41 [==============================] - 6s 151ms/step - loss: 3.5826e-05 - val_loss: 0.0050\n",
      "Epoch 6/100\n",
      "41/41 [==============================] - 6s 149ms/step - loss: 4.9844e-05 - val_loss: 0.0080\n",
      "Epoch 7/100\n",
      "41/41 [==============================] - 6s 145ms/step - loss: 4.2482e-05 - val_loss: 0.0042\n",
      "Epoch 8/100\n",
      "41/41 [==============================] - 6s 140ms/step - loss: 3.2371e-05 - val_loss: 0.0035\n",
      "Epoch 9/100\n",
      "41/41 [==============================] - 6s 138ms/step - loss: 2.8766e-05 - val_loss: 0.0056\n",
      "Epoch 10/100\n",
      "41/41 [==============================] - 6s 136ms/step - loss: 2.7306e-05 - val_loss: 0.0044\n",
      "Epoch 11/100\n",
      "41/41 [==============================] - 5s 133ms/step - loss: 2.6426e-05 - val_loss: 0.0040\n",
      "Epoch 12/100\n",
      "41/41 [==============================] - 5s 132ms/step - loss: 2.4261e-05 - val_loss: 0.0028\n",
      "Epoch 13/100\n",
      "41/41 [==============================] - 5s 131ms/step - loss: 2.8673e-05 - val_loss: 0.0070\n",
      "Epoch 14/100\n",
      "41/41 [==============================] - 5s 131ms/step - loss: 3.5528e-05 - val_loss: 0.0030\n",
      "Epoch 15/100\n",
      "41/41 [==============================] - 5s 129ms/step - loss: 2.2586e-05 - val_loss: 0.0016\n",
      "Epoch 16/100\n",
      "41/41 [==============================] - 5s 128ms/step - loss: 2.7736e-05 - val_loss: 0.0028\n",
      "Epoch 17/100\n",
      "41/41 [==============================] - 5s 128ms/step - loss: 2.1219e-05 - val_loss: 0.0028\n",
      "Epoch 18/100\n",
      "41/41 [==============================] - 5s 124ms/step - loss: 2.1164e-05 - val_loss: 0.0024\n",
      "Epoch 19/100\n",
      "41/41 [==============================] - 5s 124ms/step - loss: 2.5159e-05 - val_loss: 0.0027\n",
      "Epoch 20/100\n",
      "41/41 [==============================] - 5s 125ms/step - loss: 2.0467e-05 - val_loss: 0.0026\n",
      "Epoch 21/100\n",
      "41/41 [==============================] - 5s 124ms/step - loss: 2.2583e-05 - val_loss: 0.0041\n",
      "Epoch 22/100\n",
      "41/41 [==============================] - 5s 125ms/step - loss: 2.2608e-05 - val_loss: 0.0029\n",
      "Epoch 23/100\n",
      "41/41 [==============================] - 5s 124ms/step - loss: 1.9302e-05 - val_loss: 0.0028\n",
      "Epoch 24/100\n",
      "41/41 [==============================] - 5s 125ms/step - loss: 2.0714e-05 - val_loss: 0.0029\n",
      "Epoch 25/100\n",
      "41/41 [==============================] - 5s 124ms/step - loss: 1.8720e-05 - val_loss: 0.0020\n",
      "Epoch 26/100\n",
      "41/41 [==============================] - 5s 122ms/step - loss: 1.9720e-05 - val_loss: 0.0024\n",
      "Epoch 27/100\n",
      "41/41 [==============================] - 5s 122ms/step - loss: 1.8663e-05 - val_loss: 0.0014\n",
      "Epoch 28/100\n",
      "41/41 [==============================] - 5s 121ms/step - loss: 1.5997e-05 - val_loss: 0.0021\n",
      "Epoch 29/100\n",
      "41/41 [==============================] - 5s 121ms/step - loss: 2.2861e-05 - val_loss: 0.0023\n",
      "Epoch 30/100\n",
      "41/41 [==============================] - 5s 121ms/step - loss: 1.8479e-05 - val_loss: 0.0034\n",
      "Epoch 31/100\n",
      "41/41 [==============================] - 5s 121ms/step - loss: 2.0424e-05 - val_loss: 9.8708e-04\n",
      "Epoch 32/100\n",
      "41/41 [==============================] - 5s 122ms/step - loss: 2.1476e-05 - val_loss: 0.0012\n",
      "Epoch 33/100\n",
      "41/41 [==============================] - 5s 121ms/step - loss: 1.7256e-05 - val_loss: 0.0012\n",
      "Epoch 34/100\n",
      "41/41 [==============================] - 5s 121ms/step - loss: 1.7148e-05 - val_loss: 7.1774e-04\n",
      "Epoch 35/100\n",
      "41/41 [==============================] - 5s 121ms/step - loss: 2.4692e-05 - val_loss: 0.0030\n",
      "Epoch 36/100\n",
      "41/41 [==============================] - 5s 120ms/step - loss: 1.8802e-05 - val_loss: 0.0015\n",
      "Epoch 37/100\n",
      "41/41 [==============================] - 5s 121ms/step - loss: 1.5171e-05 - val_loss: 0.0023\n",
      "Epoch 38/100\n",
      "41/41 [==============================] - 5s 121ms/step - loss: 1.5915e-05 - val_loss: 0.0015\n",
      "Epoch 39/100\n",
      "41/41 [==============================] - 5s 120ms/step - loss: 1.4435e-05 - val_loss: 7.3053e-04\n",
      "Epoch 40/100\n",
      "41/41 [==============================] - 5s 120ms/step - loss: 1.4017e-05 - val_loss: 7.5029e-04\n",
      "Epoch 41/100\n",
      "41/41 [==============================] - 5s 121ms/step - loss: 1.3383e-05 - val_loss: 0.0013\n",
      "Epoch 42/100\n",
      "41/41 [==============================] - 5s 121ms/step - loss: 1.2447e-05 - val_loss: 9.7753e-04\n",
      "Epoch 43/100\n",
      "41/41 [==============================] - 5s 120ms/step - loss: 1.5836e-05 - val_loss: 6.2260e-04\n",
      "Epoch 44/100\n",
      "41/41 [==============================] - 5s 119ms/step - loss: 1.8028e-05 - val_loss: 0.0013\n",
      "Epoch 45/100\n",
      "41/41 [==============================] - 5s 120ms/step - loss: 1.2195e-05 - val_loss: 0.0022\n",
      "Epoch 46/100\n",
      "41/41 [==============================] - 5s 118ms/step - loss: 1.3830e-05 - val_loss: 0.0013\n",
      "Epoch 47/100\n",
      "41/41 [==============================] - 5s 119ms/step - loss: 1.3930e-05 - val_loss: 0.0013\n",
      "Epoch 48/100\n",
      "41/41 [==============================] - 5s 120ms/step - loss: 1.3996e-05 - val_loss: 6.7306e-04\n",
      "Epoch 49/100\n",
      "41/41 [==============================] - 5s 120ms/step - loss: 1.6755e-05 - val_loss: 6.7473e-04\n",
      "Epoch 50/100\n",
      "41/41 [==============================] - 5s 120ms/step - loss: 1.7317e-05 - val_loss: 0.0015\n",
      "Epoch 51/100\n",
      "41/41 [==============================] - 5s 120ms/step - loss: 1.1263e-05 - val_loss: 0.0018\n",
      "Epoch 52/100\n",
      "41/41 [==============================] - 5s 121ms/step - loss: 1.2453e-05 - val_loss: 7.1740e-04\n",
      "Epoch 53/100\n",
      "41/41 [==============================] - 5s 120ms/step - loss: 1.1642e-05 - val_loss: 0.0012\n",
      "Epoch 54/100\n",
      "41/41 [==============================] - 5s 121ms/step - loss: 1.1733e-05 - val_loss: 0.0011\n",
      "Epoch 55/100\n",
      "41/41 [==============================] - 5s 121ms/step - loss: 9.2606e-06 - val_loss: 9.5480e-04\n",
      "Epoch 56/100\n",
      "41/41 [==============================] - 5s 120ms/step - loss: 1.4292e-05 - val_loss: 0.0013\n",
      "Epoch 57/100\n",
      "41/41 [==============================] - 5s 120ms/step - loss: 1.0043e-05 - val_loss: 8.8944e-04\n",
      "Epoch 58/100\n",
      "41/41 [==============================] - 5s 120ms/step - loss: 1.3722e-05 - val_loss: 8.0450e-04\n",
      "Epoch 59/100\n",
      "41/41 [==============================] - 5s 120ms/step - loss: 1.1392e-05 - val_loss: 9.9669e-04\n",
      "Epoch 60/100\n",
      "41/41 [==============================] - 5s 120ms/step - loss: 1.1201e-05 - val_loss: 0.0012\n",
      "Epoch 61/100\n",
      "41/41 [==============================] - 5s 120ms/step - loss: 1.1895e-05 - val_loss: 6.3506e-04\n",
      "Epoch 62/100\n",
      "41/41 [==============================] - 5s 121ms/step - loss: 1.0710e-05 - val_loss: 0.0011\n",
      "Epoch 63/100\n",
      "41/41 [==============================] - 5s 121ms/step - loss: 8.7567e-06 - val_loss: 8.6258e-04\n",
      "Epoch 64/100\n",
      "41/41 [==============================] - 5s 120ms/step - loss: 1.1239e-05 - val_loss: 4.4871e-04\n",
      "Epoch 65/100\n",
      "41/41 [==============================] - 5s 120ms/step - loss: 8.6691e-06 - val_loss: 5.3476e-04\n",
      "Epoch 66/100\n",
      "41/41 [==============================] - 5s 121ms/step - loss: 1.1785e-05 - val_loss: 3.6773e-04\n",
      "Epoch 67/100\n",
      "41/41 [==============================] - 5s 121ms/step - loss: 9.9247e-06 - val_loss: 6.1415e-04\n",
      "Epoch 68/100\n",
      "41/41 [==============================] - 5s 120ms/step - loss: 7.8904e-06 - val_loss: 6.9976e-04\n",
      "Epoch 69/100\n",
      "41/41 [==============================] - 5s 121ms/step - loss: 7.3022e-06 - val_loss: 7.3077e-04\n",
      "Epoch 70/100\n",
      "41/41 [==============================] - 5s 121ms/step - loss: 6.5109e-06 - val_loss: 3.0821e-04\n",
      "Epoch 71/100\n",
      "41/41 [==============================] - 5s 121ms/step - loss: 1.5913e-05 - val_loss: 3.1725e-04\n",
      "Epoch 72/100\n",
      "41/41 [==============================] - 5s 120ms/step - loss: 1.0399e-05 - val_loss: 3.2311e-04\n",
      "Epoch 73/100\n",
      "41/41 [==============================] - 5s 120ms/step - loss: 9.0356e-06 - val_loss: 7.2813e-04\n",
      "Epoch 74/100\n",
      "41/41 [==============================] - 5s 118ms/step - loss: 8.7672e-06 - val_loss: 6.5357e-04\n",
      "Epoch 75/100\n",
      "41/41 [==============================] - 5s 120ms/step - loss: 7.3906e-06 - val_loss: 5.3383e-04\n",
      "Epoch 76/100\n",
      "41/41 [==============================] - 5s 121ms/step - loss: 6.7135e-06 - val_loss: 2.7684e-04\n",
      "Epoch 77/100\n",
      "41/41 [==============================] - 5s 120ms/step - loss: 7.6162e-06 - val_loss: 3.9315e-04\n",
      "Epoch 78/100\n",
      "41/41 [==============================] - 5s 120ms/step - loss: 6.5410e-06 - val_loss: 2.6758e-04\n",
      "Epoch 79/100\n",
      "41/41 [==============================] - 5s 121ms/step - loss: 1.0398e-05 - val_loss: 2.6180e-04\n",
      "Epoch 80/100\n",
      "41/41 [==============================] - 5s 121ms/step - loss: 7.1237e-06 - val_loss: 7.0808e-04\n",
      "Epoch 81/100\n",
      "41/41 [==============================] - 5s 120ms/step - loss: 6.5330e-06 - val_loss: 3.6352e-04\n",
      "Epoch 82/100\n",
      "41/41 [==============================] - 5s 120ms/step - loss: 7.2464e-06 - val_loss: 2.7346e-04\n",
      "Epoch 83/100\n",
      "41/41 [==============================] - 5s 120ms/step - loss: 8.3159e-06 - val_loss: 2.5531e-04\n",
      "Epoch 84/100\n",
      "41/41 [==============================] - 5s 120ms/step - loss: 5.7727e-06 - val_loss: 2.8239e-04\n",
      "Epoch 85/100\n",
      "41/41 [==============================] - 5s 119ms/step - loss: 5.2310e-06 - val_loss: 2.9107e-04\n",
      "Epoch 86/100\n",
      "41/41 [==============================] - 5s 121ms/step - loss: 7.6662e-06 - val_loss: 4.8851e-04\n",
      "Epoch 87/100\n",
      "41/41 [==============================] - 5s 120ms/step - loss: 6.3652e-06 - val_loss: 5.6204e-04\n",
      "Epoch 88/100\n",
      "41/41 [==============================] - 5s 119ms/step - loss: 5.4133e-06 - val_loss: 7.2786e-04\n",
      "Epoch 89/100\n",
      "41/41 [==============================] - 5s 119ms/step - loss: 6.2498e-06 - val_loss: 4.8607e-04\n",
      "Epoch 90/100\n",
      "41/41 [==============================] - 5s 119ms/step - loss: 5.6483e-06 - val_loss: 2.9767e-04\n",
      "Epoch 91/100\n",
      "41/41 [==============================] - 5s 120ms/step - loss: 6.1507e-06 - val_loss: 2.7266e-04\n",
      "Epoch 92/100\n",
      "41/41 [==============================] - 5s 120ms/step - loss: 5.8420e-06 - val_loss: 3.3789e-04\n",
      "Epoch 93/100\n",
      "41/41 [==============================] - 5s 120ms/step - loss: 6.0032e-06 - val_loss: 7.2262e-04\n",
      "Epoch 94/100\n",
      "41/41 [==============================] - 5s 120ms/step - loss: 5.4137e-06 - val_loss: 5.8278e-04\n",
      "Epoch 95/100\n",
      "41/41 [==============================] - 5s 120ms/step - loss: 4.8418e-06 - val_loss: 1.9410e-04\n",
      "Epoch 96/100\n",
      "41/41 [==============================] - 5s 120ms/step - loss: 5.7073e-06 - val_loss: 4.8288e-04\n",
      "Epoch 97/100\n",
      "41/41 [==============================] - 5s 120ms/step - loss: 5.1727e-06 - val_loss: 5.5338e-04\n",
      "Epoch 98/100\n",
      "41/41 [==============================] - 5s 121ms/step - loss: 5.7590e-06 - val_loss: 6.7917e-04\n",
      "Epoch 99/100\n",
      "41/41 [==============================] - 5s 121ms/step - loss: 4.6825e-06 - val_loss: 3.1814e-04\n",
      "Epoch 100/100\n",
      "41/41 [==============================] - 5s 121ms/step - loss: 6.9557e-06 - val_loss: 0.0014\n"
     ]
    },
    {
     "data": {
      "text/plain": [
       "<keras.callbacks.History at 0x7fe51c250c10>"
      ]
     },
     "execution_count": 28,
     "metadata": {},
     "output_type": "execute_result"
    }
   ],
   "source": [
    "# Fitting the LSTM to the Training set\n",
    "model.fit(x_train, y_train, validation_data=(x_test, y_test), epochs=100, batch_size=100, verbose=1)"
   ]
  },
  {
   "cell_type": "code",
   "execution_count": 29,
   "metadata": {
    "executionInfo": {
     "elapsed": 13222,
     "status": "ok",
     "timestamp": 1630776893055,
     "user": {
      "displayName": "Nikhil Patil",
      "photoUrl": "https://lh3.googleusercontent.com/a-/AOh14GjOCeCbFSM6nJVluIeDKtA75xEInZVBcTFRNG4n=s64",
      "userId": "16764176433869186065"
     },
     "user_tz": -330
    },
    "id": "jyEtrXb1-Hhw"
   },
   "outputs": [],
   "source": [
    "# Let us prediction on train model & check performance metrics\n",
    "train_predict = model.predict(x_train)\n",
    "test_predict = model.predict(x_test)"
   ]
  },
  {
   "cell_type": "code",
   "execution_count": 30,
   "metadata": {
    "executionInfo": {
     "elapsed": 115,
     "status": "ok",
     "timestamp": 1630776893057,
     "user": {
      "displayName": "Nikhil Patil",
      "photoUrl": "https://lh3.googleusercontent.com/a-/AOh14GjOCeCbFSM6nJVluIeDKtA75xEInZVBcTFRNG4n=s64",
      "userId": "16764176433869186065"
     },
     "user_tz": -330
    },
    "id": "MnmIgjHC-Hl1"
   },
   "outputs": [],
   "source": [
    "# Transformation to original form\n",
    "train_predict = scaler.inverse_transform(train_predict)\n",
    "test_predict = scaler.inverse_transform(test_predict)"
   ]
  },
  {
   "cell_type": "code",
   "execution_count": 31,
   "metadata": {
    "colab": {
     "base_uri": "https://localhost:8080/"
    },
    "executionInfo": {
     "elapsed": 114,
     "status": "ok",
     "timestamp": 1630776893059,
     "user": {
      "displayName": "Nikhil Patil",
      "photoUrl": "https://lh3.googleusercontent.com/a-/AOh14GjOCeCbFSM6nJVluIeDKtA75xEInZVBcTFRNG4n=s64",
      "userId": "16764176433869186065"
     },
     "user_tz": -330
    },
    "id": "wxGFh1Lz-Ho1",
    "outputId": "660409d5-03d0-418c-9bf5-a74605c5aaf3"
   },
   "outputs": [
    {
     "data": {
      "text/plain": [
       "14.915583064011166"
      ]
     },
     "execution_count": 31,
     "metadata": {},
     "output_type": "execute_result"
    }
   ],
   "source": [
    "#\n",
    "import math\n",
    "from sklearn.metrics import mean_squared_error\n",
    "math.sqrt(mean_squared_error(y_train, train_predict))"
   ]
  },
  {
   "cell_type": "code",
   "execution_count": 32,
   "metadata": {
    "colab": {
     "base_uri": "https://localhost:8080/"
    },
    "executionInfo": {
     "elapsed": 102,
     "status": "ok",
     "timestamp": 1630776893061,
     "user": {
      "displayName": "Nikhil Patil",
      "photoUrl": "https://lh3.googleusercontent.com/a-/AOh14GjOCeCbFSM6nJVluIeDKtA75xEInZVBcTFRNG4n=s64",
      "userId": "16764176433869186065"
     },
     "user_tz": -330
    },
    "id": "2LNcarSc-Hzo",
    "outputId": "7fdc9987-a793-45ae-bb70-82c06fee9fa5"
   },
   "outputs": [
    {
     "data": {
      "text/plain": [
       "75.42446708642692"
      ]
     },
     "execution_count": 32,
     "metadata": {},
     "output_type": "execute_result"
    }
   ],
   "source": [
    "math.sqrt(mean_squared_error(y_test, test_predict))"
   ]
  },
  {
   "cell_type": "code",
   "execution_count": 33,
   "metadata": {
    "colab": {
     "base_uri": "https://localhost:8080/"
    },
    "executionInfo": {
     "elapsed": 96,
     "status": "ok",
     "timestamp": 1630776893063,
     "user": {
      "displayName": "Nikhil Patil",
      "photoUrl": "https://lh3.googleusercontent.com/a-/AOh14GjOCeCbFSM6nJVluIeDKtA75xEInZVBcTFRNG4n=s64",
      "userId": "16764176433869186065"
     },
     "user_tz": -330
    },
    "id": "S8XuY1iLPvRN",
    "outputId": "7a1df68f-ba73-40c7-f9ee-442c9fd79b25"
   },
   "outputs": [
    {
     "name": "stdout",
     "output_type": "stream",
     "text": [
      "4036\n",
      "5172\n"
     ]
    }
   ],
   "source": [
    "print(len(train_predict))\n",
    "print(len(df))"
   ]
  },
  {
   "cell_type": "markdown",
   "metadata": {
    "id": "YFaD3AoVHy5y"
   },
   "source": [
    "But before plot our predictions, we need to make a inverse_transform() in the predictions array, because we make predictions using the Scale, so our predictions are between 0 and 1.\n"
   ]
  },
  {
   "cell_type": "code",
   "execution_count": 34,
   "metadata": {
    "colab": {
     "base_uri": "https://localhost:8080/",
     "height": 0
    },
    "executionInfo": {
     "elapsed": 89,
     "status": "ok",
     "timestamp": 1630776893064,
     "user": {
      "displayName": "Nikhil Patil",
      "photoUrl": "https://lh3.googleusercontent.com/a-/AOh14GjOCeCbFSM6nJVluIeDKtA75xEInZVBcTFRNG4n=s64",
      "userId": "16764176433869186065"
     },
     "user_tz": -330
    },
    "id": "0TLwzwwx-H2i",
    "outputId": "1b292cf8-b05c-4eff-c74d-8b8c44a7b131"
   },
   "outputs": [
    {
     "data": {
      "image/png": "[encoded data removed]",
      "text/plain": [
       "<Figure size 432x288 with 1 Axes>"
      ]
     },
     "metadata": {
      "needs_background": "light"
     },
     "output_type": "display_data"
    }
   ],
   "source": [
    "lock_back = 100\n",
    "train_predict_plot = np.empty_like(scaled_df)\n",
    "train_predict_plot[:, :] = np.nan\n",
    "train_predict_plot[lock_back:len(train_predict)+lock_back,:] = train_predict\n",
    "\n",
    "# Shift test prediction for plotting\n",
    "test_predict_plot = np.empty_like(scaled_df)\n",
    "test_predict_plot[:,:] = np.nan\n",
    "test_predict_plot[len(train_predict)+ (lock_back*2)+1:len(scaled_df)-1,:] = test_predict\n",
    "\n",
    "# Plot basline & prediction\n",
    "plt.plot(scaler.inverse_transform(scaled_df))\n",
    "plt.plot(train_predict_plot)\n",
    "plt.plot(test_predict_plot)\n",
    "plt.show()"
   ]
  },
  {
   "cell_type": "code",
   "execution_count": 35,
   "metadata": {
    "colab": {
     "base_uri": "https://localhost:8080/"
    },
    "executionInfo": {
     "elapsed": 34,
     "status": "ok",
     "timestamp": 1630776893065,
     "user": {
      "displayName": "Nikhil Patil",
      "photoUrl": "https://lh3.googleusercontent.com/a-/AOh14GjOCeCbFSM6nJVluIeDKtA75xEInZVBcTFRNG4n=s64",
      "userId": "16764176433869186065"
     },
     "user_tz": -330
    },
    "id": "kFYVSKOWQfzP",
    "outputId": "3b197a18-b38e-4fa0-c47c-ef226684d3cf"
   },
   "outputs": [
    {
     "data": {
      "text/plain": [
       "1035"
      ]
     },
     "execution_count": 35,
     "metadata": {},
     "output_type": "execute_result"
    }
   ],
   "source": [
    "len(test_data)"
   ]
  },
  {
   "cell_type": "code",
   "execution_count": 36,
   "metadata": {
    "colab": {
     "base_uri": "https://localhost:8080/"
    },
    "executionInfo": {
     "elapsed": 29,
     "status": "ok",
     "timestamp": 1630776893065,
     "user": {
      "displayName": "Nikhil Patil",
      "photoUrl": "https://lh3.googleusercontent.com/a-/AOh14GjOCeCbFSM6nJVluIeDKtA75xEInZVBcTFRNG4n=s64",
      "userId": "16764176433869186065"
     },
     "user_tz": -330
    },
    "id": "BUm80pCLQf03",
    "outputId": "3050de3f-041b-4c88-f090-00d6eb03dfc7"
   },
   "outputs": [
    {
     "data": {
      "text/plain": [
       "(1, 100)"
      ]
     },
     "execution_count": 36,
     "metadata": {},
     "output_type": "execute_result"
    }
   ],
   "source": [
    "x_input = test_data[935:].reshape(1,-1)\n",
    "x_input.shape"
   ]
  },
  {
   "cell_type": "code",
   "execution_count": 37,
   "metadata": {
    "executionInfo": {
     "elapsed": 25,
     "status": "ok",
     "timestamp": 1630776893066,
     "user": {
      "displayName": "Nikhil Patil",
      "photoUrl": "https://lh3.googleusercontent.com/a-/AOh14GjOCeCbFSM6nJVluIeDKtA75xEInZVBcTFRNG4n=s64",
      "userId": "16764176433869186065"
     },
     "user_tz": -330
    },
    "id": "ByBxFbttQf52"
   },
   "outputs": [],
   "source": [
    "temp_input = list(x_input)\n",
    "temp_input = temp_input[0].tolist() "
   ]
  },
  {
   "cell_type": "code",
   "execution_count": 38,
   "metadata": {
    "colab": {
     "base_uri": "https://localhost:8080/"
    },
    "executionInfo": {
     "elapsed": 1932,
     "status": "ok",
     "timestamp": 1630776894974,
     "user": {
      "displayName": "Nikhil Patil",
      "photoUrl": "https://lh3.googleusercontent.com/a-/AOh14GjOCeCbFSM6nJVluIeDKtA75xEInZVBcTFRNG4n=s64",
      "userId": "16764176433869186065"
     },
     "user_tz": -330
    },
    "id": "wdz1LrfxRF4J",
    "outputId": "9fff454e-333d-4f5d-cc8b-e4dc1107ad5f"
   },
   "outputs": [
    {
     "name": "stdout",
     "output_type": "stream",
     "text": [
      "[[0.9093134]]\n",
      "101\n",
      "1 day input [0.80512468 0.8137873  0.77980836 0.81157127 0.80411744 0.81741352\n",
      " 0.81116837 0.83104539 0.84165543 0.83621612 0.80781077 0.80418455\n",
      " 0.82701627 0.82130835 0.80485606 0.80821367 0.81237711 0.81358585\n",
      " 0.80358021 0.81868943 0.82439734 0.84387146 0.84595316 0.85730187\n",
      " 0.87382128 0.89154943 0.8797307  0.90115213 0.88503567 0.90162224\n",
      " 0.89933909 0.90390539 0.8922881  0.89490703 0.88443132 0.90041355\n",
      " 0.90309959 0.90088356 0.89544426 0.8947727  0.88120805 0.88846039\n",
      " 0.85696609 0.85864495 0.86965788 0.87281404 0.85025089 0.84393862\n",
      " 0.82285282 0.83762631 0.85428    0.84635605 0.83682047 0.83574606\n",
      " 0.85333987 0.8407153  0.85192969 0.85058667 0.85025089 0.83970801\n",
      " 0.83520883 0.8329928  0.83823066 0.82802356 0.84380429 0.84387146\n",
      " 0.84951221 0.85213114 0.84528165 0.85360849 0.87462707 0.86898632\n",
      " 0.87241104 0.88342398 0.87449284 0.8868488  0.8981303  0.89625005\n",
      " 0.89430269 0.8922881  0.90350249 0.91391108 0.9181417  0.92022339\n",
      " 0.93828732 0.95212063 0.96924444 0.9603132  0.9728706  0.96877432\n",
      " 0.97642966 1.         0.99550082 0.98146606 0.95500812 0.97985438\n",
      " 0.97481797 0.98421932 0.99603805 0.90931338]\n",
      "1 day output [[0.86506003]]\n",
      "2 day input [0.8137873  0.77980836 0.81157127 0.80411744 0.81741352 0.81116837\n",
      " 0.83104539 0.84165543 0.83621612 0.80781077 0.80418455 0.82701627\n",
      " 0.82130835 0.80485606 0.80821367 0.81237711 0.81358585 0.80358021\n",
      " 0.81868943 0.82439734 0.84387146 0.84595316 0.85730187 0.87382128\n",
      " 0.89154943 0.8797307  0.90115213 0.88503567 0.90162224 0.89933909\n",
      " 0.90390539 0.8922881  0.89490703 0.88443132 0.90041355 0.90309959\n",
      " 0.90088356 0.89544426 0.8947727  0.88120805 0.88846039 0.85696609\n",
      " 0.85864495 0.86965788 0.87281404 0.85025089 0.84393862 0.82285282\n",
      " 0.83762631 0.85428    0.84635605 0.83682047 0.83574606 0.85333987\n",
      " 0.8407153  0.85192969 0.85058667 0.85025089 0.83970801 0.83520883\n",
      " 0.8329928  0.83823066 0.82802356 0.84380429 0.84387146 0.84951221\n",
      " 0.85213114 0.84528165 0.85360849 0.87462707 0.86898632 0.87241104\n",
      " 0.88342398 0.87449284 0.8868488  0.8981303  0.89625005 0.89430269\n",
      " 0.8922881  0.90350249 0.91391108 0.9181417  0.92022339 0.93828732\n",
      " 0.95212063 0.96924444 0.9603132  0.9728706  0.96877432 0.97642966\n",
      " 1.         0.99550082 0.98146606 0.95500812 0.97985438 0.97481797\n",
      " 0.98421932 0.99603805 0.90931338 0.86506003]\n",
      "2 day output [[0.8000856]]\n",
      "3 day input [0.77980836 0.81157127 0.80411744 0.81741352 0.81116837 0.83104539\n",
      " 0.84165543 0.83621612 0.80781077 0.80418455 0.82701627 0.82130835\n",
      " 0.80485606 0.80821367 0.81237711 0.81358585 0.80358021 0.81868943\n",
      " 0.82439734 0.84387146 0.84595316 0.85730187 0.87382128 0.89154943\n",
      " 0.8797307  0.90115213 0.88503567 0.90162224 0.89933909 0.90390539\n",
      " 0.8922881  0.89490703 0.88443132 0.90041355 0.90309959 0.90088356\n",
      " 0.89544426 0.8947727  0.88120805 0.88846039 0.85696609 0.85864495\n",
      " 0.86965788 0.87281404 0.85025089 0.84393862 0.82285282 0.83762631\n",
      " 0.85428    0.84635605 0.83682047 0.83574606 0.85333987 0.8407153\n",
      " 0.85192969 0.85058667 0.85025089 0.83970801 0.83520883 0.8329928\n",
      " 0.83823066 0.82802356 0.84380429 0.84387146 0.84951221 0.85213114\n",
      " 0.84528165 0.85360849 0.87462707 0.86898632 0.87241104 0.88342398\n",
      " 0.87449284 0.8868488  0.8981303  0.89625005 0.89430269 0.8922881\n",
      " 0.90350249 0.91391108 0.9181417  0.92022339 0.93828732 0.95212063\n",
      " 0.96924444 0.9603132  0.9728706  0.96877432 0.97642966 1.\n",
      " 0.99550082 0.98146606 0.95500812 0.97985438 0.97481797 0.98421932\n",
      " 0.99603805 0.90931338 0.86506003 0.8000856 ]\n",
      "3 day output [[0.73768556]]\n",
      "4 day input [0.81157127 0.80411744 0.81741352 0.81116837 0.83104539 0.84165543\n",
      " 0.83621612 0.80781077 0.80418455 0.82701627 0.82130835 0.80485606\n",
      " 0.80821367 0.81237711 0.81358585 0.80358021 0.81868943 0.82439734\n",
      " 0.84387146 0.84595316 0.85730187 0.87382128 0.89154943 0.8797307\n",
      " 0.90115213 0.88503567 0.90162224 0.89933909 0.90390539 0.8922881\n",
      " 0.89490703 0.88443132 0.90041355 0.90309959 0.90088356 0.89544426\n",
      " 0.8947727  0.88120805 0.88846039 0.85696609 0.85864495 0.86965788\n",
      " 0.87281404 0.85025089 0.84393862 0.82285282 0.83762631 0.85428\n",
      " 0.84635605 0.83682047 0.83574606 0.85333987 0.8407153  0.85192969\n",
      " 0.85058667 0.85025089 0.83970801 0.83520883 0.8329928  0.83823066\n",
      " 0.82802356 0.84380429 0.84387146 0.84951221 0.85213114 0.84528165\n",
      " 0.85360849 0.87462707 0.86898632 0.87241104 0.88342398 0.87449284\n",
      " 0.8868488  0.8981303  0.89625005 0.89430269 0.8922881  0.90350249\n",
      " 0.91391108 0.9181417  0.92022339 0.93828732 0.95212063 0.96924444\n",
      " 0.9603132  0.9728706  0.96877432 0.97642966 1.         0.99550082\n",
      " 0.98146606 0.95500812 0.97985438 0.97481797 0.98421932 0.99603805\n",
      " 0.90931338 0.86506003 0.8000856  0.73768556]\n",
      "4 day output [[0.6783183]]\n",
      "5 day input [0.80411744 0.81741352 0.81116837 0.83104539 0.84165543 0.83621612\n",
      " 0.80781077 0.80418455 0.82701627 0.82130835 0.80485606 0.80821367\n",
      " 0.81237711 0.81358585 0.80358021 0.81868943 0.82439734 0.84387146\n",
      " 0.84595316 0.85730187 0.87382128 0.89154943 0.8797307  0.90115213\n",
      " 0.88503567 0.90162224 0.89933909 0.90390539 0.8922881  0.89490703\n",
      " 0.88443132 0.90041355 0.90309959 0.90088356 0.89544426 0.8947727\n",
      " 0.88120805 0.88846039 0.85696609 0.85864495 0.86965788 0.87281404\n",
      " 0.85025089 0.84393862 0.82285282 0.83762631 0.85428    0.84635605\n",
      " 0.83682047 0.83574606 0.85333987 0.8407153  0.85192969 0.85058667\n",
      " 0.85025089 0.83970801 0.83520883 0.8329928  0.83823066 0.82802356\n",
      " 0.84380429 0.84387146 0.84951221 0.85213114 0.84528165 0.85360849\n",
      " 0.87462707 0.86898632 0.87241104 0.88342398 0.87449284 0.8868488\n",
      " 0.8981303  0.89625005 0.89430269 0.8922881  0.90350249 0.91391108\n",
      " 0.9181417  0.92022339 0.93828732 0.95212063 0.96924444 0.9603132\n",
      " 0.9728706  0.96877432 0.97642966 1.         0.99550082 0.98146606\n",
      " 0.95500812 0.97985438 0.97481797 0.98421932 0.99603805 0.90931338\n",
      " 0.86506003 0.8000856  0.73768556 0.67831832]\n",
      "5 day output [[0.6199655]]\n",
      "6 day input [0.81741352 0.81116837 0.83104539 0.84165543 0.83621612 0.80781077\n",
      " 0.80418455 0.82701627 0.82130835 0.80485606 0.80821367 0.81237711\n",
      " 0.81358585 0.80358021 0.81868943 0.82439734 0.84387146 0.84595316\n",
      " 0.85730187 0.87382128 0.89154943 0.8797307  0.90115213 0.88503567\n",
      " 0.90162224 0.89933909 0.90390539 0.8922881  0.89490703 0.88443132\n",
      " 0.90041355 0.90309959 0.90088356 0.89544426 0.8947727  0.88120805\n",
      " 0.88846039 0.85696609 0.85864495 0.86965788 0.87281404 0.85025089\n",
      " 0.84393862 0.82285282 0.83762631 0.85428    0.84635605 0.83682047\n",
      " 0.83574606 0.85333987 0.8407153  0.85192969 0.85058667 0.85025089\n",
      " 0.83970801 0.83520883 0.8329928  0.83823066 0.82802356 0.84380429\n",
      " 0.84387146 0.84951221 0.85213114 0.84528165 0.85360849 0.87462707\n",
      " 0.86898632 0.87241104 0.88342398 0.87449284 0.8868488  0.8981303\n",
      " 0.89625005 0.89430269 0.8922881  0.90350249 0.91391108 0.9181417\n",
      " 0.92022339 0.93828732 0.95212063 0.96924444 0.9603132  0.9728706\n",
      " 0.96877432 0.97642966 1.         0.99550082 0.98146606 0.95500812\n",
      " 0.97985438 0.97481797 0.98421932 0.99603805 0.90931338 0.86506003\n",
      " 0.8000856  0.73768556 0.67831832 0.61996549]\n",
      "6 day output [[0.5624497]]\n",
      "7 day input [0.81116837 0.83104539 0.84165543 0.83621612 0.80781077 0.80418455\n",
      " 0.82701627 0.82130835 0.80485606 0.80821367 0.81237711 0.81358585\n",
      " 0.80358021 0.81868943 0.82439734 0.84387146 0.84595316 0.85730187\n",
      " 0.87382128 0.89154943 0.8797307  0.90115213 0.88503567 0.90162224\n",
      " 0.89933909 0.90390539 0.8922881  0.89490703 0.88443132 0.90041355\n",
      " 0.90309959 0.90088356 0.89544426 0.8947727  0.88120805 0.88846039\n",
      " 0.85696609 0.85864495 0.86965788 0.87281404 0.85025089 0.84393862\n",
      " 0.82285282 0.83762631 0.85428    0.84635605 0.83682047 0.83574606\n",
      " 0.85333987 0.8407153  0.85192969 0.85058667 0.85025089 0.83970801\n",
      " 0.83520883 0.8329928  0.83823066 0.82802356 0.84380429 0.84387146\n",
      " 0.84951221 0.85213114 0.84528165 0.85360849 0.87462707 0.86898632\n",
      " 0.87241104 0.88342398 0.87449284 0.8868488  0.8981303  0.89625005\n",
      " 0.89430269 0.8922881  0.90350249 0.91391108 0.9181417  0.92022339\n",
      " 0.93828732 0.95212063 0.96924444 0.9603132  0.9728706  0.96877432\n",
      " 0.97642966 1.         0.99550082 0.98146606 0.95500812 0.97985438\n",
      " 0.97481797 0.98421932 0.99603805 0.90931338 0.86506003 0.8000856\n",
      " 0.73768556 0.67831832 0.61996549 0.56244969]\n",
      "7 day output [[0.50553566]]\n",
      "8 day input [0.83104539 0.84165543 0.83621612 0.80781077 0.80418455 0.82701627\n",
      " 0.82130835 0.80485606 0.80821367 0.81237711 0.81358585 0.80358021\n",
      " 0.81868943 0.82439734 0.84387146 0.84595316 0.85730187 0.87382128\n",
      " 0.89154943 0.8797307  0.90115213 0.88503567 0.90162224 0.89933909\n",
      " 0.90390539 0.8922881  0.89490703 0.88443132 0.90041355 0.90309959\n",
      " 0.90088356 0.89544426 0.8947727  0.88120805 0.88846039 0.85696609\n",
      " 0.85864495 0.86965788 0.87281404 0.85025089 0.84393862 0.82285282\n",
      " 0.83762631 0.85428    0.84635605 0.83682047 0.83574606 0.85333987\n",
      " 0.8407153  0.85192969 0.85058667 0.85025089 0.83970801 0.83520883\n",
      " 0.8329928  0.83823066 0.82802356 0.84380429 0.84387146 0.84951221\n",
      " 0.85213114 0.84528165 0.85360849 0.87462707 0.86898632 0.87241104\n",
      " 0.88342398 0.87449284 0.8868488  0.8981303  0.89625005 0.89430269\n",
      " 0.8922881  0.90350249 0.91391108 0.9181417  0.92022339 0.93828732\n",
      " 0.95212063 0.96924444 0.9603132  0.9728706  0.96877432 0.97642966\n",
      " 1.         0.99550082 0.98146606 0.95500812 0.97985438 0.97481797\n",
      " 0.98421932 0.99603805 0.90931338 0.86506003 0.8000856  0.73768556\n",
      " 0.67831832 0.61996549 0.56244969 0.50553566]\n",
      "8 day output [[0.4489493]]\n",
      "9 day input [0.84165543 0.83621612 0.80781077 0.80418455 0.82701627 0.82130835\n",
      " 0.80485606 0.80821367 0.81237711 0.81358585 0.80358021 0.81868943\n",
      " 0.82439734 0.84387146 0.84595316 0.85730187 0.87382128 0.89154943\n",
      " 0.8797307  0.90115213 0.88503567 0.90162224 0.89933909 0.90390539\n",
      " 0.8922881  0.89490703 0.88443132 0.90041355 0.90309959 0.90088356\n",
      " 0.89544426 0.8947727  0.88120805 0.88846039 0.85696609 0.85864495\n",
      " 0.86965788 0.87281404 0.85025089 0.84393862 0.82285282 0.83762631\n",
      " 0.85428    0.84635605 0.83682047 0.83574606 0.85333987 0.8407153\n",
      " 0.85192969 0.85058667 0.85025089 0.83970801 0.83520883 0.8329928\n",
      " 0.83823066 0.82802356 0.84380429 0.84387146 0.84951221 0.85213114\n",
      " 0.84528165 0.85360849 0.87462707 0.86898632 0.87241104 0.88342398\n",
      " 0.87449284 0.8868488  0.8981303  0.89625005 0.89430269 0.8922881\n",
      " 0.90350249 0.91391108 0.9181417  0.92022339 0.93828732 0.95212063\n",
      " 0.96924444 0.9603132  0.9728706  0.96877432 0.97642966 1.\n",
      " 0.99550082 0.98146606 0.95500812 0.97985438 0.97481797 0.98421932\n",
      " 0.99603805 0.90931338 0.86506003 0.8000856  0.73768556 0.67831832\n",
      " 0.61996549 0.56244969 0.50553566 0.44894931]\n",
      "9 day output [[0.39292732]]\n",
      "10 day input [0.83621612 0.80781077 0.80418455 0.82701627 0.82130835 0.80485606\n",
      " 0.80821367 0.81237711 0.81358585 0.80358021 0.81868943 0.82439734\n",
      " 0.84387146 0.84595316 0.85730187 0.87382128 0.89154943 0.8797307\n",
      " 0.90115213 0.88503567 0.90162224 0.89933909 0.90390539 0.8922881\n",
      " 0.89490703 0.88443132 0.90041355 0.90309959 0.90088356 0.89544426\n",
      " 0.8947727  0.88120805 0.88846039 0.85696609 0.85864495 0.86965788\n",
      " 0.87281404 0.85025089 0.84393862 0.82285282 0.83762631 0.85428\n",
      " 0.84635605 0.83682047 0.83574606 0.85333987 0.8407153  0.85192969\n",
      " 0.85058667 0.85025089 0.83970801 0.83520883 0.8329928  0.83823066\n",
      " 0.82802356 0.84380429 0.84387146 0.84951221 0.85213114 0.84528165\n",
      " 0.85360849 0.87462707 0.86898632 0.87241104 0.88342398 0.87449284\n",
      " 0.8868488  0.8981303  0.89625005 0.89430269 0.8922881  0.90350249\n",
      " 0.91391108 0.9181417  0.92022339 0.93828732 0.95212063 0.96924444\n",
      " 0.9603132  0.9728706  0.96877432 0.97642966 1.         0.99550082\n",
      " 0.98146606 0.95500812 0.97985438 0.97481797 0.98421932 0.99603805\n",
      " 0.90931338 0.86506003 0.8000856  0.73768556 0.67831832 0.61996549\n",
      " 0.56244969 0.50553566 0.44894931 0.39292732]\n",
      "10 day output [[0.33828655]]\n",
      "11 day input [0.80781077 0.80418455 0.82701627 0.82130835 0.80485606 0.80821367\n",
      " 0.81237711 0.81358585 0.80358021 0.81868943 0.82439734 0.84387146\n",
      " 0.84595316 0.85730187 0.87382128 0.89154943 0.8797307  0.90115213\n",
      " 0.88503567 0.90162224 0.89933909 0.90390539 0.8922881  0.89490703\n",
      " 0.88443132 0.90041355 0.90309959 0.90088356 0.89544426 0.8947727\n",
      " 0.88120805 0.88846039 0.85696609 0.85864495 0.86965788 0.87281404\n",
      " 0.85025089 0.84393862 0.82285282 0.83762631 0.85428    0.84635605\n",
      " 0.83682047 0.83574606 0.85333987 0.8407153  0.85192969 0.85058667\n",
      " 0.85025089 0.83970801 0.83520883 0.8329928  0.83823066 0.82802356\n",
      " 0.84380429 0.84387146 0.84951221 0.85213114 0.84528165 0.85360849\n",
      " 0.87462707 0.86898632 0.87241104 0.88342398 0.87449284 0.8868488\n",
      " 0.8981303  0.89625005 0.89430269 0.8922881  0.90350249 0.91391108\n",
      " 0.9181417  0.92022339 0.93828732 0.95212063 0.96924444 0.9603132\n",
      " 0.9728706  0.96877432 0.97642966 1.         0.99550082 0.98146606\n",
      " 0.95500812 0.97985438 0.97481797 0.98421932 0.99603805 0.90931338\n",
      " 0.86506003 0.8000856  0.73768556 0.67831832 0.61996549 0.56244969\n",
      " 0.50553566 0.44894931 0.39292732 0.33828655]\n",
      "11 day output [[0.2862352]]\n",
      "12 day input [0.80418455 0.82701627 0.82130835 0.80485606 0.80821367 0.81237711\n",
      " 0.81358585 0.80358021 0.81868943 0.82439734 0.84387146 0.84595316\n",
      " 0.85730187 0.87382128 0.89154943 0.8797307  0.90115213 0.88503567\n",
      " 0.90162224 0.89933909 0.90390539 0.8922881  0.89490703 0.88443132\n",
      " 0.90041355 0.90309959 0.90088356 0.89544426 0.8947727  0.88120805\n",
      " 0.88846039 0.85696609 0.85864495 0.86965788 0.87281404 0.85025089\n",
      " 0.84393862 0.82285282 0.83762631 0.85428    0.84635605 0.83682047\n",
      " 0.83574606 0.85333987 0.8407153  0.85192969 0.85058667 0.85025089\n",
      " 0.83970801 0.83520883 0.8329928  0.83823066 0.82802356 0.84380429\n",
      " 0.84387146 0.84951221 0.85213114 0.84528165 0.85360849 0.87462707\n",
      " 0.86898632 0.87241104 0.88342398 0.87449284 0.8868488  0.8981303\n",
      " 0.89625005 0.89430269 0.8922881  0.90350249 0.91391108 0.9181417\n",
      " 0.92022339 0.93828732 0.95212063 0.96924444 0.9603132  0.9728706\n",
      " 0.96877432 0.97642966 1.         0.99550082 0.98146606 0.95500812\n",
      " 0.97985438 0.97481797 0.98421932 0.99603805 0.90931338 0.86506003\n",
      " 0.8000856  0.73768556 0.67831832 0.61996549 0.56244969 0.50553566\n",
      " 0.44894931 0.39292732 0.33828655 0.28623521]\n",
      "12 day output [[0.2381178]]\n",
      "13 day input [0.82701627 0.82130835 0.80485606 0.80821367 0.81237711 0.81358585\n",
      " 0.80358021 0.81868943 0.82439734 0.84387146 0.84595316 0.85730187\n",
      " 0.87382128 0.89154943 0.8797307  0.90115213 0.88503567 0.90162224\n",
      " 0.89933909 0.90390539 0.8922881  0.89490703 0.88443132 0.90041355\n",
      " 0.90309959 0.90088356 0.89544426 0.8947727  0.88120805 0.88846039\n",
      " 0.85696609 0.85864495 0.86965788 0.87281404 0.85025089 0.84393862\n",
      " 0.82285282 0.83762631 0.85428    0.84635605 0.83682047 0.83574606\n",
      " 0.85333987 0.8407153  0.85192969 0.85058667 0.85025089 0.83970801\n",
      " 0.83520883 0.8329928  0.83823066 0.82802356 0.84380429 0.84387146\n",
      " 0.84951221 0.85213114 0.84528165 0.85360849 0.87462707 0.86898632\n",
      " 0.87241104 0.88342398 0.87449284 0.8868488  0.8981303  0.89625005\n",
      " 0.89430269 0.8922881  0.90350249 0.91391108 0.9181417  0.92022339\n",
      " 0.93828732 0.95212063 0.96924444 0.9603132  0.9728706  0.96877432\n",
      " 0.97642966 1.         0.99550082 0.98146606 0.95500812 0.97985438\n",
      " 0.97481797 0.98421932 0.99603805 0.90931338 0.86506003 0.8000856\n",
      " 0.73768556 0.67831832 0.61996549 0.56244969 0.50553566 0.44894931\n",
      " 0.39292732 0.33828655 0.28623521 0.2381178 ]\n",
      "13 day output [[0.19515383]]\n",
      "14 day input [0.82130835 0.80485606 0.80821367 0.81237711 0.81358585 0.80358021\n",
      " 0.81868943 0.82439734 0.84387146 0.84595316 0.85730187 0.87382128\n",
      " 0.89154943 0.8797307  0.90115213 0.88503567 0.90162224 0.89933909\n",
      " 0.90390539 0.8922881  0.89490703 0.88443132 0.90041355 0.90309959\n",
      " 0.90088356 0.89544426 0.8947727  0.88120805 0.88846039 0.85696609\n",
      " 0.85864495 0.86965788 0.87281404 0.85025089 0.84393862 0.82285282\n",
      " 0.83762631 0.85428    0.84635605 0.83682047 0.83574606 0.85333987\n",
      " 0.8407153  0.85192969 0.85058667 0.85025089 0.83970801 0.83520883\n",
      " 0.8329928  0.83823066 0.82802356 0.84380429 0.84387146 0.84951221\n",
      " 0.85213114 0.84528165 0.85360849 0.87462707 0.86898632 0.87241104\n",
      " 0.88342398 0.87449284 0.8868488  0.8981303  0.89625005 0.89430269\n",
      " 0.8922881  0.90350249 0.91391108 0.9181417  0.92022339 0.93828732\n",
      " 0.95212063 0.96924444 0.9603132  0.9728706  0.96877432 0.97642966\n",
      " 1.         0.99550082 0.98146606 0.95500812 0.97985438 0.97481797\n",
      " 0.98421932 0.99603805 0.90931338 0.86506003 0.8000856  0.73768556\n",
      " 0.67831832 0.61996549 0.56244969 0.50553566 0.44894931 0.39292732\n",
      " 0.33828655 0.28623521 0.2381178  0.19515383]\n",
      "14 day output [[0.15822378]]\n",
      "15 day input [0.80485606 0.80821367 0.81237711 0.81358585 0.80358021 0.81868943\n",
      " 0.82439734 0.84387146 0.84595316 0.85730187 0.87382128 0.89154943\n",
      " 0.8797307  0.90115213 0.88503567 0.90162224 0.89933909 0.90390539\n",
      " 0.8922881  0.89490703 0.88443132 0.90041355 0.90309959 0.90088356\n",
      " 0.89544426 0.8947727  0.88120805 0.88846039 0.85696609 0.85864495\n",
      " 0.86965788 0.87281404 0.85025089 0.84393862 0.82285282 0.83762631\n",
      " 0.85428    0.84635605 0.83682047 0.83574606 0.85333987 0.8407153\n",
      " 0.85192969 0.85058667 0.85025089 0.83970801 0.83520883 0.8329928\n",
      " 0.83823066 0.82802356 0.84380429 0.84387146 0.84951221 0.85213114\n",
      " 0.84528165 0.85360849 0.87462707 0.86898632 0.87241104 0.88342398\n",
      " 0.87449284 0.8868488  0.8981303  0.89625005 0.89430269 0.8922881\n",
      " 0.90350249 0.91391108 0.9181417  0.92022339 0.93828732 0.95212063\n",
      " 0.96924444 0.9603132  0.9728706  0.96877432 0.97642966 1.\n",
      " 0.99550082 0.98146606 0.95500812 0.97985438 0.97481797 0.98421932\n",
      " 0.99603805 0.90931338 0.86506003 0.8000856  0.73768556 0.67831832\n",
      " 0.61996549 0.56244969 0.50553566 0.44894931 0.39292732 0.33828655\n",
      " 0.28623521 0.2381178  0.19515383 0.15822378]\n",
      "15 day output [[0.12774658]]\n",
      "16 day input [0.80821367 0.81237711 0.81358585 0.80358021 0.81868943 0.82439734\n",
      " 0.84387146 0.84595316 0.85730187 0.87382128 0.89154943 0.8797307\n",
      " 0.90115213 0.88503567 0.90162224 0.89933909 0.90390539 0.8922881\n",
      " 0.89490703 0.88443132 0.90041355 0.90309959 0.90088356 0.89544426\n",
      " 0.8947727  0.88120805 0.88846039 0.85696609 0.85864495 0.86965788\n",
      " 0.87281404 0.85025089 0.84393862 0.82285282 0.83762631 0.85428\n",
      " 0.84635605 0.83682047 0.83574606 0.85333987 0.8407153  0.85192969\n",
      " 0.85058667 0.85025089 0.83970801 0.83520883 0.8329928  0.83823066\n",
      " 0.82802356 0.84380429 0.84387146 0.84951221 0.85213114 0.84528165\n",
      " 0.85360849 0.87462707 0.86898632 0.87241104 0.88342398 0.87449284\n",
      " 0.8868488  0.8981303  0.89625005 0.89430269 0.8922881  0.90350249\n",
      " 0.91391108 0.9181417  0.92022339 0.93828732 0.95212063 0.96924444\n",
      " 0.9603132  0.9728706  0.96877432 0.97642966 1.         0.99550082\n",
      " 0.98146606 0.95500812 0.97985438 0.97481797 0.98421932 0.99603805\n",
      " 0.90931338 0.86506003 0.8000856  0.73768556 0.67831832 0.61996549\n",
      " 0.56244969 0.50553566 0.44894931 0.39292732 0.33828655 0.28623521\n",
      " 0.2381178  0.19515383 0.15822378 0.12774658]\n",
      "16 day output [[0.10366433]]\n",
      "17 day input [0.81237711 0.81358585 0.80358021 0.81868943 0.82439734 0.84387146\n",
      " 0.84595316 0.85730187 0.87382128 0.89154943 0.8797307  0.90115213\n",
      " 0.88503567 0.90162224 0.89933909 0.90390539 0.8922881  0.89490703\n",
      " 0.88443132 0.90041355 0.90309959 0.90088356 0.89544426 0.8947727\n",
      " 0.88120805 0.88846039 0.85696609 0.85864495 0.86965788 0.87281404\n",
      " 0.85025089 0.84393862 0.82285282 0.83762631 0.85428    0.84635605\n",
      " 0.83682047 0.83574606 0.85333987 0.8407153  0.85192969 0.85058667\n",
      " 0.85025089 0.83970801 0.83520883 0.8329928  0.83823066 0.82802356\n",
      " 0.84380429 0.84387146 0.84951221 0.85213114 0.84528165 0.85360849\n",
      " 0.87462707 0.86898632 0.87241104 0.88342398 0.87449284 0.8868488\n",
      " 0.8981303  0.89625005 0.89430269 0.8922881  0.90350249 0.91391108\n",
      " 0.9181417  0.92022339 0.93828732 0.95212063 0.96924444 0.9603132\n",
      " 0.9728706  0.96877432 0.97642966 1.         0.99550082 0.98146606\n",
      " 0.95500812 0.97985438 0.97481797 0.98421932 0.99603805 0.90931338\n",
      " 0.86506003 0.8000856  0.73768556 0.67831832 0.61996549 0.56244969\n",
      " 0.50553566 0.44894931 0.39292732 0.33828655 0.28623521 0.2381178\n",
      " 0.19515383 0.15822378 0.12774658 0.10366433]\n",
      "17 day output [[0.08551664]]\n",
      "18 day input [0.81358585 0.80358021 0.81868943 0.82439734 0.84387146 0.84595316\n",
      " 0.85730187 0.87382128 0.89154943 0.8797307  0.90115213 0.88503567\n",
      " 0.90162224 0.89933909 0.90390539 0.8922881  0.89490703 0.88443132\n",
      " 0.90041355 0.90309959 0.90088356 0.89544426 0.8947727  0.88120805\n",
      " 0.88846039 0.85696609 0.85864495 0.86965788 0.87281404 0.85025089\n",
      " 0.84393862 0.82285282 0.83762631 0.85428    0.84635605 0.83682047\n",
      " 0.83574606 0.85333987 0.8407153  0.85192969 0.85058667 0.85025089\n",
      " 0.83970801 0.83520883 0.8329928  0.83823066 0.82802356 0.84380429\n",
      " 0.84387146 0.84951221 0.85213114 0.84528165 0.85360849 0.87462707\n",
      " 0.86898632 0.87241104 0.88342398 0.87449284 0.8868488  0.8981303\n",
      " 0.89625005 0.89430269 0.8922881  0.90350249 0.91391108 0.9181417\n",
      " 0.92022339 0.93828732 0.95212063 0.96924444 0.9603132  0.9728706\n",
      " 0.96877432 0.97642966 1.         0.99550082 0.98146606 0.95500812\n",
      " 0.97985438 0.97481797 0.98421932 0.99603805 0.90931338 0.86506003\n",
      " 0.8000856  0.73768556 0.67831832 0.61996549 0.56244969 0.50553566\n",
      " 0.44894931 0.39292732 0.33828655 0.28623521 0.2381178  0.19515383\n",
      " 0.15822378 0.12774658 0.10366433 0.08551664]\n",
      "18 day output [[0.07257069]]\n",
      "19 day input [0.80358021 0.81868943 0.82439734 0.84387146 0.84595316 0.85730187\n",
      " 0.87382128 0.89154943 0.8797307  0.90115213 0.88503567 0.90162224\n",
      " 0.89933909 0.90390539 0.8922881  0.89490703 0.88443132 0.90041355\n",
      " 0.90309959 0.90088356 0.89544426 0.8947727  0.88120805 0.88846039\n",
      " 0.85696609 0.85864495 0.86965788 0.87281404 0.85025089 0.84393862\n",
      " 0.82285282 0.83762631 0.85428    0.84635605 0.83682047 0.83574606\n",
      " 0.85333987 0.8407153  0.85192969 0.85058667 0.85025089 0.83970801\n",
      " 0.83520883 0.8329928  0.83823066 0.82802356 0.84380429 0.84387146\n",
      " 0.84951221 0.85213114 0.84528165 0.85360849 0.87462707 0.86898632\n",
      " 0.87241104 0.88342398 0.87449284 0.8868488  0.8981303  0.89625005\n",
      " 0.89430269 0.8922881  0.90350249 0.91391108 0.9181417  0.92022339\n",
      " 0.93828732 0.95212063 0.96924444 0.9603132  0.9728706  0.96877432\n",
      " 0.97642966 1.         0.99550082 0.98146606 0.95500812 0.97985438\n",
      " 0.97481797 0.98421932 0.99603805 0.90931338 0.86506003 0.8000856\n",
      " 0.73768556 0.67831832 0.61996549 0.56244969 0.50553566 0.44894931\n",
      " 0.39292732 0.33828655 0.28623521 0.2381178  0.19515383 0.15822378\n",
      " 0.12774658 0.10366433 0.08551664 0.07257069]\n",
      "19 day output [[0.06396449]]\n",
      "20 day input [0.81868943 0.82439734 0.84387146 0.84595316 0.85730187 0.87382128\n",
      " 0.89154943 0.8797307  0.90115213 0.88503567 0.90162224 0.89933909\n",
      " 0.90390539 0.8922881  0.89490703 0.88443132 0.90041355 0.90309959\n",
      " 0.90088356 0.89544426 0.8947727  0.88120805 0.88846039 0.85696609\n",
      " 0.85864495 0.86965788 0.87281404 0.85025089 0.84393862 0.82285282\n",
      " 0.83762631 0.85428    0.84635605 0.83682047 0.83574606 0.85333987\n",
      " 0.8407153  0.85192969 0.85058667 0.85025089 0.83970801 0.83520883\n",
      " 0.8329928  0.83823066 0.82802356 0.84380429 0.84387146 0.84951221\n",
      " 0.85213114 0.84528165 0.85360849 0.87462707 0.86898632 0.87241104\n",
      " 0.88342398 0.87449284 0.8868488  0.8981303  0.89625005 0.89430269\n",
      " 0.8922881  0.90350249 0.91391108 0.9181417  0.92022339 0.93828732\n",
      " 0.95212063 0.96924444 0.9603132  0.9728706  0.96877432 0.97642966\n",
      " 1.         0.99550082 0.98146606 0.95500812 0.97985438 0.97481797\n",
      " 0.98421932 0.99603805 0.90931338 0.86506003 0.8000856  0.73768556\n",
      " 0.67831832 0.61996549 0.56244969 0.50553566 0.44894931 0.39292732\n",
      " 0.33828655 0.28623521 0.2381178  0.19515383 0.15822378 0.12774658\n",
      " 0.10366433 0.08551664 0.07257069 0.06396449]\n",
      "20 day output [[0.05883006]]\n",
      "21 day input [0.82439734 0.84387146 0.84595316 0.85730187 0.87382128 0.89154943\n",
      " 0.8797307  0.90115213 0.88503567 0.90162224 0.89933909 0.90390539\n",
      " 0.8922881  0.89490703 0.88443132 0.90041355 0.90309959 0.90088356\n",
      " 0.89544426 0.8947727  0.88120805 0.88846039 0.85696609 0.85864495\n",
      " 0.86965788 0.87281404 0.85025089 0.84393862 0.82285282 0.83762631\n",
      " 0.85428    0.84635605 0.83682047 0.83574606 0.85333987 0.8407153\n",
      " 0.85192969 0.85058667 0.85025089 0.83970801 0.83520883 0.8329928\n",
      " 0.83823066 0.82802356 0.84380429 0.84387146 0.84951221 0.85213114\n",
      " 0.84528165 0.85360849 0.87462707 0.86898632 0.87241104 0.88342398\n",
      " 0.87449284 0.8868488  0.8981303  0.89625005 0.89430269 0.8922881\n",
      " 0.90350249 0.91391108 0.9181417  0.92022339 0.93828732 0.95212063\n",
      " 0.96924444 0.9603132  0.9728706  0.96877432 0.97642966 1.\n",
      " 0.99550082 0.98146606 0.95500812 0.97985438 0.97481797 0.98421932\n",
      " 0.99603805 0.90931338 0.86506003 0.8000856  0.73768556 0.67831832\n",
      " 0.61996549 0.56244969 0.50553566 0.44894931 0.39292732 0.33828655\n",
      " 0.28623521 0.2381178  0.19515383 0.15822378 0.12774658 0.10366433\n",
      " 0.08551664 0.07257069 0.06396449 0.05883006]\n",
      "21 day output [[0.05637936]]\n",
      "22 day input [0.84387146 0.84595316 0.85730187 0.87382128 0.89154943 0.8797307\n",
      " 0.90115213 0.88503567 0.90162224 0.89933909 0.90390539 0.8922881\n",
      " 0.89490703 0.88443132 0.90041355 0.90309959 0.90088356 0.89544426\n",
      " 0.8947727  0.88120805 0.88846039 0.85696609 0.85864495 0.86965788\n",
      " 0.87281404 0.85025089 0.84393862 0.82285282 0.83762631 0.85428\n",
      " 0.84635605 0.83682047 0.83574606 0.85333987 0.8407153  0.85192969\n",
      " 0.85058667 0.85025089 0.83970801 0.83520883 0.8329928  0.83823066\n",
      " 0.82802356 0.84380429 0.84387146 0.84951221 0.85213114 0.84528165\n",
      " 0.85360849 0.87462707 0.86898632 0.87241104 0.88342398 0.87449284\n",
      " 0.8868488  0.8981303  0.89625005 0.89430269 0.8922881  0.90350249\n",
      " 0.91391108 0.9181417  0.92022339 0.93828732 0.95212063 0.96924444\n",
      " 0.9603132  0.9728706  0.96877432 0.97642966 1.         0.99550082\n",
      " 0.98146606 0.95500812 0.97985438 0.97481797 0.98421932 0.99603805\n",
      " 0.90931338 0.86506003 0.8000856  0.73768556 0.67831832 0.61996549\n",
      " 0.56244969 0.50553566 0.44894931 0.39292732 0.33828655 0.28623521\n",
      " 0.2381178  0.19515383 0.15822378 0.12774658 0.10366433 0.08551664\n",
      " 0.07257069 0.06396449 0.05883006 0.05637936]\n",
      "22 day output [[0.05595075]]\n",
      "23 day input [0.84595316 0.85730187 0.87382128 0.89154943 0.8797307  0.90115213\n",
      " 0.88503567 0.90162224 0.89933909 0.90390539 0.8922881  0.89490703\n",
      " 0.88443132 0.90041355 0.90309959 0.90088356 0.89544426 0.8947727\n",
      " 0.88120805 0.88846039 0.85696609 0.85864495 0.86965788 0.87281404\n",
      " 0.85025089 0.84393862 0.82285282 0.83762631 0.85428    0.84635605\n",
      " 0.83682047 0.83574606 0.85333987 0.8407153  0.85192969 0.85058667\n",
      " 0.85025089 0.83970801 0.83520883 0.8329928  0.83823066 0.82802356\n",
      " 0.84380429 0.84387146 0.84951221 0.85213114 0.84528165 0.85360849\n",
      " 0.87462707 0.86898632 0.87241104 0.88342398 0.87449284 0.8868488\n",
      " 0.8981303  0.89625005 0.89430269 0.8922881  0.90350249 0.91391108\n",
      " 0.9181417  0.92022339 0.93828732 0.95212063 0.96924444 0.9603132\n",
      " 0.9728706  0.96877432 0.97642966 1.         0.99550082 0.98146606\n",
      " 0.95500812 0.97985438 0.97481797 0.98421932 0.99603805 0.90931338\n",
      " 0.86506003 0.8000856  0.73768556 0.67831832 0.61996549 0.56244969\n",
      " 0.50553566 0.44894931 0.39292732 0.33828655 0.28623521 0.2381178\n",
      " 0.19515383 0.15822378 0.12774658 0.10366433 0.08551664 0.07257069\n",
      " 0.06396449 0.05883006 0.05637936 0.05595075]\n",
      "23 day output [[0.05702186]]\n",
      "24 day input [0.85730187 0.87382128 0.89154943 0.8797307  0.90115213 0.88503567\n",
      " 0.90162224 0.89933909 0.90390539 0.8922881  0.89490703 0.88443132\n",
      " 0.90041355 0.90309959 0.90088356 0.89544426 0.8947727  0.88120805\n",
      " 0.88846039 0.85696609 0.85864495 0.86965788 0.87281404 0.85025089\n",
      " 0.84393862 0.82285282 0.83762631 0.85428    0.84635605 0.83682047\n",
      " 0.83574606 0.85333987 0.8407153  0.85192969 0.85058667 0.85025089\n",
      " 0.83970801 0.83520883 0.8329928  0.83823066 0.82802356 0.84380429\n",
      " 0.84387146 0.84951221 0.85213114 0.84528165 0.85360849 0.87462707\n",
      " 0.86898632 0.87241104 0.88342398 0.87449284 0.8868488  0.8981303\n",
      " 0.89625005 0.89430269 0.8922881  0.90350249 0.91391108 0.9181417\n",
      " 0.92022339 0.93828732 0.95212063 0.96924444 0.9603132  0.9728706\n",
      " 0.96877432 0.97642966 1.         0.99550082 0.98146606 0.95500812\n",
      " 0.97985438 0.97481797 0.98421932 0.99603805 0.90931338 0.86506003\n",
      " 0.8000856  0.73768556 0.67831832 0.61996549 0.56244969 0.50553566\n",
      " 0.44894931 0.39292732 0.33828655 0.28623521 0.2381178  0.19515383\n",
      " 0.15822378 0.12774658 0.10366433 0.08551664 0.07257069 0.06396449\n",
      " 0.05883006 0.05637936 0.05595075 0.05702186]\n",
      "24 day output [[0.05919978]]\n",
      "25 day input [0.87382128 0.89154943 0.8797307  0.90115213 0.88503567 0.90162224\n",
      " 0.89933909 0.90390539 0.8922881  0.89490703 0.88443132 0.90041355\n",
      " 0.90309959 0.90088356 0.89544426 0.8947727  0.88120805 0.88846039\n",
      " 0.85696609 0.85864495 0.86965788 0.87281404 0.85025089 0.84393862\n",
      " 0.82285282 0.83762631 0.85428    0.84635605 0.83682047 0.83574606\n",
      " 0.85333987 0.8407153  0.85192969 0.85058667 0.85025089 0.83970801\n",
      " 0.83520883 0.8329928  0.83823066 0.82802356 0.84380429 0.84387146\n",
      " 0.84951221 0.85213114 0.84528165 0.85360849 0.87462707 0.86898632\n",
      " 0.87241104 0.88342398 0.87449284 0.8868488  0.8981303  0.89625005\n",
      " 0.89430269 0.8922881  0.90350249 0.91391108 0.9181417  0.92022339\n",
      " 0.93828732 0.95212063 0.96924444 0.9603132  0.9728706  0.96877432\n",
      " 0.97642966 1.         0.99550082 0.98146606 0.95500812 0.97985438\n",
      " 0.97481797 0.98421932 0.99603805 0.90931338 0.86506003 0.8000856\n",
      " 0.73768556 0.67831832 0.61996549 0.56244969 0.50553566 0.44894931\n",
      " 0.39292732 0.33828655 0.28623521 0.2381178  0.19515383 0.15822378\n",
      " 0.12774658 0.10366433 0.08551664 0.07257069 0.06396449 0.05883006\n",
      " 0.05637936 0.05595075 0.05702186 0.05919978]\n",
      "25 day output [[0.06219783]]\n",
      "26 day input [0.89154943 0.8797307  0.90115213 0.88503567 0.90162224 0.89933909\n",
      " 0.90390539 0.8922881  0.89490703 0.88443132 0.90041355 0.90309959\n",
      " 0.90088356 0.89544426 0.8947727  0.88120805 0.88846039 0.85696609\n",
      " 0.85864495 0.86965788 0.87281404 0.85025089 0.84393862 0.82285282\n",
      " 0.83762631 0.85428    0.84635605 0.83682047 0.83574606 0.85333987\n",
      " 0.8407153  0.85192969 0.85058667 0.85025089 0.83970801 0.83520883\n",
      " 0.8329928  0.83823066 0.82802356 0.84380429 0.84387146 0.84951221\n",
      " 0.85213114 0.84528165 0.85360849 0.87462707 0.86898632 0.87241104\n",
      " 0.88342398 0.87449284 0.8868488  0.8981303  0.89625005 0.89430269\n",
      " 0.8922881  0.90350249 0.91391108 0.9181417  0.92022339 0.93828732\n",
      " 0.95212063 0.96924444 0.9603132  0.9728706  0.96877432 0.97642966\n",
      " 1.         0.99550082 0.98146606 0.95500812 0.97985438 0.97481797\n",
      " 0.98421932 0.99603805 0.90931338 0.86506003 0.8000856  0.73768556\n",
      " 0.67831832 0.61996549 0.56244969 0.50553566 0.44894931 0.39292732\n",
      " 0.33828655 0.28623521 0.2381178  0.19515383 0.15822378 0.12774658\n",
      " 0.10366433 0.08551664 0.07257069 0.06396449 0.05883006 0.05637936\n",
      " 0.05595075 0.05702186 0.05919978 0.06219783]\n",
      "26 day output [[0.06580773]]\n",
      "27 day input [0.8797307  0.90115213 0.88503567 0.90162224 0.89933909 0.90390539\n",
      " 0.8922881  0.89490703 0.88443132 0.90041355 0.90309959 0.90088356\n",
      " 0.89544426 0.8947727  0.88120805 0.88846039 0.85696609 0.85864495\n",
      " 0.86965788 0.87281404 0.85025089 0.84393862 0.82285282 0.83762631\n",
      " 0.85428    0.84635605 0.83682047 0.83574606 0.85333987 0.8407153\n",
      " 0.85192969 0.85058667 0.85025089 0.83970801 0.83520883 0.8329928\n",
      " 0.83823066 0.82802356 0.84380429 0.84387146 0.84951221 0.85213114\n",
      " 0.84528165 0.85360849 0.87462707 0.86898632 0.87241104 0.88342398\n",
      " 0.87449284 0.8868488  0.8981303  0.89625005 0.89430269 0.8922881\n",
      " 0.90350249 0.91391108 0.9181417  0.92022339 0.93828732 0.95212063\n",
      " 0.96924444 0.9603132  0.9728706  0.96877432 0.97642966 1.\n",
      " 0.99550082 0.98146606 0.95500812 0.97985438 0.97481797 0.98421932\n",
      " 0.99603805 0.90931338 0.86506003 0.8000856  0.73768556 0.67831832\n",
      " 0.61996549 0.56244969 0.50553566 0.44894931 0.39292732 0.33828655\n",
      " 0.28623521 0.2381178  0.19515383 0.15822378 0.12774658 0.10366433\n",
      " 0.08551664 0.07257069 0.06396449 0.05883006 0.05637936 0.05595075\n",
      " 0.05702186 0.05919978 0.06219783 0.06580773]\n",
      "27 day output [[0.06987326]]\n",
      "28 day input [0.90115213 0.88503567 0.90162224 0.89933909 0.90390539 0.8922881\n",
      " 0.89490703 0.88443132 0.90041355 0.90309959 0.90088356 0.89544426\n",
      " 0.8947727  0.88120805 0.88846039 0.85696609 0.85864495 0.86965788\n",
      " 0.87281404 0.85025089 0.84393862 0.82285282 0.83762631 0.85428\n",
      " 0.84635605 0.83682047 0.83574606 0.85333987 0.8407153  0.85192969\n",
      " 0.85058667 0.85025089 0.83970801 0.83520883 0.8329928  0.83823066\n",
      " 0.82802356 0.84380429 0.84387146 0.84951221 0.85213114 0.84528165\n",
      " 0.85360849 0.87462707 0.86898632 0.87241104 0.88342398 0.87449284\n",
      " 0.8868488  0.8981303  0.89625005 0.89430269 0.8922881  0.90350249\n",
      " 0.91391108 0.9181417  0.92022339 0.93828732 0.95212063 0.96924444\n",
      " 0.9603132  0.9728706  0.96877432 0.97642966 1.         0.99550082\n",
      " 0.98146606 0.95500812 0.97985438 0.97481797 0.98421932 0.99603805\n",
      " 0.90931338 0.86506003 0.8000856  0.73768556 0.67831832 0.61996549\n",
      " 0.56244969 0.50553566 0.44894931 0.39292732 0.33828655 0.28623521\n",
      " 0.2381178  0.19515383 0.15822378 0.12774658 0.10366433 0.08551664\n",
      " 0.07257069 0.06396449 0.05883006 0.05637936 0.05595075 0.05702186\n",
      " 0.05919978 0.06219783 0.06580773 0.06987326]\n",
      "28 day output [[0.07426935]]\n",
      "29 day input [0.88503567 0.90162224 0.89933909 0.90390539 0.8922881  0.89490703\n",
      " 0.88443132 0.90041355 0.90309959 0.90088356 0.89544426 0.8947727\n",
      " 0.88120805 0.88846039 0.85696609 0.85864495 0.86965788 0.87281404\n",
      " 0.85025089 0.84393862 0.82285282 0.83762631 0.85428    0.84635605\n",
      " 0.83682047 0.83574606 0.85333987 0.8407153  0.85192969 0.85058667\n",
      " 0.85025089 0.83970801 0.83520883 0.8329928  0.83823066 0.82802356\n",
      " 0.84380429 0.84387146 0.84951221 0.85213114 0.84528165 0.85360849\n",
      " 0.87462707 0.86898632 0.87241104 0.88342398 0.87449284 0.8868488\n",
      " 0.8981303  0.89625005 0.89430269 0.8922881  0.90350249 0.91391108\n",
      " 0.9181417  0.92022339 0.93828732 0.95212063 0.96924444 0.9603132\n",
      " 0.9728706  0.96877432 0.97642966 1.         0.99550082 0.98146606\n",
      " 0.95500812 0.97985438 0.97481797 0.98421932 0.99603805 0.90931338\n",
      " 0.86506003 0.8000856  0.73768556 0.67831832 0.61996549 0.56244969\n",
      " 0.50553566 0.44894931 0.39292732 0.33828655 0.28623521 0.2381178\n",
      " 0.19515383 0.15822378 0.12774658 0.10366433 0.08551664 0.07257069\n",
      " 0.06396449 0.05883006 0.05637936 0.05595075 0.05702186 0.05919978\n",
      " 0.06219783 0.06580773 0.06987326 0.07426935]\n",
      "29 day output [[0.07888816]]\n"
     ]
    }
   ],
   "source": [
    "# Let us do Prediction for next 30 days\n",
    "lst_output = []\n",
    "n_steps = 100\n",
    "i = 0\n",
    "while(i<30):\n",
    "  if(len(temp_input)>100):\n",
    "    #print(temp_input)\n",
    "    x_input = np.array(temp_input[1:])\n",
    "    print(\"{} day input {}\".format(i, x_input))\n",
    "    x_input = x_input.reshape(1,-1)\n",
    "    x_input = x_input.reshape((1, n_steps, 1))\n",
    "    #print(x_input)\n",
    "    yhat = model.predict(x_input, verbose=0)\n",
    "    print(\"{} day output {}\".format(i, yhat))\n",
    "    temp_input.extend(yhat[0].tolist())\n",
    "    temp_input = temp_input[1:]\n",
    "    # print(temp_input)\n",
    "    lst_output.extend(yhat.tolist())\n",
    "    i = i+1\n",
    "  else:\n",
    "    x_input = x_input.reshape((1, n_steps, 1))\n",
    "    yhat = model.predict(x_input, verbose = 0)\n",
    "    print(yhat)\n",
    "    temp_input.extend(yhat[0].tolist())\n",
    "    print(len(temp_input))\n",
    "    lst_output.extend(yhat.tolist())\n",
    "    i = i+1  "
   ]
  },
  {
   "cell_type": "code",
   "execution_count": 39,
   "metadata": {
    "executionInfo": {
     "elapsed": 49,
     "status": "ok",
     "timestamp": 1630776894975,
     "user": {
      "displayName": "Nikhil Patil",
      "photoUrl": "https://lh3.googleusercontent.com/a-/AOh14GjOCeCbFSM6nJVluIeDKtA75xEInZVBcTFRNG4n=s64",
      "userId": "16764176433869186065"
     },
     "user_tz": -330
    },
    "id": "lTNOT_mUY-fX"
   },
   "outputs": [],
   "source": [
    "new_day = np.arange(1,101)\n",
    "pred_day = np.arange(101,131)"
   ]
  },
  {
   "cell_type": "code",
   "execution_count": 40,
   "metadata": {
    "executionInfo": {
     "elapsed": 44,
     "status": "ok",
     "timestamp": 1630776894977,
     "user": {
      "displayName": "Nikhil Patil",
      "photoUrl": "https://lh3.googleusercontent.com/a-/AOh14GjOCeCbFSM6nJVluIeDKtA75xEInZVBcTFRNG4n=s64",
      "userId": "16764176433869186065"
     },
     "user_tz": -330
    },
    "id": "R7phWe8uY-sC"
   },
   "outputs": [],
   "source": [
    "df1 = scaled_df.tolist()\n",
    "df1.extend(lst_output)"
   ]
  },
  {
   "cell_type": "code",
   "execution_count": 41,
   "metadata": {
    "colab": {
     "base_uri": "https://localhost:8080/"
    },
    "executionInfo": {
     "elapsed": 45,
     "status": "ok",
     "timestamp": 1630776894979,
     "user": {
      "displayName": "Nikhil Patil",
      "photoUrl": "https://lh3.googleusercontent.com/a-/AOh14GjOCeCbFSM6nJVluIeDKtA75xEInZVBcTFRNG4n=s64",
      "userId": "16764176433869186065"
     },
     "user_tz": -330
    },
    "id": "cMfBHVs6fh6O",
    "outputId": "d7ca1ed4-71e7-4668-adc2-8ab4bce6d92c"
   },
   "outputs": [
    {
     "data": {
      "text/plain": [
       "5172"
      ]
     },
     "execution_count": 41,
     "metadata": {},
     "output_type": "execute_result"
    }
   ],
   "source": [
    "len(scaled_df)"
   ]
  },
  {
   "cell_type": "code",
   "execution_count": 42,
   "metadata": {
    "colab": {
     "base_uri": "https://localhost:8080/",
     "height": 0
    },
    "executionInfo": {
     "elapsed": 832,
     "status": "ok",
     "timestamp": 1630776895788,
     "user": {
      "displayName": "Nikhil Patil",
      "photoUrl": "https://lh3.googleusercontent.com/a-/AOh14GjOCeCbFSM6nJVluIeDKtA75xEInZVBcTFRNG4n=s64",
      "userId": "16764176433869186065"
     },
     "user_tz": -330
    },
    "id": "LUelynCBY-2w",
    "outputId": "5591b656-9f89-4242-ef86-5bc5c4441615"
   },
   "outputs": [
    {
     "data": {
      "text/plain": [
       "[<matplotlib.lines.Line2D at 0x7fe519be55d0>]"
      ]
     },
     "execution_count": 42,
     "metadata": {},
     "output_type": "execute_result"
    },
    {
     "data": {
      "image/png": "[encoded data removed]",
      "text/plain": [
       "<Figure size 432x288 with 1 Axes>"
      ]
     },
     "metadata": {
      "needs_background": "light"
     },
     "output_type": "display_data"
    }
   ],
   "source": [
    "plt.plot(new_day, scaler.inverse_transform(scaled_df[5072:]))\n",
    "plt.plot(pred_day, scaler.inverse_transform(lst_output))"
   ]
  },
  {
   "cell_type": "code",
   "execution_count": 43,
   "metadata": {
    "colab": {
     "base_uri": "https://localhost:8080/",
     "height": 86
    },
    "executionInfo": {
     "elapsed": 2950,
     "status": "ok",
     "timestamp": 1630776898728,
     "user": {
      "displayName": "Nikhil Patil",
      "photoUrl": "https://lh3.googleusercontent.com/a-/AOh14GjOCeCbFSM6nJVluIeDKtA75xEInZVBcTFRNG4n=s64",
      "userId": "16764176433869186065"
     },
     "user_tz": -330
    },
    "id": "TmzAtBb7QjFz",
    "outputId": "6c2549ee-7e00-49c3-9e7e-2bd90c9867bc"
   },
   "outputs": [
    {
     "name": "stdout",
     "output_type": "stream",
     "text": [
      "[jovian] Detected Colab notebook...\u001b[0m\n",
      "[jovian] Uploading colab notebook to Jovian...\u001b[0m\n",
      "Committed successfully! https://jovian.ai/nikhilpatil3586/apple-stock-forcasting\n"
     ]
    },
    {
     "data": {
      "application/vnd.google.colaboratory.intrinsic+json": {
       "type": "string"
      },
      "text/plain": [
       "'https://jovian.ai/nikhilpatil3586/apple-stock-forcasting'"
      ]
     },
     "execution_count": 43,
     "metadata": {},
     "output_type": "execute_result"
    }
   ],
   "source": [
    "jovian.commit()"
   ]
  },
  {
   "cell_type": "code",
   "execution_count": 43,
   "metadata": {
    "executionInfo": {
     "elapsed": 33,
     "status": "ok",
     "timestamp": 1630776898730,
     "user": {
      "displayName": "Nikhil Patil",
      "photoUrl": "https://lh3.googleusercontent.com/a-/AOh14GjOCeCbFSM6nJVluIeDKtA75xEInZVBcTFRNG4n=s64",
      "userId": "16764176433869186065"
     },
     "user_tz": -330
    },
    "id": "H5QOZnGjQm80"
   },
   "outputs": [],
   "source": []
  }
 ],
 "metadata": {
  "accelerator": "GPU",
  "colab": {
   "name": "apple-stock-forcasting.ipynb",
   "provenance": []
  },
  "language_info": {
   "codemirror_mode": {
    "name": "ipython",
    "version": 3
   },
   "file_extension": ".py",
   "mimetype": "text/x-python",
   "name": "python",
   "nbconvert_exporter": "python",
   "pygments_lexer": "ipython3",
   "version": "3.7.6"
  }
 },
 "nbformat": 4,
 "nbformat_minor": 0
}